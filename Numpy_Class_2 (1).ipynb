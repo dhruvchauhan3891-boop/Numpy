{
 "cells": [
  {
   "cell_type": "code",
   "execution_count": 1,
   "id": "56d0a798-204e-45b3-977f-9ddfdee9c9b9",
   "metadata": {},
   "outputs": [],
   "source": [
    "import numpy as np"
   ]
  },
  {
   "cell_type": "markdown",
   "id": "ab6e3c29-db06-4563-b965-0df8d3f35acf",
   "metadata": {},
   "source": [
    "# Indexing and Sling of 1-D Arrays"
   ]
  },
  {
   "cell_type": "markdown",
   "id": "52ec36a8-27db-4fc6-bfac-5149ec328dd1",
   "metadata": {},
   "source": [
    "### Indexing"
   ]
  },
  {
   "cell_type": "code",
   "execution_count": 9,
   "id": "dceefda5-4b73-41a8-9bb4-c4cb972c5e13",
   "metadata": {},
   "outputs": [],
   "source": [
    "# - The indexing and slicing of 1-D arrays is exactkt the same as of list."
   ]
  },
  {
   "cell_type": "code",
   "execution_count": 11,
   "id": "e7f8e160-9bd4-4733-8ab9-64aff70cf520",
   "metadata": {},
   "outputs": [
    {
     "data": {
      "text/plain": [
       "array([10, 20, 30, 40, 50, 60, 70, 80])"
      ]
     },
     "execution_count": 11,
     "metadata": {},
     "output_type": "execute_result"
    }
   ],
   "source": [
    "x=np.array([10,20,30,40,50,60,70,80])\n",
    "x"
   ]
  },
  {
   "cell_type": "code",
   "execution_count": 17,
   "id": "1572d60f-7a6e-4182-b5f7-d3a445d06ea5",
   "metadata": {},
   "outputs": [
    {
     "name": "stdout",
     "output_type": "stream",
     "text": [
      "10\n",
      "10\n"
     ]
    }
   ],
   "source": [
    "# First element.\n",
    "\n",
    "print(x[0])\n",
    "print(x[-len(x)])"
   ]
  },
  {
   "cell_type": "code",
   "execution_count": 21,
   "id": "0c99f54d-c377-457d-8124-6e1564650562",
   "metadata": {},
   "outputs": [
    {
     "name": "stdout",
     "output_type": "stream",
     "text": [
      "80\n",
      "80\n"
     ]
    }
   ],
   "source": [
    "# Last element\n",
    "print(x[-1])\n",
    "print(x[len(x)-1])"
   ]
  },
  {
   "cell_type": "markdown",
   "id": "fd15b556-612a-4124-bf6e-1765b7c8fd57",
   "metadata": {},
   "source": [
    "### Slicing"
   ]
  },
  {
   "cell_type": "code",
   "execution_count": 24,
   "id": "b9cda2c0-b185-4199-a78b-0def3b52c6b6",
   "metadata": {},
   "outputs": [],
   "source": [
    "# array[start:stop:step]"
   ]
  },
  {
   "cell_type": "code",
   "execution_count": 26,
   "id": "81616fa6-a79f-449f-8138-f356890a61a8",
   "metadata": {},
   "outputs": [
    {
     "data": {
      "text/plain": [
       "array([10, 20, 30, 40, 50, 60, 70, 80])"
      ]
     },
     "execution_count": 26,
     "metadata": {},
     "output_type": "execute_result"
    }
   ],
   "source": [
    "x"
   ]
  },
  {
   "cell_type": "code",
   "execution_count": 32,
   "id": "5d38ed47-3185-4884-b8e5-2df70664b194",
   "metadata": {},
   "outputs": [
    {
     "data": {
      "text/plain": [
       "array([10, 20, 30, 40])"
      ]
     },
     "execution_count": 32,
     "metadata": {},
     "output_type": "execute_result"
    }
   ],
   "source": [
    "# First 4 elements.\n",
    "x[:4]"
   ]
  },
  {
   "cell_type": "code",
   "execution_count": 34,
   "id": "d746a762-e21b-48fc-9b44-b7a7ecafc516",
   "metadata": {},
   "outputs": [
    {
     "data": {
      "text/plain": [
       "array([80, 70, 60, 50, 40, 30, 20, 10])"
      ]
     },
     "execution_count": 34,
     "metadata": {},
     "output_type": "execute_result"
    }
   ],
   "source": [
    "# Reverse the array\n",
    "x[::-1]"
   ]
  },
  {
   "cell_type": "code",
   "execution_count": 38,
   "id": "042761d2-34fe-438a-9678-ba289a0628ec",
   "metadata": {},
   "outputs": [
    {
     "data": {
      "text/plain": [
       "array([10, 20, 30, 40, 50, 60, 70, 80])"
      ]
     },
     "execution_count": 38,
     "metadata": {},
     "output_type": "execute_result"
    }
   ],
   "source": [
    "x"
   ]
  },
  {
   "cell_type": "code",
   "execution_count": 36,
   "id": "58b6f4f4-1c00-4a61-9f25-7eec7df925f1",
   "metadata": {},
   "outputs": [
    {
     "data": {
      "text/plain": [
       "array([10, 30, 50, 70])"
      ]
     },
     "execution_count": 36,
     "metadata": {},
     "output_type": "execute_result"
    }
   ],
   "source": [
    "# Get alternate elements\n",
    "x[::2]"
   ]
  },
  {
   "cell_type": "markdown",
   "id": "ca3b4bcd-cb19-45f1-9c89-1176d4250dd9",
   "metadata": {},
   "source": [
    "# Indexing and Slicing of 2-D Arrays"
   ]
  },
  {
   "cell_type": "code",
   "execution_count": 47,
   "id": "e80b6860-b3a7-40e2-9a09-59fa6b271e48",
   "metadata": {},
   "outputs": [],
   "source": [
    "np.random.seed(55)\n",
    "x=np.random.randint(10,100, size=(3,4))"
   ]
  },
  {
   "cell_type": "code",
   "execution_count": 49,
   "id": "7964fa0e-4f7d-4ae8-bf7c-e69bf26ffb55",
   "metadata": {},
   "outputs": [
    {
     "data": {
      "text/plain": [
       "array([[87, 36, 49, 82],\n",
       "       [39, 71, 65, 47],\n",
       "       [43, 64, 45, 56]])"
      ]
     },
     "execution_count": 49,
     "metadata": {},
     "output_type": "execute_result"
    }
   ],
   "source": [
    "x"
   ]
  },
  {
   "cell_type": "code",
   "execution_count": 51,
   "id": "65e24572-a88c-4f80-88ac-7af5d1e44f67",
   "metadata": {},
   "outputs": [
    {
     "data": {
      "text/plain": [
       "array([87, 36, 49, 82])"
      ]
     },
     "execution_count": 51,
     "metadata": {},
     "output_type": "execute_result"
    }
   ],
   "source": [
    "# Get the first row\n",
    "x[0]"
   ]
  },
  {
   "cell_type": "code",
   "execution_count": 53,
   "id": "70806650-40bd-43c6-a7a6-4987fb53cdf6",
   "metadata": {},
   "outputs": [
    {
     "data": {
      "text/plain": [
       "array([87, 36, 49, 82])"
      ]
     },
     "execution_count": 53,
     "metadata": {},
     "output_type": "execute_result"
    }
   ],
   "source": [
    "x[-3]"
   ]
  },
  {
   "cell_type": "code",
   "execution_count": 55,
   "id": "e0454b1e-68e7-4e9e-af4a-a3e306e83883",
   "metadata": {},
   "outputs": [],
   "source": [
    "# len(2D array) -> It returns the number of rows."
   ]
  },
  {
   "cell_type": "code",
   "execution_count": 59,
   "id": "88d4d597-e1e3-454b-bdd9-00a00d1842e1",
   "metadata": {},
   "outputs": [
    {
     "data": {
      "text/plain": [
       "-3"
      ]
     },
     "execution_count": 59,
     "metadata": {},
     "output_type": "execute_result"
    }
   ],
   "source": [
    "-len(x)"
   ]
  },
  {
   "cell_type": "code",
   "execution_count": 61,
   "id": "1ee8a0a0-2157-4e44-9568-aaa10ceff850",
   "metadata": {},
   "outputs": [
    {
     "data": {
      "text/plain": [
       "array([87, 36, 49, 82])"
      ]
     },
     "execution_count": 61,
     "metadata": {},
     "output_type": "execute_result"
    }
   ],
   "source": [
    "x[-len(x)]"
   ]
  },
  {
   "cell_type": "code",
   "execution_count": 63,
   "id": "c0899a9c-9e25-4059-91c0-2363dc523165",
   "metadata": {},
   "outputs": [
    {
     "data": {
      "text/plain": [
       "array([[87, 36, 49, 82],\n",
       "       [39, 71, 65, 47],\n",
       "       [43, 64, 45, 56]])"
      ]
     },
     "execution_count": 63,
     "metadata": {},
     "output_type": "execute_result"
    }
   ],
   "source": [
    "x"
   ]
  },
  {
   "cell_type": "code",
   "execution_count": 65,
   "id": "32c9b768-9fa4-44f2-b742-19dbea8cf37c",
   "metadata": {},
   "outputs": [
    {
     "data": {
      "text/plain": [
       "array([43, 64, 45, 56])"
      ]
     },
     "execution_count": 65,
     "metadata": {},
     "output_type": "execute_result"
    }
   ],
   "source": [
    "# Last row\n",
    "x[-1]"
   ]
  },
  {
   "cell_type": "code",
   "execution_count": 67,
   "id": "5a0653e7-4e81-400b-ba7c-74a55df862bc",
   "metadata": {},
   "outputs": [
    {
     "data": {
      "text/plain": [
       "array([43, 64, 45, 56])"
      ]
     },
     "execution_count": 67,
     "metadata": {},
     "output_type": "execute_result"
    }
   ],
   "source": [
    "x[2]"
   ]
  },
  {
   "cell_type": "code",
   "execution_count": 71,
   "id": "97fbcf4c-c49a-4888-bee5-54961748138b",
   "metadata": {},
   "outputs": [
    {
     "data": {
      "text/plain": [
       "2"
      ]
     },
     "execution_count": 71,
     "metadata": {},
     "output_type": "execute_result"
    }
   ],
   "source": [
    "len(x)-1"
   ]
  },
  {
   "cell_type": "code",
   "execution_count": 73,
   "id": "53d644b6-e0f1-4c8a-8abe-19b7620b6383",
   "metadata": {},
   "outputs": [
    {
     "data": {
      "text/plain": [
       "array([43, 64, 45, 56])"
      ]
     },
     "execution_count": 73,
     "metadata": {},
     "output_type": "execute_result"
    }
   ],
   "source": [
    "x[len(x)-1]"
   ]
  },
  {
   "cell_type": "code",
   "execution_count": 75,
   "id": "5cc73a0e-8e12-4afa-90e3-d2a66403b736",
   "metadata": {},
   "outputs": [
    {
     "data": {
      "text/plain": [
       "array([[87, 36, 49, 82],\n",
       "       [39, 71, 65, 47],\n",
       "       [43, 64, 45, 56]])"
      ]
     },
     "execution_count": 75,
     "metadata": {},
     "output_type": "execute_result"
    }
   ],
   "source": [
    "x"
   ]
  },
  {
   "cell_type": "code",
   "execution_count": 79,
   "id": "471a587b-1cf9-4102-bf6f-8b3e2ffd1eb9",
   "metadata": {},
   "outputs": [
    {
     "data": {
      "text/plain": [
       "71"
      ]
     },
     "execution_count": 79,
     "metadata": {},
     "output_type": "execute_result"
    }
   ],
   "source": [
    "# Get 71\n",
    "x[1,1]"
   ]
  },
  {
   "cell_type": "code",
   "execution_count": 83,
   "id": "19f01a89-23ab-4af8-91c9-50b025eba518",
   "metadata": {},
   "outputs": [
    {
     "data": {
      "text/plain": [
       "43"
      ]
     },
     "execution_count": 83,
     "metadata": {},
     "output_type": "execute_result"
    }
   ],
   "source": [
    "# Get 43\n",
    "x[-1,0]"
   ]
  },
  {
   "cell_type": "code",
   "execution_count": 87,
   "id": "42d81f54-af8a-477c-a9ab-762544ceccb4",
   "metadata": {},
   "outputs": [
    {
     "data": {
      "text/plain": [
       "45"
      ]
     },
     "execution_count": 87,
     "metadata": {},
     "output_type": "execute_result"
    }
   ],
   "source": [
    "x[-1,-2]"
   ]
  },
  {
   "cell_type": "code",
   "execution_count": 91,
   "id": "d0592e3b-de4b-4f39-a0d5-a6aee764638b",
   "metadata": {},
   "outputs": [
    {
     "data": {
      "text/plain": [
       "43"
      ]
     },
     "execution_count": 91,
     "metadata": {},
     "output_type": "execute_result"
    }
   ],
   "source": [
    "x[2,0]"
   ]
  },
  {
   "cell_type": "markdown",
   "id": "f7ea6f5c-8c46-496b-b19e-7ce107672a12",
   "metadata": {},
   "source": [
    "### Slicing"
   ]
  },
  {
   "cell_type": "code",
   "execution_count": 96,
   "id": "7d36a1e2-28bf-4579-96aa-5b195b37de94",
   "metadata": {},
   "outputs": [],
   "source": [
    "# x[row_slicing]\n",
    "# x[start:stop:step]\n",
    "\n",
    "# x[row_slicing, col_slicing]\n",
    "# x[start:stop:step, start:stop:step]"
   ]
  },
  {
   "cell_type": "code",
   "execution_count": 98,
   "id": "20334eae-8b11-4fad-be5e-813ad2498270",
   "metadata": {},
   "outputs": [
    {
     "data": {
      "text/plain": [
       "array([[87, 36, 49, 82],\n",
       "       [39, 71, 65, 47],\n",
       "       [43, 64, 45, 56]])"
      ]
     },
     "execution_count": 98,
     "metadata": {},
     "output_type": "execute_result"
    }
   ],
   "source": [
    "x"
   ]
  },
  {
   "cell_type": "code",
   "execution_count": 102,
   "id": "8be9d3da-fe01-460d-b69c-0441e0875b14",
   "metadata": {},
   "outputs": [
    {
     "data": {
      "text/plain": [
       "array([[87, 36, 49, 82],\n",
       "       [39, 71, 65, 47]])"
      ]
     },
     "execution_count": 102,
     "metadata": {},
     "output_type": "execute_result"
    }
   ],
   "source": [
    "# First 2 rows\n",
    "x[0:2]"
   ]
  },
  {
   "cell_type": "code",
   "execution_count": 108,
   "id": "d7692283-284e-484d-8a77-0e7fd885686f",
   "metadata": {},
   "outputs": [
    {
     "data": {
      "text/plain": [
       "array([[43, 64, 45, 56],\n",
       "       [39, 71, 65, 47],\n",
       "       [87, 36, 49, 82]])"
      ]
     },
     "execution_count": 108,
     "metadata": {},
     "output_type": "execute_result"
    }
   ],
   "source": [
    "# Reverse the rows\n",
    "\n",
    "x[::-1]"
   ]
  },
  {
   "cell_type": "code",
   "execution_count": 110,
   "id": "4488aa23-c29e-4dcc-a245-65a1b9fd0662",
   "metadata": {},
   "outputs": [
    {
     "data": {
      "text/plain": [
       "array([[87, 36, 49, 82],\n",
       "       [39, 71, 65, 47],\n",
       "       [43, 64, 45, 56]])"
      ]
     },
     "execution_count": 110,
     "metadata": {},
     "output_type": "execute_result"
    }
   ],
   "source": [
    "x"
   ]
  },
  {
   "cell_type": "code",
   "execution_count": 114,
   "id": "bd942950-5596-46cc-8659-2efff3ecd0e2",
   "metadata": {},
   "outputs": [
    {
     "data": {
      "text/plain": [
       "array([[87, 36],\n",
       "       [39, 71],\n",
       "       [43, 64]])"
      ]
     },
     "execution_count": 114,
     "metadata": {},
     "output_type": "execute_result"
    }
   ],
   "source": [
    "# First 2 columns\n",
    "x[::,:2]"
   ]
  },
  {
   "cell_type": "code",
   "execution_count": 119,
   "id": "baea0c50-cd0f-42eb-be78-b49953410222",
   "metadata": {},
   "outputs": [
    {
     "data": {
      "text/plain": [
       "array([[82, 49, 36, 87],\n",
       "       [47, 65, 71, 39],\n",
       "       [56, 45, 64, 43]])"
      ]
     },
     "execution_count": 119,
     "metadata": {},
     "output_type": "execute_result"
    }
   ],
   "source": [
    "# Reverse the columns\n",
    "\n",
    "x[::, ::-1]"
   ]
  },
  {
   "cell_type": "code",
   "execution_count": 121,
   "id": "f24ed539-361a-4257-adc8-6ee5d47d0fb2",
   "metadata": {},
   "outputs": [
    {
     "data": {
      "text/plain": [
       "array([[87, 36, 49, 82],\n",
       "       [39, 71, 65, 47],\n",
       "       [43, 64, 45, 56]])"
      ]
     },
     "execution_count": 121,
     "metadata": {},
     "output_type": "execute_result"
    }
   ],
   "source": [
    "x"
   ]
  },
  {
   "cell_type": "code",
   "execution_count": 169,
   "id": "c63d82f7-e1ab-49be-b780-9f8ce8072283",
   "metadata": {},
   "outputs": [
    {
     "data": {
      "text/plain": [
       "array([[71, 65],\n",
       "       [64, 45]])"
      ]
     },
     "execution_count": 169,
     "metadata": {},
     "output_type": "execute_result"
    }
   ],
   "source": [
    "x[1:,1:3]"
   ]
  },
  {
   "cell_type": "code",
   "execution_count": 129,
   "id": "b27a622b-692e-43d9-8757-553ac27f2e55",
   "metadata": {},
   "outputs": [
    {
     "data": {
      "text/plain": [
       "array([[71, 65],\n",
       "       [64, 45]])"
      ]
     },
     "execution_count": 129,
     "metadata": {},
     "output_type": "execute_result"
    }
   ],
   "source": [
    "# [[71, 65],\n",
    "# [64, 45]]\n",
    "\n",
    "x[1:,1:3]"
   ]
  },
  {
   "cell_type": "code",
   "execution_count": 131,
   "id": "c2a004b3-a82b-46ce-9d53-13237ab52eb4",
   "metadata": {},
   "outputs": [
    {
     "data": {
      "text/plain": [
       "array([[87, 36, 49, 82],\n",
       "       [39, 71, 65, 47],\n",
       "       [43, 64, 45, 56]])"
      ]
     },
     "execution_count": 131,
     "metadata": {},
     "output_type": "execute_result"
    }
   ],
   "source": [
    "x"
   ]
  },
  {
   "cell_type": "code",
   "execution_count": 183,
   "id": "9a770706-db18-4dc5-bc35-37a02a96b9a6",
   "metadata": {},
   "outputs": [
    {
     "data": {
      "text/plain": [
       "array([[87, 49],\n",
       "       [39, 65]])"
      ]
     },
     "execution_count": 183,
     "metadata": {},
     "output_type": "execute_result"
    }
   ],
   "source": [
    "# [[87, 49],\n",
    "# [39, 65]]\n",
    "\n",
    "x[:2,0::2 ]"
   ]
  },
  {
   "cell_type": "code",
   "execution_count": 185,
   "id": "b56d9af4-b177-40ef-8b90-eba791c814c4",
   "metadata": {},
   "outputs": [
    {
     "data": {
      "text/plain": [
       "[10, 30]"
      ]
     },
     "execution_count": 185,
     "metadata": {},
     "output_type": "execute_result"
    }
   ],
   "source": [
    "lst=[10,20,30,40]\n",
    "lst[::2]"
   ]
  },
  {
   "cell_type": "code",
   "execution_count": 175,
   "id": "6c523423-4ace-4263-ae81-1fd51a16e04a",
   "metadata": {},
   "outputs": [
    {
     "data": {
      "text/plain": [
       "array([[87, 36, 49, 82],\n",
       "       [39, 71, 65, 47],\n",
       "       [43, 64, 45, 56]])"
      ]
     },
     "execution_count": 175,
     "metadata": {},
     "output_type": "execute_result"
    }
   ],
   "source": [
    "x"
   ]
  },
  {
   "cell_type": "code",
   "execution_count": 177,
   "id": "32922dbe-4878-4ae2-ae99-70146f307685",
   "metadata": {},
   "outputs": [],
   "source": [
    "# [[45, 43],\n",
    "# [49, 87]]"
   ]
  },
  {
   "cell_type": "code",
   "execution_count": 197,
   "id": "3ac35b06-9b01-42b7-934e-078072e5e465",
   "metadata": {},
   "outputs": [
    {
     "data": {
      "text/plain": [
       "array([[45, 43],\n",
       "       [49, 87]])"
      ]
     },
     "execution_count": 197,
     "metadata": {},
     "output_type": "execute_result"
    }
   ],
   "source": [
    "x[::-2,-2::-2]"
   ]
  },
  {
   "cell_type": "markdown",
   "id": "495dccc3-453a-4485-aa41-259656199eeb",
   "metadata": {},
   "source": [
    "# Indexing and Slicing of 3D arrays"
   ]
  },
  {
   "cell_type": "code",
   "execution_count": 200,
   "id": "ee01b437-d3f0-404f-8ea5-2597a9973438",
   "metadata": {},
   "outputs": [],
   "source": [
    "np.random.seed(55)\n",
    "x=np.random.randint(10,100, size=(3,3,4))"
   ]
  },
  {
   "cell_type": "code",
   "execution_count": 202,
   "id": "1d5398c7-4f6d-49d9-b6a2-9c02b6135567",
   "metadata": {},
   "outputs": [
    {
     "data": {
      "text/plain": [
       "array([[[87, 36, 49, 82],\n",
       "        [39, 71, 65, 47],\n",
       "        [43, 64, 45, 56]],\n",
       "\n",
       "       [[71, 87, 22, 34],\n",
       "        [81, 41, 82, 61],\n",
       "        [84, 10, 65, 72]],\n",
       "\n",
       "       [[53, 92, 59, 98],\n",
       "        [58, 88, 20, 70],\n",
       "        [69, 69, 54, 98]]])"
      ]
     },
     "execution_count": 202,
     "metadata": {},
     "output_type": "execute_result"
    }
   ],
   "source": [
    "x"
   ]
  },
  {
   "cell_type": "markdown",
   "id": "13a3c5b5-54be-4ed1-9fc6-ebbe2825f53c",
   "metadata": {},
   "source": [
    "### Indexing"
   ]
  },
  {
   "cell_type": "code",
   "execution_count": 205,
   "id": "9fc5663d-cbcd-40a6-a667-283ff146a7d4",
   "metadata": {},
   "outputs": [],
   "source": [
    "# x[layer]\n",
    "# x[layer, row]\n",
    "# x[layer, row, col]"
   ]
  },
  {
   "cell_type": "code",
   "execution_count": 207,
   "id": "08c1ff4b-62b4-4a2b-8764-0ccbd02fc90b",
   "metadata": {},
   "outputs": [
    {
     "data": {
      "text/plain": [
       "array([[87, 36, 49, 82],\n",
       "       [39, 71, 65, 47],\n",
       "       [43, 64, 45, 56]])"
      ]
     },
     "execution_count": 207,
     "metadata": {},
     "output_type": "execute_result"
    }
   ],
   "source": [
    "# First layer\n",
    "x[0]"
   ]
  },
  {
   "cell_type": "code",
   "execution_count": 209,
   "id": "7eeff186-f750-4cea-8121-f2592b54a579",
   "metadata": {},
   "outputs": [
    {
     "data": {
      "text/plain": [
       "array([[87, 36, 49, 82],\n",
       "       [39, 71, 65, 47],\n",
       "       [43, 64, 45, 56]])"
      ]
     },
     "execution_count": 209,
     "metadata": {},
     "output_type": "execute_result"
    }
   ],
   "source": [
    "x[-3]"
   ]
  },
  {
   "cell_type": "code",
   "execution_count": 211,
   "id": "9839e583-2953-4e57-bdaa-1daa4543e54d",
   "metadata": {},
   "outputs": [],
   "source": [
    "# len(3D array) -> It returns the number of layers"
   ]
  },
  {
   "cell_type": "code",
   "execution_count": 213,
   "id": "f8a8fdb7-3ca1-45f9-9158-9a7dc6c3bdbf",
   "metadata": {},
   "outputs": [
    {
     "data": {
      "text/plain": [
       "3"
      ]
     },
     "execution_count": 213,
     "metadata": {},
     "output_type": "execute_result"
    }
   ],
   "source": [
    "len(x)"
   ]
  },
  {
   "cell_type": "code",
   "execution_count": 215,
   "id": "1f1ed9ea-ac41-4b3a-a40e-ef2fb738c731",
   "metadata": {},
   "outputs": [
    {
     "data": {
      "text/plain": [
       "array([[87, 36, 49, 82],\n",
       "       [39, 71, 65, 47],\n",
       "       [43, 64, 45, 56]])"
      ]
     },
     "execution_count": 215,
     "metadata": {},
     "output_type": "execute_result"
    }
   ],
   "source": [
    "x[-len(x)]"
   ]
  },
  {
   "cell_type": "code",
   "execution_count": 217,
   "id": "a34d50ca-0e15-491d-bc5d-73f78000e328",
   "metadata": {},
   "outputs": [
    {
     "data": {
      "text/plain": [
       "array([[[87, 36, 49, 82],\n",
       "        [39, 71, 65, 47],\n",
       "        [43, 64, 45, 56]],\n",
       "\n",
       "       [[71, 87, 22, 34],\n",
       "        [81, 41, 82, 61],\n",
       "        [84, 10, 65, 72]],\n",
       "\n",
       "       [[53, 92, 59, 98],\n",
       "        [58, 88, 20, 70],\n",
       "        [69, 69, 54, 98]]])"
      ]
     },
     "execution_count": 217,
     "metadata": {},
     "output_type": "execute_result"
    }
   ],
   "source": [
    "x"
   ]
  },
  {
   "cell_type": "code",
   "execution_count": 219,
   "id": "5685bcdc-bc24-43a9-887b-8fd7f5c0ac0e",
   "metadata": {},
   "outputs": [
    {
     "data": {
      "text/plain": [
       "array([[53, 92, 59, 98],\n",
       "       [58, 88, 20, 70],\n",
       "       [69, 69, 54, 98]])"
      ]
     },
     "execution_count": 219,
     "metadata": {},
     "output_type": "execute_result"
    }
   ],
   "source": [
    "# Last layer\n",
    "x[-1]"
   ]
  },
  {
   "cell_type": "code",
   "execution_count": 221,
   "id": "8edab654-5ac8-48a9-8331-0a7e09cb4d8e",
   "metadata": {},
   "outputs": [
    {
     "data": {
      "text/plain": [
       "array([[53, 92, 59, 98],\n",
       "       [58, 88, 20, 70],\n",
       "       [69, 69, 54, 98]])"
      ]
     },
     "execution_count": 221,
     "metadata": {},
     "output_type": "execute_result"
    }
   ],
   "source": [
    "x[2]"
   ]
  },
  {
   "cell_type": "code",
   "execution_count": 225,
   "id": "ac7a1561-1f76-4502-9809-e15e54e8d805",
   "metadata": {},
   "outputs": [
    {
     "data": {
      "text/plain": [
       "2"
      ]
     },
     "execution_count": 225,
     "metadata": {},
     "output_type": "execute_result"
    }
   ],
   "source": [
    "len(x)-1"
   ]
  },
  {
   "cell_type": "code",
   "execution_count": 227,
   "id": "54e20f0b-3a5e-4c3a-bffc-1e5e9308a150",
   "metadata": {},
   "outputs": [
    {
     "data": {
      "text/plain": [
       "array([[53, 92, 59, 98],\n",
       "       [58, 88, 20, 70],\n",
       "       [69, 69, 54, 98]])"
      ]
     },
     "execution_count": 227,
     "metadata": {},
     "output_type": "execute_result"
    }
   ],
   "source": [
    "x[len(x)-1]"
   ]
  },
  {
   "cell_type": "code",
   "execution_count": 229,
   "id": "a3c63db0-d146-4007-91bc-97678a4d891a",
   "metadata": {},
   "outputs": [
    {
     "data": {
      "text/plain": [
       "array([[[87, 36, 49, 82],\n",
       "        [39, 71, 65, 47],\n",
       "        [43, 64, 45, 56]],\n",
       "\n",
       "       [[71, 87, 22, 34],\n",
       "        [81, 41, 82, 61],\n",
       "        [84, 10, 65, 72]],\n",
       "\n",
       "       [[53, 92, 59, 98],\n",
       "        [58, 88, 20, 70],\n",
       "        [69, 69, 54, 98]]])"
      ]
     },
     "execution_count": 229,
     "metadata": {},
     "output_type": "execute_result"
    }
   ],
   "source": [
    "x"
   ]
  },
  {
   "cell_type": "code",
   "execution_count": 233,
   "id": "c121c4c2-48af-4f47-a665-cd686d5f6ad4",
   "metadata": {},
   "outputs": [
    {
     "data": {
      "text/plain": [
       "array([71, 87, 22, 34])"
      ]
     },
     "execution_count": 233,
     "metadata": {},
     "output_type": "execute_result"
    }
   ],
   "source": [
    "# First row from the second layer\n",
    "x[1,0]"
   ]
  },
  {
   "cell_type": "code",
   "execution_count": 235,
   "id": "fee32f95-40f5-4f29-a797-5a20efbe2312",
   "metadata": {},
   "outputs": [
    {
     "data": {
      "text/plain": [
       "array([[[87, 36, 49, 82],\n",
       "        [39, 71, 65, 47],\n",
       "        [43, 64, 45, 56]],\n",
       "\n",
       "       [[71, 87, 22, 34],\n",
       "        [81, 41, 82, 61],\n",
       "        [84, 10, 65, 72]],\n",
       "\n",
       "       [[53, 92, 59, 98],\n",
       "        [58, 88, 20, 70],\n",
       "        [69, 69, 54, 98]]])"
      ]
     },
     "execution_count": 235,
     "metadata": {},
     "output_type": "execute_result"
    }
   ],
   "source": [
    "x"
   ]
  },
  {
   "cell_type": "code",
   "execution_count": 239,
   "id": "c638e2c1-cd17-46f7-a59b-f9fdf54f162b",
   "metadata": {},
   "outputs": [
    {
     "data": {
      "text/plain": [
       "array([58, 88, 20, 70])"
      ]
     },
     "execution_count": 239,
     "metadata": {},
     "output_type": "execute_result"
    }
   ],
   "source": [
    "# Second row from the last layer\n",
    "x[-1,1]"
   ]
  },
  {
   "cell_type": "code",
   "execution_count": 241,
   "id": "b1d7014e-7257-4000-9645-be6b85457785",
   "metadata": {},
   "outputs": [
    {
     "data": {
      "text/plain": [
       "array([[[87, 36, 49, 82],\n",
       "        [39, 71, 65, 47],\n",
       "        [43, 64, 45, 56]],\n",
       "\n",
       "       [[71, 87, 22, 34],\n",
       "        [81, 41, 82, 61],\n",
       "        [84, 10, 65, 72]],\n",
       "\n",
       "       [[53, 92, 59, 98],\n",
       "        [58, 88, 20, 70],\n",
       "        [69, 69, 54, 98]]])"
      ]
     },
     "execution_count": 241,
     "metadata": {},
     "output_type": "execute_result"
    }
   ],
   "source": [
    "x"
   ]
  },
  {
   "cell_type": "code",
   "execution_count": 247,
   "id": "1a4350fb-75bf-43ba-b3d6-c06b08f2ec71",
   "metadata": {},
   "outputs": [
    {
     "data": {
      "text/plain": [
       "61"
      ]
     },
     "execution_count": 247,
     "metadata": {},
     "output_type": "execute_result"
    }
   ],
   "source": [
    "# Get 61 from the second layer\n",
    "x[1,1,-1]"
   ]
  },
  {
   "cell_type": "code",
   "execution_count": 253,
   "id": "bb243ea0-3cbb-42e4-a7a4-c14fc2f7d85a",
   "metadata": {},
   "outputs": [
    {
     "data": {
      "text/plain": [
       "69"
      ]
     },
     "execution_count": 253,
     "metadata": {},
     "output_type": "execute_result"
    }
   ],
   "source": [
    "# 69 from the last layer\n",
    "x[-1, -1, 1]"
   ]
  },
  {
   "cell_type": "code",
   "execution_count": 260,
   "id": "6afdfe71-f0ff-44db-b8ec-4e6f7b9462a0",
   "metadata": {},
   "outputs": [
    {
     "data": {
      "text/plain": [
       "69"
      ]
     },
     "execution_count": 260,
     "metadata": {},
     "output_type": "execute_result"
    }
   ],
   "source": [
    "x[2,2,1]"
   ]
  },
  {
   "cell_type": "markdown",
   "id": "6c1e4a38-a326-46a2-bb24-376cfb883c42",
   "metadata": {},
   "source": [
    "### Slicing"
   ]
  },
  {
   "cell_type": "code",
   "execution_count": 262,
   "id": "b888e6f3-2cdc-437c-a627-3c9b0b8cf605",
   "metadata": {},
   "outputs": [],
   "source": [
    "# x[layer_slicing]\n",
    "# x[start:stop:step]\n",
    "\n",
    "# x[layer_slicing, row_slicing]\n",
    "# x[start:stop:step, start:stop:step]\n",
    "\n",
    "# x[layer_slicing, row_slicing, col_slicing]\n",
    "# x[start:stop:step, start:stop:step, start:stop:step]"
   ]
  },
  {
   "cell_type": "code",
   "execution_count": 264,
   "id": "62602bba-f364-4023-b05b-b2c23dde7f43",
   "metadata": {},
   "outputs": [
    {
     "data": {
      "text/plain": [
       "array([[[87, 36, 49, 82],\n",
       "        [39, 71, 65, 47],\n",
       "        [43, 64, 45, 56]],\n",
       "\n",
       "       [[71, 87, 22, 34],\n",
       "        [81, 41, 82, 61],\n",
       "        [84, 10, 65, 72]],\n",
       "\n",
       "       [[53, 92, 59, 98],\n",
       "        [58, 88, 20, 70],\n",
       "        [69, 69, 54, 98]]])"
      ]
     },
     "execution_count": 264,
     "metadata": {},
     "output_type": "execute_result"
    }
   ],
   "source": [
    "x"
   ]
  },
  {
   "cell_type": "code",
   "execution_count": 266,
   "id": "12056daa-d7b1-48d6-bd6f-90e979a6e72d",
   "metadata": {},
   "outputs": [
    {
     "data": {
      "text/plain": [
       "array([[[87, 36, 49, 82],\n",
       "        [39, 71, 65, 47],\n",
       "        [43, 64, 45, 56]],\n",
       "\n",
       "       [[71, 87, 22, 34],\n",
       "        [81, 41, 82, 61],\n",
       "        [84, 10, 65, 72]]])"
      ]
     },
     "execution_count": 266,
     "metadata": {},
     "output_type": "execute_result"
    }
   ],
   "source": [
    "# First 2 layers\n",
    "x[:2]"
   ]
  },
  {
   "cell_type": "code",
   "execution_count": 268,
   "id": "9d14178b-536f-472f-8fa5-8189606b17d3",
   "metadata": {},
   "outputs": [
    {
     "data": {
      "text/plain": [
       "array([[[53, 92, 59, 98],\n",
       "        [58, 88, 20, 70],\n",
       "        [69, 69, 54, 98]],\n",
       "\n",
       "       [[71, 87, 22, 34],\n",
       "        [81, 41, 82, 61],\n",
       "        [84, 10, 65, 72]],\n",
       "\n",
       "       [[87, 36, 49, 82],\n",
       "        [39, 71, 65, 47],\n",
       "        [43, 64, 45, 56]]])"
      ]
     },
     "execution_count": 268,
     "metadata": {},
     "output_type": "execute_result"
    }
   ],
   "source": [
    "# Revese the layers\n",
    "x[::-1]"
   ]
  },
  {
   "cell_type": "code",
   "execution_count": 272,
   "id": "92a4432d-e7eb-40f2-9251-df07a19078e0",
   "metadata": {},
   "outputs": [
    {
     "data": {
      "text/plain": [
       "array([[71, 87, 22, 34],\n",
       "       [81, 41, 82, 61]])"
      ]
     },
     "execution_count": 272,
     "metadata": {},
     "output_type": "execute_result"
    }
   ],
   "source": [
    "# First 2 rows from the second layer.\n",
    "\n",
    "x[1,:2]"
   ]
  },
  {
   "cell_type": "code",
   "execution_count": 278,
   "id": "77600ca5-4862-4950-ba24-9532efa17042",
   "metadata": {},
   "outputs": [
    {
     "data": {
      "text/plain": [
       "array([[53, 92, 59, 98],\n",
       "       [58, 88, 20, 70],\n",
       "       [69, 69, 54, 98]])"
      ]
     },
     "execution_count": 278,
     "metadata": {},
     "output_type": "execute_result"
    }
   ],
   "source": [
    "x[-1]"
   ]
  },
  {
   "cell_type": "code",
   "execution_count": 276,
   "id": "5887c36f-4e45-4ec9-9013-285f28591d77",
   "metadata": {},
   "outputs": [
    {
     "data": {
      "text/plain": [
       "array([[69, 69, 54, 98],\n",
       "       [58, 88, 20, 70],\n",
       "       [53, 92, 59, 98]])"
      ]
     },
     "execution_count": 276,
     "metadata": {},
     "output_type": "execute_result"
    }
   ],
   "source": [
    "# Reverse the rows of the last layer\n",
    "x[-1, ::-1]"
   ]
  },
  {
   "cell_type": "code",
   "execution_count": 280,
   "id": "8d13910f-c231-4027-baa8-b0036e2ed44e",
   "metadata": {},
   "outputs": [
    {
     "data": {
      "text/plain": [
       "array([[[87, 36, 49, 82],\n",
       "        [39, 71, 65, 47],\n",
       "        [43, 64, 45, 56]],\n",
       "\n",
       "       [[71, 87, 22, 34],\n",
       "        [81, 41, 82, 61],\n",
       "        [84, 10, 65, 72]],\n",
       "\n",
       "       [[53, 92, 59, 98],\n",
       "        [58, 88, 20, 70],\n",
       "        [69, 69, 54, 98]]])"
      ]
     },
     "execution_count": 280,
     "metadata": {},
     "output_type": "execute_result"
    }
   ],
   "source": [
    "x"
   ]
  },
  {
   "cell_type": "code",
   "execution_count": 292,
   "id": "6dfc6e68-6042-46c0-9258-73b53ce30838",
   "metadata": {},
   "outputs": [
    {
     "data": {
      "text/plain": [
       "array([[[87, 36],\n",
       "        [39, 71],\n",
       "        [43, 64]],\n",
       "\n",
       "       [[71, 87],\n",
       "        [81, 41],\n",
       "        [84, 10]],\n",
       "\n",
       "       [[53, 92],\n",
       "        [58, 88],\n",
       "        [69, 69]]])"
      ]
     },
     "execution_count": 292,
     "metadata": {},
     "output_type": "execute_result"
    }
   ],
   "source": [
    "# First two columns from all the layers\n",
    "x[::, ::, :2]"
   ]
  },
  {
   "cell_type": "code",
   "execution_count": 300,
   "id": "c30ca7d8-6db6-4958-974d-85ea5e15fd1b",
   "metadata": {},
   "outputs": [
    {
     "data": {
      "text/plain": [
       "array([[[87, 36, 49, 82],\n",
       "        [39, 71, 65, 47],\n",
       "        [43, 64, 45, 56]],\n",
       "\n",
       "       [[71, 87, 22, 34],\n",
       "        [81, 41, 82, 61],\n",
       "        [84, 10, 65, 72]],\n",
       "\n",
       "       [[53, 92, 59, 98],\n",
       "        [58, 88, 20, 70],\n",
       "        [69, 69, 54, 98]]])"
      ]
     },
     "execution_count": 300,
     "metadata": {},
     "output_type": "execute_result"
    }
   ],
   "source": [
    "x"
   ]
  },
  {
   "cell_type": "code",
   "execution_count": 304,
   "id": "48afdcc4-8004-4fa7-8dfb-de08f7c4dbfc",
   "metadata": {},
   "outputs": [
    {
     "data": {
      "text/plain": [
       "array([[[87, 82],\n",
       "        [39, 47],\n",
       "        [43, 56]],\n",
       "\n",
       "       [[71, 34],\n",
       "        [81, 61],\n",
       "        [84, 72]],\n",
       "\n",
       "       [[53, 98],\n",
       "        [58, 70],\n",
       "        [69, 98]]])"
      ]
     },
     "execution_count": 304,
     "metadata": {},
     "output_type": "execute_result"
    }
   ],
   "source": [
    "x[::, ::, ::3]"
   ]
  },
  {
   "cell_type": "code",
   "execution_count": 306,
   "id": "b6a390bd-eb4e-4153-8a4a-5853d5a37c5f",
   "metadata": {},
   "outputs": [
    {
     "data": {
      "text/plain": [
       "array([[[87, 36, 49, 82],\n",
       "        [39, 71, 65, 47],\n",
       "        [43, 64, 45, 56]],\n",
       "\n",
       "       [[71, 87, 22, 34],\n",
       "        [81, 41, 82, 61],\n",
       "        [84, 10, 65, 72]],\n",
       "\n",
       "       [[53, 92, 59, 98],\n",
       "        [58, 88, 20, 70],\n",
       "        [69, 69, 54, 98]]])"
      ]
     },
     "execution_count": 306,
     "metadata": {},
     "output_type": "execute_result"
    }
   ],
   "source": [
    "x"
   ]
  },
  {
   "cell_type": "code",
   "execution_count": 308,
   "id": "1524f63e-7e5d-48e6-aea5-5807964d854d",
   "metadata": {},
   "outputs": [],
   "source": [
    "# [[43,56],\n",
    "# [87, 82]],\n",
    "\n",
    "# [[69, 98],\n",
    "# 53, 98]]"
   ]
  },
  {
   "cell_type": "code",
   "execution_count": 316,
   "id": "a7b27a32-b2ff-4c98-a83c-bf9381b5c539",
   "metadata": {},
   "outputs": [
    {
     "data": {
      "text/plain": [
       "array([[[43, 56],\n",
       "        [87, 82]],\n",
       "\n",
       "       [[69, 98],\n",
       "        [53, 98]]])"
      ]
     },
     "execution_count": 316,
     "metadata": {},
     "output_type": "execute_result"
    }
   ],
   "source": [
    "x[::2, ::-2, ::3]"
   ]
  },
  {
   "cell_type": "code",
   "execution_count": 318,
   "id": "a6e51994-4c16-4af6-be35-d45b6542227a",
   "metadata": {},
   "outputs": [
    {
     "data": {
      "text/plain": [
       "array([[[87, 36, 49, 82],\n",
       "        [39, 71, 65, 47],\n",
       "        [43, 64, 45, 56]],\n",
       "\n",
       "       [[71, 87, 22, 34],\n",
       "        [81, 41, 82, 61],\n",
       "        [84, 10, 65, 72]],\n",
       "\n",
       "       [[53, 92, 59, 98],\n",
       "        [58, 88, 20, 70],\n",
       "        [69, 69, 54, 98]]])"
      ]
     },
     "execution_count": 318,
     "metadata": {},
     "output_type": "execute_result"
    }
   ],
   "source": [
    "x"
   ]
  },
  {
   "cell_type": "code",
   "execution_count": 320,
   "id": "e68c4c85-aae9-4e19-88e2-c00d5243580b",
   "metadata": {},
   "outputs": [],
   "source": [
    "img_path=r\"C:\\Users\\ashis\\OneDrive\\Desktop\\flower.jpg\""
   ]
  },
  {
   "cell_type": "code",
   "execution_count": 330,
   "id": "cf5483ec-d279-467e-8e50-afd4d1b9b277",
   "metadata": {},
   "outputs": [],
   "source": [
    "from PIL import Image"
   ]
  },
  {
   "cell_type": "code",
   "execution_count": 334,
   "id": "162346b3-7698-480d-9c63-98022cf3c381",
   "metadata": {},
   "outputs": [],
   "source": [
    "img=Image.open(img_path)"
   ]
  },
  {
   "cell_type": "code",
   "execution_count": 338,
   "id": "fb9aabdf-5465-40bf-8f7a-1a7657836eba",
   "metadata": {},
   "outputs": [],
   "source": [
    "img_arr=np.array(img)"
   ]
  },
  {
   "cell_type": "code",
   "execution_count": 342,
   "id": "98e76dc1-4271-4cd8-acf8-48f0fb807a92",
   "metadata": {},
   "outputs": [
    {
     "data": {
      "text/plain": [
       "(1200, 1920, 3)"
      ]
     },
     "execution_count": 342,
     "metadata": {},
     "output_type": "execute_result"
    }
   ],
   "source": [
    "img_arr.shape"
   ]
  },
  {
   "cell_type": "code",
   "execution_count": 344,
   "id": "f6b11261-707d-40dd-9e24-ec89b98800de",
   "metadata": {},
   "outputs": [],
   "source": [
    "import matplotlib.pyplot as plt"
   ]
  },
  {
   "cell_type": "code",
   "execution_count": 348,
   "id": "48604c68-e3f7-4089-a499-512f5eee1deb",
   "metadata": {},
   "outputs": [
    {
     "data": {
      "text/plain": [
       "<matplotlib.image.AxesImage at 0x20eaae29010>"
      ]
     },
     "execution_count": 348,
     "metadata": {},
     "output_type": "execute_result"
    },
    {
     "data": {
      "image/png": "[encoded data removed]",
      "text/plain": [
       "<Figure size 640x480 with 1 Axes>"
      ]
     },
     "metadata": {},
     "output_type": "display_data"
    }
   ],
   "source": [
    "plt.imshow(img_arr)"
   ]
  },
  {
   "cell_type": "code",
   "execution_count": 352,
   "id": "fb198b41-c1b1-4a6f-8fa5-7bd061fe8690",
   "metadata": {},
   "outputs": [
    {
     "data": {
      "text/plain": [
       "<matplotlib.image.AxesImage at 0x20eadc0ec90>"
      ]
     },
     "execution_count": 352,
     "metadata": {},
     "output_type": "execute_result"
    },
    {
     "data": {
      "image/png": "[encoded data removed]",
      "text/plain": [
       "<Figure size 640x480 with 1 Axes>"
      ]
     },
     "metadata": {},
     "output_type": "display_data"
    }
   ],
   "source": [
    "plt.imshow(img_arr[:500])"
   ]
  },
  {
   "cell_type": "code",
   "execution_count": 354,
   "id": "e71a6494-0a4d-4ef2-b8dd-72feeb72fb0c",
   "metadata": {},
   "outputs": [],
   "source": [
    "# ML algorithm -> Numbers"
   ]
  },
  {
   "cell_type": "code",
   "execution_count": 356,
   "id": "c5213496-0ca5-42a9-96af-cc8fe9574dc6",
   "metadata": {},
   "outputs": [],
   "source": [
    "# Tabular Data -> 2D array\n",
    "# Image Data -> 3D array"
   ]
  },
  {
   "cell_type": "markdown",
   "id": "af904911-260a-4be6-a8ee-aba71e39c5d1",
   "metadata": {},
   "source": [
    "# Arrays of Random Numbers"
   ]
  },
  {
   "cell_type": "code",
   "execution_count": 361,
   "id": "a136b132-bb31-45ba-9154-89b2240cd186",
   "metadata": {},
   "outputs": [],
   "source": [
    "# - In Numpy there is a module random that has functions to create different kind of arrays of random numbers."
   ]
  },
  {
   "cell_type": "markdown",
   "id": "b9ff7251-30f3-4a0e-b727-1eb082369806",
   "metadata": {},
   "source": [
    "### random()"
   ]
  },
  {
   "cell_type": "code",
   "execution_count": 371,
   "id": "3e45421f-0161-4ff0-bc30-d0f872f26248",
   "metadata": {},
   "outputs": [],
   "source": [
    "# - It returns a 1-D array of specified number of random values.\n",
    "# - A random value is always in between 0 and 1."
   ]
  },
  {
   "cell_type": "code",
   "execution_count": 373,
   "id": "ea9e53e1-951b-4a29-8f26-30851e80574e",
   "metadata": {},
   "outputs": [],
   "source": [
    "# np.random.random(int)"
   ]
  },
  {
   "cell_type": "code",
   "execution_count": 375,
   "id": "491848c0-1014-4b59-9f9e-f351b38685f6",
   "metadata": {},
   "outputs": [],
   "source": [
    "# Create an array of 5 random values."
   ]
  },
  {
   "cell_type": "code",
   "execution_count": 379,
   "id": "539ded69-3378-4fcf-86d4-447051d75355",
   "metadata": {},
   "outputs": [
    {
     "data": {
      "text/plain": [
       "array([0.1742755 , 0.83531648, 0.55717413, 0.15181239, 0.48172552])"
      ]
     },
     "execution_count": 379,
     "metadata": {},
     "output_type": "execute_result"
    }
   ],
   "source": [
    "x=np.random.random(5)\n",
    "x"
   ]
  },
  {
   "cell_type": "code",
   "execution_count": 381,
   "id": "c073ceb0-5883-4766-9006-f27d55d8091e",
   "metadata": {},
   "outputs": [
    {
     "data": {
      "text/plain": [
       "(5,)"
      ]
     },
     "execution_count": 381,
     "metadata": {},
     "output_type": "execute_result"
    }
   ],
   "source": [
    "x.shape"
   ]
  },
  {
   "cell_type": "markdown",
   "id": "0f529e72-32cd-441f-9a46-f8e19073fdc5",
   "metadata": {},
   "source": [
    "### rand()"
   ]
  },
  {
   "cell_type": "code",
   "execution_count": 384,
   "id": "4b2e81ef-d8b1-4cd8-97c2-b88d9d326a17",
   "metadata": {},
   "outputs": [],
   "source": [
    "# - It returns an array of random numbers of the given shape."
   ]
  },
  {
   "cell_type": "code",
   "execution_count": 386,
   "id": "dbb4e96d-709c-47ab-b84c-e28fbaf97e4b",
   "metadata": {},
   "outputs": [],
   "source": [
    "# np.random.rand(rows, cols)"
   ]
  },
  {
   "cell_type": "code",
   "execution_count": 390,
   "id": "9b66db27-f259-4480-81b6-8b5f937f19f3",
   "metadata": {},
   "outputs": [
    {
     "data": {
      "text/plain": [
       "array([[0.50651348, 0.32948748, 0.12145881, 0.74554622],\n",
       "       [0.70746426, 0.58410522, 0.80489664, 0.18433926],\n",
       "       [0.23163095, 0.02294544, 0.95809344, 0.87293621]])"
      ]
     },
     "execution_count": 390,
     "metadata": {},
     "output_type": "execute_result"
    }
   ],
   "source": [
    "# Create a 3*4 array of random numbers.\n",
    "np.random.random(12).reshape(3,4)"
   ]
  },
  {
   "cell_type": "code",
   "execution_count": 435,
   "id": "c4e80bbe-6476-48ff-9c15-11404326cbb0",
   "metadata": {},
   "outputs": [
    {
     "data": {
      "text/plain": [
       "array([[0.057604  , 0.32396856, 0.67783684, 0.12935126],\n",
       "       [0.67535954, 0.61832168, 0.98222016, 0.70686345],\n",
       "       [0.16173139, 0.49971988, 0.69547607, 0.23043792]])"
      ]
     },
     "execution_count": 435,
     "metadata": {},
     "output_type": "execute_result"
    }
   ],
   "source": [
    "# Create a 3*4 array of random numbers.\n",
    "np.random.rand(3,4)"
   ]
  },
  {
   "cell_type": "markdown",
   "id": "00e7a7a9-c3cc-4625-8585-275adc92f868",
   "metadata": {},
   "source": [
    "### randint()"
   ]
  },
  {
   "cell_type": "code",
   "execution_count": 395,
   "id": "382c04c1-533c-4861-81d2-a9e075d394e4",
   "metadata": {},
   "outputs": [],
   "source": [
    "# - It returns an array of random int numbers within the given range."
   ]
  },
  {
   "cell_type": "code",
   "execution_count": 399,
   "id": "50a4f204-1e78-4ba0-8585-d5b44b9bdf9e",
   "metadata": {},
   "outputs": [],
   "source": [
    "# np.random.randint(start, stop, number of elements)\n",
    "# start may be included.\n",
    "# stop is excluded."
   ]
  },
  {
   "cell_type": "code",
   "execution_count": 431,
   "id": "8d9d0a0a-cb47-434f-a10e-6d0a7850c389",
   "metadata": {},
   "outputs": [
    {
     "data": {
      "text/plain": [
       "array([96, 34, 38, 85, 47, 32, 52, 86, 41, 76])"
      ]
     },
     "execution_count": 431,
     "metadata": {},
     "output_type": "execute_result"
    }
   ],
   "source": [
    "# Create an array of 10 int numbers between 10 and 100\n",
    "np.random.randint(10,101,10)"
   ]
  },
  {
   "cell_type": "code",
   "execution_count": 441,
   "id": "8fb39c64-a4b0-46dc-85e0-e8273e228340",
   "metadata": {},
   "outputs": [
    {
     "data": {
      "text/plain": [
       "array([[59, 89, 32, 10],\n",
       "       [19, 50, 17, 55],\n",
       "       [78, 24, 20, 82]])"
      ]
     },
     "execution_count": 441,
     "metadata": {},
     "output_type": "execute_result"
    }
   ],
   "source": [
    "# Create a 3*4 array of random int numbers between 10 and 99.\n",
    "\n",
    "np.random.randint(10,100, 12).reshape(3,4)"
   ]
  },
  {
   "cell_type": "code",
   "execution_count": 445,
   "id": "f8d6dd68-6d48-4c42-9d1e-135c4192ebb7",
   "metadata": {},
   "outputs": [
    {
     "data": {
      "text/plain": [
       "array([[14, 24, 37, 43],\n",
       "       [15, 65, 32, 28],\n",
       "       [65, 92, 97, 62]])"
      ]
     },
     "execution_count": 445,
     "metadata": {},
     "output_type": "execute_result"
    }
   ],
   "source": [
    "x=np.random.randint(10,100, size=(3,4))\n",
    "x"
   ]
  },
  {
   "cell_type": "markdown",
   "id": "56a6c21f-f440-4830-9148-a10d083db7e3",
   "metadata": {},
   "source": [
    "### seed()"
   ]
  },
  {
   "cell_type": "code",
   "execution_count": 448,
   "id": "4da5e732-7fd1-4740-847f-a1638218fcda",
   "metadata": {},
   "outputs": [],
   "source": [
    "# - It is used to fix the random state.\n",
    "# - It takes an int value  (random state) as argument.\n",
    "# - It fixes the random state for one next execution."
   ]
  },
  {
   "cell_type": "code",
   "execution_count": 9,
   "id": "993571b9-36d1-4117-80f8-2884f327acf8",
   "metadata": {},
   "outputs": [
    {
     "data": {
      "text/plain": [
       "array([87, 36, 49, 82, 39])"
      ]
     },
     "execution_count": 9,
     "metadata": {},
     "output_type": "execute_result"
    }
   ],
   "source": [
    "np.random.seed(55)\n",
    "np.random.randint(10,100,5)"
   ]
  },
  {
   "cell_type": "code",
   "execution_count": 454,
   "id": "ab26cb4c-ebf2-4c04-a49e-f2c45d1bd634",
   "metadata": {},
   "outputs": [],
   "source": [
    "# array([87, 36, 49, 82, 39])"
   ]
  },
  {
   "cell_type": "code",
   "execution_count": 7,
   "id": "0547b9ff-e1f0-4189-8164-999003712cbf",
   "metadata": {},
   "outputs": [],
   "source": [
    "import numpy as np"
   ]
  },
  {
   "cell_type": "code",
   "execution_count": 15,
   "id": "20349c82-41f2-42e4-87ef-0fdfce0b8f17",
   "metadata": {},
   "outputs": [
    {
     "data": {
      "text/plain": [
       "array([64, 82, 88, 87, 64])"
      ]
     },
     "execution_count": 15,
     "metadata": {},
     "output_type": "execute_result"
    }
   ],
   "source": [
    "np.random.seed(2000)\n",
    "np.random.randint(10,100,5)"
   ]
  },
  {
   "cell_type": "code",
   "execution_count": 11,
   "id": "8b9147e3-dd0a-4c67-8739-d8b078d5e8d3",
   "metadata": {},
   "outputs": [
    {
     "data": {
      "text/plain": [
       "array([72, 29, 68, 16, 80])"
      ]
     },
     "execution_count": 11,
     "metadata": {},
     "output_type": "execute_result"
    }
   ],
   "source": [
    "# np.random.seed(450)\n",
    "np.random.randint(10,100,5)"
   ]
  },
  {
   "cell_type": "code",
   "execution_count": 17,
   "id": "45e7c7ba-604a-4165-9892-5b454882c4b5",
   "metadata": {},
   "outputs": [
    {
     "data": {
      "text/plain": [
       "array([64, 82, 88, 87, 64])"
      ]
     },
     "execution_count": 17,
     "metadata": {},
     "output_type": "execute_result"
    }
   ],
   "source": [
    "np.random.seed(2000)\n",
    "np.random.randint(10,100,5)"
   ]
  },
  {
   "cell_type": "code",
   "execution_count": null,
   "id": "a62826e7-1dce-4758-ae48-c81aa66edf84",
   "metadata": {},
   "outputs": [],
   "source": [
    "# array([64, 82, 88, 87, 64])"
   ]
  },
  {
   "cell_type": "code",
   "execution_count": 21,
   "id": "6f524c8c-e4bd-44bc-8a0b-e0fba47deabf",
   "metadata": {},
   "outputs": [],
   "source": [
    "# choice\n",
    "# shuffle\n",
    "# probability"
   ]
  },
  {
   "cell_type": "code",
   "execution_count": 47,
   "id": "d4610b72-752a-4c52-a22c-8f61c363830e",
   "metadata": {},
   "outputs": [],
   "source": [
    "def random_algo():\n",
    "    c=1\n",
    "    while True:\n",
    "        c=c+1\n",
    "        yield c"
   ]
  },
  {
   "cell_type": "code",
   "execution_count": 55,
   "id": "5f782dde-4ab8-4fc6-8097-37c3bf5b6cc7",
   "metadata": {},
   "outputs": [],
   "source": [
    "x=random_algo()"
   ]
  },
  {
   "cell_type": "code",
   "execution_count": 57,
   "id": "42981d38-a77f-46db-9d7e-db8d434b8e69",
   "metadata": {},
   "outputs": [],
   "source": [
    "lst=[]\n",
    "for i in range(10):\n",
    "    lst.append(next(x))"
   ]
  },
  {
   "cell_type": "code",
   "execution_count": 59,
   "id": "3c99284b-baa1-438f-9654-8f89169afed5",
   "metadata": {},
   "outputs": [
    {
     "data": {
      "text/plain": [
       "[2, 3, 4, 5, 6, 7, 8, 9, 10, 11]"
      ]
     },
     "execution_count": 59,
     "metadata": {},
     "output_type": "execute_result"
    }
   ],
   "source": [
    "lst"
   ]
  },
  {
   "cell_type": "code",
   "execution_count": null,
   "id": "d700d1ba-e71a-42a3-acfe-d66e6a10d3e5",
   "metadata": {},
   "outputs": [],
   "source": []
  }
 ],
 "metadata": {
  "kernelspec": {
   "display_name": "Python 3 (ipykernel)",
   "language": "python",
   "name": "python3"
  },
  "language_info": {
   "codemirror_mode": {
    "name": "ipython",
    "version": 3
   },
   "file_extension": ".py",
   "mimetype": "text/x-python",
   "name": "python",
   "nbconvert_exporter": "python",
   "pygments_lexer": "ipython3",
   "version": "3.11.10"
  }
 },
 "nbformat": 4,
 "nbformat_minor": 5
}
