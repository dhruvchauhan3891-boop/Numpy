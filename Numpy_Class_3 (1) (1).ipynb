{
 "cells": [
  {
   "cell_type": "code",
   "execution_count": 1,
   "id": "b7fc0d97-035a-408c-bec7-0b41d41c9c5a",
   "metadata": {},
   "outputs": [],
   "source": [
    "import numpy as np"
   ]
  },
  {
   "cell_type": "code",
   "execution_count": 3,
   "id": "6c762338-9958-44fe-830f-d916e04d0633",
   "metadata": {},
   "outputs": [],
   "source": [
    "# Array of Random Values"
   ]
  },
  {
   "cell_type": "code",
   "execution_count": 5,
   "id": "7a4cea6e-1615-4f80-a797-541349f42bc2",
   "metadata": {},
   "outputs": [],
   "source": [
    "# random()\n",
    "# rand()\n",
    "# randint()\n",
    "# seed()"
   ]
  },
  {
   "cell_type": "markdown",
   "id": "723ede98-86c8-4214-9b83-65266b20d0c3",
   "metadata": {},
   "source": [
    "### shuffle()"
   ]
  },
  {
   "cell_type": "code",
   "execution_count": 8,
   "id": "d2fb2eab-5aa5-4649-a083-e38eaa09041a",
   "metadata": {},
   "outputs": [],
   "source": [
    "# - It shuffles the elements of an array."
   ]
  },
  {
   "cell_type": "code",
   "execution_count": 12,
   "id": "12d8cbe9-7a30-40dc-8f32-b4767415a2d4",
   "metadata": {},
   "outputs": [
    {
     "data": {
      "text/plain": [
       "array([ 1,  2,  3,  4,  5,  6,  7,  8,  9, 10])"
      ]
     },
     "execution_count": 12,
     "metadata": {},
     "output_type": "execute_result"
    }
   ],
   "source": [
    "x=np.arange(1,11)\n",
    "x"
   ]
  },
  {
   "cell_type": "code",
   "execution_count": 25,
   "id": "128c3237-0a00-452e-b5d2-68050f760fbd",
   "metadata": {},
   "outputs": [],
   "source": [
    "np.random.shuffle(x)"
   ]
  },
  {
   "cell_type": "code",
   "execution_count": 27,
   "id": "fabc123d-eda2-4b42-a833-1f044b6213d3",
   "metadata": {},
   "outputs": [
    {
     "data": {
      "text/plain": [
       "array([ 5,  4,  3,  1,  2,  8,  6,  9,  7, 10])"
      ]
     },
     "execution_count": 27,
     "metadata": {},
     "output_type": "execute_result"
    }
   ],
   "source": [
    "x"
   ]
  },
  {
   "cell_type": "markdown",
   "id": "2087cebd-13a1-44ed-a5b4-91ee9d637e82",
   "metadata": {},
   "source": [
    "### choice()"
   ]
  },
  {
   "cell_type": "code",
   "execution_count": 19,
   "id": "c8633918-0c41-413e-8df1-340909f24bf0",
   "metadata": {},
   "outputs": [],
   "source": [
    "# - It randomly selects an element or elements from an array."
   ]
  },
  {
   "cell_type": "code",
   "execution_count": 31,
   "id": "0c7444a0-e8bd-4f59-b2e2-f4b29dbf200a",
   "metadata": {},
   "outputs": [],
   "source": [
    "# np.random.choice(x, number_of_elements)"
   ]
  },
  {
   "cell_type": "code",
   "execution_count": 29,
   "id": "27d8ed7d-4ba4-4d6d-8457-7f95591d7057",
   "metadata": {},
   "outputs": [
    {
     "data": {
      "text/plain": [
       "array([ 1,  2,  3,  4,  5,  6,  7,  8,  9, 10])"
      ]
     },
     "execution_count": 29,
     "metadata": {},
     "output_type": "execute_result"
    }
   ],
   "source": [
    "x=np.arange(1,11)\n",
    "x"
   ]
  },
  {
   "cell_type": "code",
   "execution_count": 48,
   "id": "88d26f95-f3a6-4bf3-a030-0e925b31df48",
   "metadata": {},
   "outputs": [
    {
     "data": {
      "text/plain": [
       "array([7])"
      ]
     },
     "execution_count": 48,
     "metadata": {},
     "output_type": "execute_result"
    }
   ],
   "source": [
    "np.random.seed(42)\n",
    "np.random.choice(x,1)"
   ]
  },
  {
   "cell_type": "code",
   "execution_count": 68,
   "id": "d20d8b97-9e50-418d-9f06-f47a3ace8abd",
   "metadata": {},
   "outputs": [
    {
     "data": {
      "text/plain": [
       "array([ 3,  1,  4,  2,  8,  4,  2,  6,  6, 10,  4,  6,  2, 10,  2, 10,  4,\n",
       "        8,  7,  9])"
      ]
     },
     "execution_count": 68,
     "metadata": {},
     "output_type": "execute_result"
    }
   ],
   "source": [
    "np.random.choice(x,20)"
   ]
  },
  {
   "cell_type": "code",
   "execution_count": 72,
   "id": "56912f83-2a16-46f9-9b76-175e0fd25dba",
   "metadata": {},
   "outputs": [
    {
     "data": {
      "text/plain": [
       "array([ 3,  1,  6,  4,  7,  2,  9, 10,  5,  8])"
      ]
     },
     "execution_count": 72,
     "metadata": {},
     "output_type": "execute_result"
    }
   ],
   "source": [
    "np.random.choice(x,10, replace=False)"
   ]
  },
  {
   "cell_type": "code",
   "execution_count": 80,
   "id": "cc61b09b-de9f-48d2-95f7-7d3b5e889733",
   "metadata": {},
   "outputs": [
    {
     "data": {
      "text/plain": [
       "array([1, 2, 3, 4, 5])"
      ]
     },
     "execution_count": 80,
     "metadata": {},
     "output_type": "execute_result"
    }
   ],
   "source": [
    "x=np.arange(1,6)\n",
    "x"
   ]
  },
  {
   "cell_type": "code",
   "execution_count": 82,
   "id": "5e157a6e-a4dd-474e-ba18-7a94337c9f2c",
   "metadata": {},
   "outputs": [
    {
     "data": {
      "text/plain": [
       "array([1, 2, 3, 4, 5])"
      ]
     },
     "execution_count": 82,
     "metadata": {},
     "output_type": "execute_result"
    }
   ],
   "source": [
    "x"
   ]
  },
  {
   "cell_type": "code",
   "execution_count": 94,
   "id": "f49503cf-69c2-46b5-b272-0bd3238626a9",
   "metadata": {},
   "outputs": [
    {
     "data": {
      "text/plain": [
       "array([5, 2, 4, 1, 3])"
      ]
     },
     "execution_count": 94,
     "metadata": {},
     "output_type": "execute_result"
    }
   ],
   "source": [
    "np.random.choice(x,5, replace=False)"
   ]
  },
  {
   "cell_type": "code",
   "execution_count": 97,
   "id": "7e6f3e29-7cd1-4ad0-9349-622c1ae9bc36",
   "metadata": {},
   "outputs": [],
   "source": [
    "# [1, 2, 3, 4, 5] -> 5\n",
    "# [1, 2, 3, 4] -> 2\n",
    "# [1, 3, 4] -> 4\n",
    "# [1,3] -> 3\n",
    "# [1] -> 1\n",
    "# []"
   ]
  },
  {
   "cell_type": "code",
   "execution_count": 99,
   "id": "e52e5db4-b48f-4371-9a01-e99693c636ea",
   "metadata": {},
   "outputs": [
    {
     "data": {
      "text/plain": [
       "array([1, 2, 3, 4, 5])"
      ]
     },
     "execution_count": 99,
     "metadata": {},
     "output_type": "execute_result"
    }
   ],
   "source": [
    "x"
   ]
  },
  {
   "cell_type": "code",
   "execution_count": 101,
   "id": "061404ad-d107-4423-aade-c58ab70c45af",
   "metadata": {},
   "outputs": [
    {
     "data": {
      "text/plain": [
       "array([3, 1, 2, 2, 4])"
      ]
     },
     "execution_count": 101,
     "metadata": {},
     "output_type": "execute_result"
    }
   ],
   "source": [
    "np.random.choice(x,5, replace=True)"
   ]
  },
  {
   "cell_type": "code",
   "execution_count": 103,
   "id": "62f6f719-0676-44e4-9c91-f05ac72db747",
   "metadata": {},
   "outputs": [],
   "source": [
    "# [1, 2, 3, 4, 5] -> 3\n",
    "# [1, 2, 3, 4, 5] -> 1\n",
    "# [1, 2, 3, 4, 5] -> 2\n",
    "# [1, 2, 3, 4, 5] -> 2\n",
    "# [1, 2, 3, 4, 5] -> 4"
   ]
  },
  {
   "cell_type": "markdown",
   "id": "e91ee620-0b12-467f-8b01-a0a9a6ecb704",
   "metadata": {},
   "source": [
    "### Creating random numbers according to some probability distribution"
   ]
  },
  {
   "cell_type": "code",
   "execution_count": 106,
   "id": "adf7da8a-568f-4b30-b023-a1fe3fb86d18",
   "metadata": {},
   "outputs": [],
   "source": [
    "# Normal Distribution\n",
    "# Poisson Distribution\n",
    "# Uniform Distribution\n",
    "# Binomial Distribution..."
   ]
  },
  {
   "cell_type": "code",
   "execution_count": 108,
   "id": "e085cc26-e4d0-4c7c-85b5-894df4eb6084",
   "metadata": {},
   "outputs": [],
   "source": [
    "# Create an array of numbers that follow normal distribution.\n",
    "# Given, mean=50, sd=3"
   ]
  },
  {
   "cell_type": "code",
   "execution_count": 118,
   "id": "1ca376e8-c06f-46cd-9d56-854c4fc0d600",
   "metadata": {},
   "outputs": [],
   "source": [
    "import matplotlib.pyplot as plt\n",
    "import seaborn as sns"
   ]
  },
  {
   "cell_type": "code",
   "execution_count": 114,
   "id": "581fdf57-2055-405d-a94f-eac15821620e",
   "metadata": {},
   "outputs": [],
   "source": [
    "nd=np.random.normal(50,3, 100)"
   ]
  },
  {
   "cell_type": "code",
   "execution_count": 116,
   "id": "42a56905-adde-4838-bd82-6d505d4a552c",
   "metadata": {},
   "outputs": [
    {
     "data": {
      "text/plain": [
       "array([45.89038683, 47.68465775, 52.63602064, 49.28121648, 53.62814591,\n",
       "       51.61388001, 58.20326648, 50.28129629, 45.7807842 , 49.89641103,\n",
       "       47.11095312, 52.93154   , 50.12594019, 49.58818455, 49.62760283,\n",
       "       52.22102245, 48.6426133 , 52.33114938, 53.13671351, 48.97357486,\n",
       "       47.22186014, 48.46110405, 52.13032772, 50.27743661, 51.89022482,\n",
       "       55.28881242, 50.69286117, 47.57318933, 53.17227053, 50.15408258,\n",
       "       52.61734147, 53.19859563, 47.12297571, 54.14601381, 52.71536588,\n",
       "       48.18828688, 50.91334736, 50.77162247, 50.07179544, 52.61574197,\n",
       "       54.31206899, 50.02191912, 53.99264398, 52.96460783, 50.69688847,\n",
       "       50.52854277, 46.54230389, 45.49769482, 50.49506839, 47.43221325,\n",
       "       49.88109157, 48.39601177, 44.63451049, 51.07191363, 48.75640458,\n",
       "       50.24059614, 47.32063918, 48.99554826, 54.68114042, 50.385653  ,\n",
       "       51.64872904, 46.18738458, 57.16710787, 55.53024127, 54.09030647,\n",
       "       52.48629793, 50.04542983, 51.32622205, 53.14405923, 48.11429076,\n",
       "       48.66650377, 44.99260292, 47.68454277, 54.98390519, 48.99725873,\n",
       "       49.04645928, 50.9533011 , 45.16331808, 52.83614507, 53.79922057,\n",
       "       51.1318888 , 54.95405296, 46.0195047 , 55.53114739, 47.80777579,\n",
       "       46.1602408 , 49.28782412, 55.61601704, 49.94167358, 47.20222503,\n",
       "       46.11517258, 49.68464449, 44.01511529, 46.09942148, 54.62920296,\n",
       "       53.96979142, 49.61476356, 48.60300569, 50.17552671, 57.04399079])"
      ]
     },
     "execution_count": 116,
     "metadata": {},
     "output_type": "execute_result"
    }
   ],
   "source": [
    "nd"
   ]
  },
  {
   "cell_type": "code",
   "execution_count": 120,
   "id": "cd58ecea-c04d-44ee-ad51-65f6175fab57",
   "metadata": {},
   "outputs": [
    {
     "data": {
      "image/png": "[encoded data removed]",
      "text/plain": [
       "<Figure size 640x480 with 1 Axes>"
      ]
     },
     "metadata": {},
     "output_type": "display_data"
    }
   ],
   "source": [
    "sns.kdeplot(nd)\n",
    "plt.show()"
   ]
  },
  {
   "cell_type": "code",
   "execution_count": 136,
   "id": "f355ad3d-c19d-4e10-aaeb-9df0d04e78eb",
   "metadata": {},
   "outputs": [],
   "source": [
    "ud=np.random.uniform(1,100,50000)"
   ]
  },
  {
   "cell_type": "code",
   "execution_count": 138,
   "id": "211cd269-26bc-43e6-8c88-e2d6991eb8b5",
   "metadata": {},
   "outputs": [
    {
     "data": {
      "text/plain": [
       "array([52.30236749,  4.7153371 , 57.353791  , ..., 91.56486196,\n",
       "       75.74812573, 59.42054646])"
      ]
     },
     "execution_count": 138,
     "metadata": {},
     "output_type": "execute_result"
    }
   ],
   "source": [
    "ud"
   ]
  },
  {
   "cell_type": "code",
   "execution_count": 140,
   "id": "310098f5-40de-41f0-aa2c-e30934c67479",
   "metadata": {},
   "outputs": [
    {
     "data": {
      "image/png": "[encoded data removed]",
      "text/plain": [
       "<Figure size 640x480 with 1 Axes>"
      ]
     },
     "metadata": {},
     "output_type": "display_data"
    }
   ],
   "source": [
    "sns.kdeplot(ud)\n",
    "plt.show()"
   ]
  },
  {
   "cell_type": "code",
   "execution_count": 142,
   "id": "d8a05773-50df-4668-84ea-0579bd3aef22",
   "metadata": {},
   "outputs": [
    {
     "name": "stdout",
     "output_type": "stream",
     "text": [
      "['BitGenerator', 'Generator', 'MT19937', 'PCG64', 'PCG64DXSM', 'Philox', 'RandomState', 'SFC64', 'SeedSequence', '__RandomState_ctor', '__all__', '__builtins__', '__cached__', '__doc__', '__file__', '__loader__', '__name__', '__package__', '__path__', '__spec__', '_bounded_integers', '_common', '_generator', '_mt19937', '_pcg64', '_philox', '_pickle', '_sfc64', 'beta', 'binomial', 'bit_generator', 'bytes', 'chisquare', 'choice', 'default_rng', 'dirichlet', 'exponential', 'f', 'gamma', 'geometric', 'get_bit_generator', 'get_state', 'gumbel', 'hypergeometric', 'laplace', 'logistic', 'lognormal', 'logseries', 'mtrand', 'multinomial', 'multivariate_normal', 'negative_binomial', 'noncentral_chisquare', 'noncentral_f', 'normal', 'pareto', 'permutation', 'poisson', 'power', 'rand', 'randint', 'randn', 'random', 'random_integers', 'random_sample', 'ranf', 'rayleigh', 'sample', 'seed', 'set_bit_generator', 'set_state', 'shuffle', 'standard_cauchy', 'standard_exponential', 'standard_gamma', 'standard_normal', 'standard_t', 'test', 'triangular', 'uniform', 'vonmises', 'wald', 'weibull', 'zipf']\n"
     ]
    }
   ],
   "source": [
    "print(dir(np.random))"
   ]
  },
  {
   "cell_type": "markdown",
   "id": "31c1b025-8965-4476-ac90-af87ffc0b66f",
   "metadata": {},
   "source": [
    "# Arithmetic and Statistical Functions"
   ]
  },
  {
   "cell_type": "markdown",
   "id": "d10ef66d-0f1f-4816-b2c2-6c8cb117aef4",
   "metadata": {},
   "source": [
    "### sum())"
   ]
  },
  {
   "cell_type": "code",
   "execution_count": 147,
   "id": "bb92e9ac-da08-4528-9f71-634516da9467",
   "metadata": {},
   "outputs": [],
   "source": [
    "# - It returns the sum of an array."
   ]
  },
  {
   "cell_type": "code",
   "execution_count": 171,
   "id": "bcd796c4-93bf-4da3-8590-38d7a63bbbac",
   "metadata": {},
   "outputs": [],
   "source": [
    "# np.sum(x, axis=0/1)\n",
    "# x.sum(axis=0/1)"
   ]
  },
  {
   "cell_type": "code",
   "execution_count": 162,
   "id": "e957bcb0-e981-49a6-b6e3-2a24462dfeb6",
   "metadata": {},
   "outputs": [
    {
     "data": {
      "text/plain": [
       "array([[36, 56, 43, 78],\n",
       "       [48, 32, 63, 94],\n",
       "       [32, 96, 63, 84]])"
      ]
     },
     "execution_count": 162,
     "metadata": {},
     "output_type": "execute_result"
    }
   ],
   "source": [
    "np.random.seed(555)\n",
    "x=np.random.randint(10,100,size=(3,4))\n",
    "x"
   ]
  },
  {
   "cell_type": "code",
   "execution_count": 164,
   "id": "8b2a0fbb-8b6b-4fc8-91f0-db692e20c80a",
   "metadata": {},
   "outputs": [
    {
     "data": {
      "text/plain": [
       "725"
      ]
     },
     "execution_count": 164,
     "metadata": {},
     "output_type": "execute_result"
    }
   ],
   "source": [
    "np.sum(x)"
   ]
  },
  {
   "cell_type": "code",
   "execution_count": 166,
   "id": "e3ff81e5-a051-463a-bd17-043aed3901a6",
   "metadata": {},
   "outputs": [
    {
     "data": {
      "text/plain": [
       "725"
      ]
     },
     "execution_count": 166,
     "metadata": {},
     "output_type": "execute_result"
    }
   ],
   "source": [
    "x.sum()"
   ]
  },
  {
   "cell_type": "markdown",
   "id": "ac2e0726-fd3b-4a26-931e-2d0c72503549",
   "metadata": {},
   "source": [
    "### Axis"
   ]
  },
  {
   "cell_type": "code",
   "execution_count": 183,
   "id": "42bbd2f8-5d3b-4fc7-8299-5a2e371eb86e",
   "metadata": {},
   "outputs": [],
   "source": [
    "# - We use axis parameter when we want to perform row wise or column wise operation.\n",
    "# axis=0 -> row wise operation (top to bottom)\n",
    "# axis=1 -> column wise operation (left to right)"
   ]
  },
  {
   "cell_type": "code",
   "execution_count": 173,
   "id": "d1f93aa4-f8b5-4ffa-8afb-098ca7491fb2",
   "metadata": {},
   "outputs": [
    {
     "data": {
      "text/plain": [
       "array([[36, 56, 43, 78],\n",
       "       [48, 32, 63, 94],\n",
       "       [32, 96, 63, 84]])"
      ]
     },
     "execution_count": 173,
     "metadata": {},
     "output_type": "execute_result"
    }
   ],
   "source": [
    "x"
   ]
  },
  {
   "cell_type": "code",
   "execution_count": 177,
   "id": "6f099c3d-ef84-43d1-bf90-095c09b9f09c",
   "metadata": {},
   "outputs": [
    {
     "data": {
      "text/plain": [
       "array([116, 184, 169, 256])"
      ]
     },
     "execution_count": 177,
     "metadata": {},
     "output_type": "execute_result"
    }
   ],
   "source": [
    "np.sum(x, axis=0)"
   ]
  },
  {
   "cell_type": "code",
   "execution_count": 181,
   "id": "0923e422-0089-4a7c-bb77-9f605521ff21",
   "metadata": {},
   "outputs": [
    {
     "data": {
      "text/plain": [
       "(116, 184)"
      ]
     },
     "execution_count": 181,
     "metadata": {},
     "output_type": "execute_result"
    }
   ],
   "source": [
    "36+48+32, 56+32+96"
   ]
  },
  {
   "cell_type": "code",
   "execution_count": 185,
   "id": "9cbf0c11-9f00-41b9-8697-a6bbb0bc5ec4",
   "metadata": {},
   "outputs": [
    {
     "data": {
      "text/plain": [
       "array([213, 237, 275])"
      ]
     },
     "execution_count": 185,
     "metadata": {},
     "output_type": "execute_result"
    }
   ],
   "source": [
    "np.sum(x, axis=1)"
   ]
  },
  {
   "cell_type": "code",
   "execution_count": 187,
   "id": "a0359bd3-20e1-4467-9f69-b1b5cf3c8df0",
   "metadata": {},
   "outputs": [
    {
     "data": {
      "text/plain": [
       "213"
      ]
     },
     "execution_count": 187,
     "metadata": {},
     "output_type": "execute_result"
    }
   ],
   "source": [
    "36+56+43+78"
   ]
  },
  {
   "cell_type": "code",
   "execution_count": 191,
   "id": "9a8547ff-2ae9-49b9-87c0-a3bf9b66c8d8",
   "metadata": {},
   "outputs": [
    {
     "data": {
      "text/plain": [
       "array([116, 184, 169, 256])"
      ]
     },
     "execution_count": 191,
     "metadata": {},
     "output_type": "execute_result"
    }
   ],
   "source": [
    "x.sum(axis=0)"
   ]
  },
  {
   "cell_type": "code",
   "execution_count": 193,
   "id": "d16be760-9a66-47d5-a627-eea66b426213",
   "metadata": {},
   "outputs": [
    {
     "data": {
      "text/plain": [
       "array([213, 237, 275])"
      ]
     },
     "execution_count": 193,
     "metadata": {},
     "output_type": "execute_result"
    }
   ],
   "source": [
    "x.sum(axis=1)"
   ]
  },
  {
   "cell_type": "markdown",
   "id": "8954e48d-8814-433c-b97c-5f3fa54a8a36",
   "metadata": {},
   "source": [
    "### max()"
   ]
  },
  {
   "cell_type": "code",
   "execution_count": 198,
   "id": "517ada01-6712-410c-b62a-b31c4cced308",
   "metadata": {},
   "outputs": [],
   "source": [
    "# np.max(x, axis)\n",
    "# x.max(axis)"
   ]
  },
  {
   "cell_type": "code",
   "execution_count": 202,
   "id": "01e70b29-3b30-4a97-8b0a-a53dd205d952",
   "metadata": {},
   "outputs": [
    {
     "data": {
      "text/plain": [
       "array([[36, 56, 43, 78],\n",
       "       [48, 32, 63, 94],\n",
       "       [32, 96, 63, 84]])"
      ]
     },
     "execution_count": 202,
     "metadata": {},
     "output_type": "execute_result"
    }
   ],
   "source": [
    "x"
   ]
  },
  {
   "cell_type": "code",
   "execution_count": 200,
   "id": "cbc3a3fe-fb12-4955-acc7-0eb34dac092b",
   "metadata": {},
   "outputs": [
    {
     "data": {
      "text/plain": [
       "96"
      ]
     },
     "execution_count": 200,
     "metadata": {},
     "output_type": "execute_result"
    }
   ],
   "source": [
    "np.max(x)"
   ]
  },
  {
   "cell_type": "code",
   "execution_count": 204,
   "id": "90a8c0b2-b0bf-48a1-92d7-2c8f8ec2a4b9",
   "metadata": {},
   "outputs": [
    {
     "data": {
      "text/plain": [
       "96"
      ]
     },
     "execution_count": 204,
     "metadata": {},
     "output_type": "execute_result"
    }
   ],
   "source": [
    "x.max()"
   ]
  },
  {
   "cell_type": "code",
   "execution_count": 208,
   "id": "b3a43a1a-59b7-4d40-b303-158233457f52",
   "metadata": {},
   "outputs": [
    {
     "data": {
      "text/plain": [
       "array([48, 96, 63, 94])"
      ]
     },
     "execution_count": 208,
     "metadata": {},
     "output_type": "execute_result"
    }
   ],
   "source": [
    "np.max(x, axis=0)"
   ]
  },
  {
   "cell_type": "code",
   "execution_count": 210,
   "id": "090487e2-3fa6-4e61-a9f4-80ee2addb342",
   "metadata": {},
   "outputs": [
    {
     "data": {
      "text/plain": [
       "array([78, 94, 96])"
      ]
     },
     "execution_count": 210,
     "metadata": {},
     "output_type": "execute_result"
    }
   ],
   "source": [
    "np.max(x, axis=1)"
   ]
  },
  {
   "cell_type": "code",
   "execution_count": 212,
   "id": "3f1b210e-f93e-47a1-80e9-129e98f13e75",
   "metadata": {},
   "outputs": [
    {
     "data": {
      "text/plain": [
       "array([48, 96, 63, 94])"
      ]
     },
     "execution_count": 212,
     "metadata": {},
     "output_type": "execute_result"
    }
   ],
   "source": [
    "x.max(axis=0)"
   ]
  },
  {
   "cell_type": "code",
   "execution_count": 214,
   "id": "86a72bdc-331a-4ee6-81b4-0b7157e3023a",
   "metadata": {},
   "outputs": [
    {
     "data": {
      "text/plain": [
       "array([78, 94, 96])"
      ]
     },
     "execution_count": 214,
     "metadata": {},
     "output_type": "execute_result"
    }
   ],
   "source": [
    "x.max(axis=1)"
   ]
  },
  {
   "cell_type": "markdown",
   "id": "f3527d02-5230-43f6-a598-618ace3f4abe",
   "metadata": {},
   "source": [
    "### min()"
   ]
  },
  {
   "cell_type": "code",
   "execution_count": 217,
   "id": "b376b8ee-1af1-41fb-8464-61d887f3b5fa",
   "metadata": {},
   "outputs": [],
   "source": [
    "# - It returns the minimum of an array."
   ]
  },
  {
   "cell_type": "code",
   "execution_count": 219,
   "id": "c8204b60-4b8f-46f4-8623-f1e4be4d8a4a",
   "metadata": {},
   "outputs": [],
   "source": [
    "# np.min(x, axis)\n",
    "# x.min(axis)"
   ]
  },
  {
   "cell_type": "code",
   "execution_count": 221,
   "id": "833e9a67-080e-4538-932e-207de6c089e2",
   "metadata": {},
   "outputs": [
    {
     "data": {
      "text/plain": [
       "array([[36, 56, 43, 78],\n",
       "       [48, 32, 63, 94],\n",
       "       [32, 96, 63, 84]])"
      ]
     },
     "execution_count": 221,
     "metadata": {},
     "output_type": "execute_result"
    }
   ],
   "source": [
    "x"
   ]
  },
  {
   "cell_type": "code",
   "execution_count": 223,
   "id": "a3182038-fa3a-4128-b1ac-b6d36be06445",
   "metadata": {},
   "outputs": [
    {
     "data": {
      "text/plain": [
       "32"
      ]
     },
     "execution_count": 223,
     "metadata": {},
     "output_type": "execute_result"
    }
   ],
   "source": [
    "np.min(x)"
   ]
  },
  {
   "cell_type": "code",
   "execution_count": 227,
   "id": "9d015751-6508-40d2-8a6e-83242ae69bd3",
   "metadata": {},
   "outputs": [
    {
     "data": {
      "text/plain": [
       "array([32, 32, 43, 78])"
      ]
     },
     "execution_count": 227,
     "metadata": {},
     "output_type": "execute_result"
    }
   ],
   "source": [
    "np.min(x, axis=0)"
   ]
  },
  {
   "cell_type": "code",
   "execution_count": 229,
   "id": "03c0d22c-1ae2-45f8-aa26-5434b75d27bf",
   "metadata": {},
   "outputs": [
    {
     "data": {
      "text/plain": [
       "32"
      ]
     },
     "execution_count": 229,
     "metadata": {},
     "output_type": "execute_result"
    }
   ],
   "source": [
    "x.min()"
   ]
  },
  {
   "cell_type": "markdown",
   "id": "c46689a6-81c1-41bf-af1f-42b2b557e4f1",
   "metadata": {},
   "source": [
    "### mean()"
   ]
  },
  {
   "cell_type": "code",
   "execution_count": 232,
   "id": "d446b525-3d58-4b60-a9aa-9bee60adffb2",
   "metadata": {},
   "outputs": [],
   "source": [
    "# - It returns the mean (average) of an array."
   ]
  },
  {
   "cell_type": "code",
   "execution_count": 236,
   "id": "d02cda89-c924-448c-aec3-67a469eedc31",
   "metadata": {},
   "outputs": [],
   "source": [
    "# np.mean(x, axis)\n",
    "# x.mean(axis)"
   ]
  },
  {
   "cell_type": "code",
   "execution_count": 234,
   "id": "da8bb785-09d5-4c7e-9ae0-5821d1db5d29",
   "metadata": {},
   "outputs": [
    {
     "data": {
      "text/plain": [
       "array([[36, 56, 43, 78],\n",
       "       [48, 32, 63, 94],\n",
       "       [32, 96, 63, 84]])"
      ]
     },
     "execution_count": 234,
     "metadata": {},
     "output_type": "execute_result"
    }
   ],
   "source": [
    "x"
   ]
  },
  {
   "cell_type": "code",
   "execution_count": 238,
   "id": "c689d9b4-06ab-4605-8d21-4cf04686551c",
   "metadata": {},
   "outputs": [
    {
     "data": {
      "text/plain": [
       "60.416666666666664"
      ]
     },
     "execution_count": 238,
     "metadata": {},
     "output_type": "execute_result"
    }
   ],
   "source": [
    "np.mean(x)"
   ]
  },
  {
   "cell_type": "code",
   "execution_count": 240,
   "id": "26900a68-2884-4e65-b89f-954d88b51fab",
   "metadata": {},
   "outputs": [
    {
     "data": {
      "text/plain": [
       "60.416666666666664"
      ]
     },
     "execution_count": 240,
     "metadata": {},
     "output_type": "execute_result"
    }
   ],
   "source": [
    "np.sum(x)/x.size"
   ]
  },
  {
   "cell_type": "code",
   "execution_count": 242,
   "id": "bcb83f31-58f4-467b-8d9f-3d690d1fe802",
   "metadata": {},
   "outputs": [
    {
     "data": {
      "text/plain": [
       "array([38.66666667, 61.33333333, 56.33333333, 85.33333333])"
      ]
     },
     "execution_count": 242,
     "metadata": {},
     "output_type": "execute_result"
    }
   ],
   "source": [
    "np.mean(x, axis=0)"
   ]
  },
  {
   "cell_type": "code",
   "execution_count": 244,
   "id": "b79bb2ff-9550-4a59-91e4-d854a77b9dad",
   "metadata": {},
   "outputs": [
    {
     "data": {
      "text/plain": [
       "array([53.25, 59.25, 68.75])"
      ]
     },
     "execution_count": 244,
     "metadata": {},
     "output_type": "execute_result"
    }
   ],
   "source": [
    "np.mean(x, axis=1)"
   ]
  },
  {
   "cell_type": "code",
   "execution_count": 246,
   "id": "9dd4e825-44f4-4227-a9e6-316baf13a7cf",
   "metadata": {},
   "outputs": [
    {
     "data": {
      "text/plain": [
       "array([53.25, 59.25, 68.75])"
      ]
     },
     "execution_count": 246,
     "metadata": {},
     "output_type": "execute_result"
    }
   ],
   "source": [
    "x.mean(axis=1)"
   ]
  },
  {
   "cell_type": "markdown",
   "id": "ee2c1049-4e62-4f0f-8044-c71ccee40a1c",
   "metadata": {},
   "source": [
    "### median()"
   ]
  },
  {
   "cell_type": "code",
   "execution_count": 249,
   "id": "51e14ddf-3b92-4e08-9304-e12b32f05991",
   "metadata": {},
   "outputs": [],
   "source": [
    "# - It returns the median (middle value) of an array."
   ]
  },
  {
   "cell_type": "code",
   "execution_count": 251,
   "id": "c5faa22b-3a5e-4042-af9e-7b9d9d9951fc",
   "metadata": {},
   "outputs": [],
   "source": [
    "# np.median(x, axis)"
   ]
  },
  {
   "cell_type": "code",
   "execution_count": 253,
   "id": "9ecbe180-7c6e-44ac-8f60-e2445a3ff425",
   "metadata": {},
   "outputs": [
    {
     "data": {
      "text/plain": [
       "array([[36, 56, 43, 78],\n",
       "       [48, 32, 63, 94],\n",
       "       [32, 96, 63, 84]])"
      ]
     },
     "execution_count": 253,
     "metadata": {},
     "output_type": "execute_result"
    }
   ],
   "source": [
    "x"
   ]
  },
  {
   "cell_type": "code",
   "execution_count": 255,
   "id": "7ff81bac-520b-4865-b9ae-bdf6cbc7a482",
   "metadata": {},
   "outputs": [
    {
     "data": {
      "text/plain": [
       "59.5"
      ]
     },
     "execution_count": 255,
     "metadata": {},
     "output_type": "execute_result"
    }
   ],
   "source": [
    "np.median(x)"
   ]
  },
  {
   "cell_type": "code",
   "execution_count": 257,
   "id": "6ed4d6c3-aa17-4897-b26b-9a82816fdc71",
   "metadata": {},
   "outputs": [
    {
     "data": {
      "text/plain": [
       "array([36., 56., 63., 84.])"
      ]
     },
     "execution_count": 257,
     "metadata": {},
     "output_type": "execute_result"
    }
   ],
   "source": [
    "np.median(x, axis=0)"
   ]
  },
  {
   "cell_type": "code",
   "execution_count": 259,
   "id": "53a1dc39-45ec-4215-b83e-6f37773b038d",
   "metadata": {},
   "outputs": [
    {
     "data": {
      "text/plain": [
       "array([49.5, 55.5, 73.5])"
      ]
     },
     "execution_count": 259,
     "metadata": {},
     "output_type": "execute_result"
    }
   ],
   "source": [
    "np.median(x, axis=1)"
   ]
  },
  {
   "cell_type": "code",
   "execution_count": 263,
   "id": "b428639f-e8e5-46b0-a009-1b42f32c7ea5",
   "metadata": {},
   "outputs": [],
   "source": [
    "# x.median()"
   ]
  },
  {
   "cell_type": "markdown",
   "id": "82989318-31e7-46a4-bea7-318145b476d3",
   "metadata": {},
   "source": [
    "### var()"
   ]
  },
  {
   "cell_type": "code",
   "execution_count": 266,
   "id": "cad878a2-56dd-4c59-bcdb-d5db95a55cac",
   "metadata": {},
   "outputs": [],
   "source": [
    "# - It returns the variance of an array."
   ]
  },
  {
   "cell_type": "code",
   "execution_count": 268,
   "id": "29258cba-5af9-4522-b11c-7b1fcd9aff8a",
   "metadata": {},
   "outputs": [],
   "source": [
    "# np.var(x, axis)\n",
    "# x.var(axis)"
   ]
  },
  {
   "cell_type": "code",
   "execution_count": 270,
   "id": "4769fae6-7eaf-43c2-ae98-048d35e8692e",
   "metadata": {},
   "outputs": [
    {
     "data": {
      "text/plain": [
       "array([[36, 56, 43, 78],\n",
       "       [48, 32, 63, 94],\n",
       "       [32, 96, 63, 84]])"
      ]
     },
     "execution_count": 270,
     "metadata": {},
     "output_type": "execute_result"
    }
   ],
   "source": [
    "x"
   ]
  },
  {
   "cell_type": "code",
   "execution_count": 272,
   "id": "5d8de2bf-f76d-40ff-a977-dd70b90ee033",
   "metadata": {},
   "outputs": [
    {
     "data": {
      "text/plain": [
       "496.7430555555556"
      ]
     },
     "execution_count": 272,
     "metadata": {},
     "output_type": "execute_result"
    }
   ],
   "source": [
    "np.var(x)"
   ]
  },
  {
   "cell_type": "code",
   "execution_count": 274,
   "id": "06ccdf1f-ba5f-474a-8799-c7402e96b6c0",
   "metadata": {},
   "outputs": [
    {
     "data": {
      "text/plain": [
       "496.7430555555556"
      ]
     },
     "execution_count": 274,
     "metadata": {},
     "output_type": "execute_result"
    }
   ],
   "source": [
    "x.var()"
   ]
  },
  {
   "cell_type": "code",
   "execution_count": 276,
   "id": "bd8287db-69fc-4cda-ba92-fecf87421ec1",
   "metadata": {},
   "outputs": [
    {
     "data": {
      "text/plain": [
       "array([255.6875, 522.6875, 589.6875])"
      ]
     },
     "execution_count": 276,
     "metadata": {},
     "output_type": "execute_result"
    }
   ],
   "source": [
    "np.var(x, axis=1)"
   ]
  },
  {
   "cell_type": "code",
   "execution_count": 278,
   "id": "435ef083-4a6b-417d-b224-e27298f1c2de",
   "metadata": {},
   "outputs": [
    {
     "data": {
      "text/plain": [
       "array([ 46.22222222, 696.88888889,  88.88888889,  43.55555556])"
      ]
     },
     "execution_count": 278,
     "metadata": {},
     "output_type": "execute_result"
    }
   ],
   "source": [
    "np.var(x, axis=0)"
   ]
  },
  {
   "cell_type": "markdown",
   "id": "948abb27-e604-4f48-86dc-5c7136b87058",
   "metadata": {},
   "source": [
    "### std()"
   ]
  },
  {
   "cell_type": "code",
   "execution_count": 281,
   "id": "f2f0c32d-6593-4b3f-bb8d-b34d9dc2d118",
   "metadata": {},
   "outputs": [],
   "source": [
    "# np.std(x, axis)\n",
    "# x.std(axis)"
   ]
  },
  {
   "cell_type": "code",
   "execution_count": 283,
   "id": "a2283ea5-7b46-4613-b61f-9208e3d85eba",
   "metadata": {},
   "outputs": [
    {
     "data": {
      "text/plain": [
       "array([[36, 56, 43, 78],\n",
       "       [48, 32, 63, 94],\n",
       "       [32, 96, 63, 84]])"
      ]
     },
     "execution_count": 283,
     "metadata": {},
     "output_type": "execute_result"
    }
   ],
   "source": [
    "x"
   ]
  },
  {
   "cell_type": "code",
   "execution_count": 293,
   "id": "43e867b1-9de8-4ea1-b39f-e4042b4a57a0",
   "metadata": {},
   "outputs": [
    {
     "data": {
      "text/plain": [
       "22.287733297837974"
      ]
     },
     "execution_count": 293,
     "metadata": {},
     "output_type": "execute_result"
    }
   ],
   "source": [
    "np.std(x)"
   ]
  },
  {
   "cell_type": "code",
   "execution_count": 295,
   "id": "ed9bfcdd-47cb-4655-94d3-dcbbbe7a048e",
   "metadata": {},
   "outputs": [
    {
     "data": {
      "text/plain": [
       "22.287733297837974"
      ]
     },
     "execution_count": 295,
     "metadata": {},
     "output_type": "execute_result"
    }
   ],
   "source": [
    "np.sqrt(np.var(x))"
   ]
  },
  {
   "cell_type": "code",
   "execution_count": 297,
   "id": "119d0e5f-ac4b-4d87-8033-585e41b537dc",
   "metadata": {},
   "outputs": [
    {
     "data": {
      "text/plain": [
       "array([ 6.79869268, 26.39865316,  9.42809042,  6.59966329])"
      ]
     },
     "execution_count": 297,
     "metadata": {},
     "output_type": "execute_result"
    }
   ],
   "source": [
    "np.std(x, axis=0)"
   ]
  },
  {
   "cell_type": "code",
   "execution_count": 299,
   "id": "36183aa3-23b8-4065-8245-5fe6bc13980d",
   "metadata": {},
   "outputs": [
    {
     "data": {
      "text/plain": [
       "array([15.99023139, 22.8623599 , 24.28348204])"
      ]
     },
     "execution_count": 299,
     "metadata": {},
     "output_type": "execute_result"
    }
   ],
   "source": [
    "x.std(axis=1)"
   ]
  },
  {
   "cell_type": "markdown",
   "id": "6b4d4fa9-0099-452e-8505-d544632e901f",
   "metadata": {},
   "source": [
    "### percentile()"
   ]
  },
  {
   "cell_type": "code",
   "execution_count": 302,
   "id": "01dda5e9-c30f-4e97-ba38-a8501490fc05",
   "metadata": {},
   "outputs": [],
   "source": [
    "# np.percentile(x, percentile_value)"
   ]
  },
  {
   "cell_type": "code",
   "execution_count": 304,
   "id": "e579fbb9-f2b2-4a3c-ab17-cd7b7a3f2d08",
   "metadata": {},
   "outputs": [
    {
     "data": {
      "text/plain": [
       "array([[36, 56, 43, 78],\n",
       "       [48, 32, 63, 94],\n",
       "       [32, 96, 63, 84]])"
      ]
     },
     "execution_count": 304,
     "metadata": {},
     "output_type": "execute_result"
    }
   ],
   "source": [
    "x"
   ]
  },
  {
   "cell_type": "code",
   "execution_count": 306,
   "id": "0b53567b-8d4b-41f2-8cec-e40f825a5688",
   "metadata": {},
   "outputs": [
    {
     "data": {
      "text/plain": [
       "32.4"
      ]
     },
     "execution_count": 306,
     "metadata": {},
     "output_type": "execute_result"
    }
   ],
   "source": [
    "np.percentile(x, 10)"
   ]
  },
  {
   "cell_type": "code",
   "execution_count": 308,
   "id": "3731536d-68f8-489b-b81b-6c87b90b1066",
   "metadata": {},
   "outputs": [
    {
     "data": {
      "text/plain": [
       "59.5"
      ]
     },
     "execution_count": 308,
     "metadata": {},
     "output_type": "execute_result"
    }
   ],
   "source": [
    "np.percentile(x, 50)"
   ]
  },
  {
   "cell_type": "code",
   "execution_count": 310,
   "id": "12794070-a52a-48ba-8343-e00a1e7cab1c",
   "metadata": {},
   "outputs": [
    {
     "data": {
      "text/plain": [
       "59.5"
      ]
     },
     "execution_count": 310,
     "metadata": {},
     "output_type": "execute_result"
    }
   ],
   "source": [
    "np.median(x)"
   ]
  },
  {
   "cell_type": "code",
   "execution_count": 312,
   "id": "e47e9c42-80ec-44e2-bfe0-2dfc0b4438c4",
   "metadata": {},
   "outputs": [
    {
     "data": {
      "text/plain": [
       "array([32.4 , 41.25, 59.5 , 79.5 , 93.  , 94.9 , 95.78])"
      ]
     },
     "execution_count": 312,
     "metadata": {},
     "output_type": "execute_result"
    }
   ],
   "source": [
    "np.percentile(x, [10,25,50,75,90,95,99])"
   ]
  },
  {
   "cell_type": "code",
   "execution_count": 314,
   "id": "47b27296-8978-45b3-ade7-9cb29d645a4d",
   "metadata": {},
   "outputs": [
    {
     "data": {
      "text/plain": [
       "array([41.25, 59.5 , 79.5 ])"
      ]
     },
     "execution_count": 314,
     "metadata": {},
     "output_type": "execute_result"
    }
   ],
   "source": [
    "np.percentile(x, [25, 50, 75])"
   ]
  },
  {
   "cell_type": "markdown",
   "id": "1d936776-bd1f-4342-9c1c-1fcd49230117",
   "metadata": {},
   "source": [
    "### np.diagonal()"
   ]
  },
  {
   "cell_type": "code",
   "execution_count": 317,
   "id": "af4a32b2-04b1-4238-abe5-783c363398cb",
   "metadata": {},
   "outputs": [],
   "source": [
    "# - It returns the diagonal of an array."
   ]
  },
  {
   "cell_type": "code",
   "execution_count": 367,
   "id": "92c7be06-fe06-4d3b-aa55-f13241149491",
   "metadata": {},
   "outputs": [],
   "source": [
    "np.random.seed(555)\n",
    "x=np.random.randint(10,100, size=(5,5))"
   ]
  },
  {
   "cell_type": "code",
   "execution_count": 369,
   "id": "a80b46e4-112f-407c-bab7-9aa0163cd3e0",
   "metadata": {},
   "outputs": [
    {
     "data": {
      "text/plain": [
       "array([[36, 56, 43, 78, 48],\n",
       "       [32, 63, 94, 32, 96],\n",
       "       [63, 84, 95, 37, 68],\n",
       "       [14, 75, 30, 61, 87],\n",
       "       [93, 77, 29, 97, 66]])"
      ]
     },
     "execution_count": 369,
     "metadata": {},
     "output_type": "execute_result"
    }
   ],
   "source": [
    "x"
   ]
  },
  {
   "cell_type": "code",
   "execution_count": 325,
   "id": "689d5c45-df11-4aba-a9fe-2e6359cb7d7c",
   "metadata": {},
   "outputs": [
    {
     "data": {
      "text/plain": [
       "array([36, 63, 95, 61, 66])"
      ]
     },
     "execution_count": 325,
     "metadata": {},
     "output_type": "execute_result"
    }
   ],
   "source": [
    "np.diagonal(x)"
   ]
  },
  {
   "cell_type": "code",
   "execution_count": 327,
   "id": "ee67a84b-4d07-458d-b7c5-90c402cc07a5",
   "metadata": {},
   "outputs": [
    {
     "data": {
      "text/plain": [
       "array([56, 94, 37, 87])"
      ]
     },
     "execution_count": 327,
     "metadata": {},
     "output_type": "execute_result"
    }
   ],
   "source": [
    "np.diagonal(x, offset=1)"
   ]
  },
  {
   "cell_type": "code",
   "execution_count": 329,
   "id": "4817eada-f91b-4266-ab3c-7f99d11a6ef8",
   "metadata": {},
   "outputs": [
    {
     "data": {
      "text/plain": [
       "array([43, 32, 68])"
      ]
     },
     "execution_count": 329,
     "metadata": {},
     "output_type": "execute_result"
    }
   ],
   "source": [
    "np.diagonal(x, offset=2)"
   ]
  },
  {
   "cell_type": "code",
   "execution_count": 331,
   "id": "ee720d14-b289-44b2-88ce-b40c85121dff",
   "metadata": {},
   "outputs": [
    {
     "data": {
      "text/plain": [
       "array([78, 96])"
      ]
     },
     "execution_count": 331,
     "metadata": {},
     "output_type": "execute_result"
    }
   ],
   "source": [
    "np.diagonal(x, offset=3)"
   ]
  },
  {
   "cell_type": "code",
   "execution_count": 333,
   "id": "481c4ba8-4298-4fe7-9e80-fbf8af9bc2b8",
   "metadata": {},
   "outputs": [
    {
     "data": {
      "text/plain": [
       "array([48])"
      ]
     },
     "execution_count": 333,
     "metadata": {},
     "output_type": "execute_result"
    }
   ],
   "source": [
    "np.diagonal(x, offset=4)"
   ]
  },
  {
   "cell_type": "code",
   "execution_count": 335,
   "id": "b29e8767-27ce-46e4-bb1a-09f6d387c4ee",
   "metadata": {},
   "outputs": [
    {
     "data": {
      "text/plain": [
       "array([], dtype=int32)"
      ]
     },
     "execution_count": 335,
     "metadata": {},
     "output_type": "execute_result"
    }
   ],
   "source": [
    "np.diagonal(x, offset=5)"
   ]
  },
  {
   "cell_type": "code",
   "execution_count": 337,
   "id": "c37779a1-b570-4054-b1de-621bb0771670",
   "metadata": {},
   "outputs": [
    {
     "data": {
      "text/plain": [
       "array([[36, 56, 43, 78, 48],\n",
       "       [32, 63, 94, 32, 96],\n",
       "       [63, 84, 95, 37, 68],\n",
       "       [14, 75, 30, 61, 87],\n",
       "       [93, 77, 29, 97, 66]])"
      ]
     },
     "execution_count": 337,
     "metadata": {},
     "output_type": "execute_result"
    }
   ],
   "source": [
    "x"
   ]
  },
  {
   "cell_type": "code",
   "execution_count": 339,
   "id": "03399cea-8606-472a-bf59-9dc65e83320a",
   "metadata": {},
   "outputs": [
    {
     "data": {
      "text/plain": [
       "array([32, 84, 30, 97])"
      ]
     },
     "execution_count": 339,
     "metadata": {},
     "output_type": "execute_result"
    }
   ],
   "source": [
    "np.diagonal(x, offset=-1)"
   ]
  },
  {
   "cell_type": "code",
   "execution_count": 341,
   "id": "cb79c14b-0297-4b59-9545-a405eed2018f",
   "metadata": {},
   "outputs": [
    {
     "data": {
      "text/plain": [
       "array([63, 75, 29])"
      ]
     },
     "execution_count": 341,
     "metadata": {},
     "output_type": "execute_result"
    }
   ],
   "source": [
    "np.diagonal(x, offset=-2)"
   ]
  },
  {
   "cell_type": "code",
   "execution_count": 343,
   "id": "029bb4bc-1aad-4903-a4a6-868a380918e9",
   "metadata": {},
   "outputs": [
    {
     "data": {
      "text/plain": [
       "array([14, 77])"
      ]
     },
     "execution_count": 343,
     "metadata": {},
     "output_type": "execute_result"
    }
   ],
   "source": [
    "np.diagonal(x, offset=-3)"
   ]
  },
  {
   "cell_type": "code",
   "execution_count": 345,
   "id": "95308023-12f9-4e2a-b869-61d9594f5100",
   "metadata": {},
   "outputs": [
    {
     "data": {
      "text/plain": [
       "array([93])"
      ]
     },
     "execution_count": 345,
     "metadata": {},
     "output_type": "execute_result"
    }
   ],
   "source": [
    "np.diagonal(x, offset=-4)"
   ]
  },
  {
   "cell_type": "code",
   "execution_count": 347,
   "id": "a60f9834-6b03-4213-a932-fe6171f23406",
   "metadata": {},
   "outputs": [
    {
     "data": {
      "text/plain": [
       "array([], dtype=int32)"
      ]
     },
     "execution_count": 347,
     "metadata": {},
     "output_type": "execute_result"
    }
   ],
   "source": [
    "np.diagonal(x, offset=-5)"
   ]
  },
  {
   "cell_type": "markdown",
   "id": "d792be3d-3917-42e0-a756-433a9986b7fd",
   "metadata": {},
   "source": [
    "### np.diag()"
   ]
  },
  {
   "cell_type": "code",
   "execution_count": 350,
   "id": "e00fbdce-4a5d-4353-a2af-cc4b2e94463f",
   "metadata": {},
   "outputs": [],
   "source": [
    "# - It takes a 1-D array or a list as argument and returns a diagonal array."
   ]
  },
  {
   "cell_type": "code",
   "execution_count": 354,
   "id": "dedac597-3f0e-4254-a83e-debdaebdc5a7",
   "metadata": {},
   "outputs": [
    {
     "data": {
      "text/plain": [
       "array([[10,  0,  0,  0],\n",
       "       [ 0, 20,  0,  0],\n",
       "       [ 0,  0, 30,  0],\n",
       "       [ 0,  0,  0, 40]])"
      ]
     },
     "execution_count": 354,
     "metadata": {},
     "output_type": "execute_result"
    }
   ],
   "source": [
    "x=np.diag([10,20,30,40])\n",
    "x"
   ]
  },
  {
   "cell_type": "code",
   "execution_count": 356,
   "id": "6ec7a996-6f08-4551-8695-d7af02b9dbb4",
   "metadata": {},
   "outputs": [
    {
     "data": {
      "text/plain": [
       "array([[10,  0,  0,  0,  0],\n",
       "       [ 0, 20,  0,  0,  0],\n",
       "       [ 0,  0, 30,  0,  0],\n",
       "       [ 0,  0,  0, 40,  0],\n",
       "       [ 0,  0,  0,  0, 50]])"
      ]
     },
     "execution_count": 356,
     "metadata": {},
     "output_type": "execute_result"
    }
   ],
   "source": [
    "x=np.diag([10,20,30,40, 50])\n",
    "x"
   ]
  },
  {
   "cell_type": "markdown",
   "id": "b5a50b9a-e397-463e-878a-43f159904a54",
   "metadata": {},
   "source": [
    "### trace()"
   ]
  },
  {
   "cell_type": "code",
   "execution_count": 361,
   "id": "584ec3df-f956-4a66-966a-f19a022e392d",
   "metadata": {},
   "outputs": [],
   "source": [
    "# - It returns the sum of the diagonal of an array."
   ]
  },
  {
   "cell_type": "code",
   "execution_count": 363,
   "id": "ef6be091-3ef0-46c9-af88-a6a63e363baa",
   "metadata": {},
   "outputs": [],
   "source": [
    "# np.trace(x, offset)"
   ]
  },
  {
   "cell_type": "code",
   "execution_count": 371,
   "id": "e6527d99-f018-4274-a455-209efabd6f38",
   "metadata": {},
   "outputs": [
    {
     "data": {
      "text/plain": [
       "array([[36, 56, 43, 78, 48],\n",
       "       [32, 63, 94, 32, 96],\n",
       "       [63, 84, 95, 37, 68],\n",
       "       [14, 75, 30, 61, 87],\n",
       "       [93, 77, 29, 97, 66]])"
      ]
     },
     "execution_count": 371,
     "metadata": {},
     "output_type": "execute_result"
    }
   ],
   "source": [
    "x"
   ]
  },
  {
   "cell_type": "code",
   "execution_count": 373,
   "id": "58d838bd-3ea4-4c19-ac0a-c80314f72a21",
   "metadata": {},
   "outputs": [
    {
     "data": {
      "text/plain": [
       "321"
      ]
     },
     "execution_count": 373,
     "metadata": {},
     "output_type": "execute_result"
    }
   ],
   "source": [
    "np.trace(x)"
   ]
  },
  {
   "cell_type": "code",
   "execution_count": 385,
   "id": "69f42bfb-4eb0-481b-8a55-7100e5c39598",
   "metadata": {},
   "outputs": [
    {
     "data": {
      "text/plain": [
       "321"
      ]
     },
     "execution_count": 385,
     "metadata": {},
     "output_type": "execute_result"
    }
   ],
   "source": [
    "np.diagonal(x).sum()"
   ]
  },
  {
   "cell_type": "code",
   "execution_count": 379,
   "id": "258fd479-92a1-4ffa-b323-5021326110e0",
   "metadata": {},
   "outputs": [
    {
     "data": {
      "text/plain": [
       "274"
      ]
     },
     "execution_count": 379,
     "metadata": {},
     "output_type": "execute_result"
    }
   ],
   "source": [
    "np.trace(x, offset=1)"
   ]
  },
  {
   "cell_type": "code",
   "execution_count": 381,
   "id": "0f45ae85-d00e-4fbc-9058-6d23ac18307c",
   "metadata": {},
   "outputs": [
    {
     "data": {
      "text/plain": [
       "243"
      ]
     },
     "execution_count": 381,
     "metadata": {},
     "output_type": "execute_result"
    }
   ],
   "source": [
    "np.trace(x, offset=-1)"
   ]
  },
  {
   "cell_type": "markdown",
   "id": "d2de0eb7-027b-49c0-8c56-275362c0c560",
   "metadata": {},
   "source": [
    "# Linear Algebric Operations"
   ]
  },
  {
   "cell_type": "markdown",
   "id": "503a40b7-a14d-45e2-b467-3309f5863fea",
   "metadata": {},
   "source": [
    "### Dot Product"
   ]
  },
  {
   "cell_type": "code",
   "execution_count": 389,
   "id": "1209a609-cf3a-406d-8623-a8f5d8375e8d",
   "metadata": {},
   "outputs": [],
   "source": [
    "# - The number of columns in the first array should be equal to the number of rows in the second array."
   ]
  },
  {
   "cell_type": "code",
   "execution_count": 391,
   "id": "d9077e58-82cd-409a-b539-1f3a32a5a862",
   "metadata": {},
   "outputs": [],
   "source": [
    "# x.dot(y)"
   ]
  },
  {
   "cell_type": "code",
   "execution_count": 393,
   "id": "4a56aa17-c7d9-4349-853e-8398371eb864",
   "metadata": {},
   "outputs": [
    {
     "data": {
      "text/plain": [
       "array([[1, 2, 3],\n",
       "       [4, 5, 6]])"
      ]
     },
     "execution_count": 393,
     "metadata": {},
     "output_type": "execute_result"
    }
   ],
   "source": [
    "x=np.array([[1,2,3],[4,5,6]])\n",
    "x"
   ]
  },
  {
   "cell_type": "code",
   "execution_count": 395,
   "id": "63f570c9-5967-44ce-b9c8-cb428d233c83",
   "metadata": {},
   "outputs": [
    {
     "data": {
      "text/plain": [
       "array([[2, 4],\n",
       "       [1, 2],\n",
       "       [3, 2]])"
      ]
     },
     "execution_count": 395,
     "metadata": {},
     "output_type": "execute_result"
    }
   ],
   "source": [
    "y=np.array([[2,4], [1,2], [3,2]])\n",
    "y"
   ]
  },
  {
   "cell_type": "code",
   "execution_count": 397,
   "id": "abaa8420-130c-47d8-9dd5-add8b40ef34d",
   "metadata": {},
   "outputs": [
    {
     "data": {
      "text/plain": [
       "(2, 3)"
      ]
     },
     "execution_count": 397,
     "metadata": {},
     "output_type": "execute_result"
    }
   ],
   "source": [
    "x.shape"
   ]
  },
  {
   "cell_type": "code",
   "execution_count": 399,
   "id": "169bf6f5-8054-4918-bc00-2e40547cd459",
   "metadata": {},
   "outputs": [
    {
     "data": {
      "text/plain": [
       "(3, 2)"
      ]
     },
     "execution_count": 399,
     "metadata": {},
     "output_type": "execute_result"
    }
   ],
   "source": [
    "y.shape"
   ]
  },
  {
   "cell_type": "code",
   "execution_count": 401,
   "id": "4680f022-3106-4522-b358-d98a8f4aadb2",
   "metadata": {},
   "outputs": [
    {
     "data": {
      "text/plain": [
       "array([[13, 14],\n",
       "       [31, 38]])"
      ]
     },
     "execution_count": 401,
     "metadata": {},
     "output_type": "execute_result"
    }
   ],
   "source": [
    "x.dot(y)"
   ]
  },
  {
   "cell_type": "code",
   "execution_count": 405,
   "id": "e0c56c9b-b9a4-44da-82c1-03806c9b6ffb",
   "metadata": {},
   "outputs": [
    {
     "data": {
      "text/plain": [
       "array([[2, 4],\n",
       "       [1, 2]])"
      ]
     },
     "execution_count": 405,
     "metadata": {},
     "output_type": "execute_result"
    }
   ],
   "source": [
    "y=np.array([[2,4], [1,2]])\n",
    "y"
   ]
  },
  {
   "cell_type": "code",
   "execution_count": 407,
   "id": "e16fe0b8-2bbe-451c-aec1-1eb5543c8e20",
   "metadata": {},
   "outputs": [
    {
     "data": {
      "text/plain": [
       "(2, 3)"
      ]
     },
     "execution_count": 407,
     "metadata": {},
     "output_type": "execute_result"
    }
   ],
   "source": [
    "x.shape"
   ]
  },
  {
   "cell_type": "code",
   "execution_count": 409,
   "id": "f2dae724-b4fc-4903-8403-e059e9f83627",
   "metadata": {},
   "outputs": [
    {
     "data": {
      "text/plain": [
       "(2, 2)"
      ]
     },
     "execution_count": 409,
     "metadata": {},
     "output_type": "execute_result"
    }
   ],
   "source": [
    "y.shape"
   ]
  },
  {
   "cell_type": "code",
   "execution_count": 413,
   "id": "7e980b28-b094-4f66-848b-39e5ef77cf43",
   "metadata": {},
   "outputs": [],
   "source": [
    "# x.dot(y)"
   ]
  },
  {
   "cell_type": "code",
   "execution_count": 415,
   "id": "ded0ed2e-577c-4cc5-a56c-c018f8f00d63",
   "metadata": {},
   "outputs": [
    {
     "data": {
      "text/plain": [
       "(2, 2)"
      ]
     },
     "execution_count": 415,
     "metadata": {},
     "output_type": "execute_result"
    }
   ],
   "source": [
    "y.shape"
   ]
  },
  {
   "cell_type": "code",
   "execution_count": 417,
   "id": "6becfbef-76b6-40a9-bb06-46e878fda631",
   "metadata": {},
   "outputs": [
    {
     "data": {
      "text/plain": [
       "(2, 3)"
      ]
     },
     "execution_count": 417,
     "metadata": {},
     "output_type": "execute_result"
    }
   ],
   "source": [
    "x.shape"
   ]
  },
  {
   "cell_type": "code",
   "execution_count": 419,
   "id": "6cc72e2b-f6b7-4063-8324-139e21efcd83",
   "metadata": {},
   "outputs": [
    {
     "data": {
      "text/plain": [
       "array([[18, 24, 30],\n",
       "       [ 9, 12, 15]])"
      ]
     },
     "execution_count": 419,
     "metadata": {},
     "output_type": "execute_result"
    }
   ],
   "source": [
    "y.dot(x)"
   ]
  },
  {
   "cell_type": "markdown",
   "id": "1873889b-4812-440c-a61a-660a5d76ae16",
   "metadata": {},
   "source": [
    "### Determinant of an array"
   ]
  },
  {
   "cell_type": "code",
   "execution_count": 422,
   "id": "98865215-5ad0-44bb-8e3e-bbeb778168d9",
   "metadata": {},
   "outputs": [],
   "source": [
    "# np.linalg.det(x)"
   ]
  },
  {
   "cell_type": "code",
   "execution_count": 424,
   "id": "59be6332-afb6-4d44-ba5a-de552cf27981",
   "metadata": {},
   "outputs": [],
   "source": [
    "# - Determinant is calculated only of a square matrix"
   ]
  },
  {
   "cell_type": "code",
   "execution_count": 428,
   "id": "ab73fcd0-a29d-453b-877c-7283a441297e",
   "metadata": {},
   "outputs": [
    {
     "data": {
      "text/plain": [
       "array([[1, 2, 3],\n",
       "       [4, 5, 6],\n",
       "       [7, 8, 9]])"
      ]
     },
     "execution_count": 428,
     "metadata": {},
     "output_type": "execute_result"
    }
   ],
   "source": [
    "x=np.arange(1,10).reshape(3,3)\n",
    "x"
   ]
  },
  {
   "cell_type": "code",
   "execution_count": 436,
   "id": "3045f7ba-46de-4410-8a7b-071aad19cdfc",
   "metadata": {},
   "outputs": [
    {
     "data": {
      "text/plain": [
       "-9.51619735392994e-16"
      ]
     },
     "execution_count": 436,
     "metadata": {},
     "output_type": "execute_result"
    }
   ],
   "source": [
    "np.linalg.det(x)"
   ]
  },
  {
   "cell_type": "markdown",
   "id": "37cf5148-8d6c-4db3-b34a-9044e29317f9",
   "metadata": {},
   "source": [
    "### Inverse of an array"
   ]
  },
  {
   "cell_type": "code",
   "execution_count": 439,
   "id": "2c989d8a-5898-4e48-b416-57c8940074a3",
   "metadata": {},
   "outputs": [],
   "source": [
    "# np.linalg.inv(x)"
   ]
  },
  {
   "cell_type": "code",
   "execution_count": 441,
   "id": "3bad005f-ff20-4bb0-a940-c8ce6baa2d05",
   "metadata": {},
   "outputs": [],
   "source": [
    "# - Inverse is calculated only of a square matrix"
   ]
  },
  {
   "cell_type": "code",
   "execution_count": 443,
   "id": "7daed922-ca54-43a1-be1c-16fecd21e925",
   "metadata": {},
   "outputs": [
    {
     "data": {
      "text/plain": [
       "array([[1, 2, 3],\n",
       "       [4, 5, 6],\n",
       "       [7, 8, 9]])"
      ]
     },
     "execution_count": 443,
     "metadata": {},
     "output_type": "execute_result"
    }
   ],
   "source": [
    "x"
   ]
  },
  {
   "cell_type": "code",
   "execution_count": 492,
   "id": "8b76e8da-4c80-4a20-93eb-4bf9b38ef823",
   "metadata": {},
   "outputs": [
    {
     "data": {
      "text/plain": [
       "array([[ 3.15251974e+15, -6.30503948e+15,  3.15251974e+15],\n",
       "       [-6.30503948e+15,  1.26100790e+16, -6.30503948e+15],\n",
       "       [ 3.15251974e+15, -6.30503948e+15,  3.15251974e+15]])"
      ]
     },
     "execution_count": 492,
     "metadata": {},
     "output_type": "execute_result"
    }
   ],
   "source": [
    "np.linalg.inv(x)"
   ]
  },
  {
   "cell_type": "code",
   "execution_count": 451,
   "id": "d858a760-9847-46a3-874f-db0159e608f8",
   "metadata": {},
   "outputs": [
    {
     "data": {
      "text/plain": [
       "array([[ 1,  2],\n",
       "       [ 2, -2]])"
      ]
     },
     "execution_count": 451,
     "metadata": {},
     "output_type": "execute_result"
    }
   ],
   "source": [
    "A=np.array([[1,2],[2,-2]])\n",
    "A"
   ]
  },
  {
   "cell_type": "code",
   "execution_count": 453,
   "id": "d6328973-3070-408b-a875-cf17c4a537b6",
   "metadata": {},
   "outputs": [
    {
     "data": {
      "text/plain": [
       "array([[10],\n",
       "       [ 5]])"
      ]
     },
     "execution_count": 453,
     "metadata": {},
     "output_type": "execute_result"
    }
   ],
   "source": [
    "b=np.array([[10],[5]])\n",
    "b"
   ]
  },
  {
   "cell_type": "code",
   "execution_count": 457,
   "id": "7006142e-ab67-48d8-b443-d735cf44e0a8",
   "metadata": {},
   "outputs": [
    {
     "data": {
      "text/plain": [
       "array([[5. ],\n",
       "       [2.5]])"
      ]
     },
     "execution_count": 457,
     "metadata": {},
     "output_type": "execute_result"
    }
   ],
   "source": [
    "np.linalg.inv(A).dot(b)"
   ]
  },
  {
   "cell_type": "code",
   "execution_count": 468,
   "id": "43fd3412-8fe7-434d-b45a-4abec38c2c41",
   "metadata": {},
   "outputs": [],
   "source": [
    "# np.ravel()\n",
    "# np.argmax()\n",
    "# np.argmin()\n",
    "# np.where()\n",
    "# np.select()\n",
    "# np.clip()\n",
    "# Missing values in arrays\n",
    "# Typecasting (astype)\n",
    "# Iteratiing over arrays\n",
    "# Array Concatenation\n",
    "# Array Broadcasting"
   ]
  },
  {
   "cell_type": "markdown",
   "id": "c2b72227-39da-4925-9b80-2baf3a22c2e4",
   "metadata": {},
   "source": [
    "### np.ravel()"
   ]
  },
  {
   "cell_type": "code",
   "execution_count": 472,
   "id": "f3f2eee1-029f-4988-9ca0-c3ac5c04ea51",
   "metadata": {},
   "outputs": [],
   "source": [
    "# - It converts any n-D array into a 1-D array.\n",
    "# - It returns a new array. It does not make the changes in the existing array"
   ]
  },
  {
   "cell_type": "code",
   "execution_count": 474,
   "id": "82602962-f931-4c5a-8219-56e8126a331c",
   "metadata": {},
   "outputs": [
    {
     "data": {
      "text/plain": [
       "array([[1, 2, 3],\n",
       "       [4, 5, 6],\n",
       "       [7, 8, 9]])"
      ]
     },
     "execution_count": 474,
     "metadata": {},
     "output_type": "execute_result"
    }
   ],
   "source": [
    "x"
   ]
  },
  {
   "cell_type": "code",
   "execution_count": 476,
   "id": "471f5f0e-f8a5-40e6-a421-e0c8856fa751",
   "metadata": {},
   "outputs": [
    {
     "data": {
      "text/plain": [
       "array([1, 2, 3, 4, 5, 6, 7, 8, 9])"
      ]
     },
     "execution_count": 476,
     "metadata": {},
     "output_type": "execute_result"
    }
   ],
   "source": [
    "np.ravel(x)"
   ]
  },
  {
   "cell_type": "code",
   "execution_count": 478,
   "id": "7d505a89-9c8c-4cdc-9a0f-bac1a11d83af",
   "metadata": {},
   "outputs": [
    {
     "data": {
      "text/plain": [
       "array([[1, 2, 3],\n",
       "       [4, 5, 6],\n",
       "       [7, 8, 9]])"
      ]
     },
     "execution_count": 478,
     "metadata": {},
     "output_type": "execute_result"
    }
   ],
   "source": [
    "x"
   ]
  },
  {
   "cell_type": "code",
   "execution_count": 490,
   "id": "1df068c2-b5a0-4561-9884-b752120fddc0",
   "metadata": {},
   "outputs": [
    {
     "data": {
      "text/plain": [
       "array([1, 4, 7, 2, 5, 8, 3, 6, 9])"
      ]
     },
     "execution_count": 490,
     "metadata": {},
     "output_type": "execute_result"
    }
   ],
   "source": [
    "np.ravel(x, order='F')"
   ]
  },
  {
   "cell_type": "code",
   "execution_count": 484,
   "id": "d9106129-8390-4616-a673-d1ddf8146314",
   "metadata": {},
   "outputs": [],
   "source": [
    "# order='C' (default) -> It is taken from C language (Row major order)\n",
    "# order='F' -> It is taken from Fortran (Column major order)"
   ]
  },
  {
   "cell_type": "code",
   "execution_count": null,
   "id": "64eca46d-d885-4119-84c2-5e4a1e63f360",
   "metadata": {},
   "outputs": [],
   "source": []
  }
 ],
 "metadata": {
  "kernelspec": {
   "display_name": "Python 3 (ipykernel)",
   "language": "python",
   "name": "python3"
  },
  "language_info": {
   "codemirror_mode": {
    "name": "ipython",
    "version": 3
   },
   "file_extension": ".py",
   "mimetype": "text/x-python",
   "name": "python",
   "nbconvert_exporter": "python",
   "pygments_lexer": "ipython3",
   "version": "3.11.10"
  }
 },
 "nbformat": 4,
 "nbformat_minor": 5
}
