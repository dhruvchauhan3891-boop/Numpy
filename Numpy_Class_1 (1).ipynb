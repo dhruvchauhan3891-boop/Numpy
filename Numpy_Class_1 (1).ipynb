{
 "cells": [
  {
   "cell_type": "code",
   "execution_count": 1,
   "id": "20df998a-59e1-4d97-b3dc-9d374083bb0a",
   "metadata": {},
   "outputs": [],
   "source": [
    "import re"
   ]
  },
  {
   "cell_type": "code",
   "execution_count": 5,
   "id": "6a0b75a0-fbef-485b-a181-a7121345e8fe",
   "metadata": {},
   "outputs": [
    {
     "data": {
      "text/plain": [
       "['Snehal', 'Raghu', 'Maya', 'Shashi', 'Manoj', 'Sandeep', 'Gandhar', 'Baby']"
      ]
     },
     "execution_count": 5,
     "metadata": {},
     "output_type": "execute_result"
    }
   ],
   "source": [
    "textt= 'Snehal&&**#Raghu_)(*&& Maya Shashi!@# Manoj 89&&&&Sandeep 89$%#Gandhar Baby'\n",
    "\n",
    "pat=r'[^A-Za-z]+'\n",
    "\n",
    "re.split(pat,textt)   #- Why is _ getting displayed in the output here\n"
   ]
  },
  {
   "cell_type": "code",
   "execution_count": 9,
   "id": "9334dce9-4998-40be-b3ef-189efbc40632",
   "metadata": {},
   "outputs": [],
   "source": [
    "# for i in range(ord('A'), ord('z')+1):\n",
    "#     print(chr(i))"
   ]
  },
  {
   "cell_type": "markdown",
   "id": "2cd68221-2e43-4fc4-8909-75dd1a88c033",
   "metadata": {},
   "source": [
    "# Numpy"
   ]
  },
  {
   "cell_type": "code",
   "execution_count": 21,
   "id": "6fe83ad7-d270-4344-8223-e0005e7f865e",
   "metadata": {},
   "outputs": [],
   "source": [
    "# - Numpy stands for Numerical Python.\n",
    "# - It is a Python library that is used to perform advanced numerical computations on large data.\n",
    "# - Using Numpy we can perform statistical, Arithmetic, Linear Algebric, Trignometric etc. operations on large data.\n",
    "# - Using Numpy we can simulate random numbers.\n",
    "# - Numpy provides a very important and useful dta structure known as array"
   ]
  },
  {
   "cell_type": "markdown",
   "id": "0b4245ef-f00b-44ca-aded-c1c09d65bced",
   "metadata": {},
   "source": [
    "### Importing Numpy"
   ]
  },
  {
   "cell_type": "code",
   "execution_count": 27,
   "id": "5907290a-3ed0-4e03-894f-f48d2ade0430",
   "metadata": {},
   "outputs": [],
   "source": [
    "import numpy as np"
   ]
  },
  {
   "cell_type": "markdown",
   "id": "477d6afa-6966-4285-97be-5f6aef7b53c3",
   "metadata": {},
   "source": [
    "### Version"
   ]
  },
  {
   "cell_type": "code",
   "execution_count": 30,
   "id": "dd3faa71-a060-4676-ad90-0c48db82da8b",
   "metadata": {},
   "outputs": [
    {
     "data": {
      "text/plain": [
       "'1.26.4'"
      ]
     },
     "execution_count": 30,
     "metadata": {},
     "output_type": "execute_result"
    }
   ],
   "source": [
    "np.__version__"
   ]
  },
  {
   "cell_type": "code",
   "execution_count": 34,
   "id": "63a94e01-f638-487b-9ea0-6c324d56447a",
   "metadata": {},
   "outputs": [],
   "source": [
    "# !pip install --upgrade numpy"
   ]
  },
  {
   "cell_type": "markdown",
   "id": "b6136542-bb7d-426a-b43b-cbb73e3f9dc8",
   "metadata": {},
   "source": [
    "# Array"
   ]
  },
  {
   "cell_type": "code",
   "execution_count": 37,
   "id": "b0923c63-c454-4eaa-9906-854dc77f59ed",
   "metadata": {},
   "outputs": [],
   "source": [
    "# - An array is a collection of homogenous (same type) elements.\n",
    "# - Using arrays we can perform complex operations with less code.\n",
    "# - Arrays are faster than loops."
   ]
  },
  {
   "cell_type": "code",
   "execution_count": 49,
   "id": "e2b68d3f-50a1-4c5a-8519-01d6b2f68bf0",
   "metadata": {},
   "outputs": [
    {
     "name": "stdout",
     "output_type": "stream",
     "text": [
      "[1, 2, 3, 4, 5, 6, 7, 8, 9, 10]\n",
      "[5, 10, 15, 20, 25, 30, 35, 40, 45, 50]\n",
      "[5, 10, 15, 20, 25, 30, 35, 40, 45, 50]\n"
     ]
    }
   ],
   "source": [
    "lst=[i for i in range(1,11)]\n",
    "print(lst)\n",
    "\n",
    "# Multiply each number with 5\n",
    "res=[]\n",
    "for i in lst:\n",
    "    res.append(i*5)\n",
    "print(res)\n",
    "\n",
    "print(list(map(lambda x:x*5, lst)))"
   ]
  },
  {
   "cell_type": "code",
   "execution_count": 55,
   "id": "68387ca1-b51f-4adb-9b47-34f3bfc8433a",
   "metadata": {},
   "outputs": [
    {
     "data": {
      "text/plain": [
       "array([ 5, 10, 15, 20, 25, 30, 35, 40, 45, 50])"
      ]
     },
     "execution_count": 55,
     "metadata": {},
     "output_type": "execute_result"
    }
   ],
   "source": [
    "arr=np.arange(1,11)\n",
    "# Multiply each number with 5\n",
    "arr*5"
   ]
  },
  {
   "cell_type": "code",
   "execution_count": 59,
   "id": "23336ced-eec6-4c28-9b4a-88a6773c7b77",
   "metadata": {},
   "outputs": [],
   "source": [
    "import time"
   ]
  },
  {
   "cell_type": "code",
   "execution_count": 65,
   "id": "50b899d3-c076-4701-8c66-4654694ba131",
   "metadata": {},
   "outputs": [
    {
     "data": {
      "text/plain": [
       "1754319746.6603503"
      ]
     },
     "execution_count": 65,
     "metadata": {},
     "output_type": "execute_result"
    }
   ],
   "source": [
    "time.time()"
   ]
  },
  {
   "cell_type": "code",
   "execution_count": 67,
   "id": "e5ce91eb-adfb-4340-bb42-ef05782d59c4",
   "metadata": {},
   "outputs": [
    {
     "name": "stdout",
     "output_type": "stream",
     "text": [
      "5 4999995\n",
      "0.16010522842407227\n"
     ]
    }
   ],
   "source": [
    "start_time=time.time()\n",
    "lst=[i for i in range(1,1000000)]\n",
    "res=[]\n",
    "for i in lst:\n",
    "    res.append(i*5)\n",
    "\n",
    "print(res[0], res[-1])\n",
    "end_time=time.time()\n",
    "\n",
    "time_taken=end_time-start_time\n",
    "print(time_taken)"
   ]
  },
  {
   "cell_type": "code",
   "execution_count": 75,
   "id": "002a084b-5739-4207-9cf7-21e0219f2e62",
   "metadata": {},
   "outputs": [
    {
     "name": "stdout",
     "output_type": "stream",
     "text": [
      "0.002663135528564453\n"
     ]
    }
   ],
   "source": [
    "start_time=time.time()\n",
    "arr=np.arange(1,1000000)\n",
    "# Multiply each number with 5\n",
    "arr*5\n",
    "\n",
    "end_time=time.time()\n",
    "time_taken=end_time-start_time\n",
    "print(time_taken)"
   ]
  },
  {
   "cell_type": "code",
   "execution_count": 81,
   "id": "c382ccc0-d500-4d8d-a56b-d40c67974f16",
   "metadata": {},
   "outputs": [],
   "source": [
    "# print(1.1*1000)\n",
    "# print(1.001*1000)"
   ]
  },
  {
   "cell_type": "markdown",
   "id": "767d0031-ec3e-431a-95ea-aa62afea895f",
   "metadata": {},
   "source": [
    "# Creating an array"
   ]
  },
  {
   "cell_type": "code",
   "execution_count": 85,
   "id": "55ed63a7-7faa-4f00-afd6-dbfb829e3e60",
   "metadata": {},
   "outputs": [],
   "source": [
    "# np.array(list/tuple)"
   ]
  },
  {
   "cell_type": "code",
   "execution_count": 91,
   "id": "a6a0b038-fcf2-4bd6-851f-42d7e8a8a357",
   "metadata": {},
   "outputs": [
    {
     "name": "stdout",
     "output_type": "stream",
     "text": [
      "[10 20 30 40 50] <class 'numpy.ndarray'>\n"
     ]
    }
   ],
   "source": [
    "lst=[10,20,30,40,50]\n",
    "x=np.array(lst)\n",
    "print(x, type(x))"
   ]
  },
  {
   "cell_type": "code",
   "execution_count": 93,
   "id": "1b1b3951-bf99-47db-97d2-bb8913b1e46b",
   "metadata": {},
   "outputs": [
    {
     "data": {
      "text/plain": [
       "array([10, 20, 30, 40, 50])"
      ]
     },
     "execution_count": 93,
     "metadata": {},
     "output_type": "execute_result"
    }
   ],
   "source": [
    "x"
   ]
  },
  {
   "cell_type": "code",
   "execution_count": 100,
   "id": "e2f24270-1ce4-4481-aece-2edcdb125e06",
   "metadata": {},
   "outputs": [
    {
     "data": {
      "text/plain": [
       "array([10, 20, 30, 40, 50])"
      ]
     },
     "execution_count": 100,
     "metadata": {},
     "output_type": "execute_result"
    }
   ],
   "source": [
    "lst= (10,20,30,40,50)\n",
    "x=np.array(lst)\n",
    "# print(x, type(x))\n",
    "x"
   ]
  },
  {
   "cell_type": "markdown",
   "id": "2e8609fc-e381-4516-9913-b7813549805b",
   "metadata": {},
   "source": [
    "# Attributes on Arrays"
   ]
  },
  {
   "cell_type": "code",
   "execution_count": 98,
   "id": "a33dd0de-e6ad-416c-8673-07774375dc7c",
   "metadata": {},
   "outputs": [],
   "source": [
    "# - size\n",
    "# - shape\n",
    "# - dtype\n",
    "# - ndim"
   ]
  },
  {
   "cell_type": "markdown",
   "id": "9f99e13b-dbe8-4cc1-9ffe-62596a1af004",
   "metadata": {},
   "source": [
    "### size"
   ]
  },
  {
   "cell_type": "code",
   "execution_count": 103,
   "id": "2dc100e9-9b49-4c89-83af-6be20f1d70ba",
   "metadata": {},
   "outputs": [],
   "source": [
    "# - It returns the number of elements an array contains."
   ]
  },
  {
   "cell_type": "code",
   "execution_count": 105,
   "id": "59138460-062a-4bf6-8e99-c98d8c2acf62",
   "metadata": {},
   "outputs": [
    {
     "data": {
      "text/plain": [
       "array([10, 20, 30, 40, 50])"
      ]
     },
     "execution_count": 105,
     "metadata": {},
     "output_type": "execute_result"
    }
   ],
   "source": [
    "x"
   ]
  },
  {
   "cell_type": "code",
   "execution_count": 107,
   "id": "a943d05e-32bf-447c-81b9-122b05f21927",
   "metadata": {},
   "outputs": [
    {
     "data": {
      "text/plain": [
       "5"
      ]
     },
     "execution_count": 107,
     "metadata": {},
     "output_type": "execute_result"
    }
   ],
   "source": [
    "x.size"
   ]
  },
  {
   "cell_type": "code",
   "execution_count": 113,
   "id": "1a3c9367-db27-48e1-a8af-db66ceeb6e41",
   "metadata": {},
   "outputs": [
    {
     "data": {
      "text/plain": [
       "5"
      ]
     },
     "execution_count": 113,
     "metadata": {},
     "output_type": "execute_result"
    }
   ],
   "source": [
    "len(x)"
   ]
  },
  {
   "cell_type": "markdown",
   "id": "28c5b1ed-8f4f-48a7-bc8a-d12b1826b4cc",
   "metadata": {},
   "source": [
    "### shape"
   ]
  },
  {
   "cell_type": "code",
   "execution_count": 116,
   "id": "9dee949f-a4d6-4aec-b35b-ac7aa69ba570",
   "metadata": {},
   "outputs": [],
   "source": [
    "# - It returns a tuple of one or more elements.\n",
    "# - If only one element is there in the tuple the it represents the number of elements in an array.\n",
    "# - If there are two elements in the tuple thne they represent rows and columns."
   ]
  },
  {
   "cell_type": "code",
   "execution_count": 118,
   "id": "d5743c99-6459-4522-a274-e9662b86a055",
   "metadata": {},
   "outputs": [
    {
     "data": {
      "text/plain": [
       "array([10, 20, 30, 40, 50])"
      ]
     },
     "execution_count": 118,
     "metadata": {},
     "output_type": "execute_result"
    }
   ],
   "source": [
    "x"
   ]
  },
  {
   "cell_type": "code",
   "execution_count": 124,
   "id": "23132d68-1e7a-4fe7-b6ce-ae43fba7a916",
   "metadata": {},
   "outputs": [
    {
     "data": {
      "text/plain": [
       "(5,)"
      ]
     },
     "execution_count": 124,
     "metadata": {},
     "output_type": "execute_result"
    }
   ],
   "source": [
    "x.shape"
   ]
  },
  {
   "cell_type": "code",
   "execution_count": 130,
   "id": "21e4fb88-697f-4a39-ae39-e284271c1bda",
   "metadata": {},
   "outputs": [
    {
     "data": {
      "text/plain": [
       "array([[10, 20, 30],\n",
       "       [40, 50, 60]])"
      ]
     },
     "execution_count": 130,
     "metadata": {},
     "output_type": "execute_result"
    }
   ],
   "source": [
    "y=np.array([[10,20,30],[40,50,60]])\n",
    "y"
   ]
  },
  {
   "cell_type": "code",
   "execution_count": 132,
   "id": "d332e809-8a05-4653-a059-d6d918da94f0",
   "metadata": {},
   "outputs": [
    {
     "data": {
      "text/plain": [
       "(2, 3)"
      ]
     },
     "execution_count": 132,
     "metadata": {},
     "output_type": "execute_result"
    }
   ],
   "source": [
    "y.shape"
   ]
  },
  {
   "cell_type": "code",
   "execution_count": 134,
   "id": "35f3a1dc-9467-4248-a105-717330796917",
   "metadata": {},
   "outputs": [
    {
     "data": {
      "text/plain": [
       "5"
      ]
     },
     "execution_count": 134,
     "metadata": {},
     "output_type": "execute_result"
    }
   ],
   "source": [
    "len(x)"
   ]
  },
  {
   "cell_type": "code",
   "execution_count": 136,
   "id": "1fe367cb-a57b-40b3-8773-fbcc5d7f8514",
   "metadata": {},
   "outputs": [
    {
     "data": {
      "text/plain": [
       "2"
      ]
     },
     "execution_count": 136,
     "metadata": {},
     "output_type": "execute_result"
    }
   ],
   "source": [
    "len(y)"
   ]
  },
  {
   "cell_type": "code",
   "execution_count": 140,
   "id": "a85399a8-601f-4db4-ad03-3c430c851aeb",
   "metadata": {},
   "outputs": [
    {
     "data": {
      "text/plain": [
       "6"
      ]
     },
     "execution_count": 140,
     "metadata": {},
     "output_type": "execute_result"
    }
   ],
   "source": [
    "y.size"
   ]
  },
  {
   "cell_type": "markdown",
   "id": "e2095fc1-6937-4fab-8631-25b6c3151f84",
   "metadata": {},
   "source": [
    "### dtype"
   ]
  },
  {
   "cell_type": "code",
   "execution_count": 143,
   "id": "d799d26f-54b2-4e2b-a468-b18ddd34ec00",
   "metadata": {},
   "outputs": [],
   "source": [
    "# - It returns the data type of the elements that the contains."
   ]
  },
  {
   "cell_type": "code",
   "execution_count": 145,
   "id": "5e11e865-413b-498c-a2e7-5a54824b6431",
   "metadata": {},
   "outputs": [
    {
     "data": {
      "text/plain": [
       "array([10, 20, 30, 40, 50])"
      ]
     },
     "execution_count": 145,
     "metadata": {},
     "output_type": "execute_result"
    }
   ],
   "source": [
    "x"
   ]
  },
  {
   "cell_type": "code",
   "execution_count": 147,
   "id": "c1b65eef-2282-4d3e-90fd-d52ae5f1f5a6",
   "metadata": {},
   "outputs": [
    {
     "data": {
      "text/plain": [
       "dtype('int32')"
      ]
     },
     "execution_count": 147,
     "metadata": {},
     "output_type": "execute_result"
    }
   ],
   "source": [
    "x.dtype"
   ]
  },
  {
   "cell_type": "code",
   "execution_count": 149,
   "id": "0ab6cc23-6679-4018-a6db-a65cf7ce43ec",
   "metadata": {},
   "outputs": [],
   "source": [
    "x=np.array([1.5,2.6,3.4,8.2,5.5])"
   ]
  },
  {
   "cell_type": "code",
   "execution_count": 151,
   "id": "c1298f33-6cf2-48ca-91f0-353c74b91b44",
   "metadata": {},
   "outputs": [
    {
     "data": {
      "text/plain": [
       "array([1.5, 2.6, 3.4, 8.2, 5.5])"
      ]
     },
     "execution_count": 151,
     "metadata": {},
     "output_type": "execute_result"
    }
   ],
   "source": [
    "x"
   ]
  },
  {
   "cell_type": "code",
   "execution_count": 153,
   "id": "989899a8-ae0f-4689-b0ee-6f615e0f9547",
   "metadata": {},
   "outputs": [
    {
     "data": {
      "text/plain": [
       "dtype('float64')"
      ]
     },
     "execution_count": 153,
     "metadata": {},
     "output_type": "execute_result"
    }
   ],
   "source": [
    "x.dtype"
   ]
  },
  {
   "cell_type": "markdown",
   "id": "d592160f-9fdc-4529-85bb-bbfb015fbc8b",
   "metadata": {},
   "source": [
    "### ndim"
   ]
  },
  {
   "cell_type": "code",
   "execution_count": 156,
   "id": "4715d37f-0a7b-4b94-bb0e-cc26c53dedd6",
   "metadata": {},
   "outputs": [],
   "source": [
    "# - It returns the dimension of an array."
   ]
  },
  {
   "cell_type": "code",
   "execution_count": 174,
   "id": "ccaf9557-5910-4aca-a969-23fd4dfd1df3",
   "metadata": {},
   "outputs": [
    {
     "data": {
      "text/plain": [
       "array(55)"
      ]
     },
     "execution_count": 174,
     "metadata": {},
     "output_type": "execute_result"
    }
   ],
   "source": [
    "x=np.array(55)\n",
    "x"
   ]
  },
  {
   "cell_type": "code",
   "execution_count": 176,
   "id": "d9385dab-5ced-4412-842d-4c5f0285b1a3",
   "metadata": {},
   "outputs": [
    {
     "data": {
      "text/plain": [
       "0"
      ]
     },
     "execution_count": 176,
     "metadata": {},
     "output_type": "execute_result"
    }
   ],
   "source": [
    "x.ndim"
   ]
  },
  {
   "cell_type": "code",
   "execution_count": 178,
   "id": "95b8e5af-dbb7-4feb-b3a4-6b6b35a3e341",
   "metadata": {},
   "outputs": [
    {
     "data": {
      "text/plain": [
       "()"
      ]
     },
     "execution_count": 178,
     "metadata": {},
     "output_type": "execute_result"
    }
   ],
   "source": [
    "x.shape"
   ]
  },
  {
   "cell_type": "code",
   "execution_count": 180,
   "id": "261e3550-a516-431c-b327-483d54462da2",
   "metadata": {},
   "outputs": [
    {
     "data": {
      "text/plain": [
       "array([55, 44, 33, 22, 88])"
      ]
     },
     "execution_count": 180,
     "metadata": {},
     "output_type": "execute_result"
    }
   ],
   "source": [
    "x=np.array([55, 44, 33,22, 88])\n",
    "x"
   ]
  },
  {
   "cell_type": "code",
   "execution_count": 182,
   "id": "f813ab88-a68b-4574-8199-cf5206fc0ed6",
   "metadata": {},
   "outputs": [
    {
     "data": {
      "text/plain": [
       "1"
      ]
     },
     "execution_count": 182,
     "metadata": {},
     "output_type": "execute_result"
    }
   ],
   "source": [
    "x.ndim"
   ]
  },
  {
   "cell_type": "code",
   "execution_count": 184,
   "id": "6be0bd5c-14b6-49c5-83df-d09e49770356",
   "metadata": {},
   "outputs": [
    {
     "data": {
      "text/plain": [
       "(5,)"
      ]
     },
     "execution_count": 184,
     "metadata": {},
     "output_type": "execute_result"
    }
   ],
   "source": [
    "x.shape"
   ]
  },
  {
   "cell_type": "code",
   "execution_count": 186,
   "id": "80e8ed33-f49f-4c04-b22f-098e270cf256",
   "metadata": {},
   "outputs": [
    {
     "data": {
      "text/plain": [
       "array([[10, 20, 30],\n",
       "       [40, 50, 60]])"
      ]
     },
     "execution_count": 186,
     "metadata": {},
     "output_type": "execute_result"
    }
   ],
   "source": [
    "y=np.array([[10,20,30],[40,50,60]])\n",
    "y"
   ]
  },
  {
   "cell_type": "code",
   "execution_count": 190,
   "id": "c67d364c-293f-4814-a73b-da91d345ae05",
   "metadata": {},
   "outputs": [
    {
     "data": {
      "text/plain": [
       "(2, 3)"
      ]
     },
     "execution_count": 190,
     "metadata": {},
     "output_type": "execute_result"
    }
   ],
   "source": [
    "y.shape"
   ]
  },
  {
   "cell_type": "code",
   "execution_count": 188,
   "id": "2169092b-4c49-44a6-8563-78425482ac10",
   "metadata": {},
   "outputs": [
    {
     "data": {
      "text/plain": [
       "2"
      ]
     },
     "execution_count": 188,
     "metadata": {},
     "output_type": "execute_result"
    }
   ],
   "source": [
    "y.ndim"
   ]
  },
  {
   "cell_type": "markdown",
   "id": "712f0667-893e-4eb1-95cc-866a06250386",
   "metadata": {},
   "source": [
    "# Array Upcasting"
   ]
  },
  {
   "cell_type": "code",
   "execution_count": 197,
   "id": "fedada90-c3c9-497f-9e5a-4e1495b2b3db",
   "metadata": {},
   "outputs": [],
   "source": [
    "# - When we pass heterogenous elements to an array then it performs upcasting.\n",
    "# - It converts the type of teh elements into one type as per for the following hierarchy.\n",
    "\n",
    "# int -> float -> complex -> str -> object."
   ]
  },
  {
   "cell_type": "code",
   "execution_count": 201,
   "id": "ca38c95d-a43b-46c2-be55-17b4f76a241a",
   "metadata": {},
   "outputs": [
    {
     "data": {
      "text/plain": [
       "array([1, 2, 3, 4, 5, 6, 7, 8])"
      ]
     },
     "execution_count": 201,
     "metadata": {},
     "output_type": "execute_result"
    }
   ],
   "source": [
    "x=np.array([1,2,3,4,5,6,7,8])\n",
    "x"
   ]
  },
  {
   "cell_type": "code",
   "execution_count": 203,
   "id": "2b2a0a12-1c0b-4a07-8e8f-16a6ab195ff9",
   "metadata": {},
   "outputs": [
    {
     "data": {
      "text/plain": [
       "dtype('int32')"
      ]
     },
     "execution_count": 203,
     "metadata": {},
     "output_type": "execute_result"
    }
   ],
   "source": [
    "x.dtype"
   ]
  },
  {
   "cell_type": "code",
   "execution_count": 205,
   "id": "6446fd1b-8605-42da-a625-2a1a6de73ee4",
   "metadata": {},
   "outputs": [
    {
     "data": {
      "text/plain": [
       "array([1. , 2. , 3. , 4. , 5.2, 6. , 7. , 8. ])"
      ]
     },
     "execution_count": 205,
     "metadata": {},
     "output_type": "execute_result"
    }
   ],
   "source": [
    "x=np.array([1,2,3,4,5.2,6,7,8])\n",
    "x"
   ]
  },
  {
   "cell_type": "code",
   "execution_count": 207,
   "id": "1a310de9-188d-4498-984b-699f6c67fb36",
   "metadata": {},
   "outputs": [
    {
     "data": {
      "text/plain": [
       "dtype('float64')"
      ]
     },
     "execution_count": 207,
     "metadata": {},
     "output_type": "execute_result"
    }
   ],
   "source": [
    "x.dtype"
   ]
  },
  {
   "cell_type": "code",
   "execution_count": 213,
   "id": "56cc5103-88da-4b03-83d7-aedf530442e1",
   "metadata": {},
   "outputs": [
    {
     "data": {
      "text/plain": [
       "array([1. +0.j, 2. +0.j, 3.2+0.j, 4. +6.j, 5. +0.j, 6. +0.j, 7. +0.j,\n",
       "       8. +0.j])"
      ]
     },
     "execution_count": 213,
     "metadata": {},
     "output_type": "execute_result"
    }
   ],
   "source": [
    "x=np.array([1,2,3.2,4+6j,5,6,7,8])\n",
    "x"
   ]
  },
  {
   "cell_type": "code",
   "execution_count": 215,
   "id": "598df3a3-33dd-4d16-9472-c873ac8f4355",
   "metadata": {},
   "outputs": [
    {
     "data": {
      "text/plain": [
       "dtype('complex128')"
      ]
     },
     "execution_count": 215,
     "metadata": {},
     "output_type": "execute_result"
    }
   ],
   "source": [
    "x.dtype"
   ]
  },
  {
   "cell_type": "code",
   "execution_count": 217,
   "id": "4a88b419-98b0-4aaf-9f4e-1b0d5d4ea806",
   "metadata": {},
   "outputs": [
    {
     "data": {
      "text/plain": [
       "array(['1', '2', '3.2', '(4+6j)', '5', '6', '7', '8'], dtype='<U64')"
      ]
     },
     "execution_count": 217,
     "metadata": {},
     "output_type": "execute_result"
    }
   ],
   "source": [
    "x=np.array([1,2,3.2,4+6j,'5',6,7,8])\n",
    "x"
   ]
  },
  {
   "cell_type": "code",
   "execution_count": 221,
   "id": "a5b92070-3c7e-4f95-9bc9-e4b158e3aa7b",
   "metadata": {},
   "outputs": [
    {
     "data": {
      "text/plain": [
       "array([1, '2', 3.2, (4+6j), list([5, 6]), 7, 8], dtype=object)"
      ]
     },
     "execution_count": 221,
     "metadata": {},
     "output_type": "execute_result"
    }
   ],
   "source": [
    "x=np.array([1,'2',3.2,4+6j,[5,6],7,8], dtype =object)\n",
    "x"
   ]
  },
  {
   "cell_type": "code",
   "execution_count": 223,
   "id": "7b179721-6548-464f-8ba3-2599deca05e6",
   "metadata": {},
   "outputs": [
    {
     "data": {
      "text/plain": [
       "array([1, '2', 3.2, (4+6j), (5, 6), 7, 8], dtype=object)"
      ]
     },
     "execution_count": 223,
     "metadata": {},
     "output_type": "execute_result"
    }
   ],
   "source": [
    "x=np.array([1,'2',3.2,4+6j,(5,6),7,8], dtype =object)\n",
    "x"
   ]
  },
  {
   "cell_type": "markdown",
   "id": "44e191e2-2298-4697-9df9-f90d5bb081a4",
   "metadata": {},
   "source": [
    "# Creating different kind of arrays"
   ]
  },
  {
   "cell_type": "markdown",
   "id": "09b33d71-f5ac-473d-a678-23841e583cf8",
   "metadata": {},
   "source": [
    "### np.arange()"
   ]
  },
  {
   "cell_type": "code",
   "execution_count": 227,
   "id": "61f55114-1210-4f9f-9a91-678bd7c8f510",
   "metadata": {},
   "outputs": [],
   "source": [
    "# - It is similar to range() in Python.\n",
    "# - It returns a 1-D array of numbers within a range."
   ]
  },
  {
   "cell_type": "code",
   "execution_count": 245,
   "id": "091943ee-613a-492b-b07b-674c99f3508b",
   "metadata": {},
   "outputs": [],
   "source": [
    "# np.arange(start, stop, step)\n",
    "# stop is excluded\n",
    "# step is 1 by default.\n",
    "\n",
    "# We can specify a float step in arange()"
   ]
  },
  {
   "cell_type": "code",
   "execution_count": 235,
   "id": "551aa456-feba-4b85-a951-8e3c07c7a33c",
   "metadata": {},
   "outputs": [
    {
     "data": {
      "text/plain": [
       "array([ 1,  2,  3,  4,  5,  6,  7,  8,  9, 10])"
      ]
     },
     "execution_count": 235,
     "metadata": {},
     "output_type": "execute_result"
    }
   ],
   "source": [
    "x=np.arange(1,11)\n",
    "x"
   ]
  },
  {
   "cell_type": "code",
   "execution_count": 239,
   "id": "a787b5e6-b4c7-4702-944a-ed00b36da0a4",
   "metadata": {},
   "outputs": [
    {
     "data": {
      "text/plain": [
       "array([ 2,  4,  6,  8, 10, 12, 14, 16, 18, 20])"
      ]
     },
     "execution_count": 239,
     "metadata": {},
     "output_type": "execute_result"
    }
   ],
   "source": [
    "x=np.arange(2,21,2)\n",
    "x"
   ]
  },
  {
   "cell_type": "code",
   "execution_count": 243,
   "id": "e0d8707a-6291-4170-a277-2f60d3fc8675",
   "metadata": {},
   "outputs": [
    {
     "data": {
      "text/plain": [
       "array([10,  9,  8,  7,  6,  5,  4,  3,  2,  1])"
      ]
     },
     "execution_count": 243,
     "metadata": {},
     "output_type": "execute_result"
    }
   ],
   "source": [
    "# 10 to 1\n",
    "\n",
    "x=np.arange(10,0,-1)\n",
    "x"
   ]
  },
  {
   "cell_type": "code",
   "execution_count": 251,
   "id": "96cfcfdc-7535-4df8-a394-935450532278",
   "metadata": {},
   "outputs": [],
   "source": [
    "# list(range(1,10,.5))"
   ]
  },
  {
   "cell_type": "code",
   "execution_count": 255,
   "id": "9d87dd9a-3fca-4364-a60b-3ca877a50191",
   "metadata": {},
   "outputs": [
    {
     "data": {
      "text/plain": [
       "array([1. , 1.5, 2. , 2.5, 3. , 3.5, 4. , 4.5, 5. , 5.5, 6. , 6.5, 7. ,\n",
       "       7.5, 8. , 8.5, 9. , 9.5])"
      ]
     },
     "execution_count": 255,
     "metadata": {},
     "output_type": "execute_result"
    }
   ],
   "source": [
    "x=np.arange(1,10,.5)\n",
    "x"
   ]
  },
  {
   "cell_type": "markdown",
   "id": "6073f5db-dc6e-4324-a500-15799d997a70",
   "metadata": {},
   "source": [
    "### linspace()"
   ]
  },
  {
   "cell_type": "code",
   "execution_count": 258,
   "id": "52d8e78c-ddbc-4e3b-ae8a-71fbf150fc29",
   "metadata": {},
   "outputs": [],
   "source": [
    "# - It returns a 1-D array of equally spaced values."
   ]
  },
  {
   "cell_type": "code",
   "execution_count": 260,
   "id": "1385c8c4-784e-4a09-927b-07bff736d1a6",
   "metadata": {},
   "outputs": [],
   "source": [
    "# np.linspace(start, stop, number_of_elements)\n",
    "\n",
    "# start and stop both are included."
   ]
  },
  {
   "cell_type": "code",
   "execution_count": 262,
   "id": "ed459858-866a-48cb-ae8d-0bdb2b3c5fd0",
   "metadata": {},
   "outputs": [
    {
     "data": {
      "text/plain": [
       "array([ 1.  ,  3.25,  5.5 ,  7.75, 10.  ])"
      ]
     },
     "execution_count": 262,
     "metadata": {},
     "output_type": "execute_result"
    }
   ],
   "source": [
    "np.linspace(1,10,5)"
   ]
  },
  {
   "cell_type": "code",
   "execution_count": 266,
   "id": "1e933201-544d-40ef-ac39-066ea48c13e3",
   "metadata": {},
   "outputs": [],
   "source": [
    "# Arithmetic Progression\n",
    "\n",
    "# l=a+(n-1)d\n",
    "# l= last_term\n",
    "# a= first term\n",
    "# n= total numbers\n",
    "# d= common difference"
   ]
  },
  {
   "cell_type": "code",
   "execution_count": 270,
   "id": "81338582-e834-4d83-8774-ca08329d5907",
   "metadata": {},
   "outputs": [
    {
     "data": {
      "text/plain": [
       "2.25"
      ]
     },
     "execution_count": 270,
     "metadata": {},
     "output_type": "execute_result"
    }
   ],
   "source": [
    "# 10=1+(5-1)d\n",
    "# 10-1=(4)d\n",
    "d=9/4\n",
    "d"
   ]
  },
  {
   "cell_type": "code",
   "execution_count": 280,
   "id": "a22e5af8-4340-4bc0-95c7-dbb5c8d887ee",
   "metadata": {},
   "outputs": [
    {
     "data": {
      "text/plain": [
       "array([1.     , 1.00004, 1.00008, ..., 4.99992, 4.99996, 5.     ])"
      ]
     },
     "execution_count": 280,
     "metadata": {},
     "output_type": "execute_result"
    }
   ],
   "source": [
    "np.linspace(1,5,100000)"
   ]
  },
  {
   "cell_type": "markdown",
   "id": "ec568e0f-449b-414e-98df-f27c8873bfcc",
   "metadata": {},
   "source": [
    "### np.zeros()"
   ]
  },
  {
   "cell_type": "code",
   "execution_count": 283,
   "id": "84b20e6c-a139-4e57-8e6c-1b09ac2a1e29",
   "metadata": {},
   "outputs": [],
   "source": [
    "# - It creates an array of zeros of the given shape."
   ]
  },
  {
   "cell_type": "code",
   "execution_count": 285,
   "id": "aeb39690-ce12-4cbe-b65b-47d73409894f",
   "metadata": {},
   "outputs": [],
   "source": [
    "# np.zeros((rows, cols))"
   ]
  },
  {
   "cell_type": "code",
   "execution_count": 291,
   "id": "12436444-67a0-464b-8908-bb974ab194a8",
   "metadata": {},
   "outputs": [
    {
     "data": {
      "text/plain": [
       "array([[0., 0., 0., 0.],\n",
       "       [0., 0., 0., 0.],\n",
       "       [0., 0., 0., 0.]])"
      ]
     },
     "execution_count": 291,
     "metadata": {},
     "output_type": "execute_result"
    }
   ],
   "source": [
    "# Create a 3*4 array of zeros\n",
    "\n",
    "x=np.zeros((3,4))\n",
    "x"
   ]
  },
  {
   "cell_type": "code",
   "execution_count": 293,
   "id": "f9ff60bc-d9cb-4ac8-819f-81c9d79e219c",
   "metadata": {},
   "outputs": [
    {
     "data": {
      "text/plain": [
       "dtype('float64')"
      ]
     },
     "execution_count": 293,
     "metadata": {},
     "output_type": "execute_result"
    }
   ],
   "source": [
    "x.dtype"
   ]
  },
  {
   "cell_type": "code",
   "execution_count": 295,
   "id": "6e0dad2b-8615-4cee-a8ed-c0e7f63f2f5e",
   "metadata": {},
   "outputs": [
    {
     "data": {
      "text/plain": [
       "array([[0, 0, 0, 0],\n",
       "       [0, 0, 0, 0],\n",
       "       [0, 0, 0, 0]])"
      ]
     },
     "execution_count": 295,
     "metadata": {},
     "output_type": "execute_result"
    }
   ],
   "source": [
    "x=np.zeros((3,4), dtype=int)\n",
    "x"
   ]
  },
  {
   "cell_type": "code",
   "execution_count": 300,
   "id": "83d03cc2-1ddf-43e9-be32-c3c40d09bf37",
   "metadata": {},
   "outputs": [
    {
     "data": {
      "text/plain": [
       "dtype('int32')"
      ]
     },
     "execution_count": 300,
     "metadata": {},
     "output_type": "execute_result"
    }
   ],
   "source": [
    "x.dtype"
   ]
  },
  {
   "cell_type": "markdown",
   "id": "1ab84de9-aaa3-4760-938a-eb3cdb20dfb5",
   "metadata": {},
   "source": [
    "### np.ones()"
   ]
  },
  {
   "cell_type": "code",
   "execution_count": 303,
   "id": "6f9a3eb1-b712-43ff-afc2-94b2d120ccfb",
   "metadata": {},
   "outputs": [],
   "source": [
    "# - It returns an array of 1's of the given shape"
   ]
  },
  {
   "cell_type": "code",
   "execution_count": 305,
   "id": "5ba9184b-157b-43b3-b6ad-60fca5802722",
   "metadata": {},
   "outputs": [],
   "source": [
    "# np.ones((rows, cols))"
   ]
  },
  {
   "cell_type": "code",
   "execution_count": 309,
   "id": "050fb12a-372d-456a-aa50-7d349aded4d7",
   "metadata": {},
   "outputs": [
    {
     "data": {
      "text/plain": [
       "array([[1., 1., 1., 1.],\n",
       "       [1., 1., 1., 1.],\n",
       "       [1., 1., 1., 1.]])"
      ]
     },
     "execution_count": 309,
     "metadata": {},
     "output_type": "execute_result"
    }
   ],
   "source": [
    "x=np.ones((3,4))\n",
    "x"
   ]
  },
  {
   "cell_type": "code",
   "execution_count": 311,
   "id": "ef67ffb1-d7f4-4f10-ac58-5e97929fb6df",
   "metadata": {},
   "outputs": [
    {
     "data": {
      "text/plain": [
       "dtype('float64')"
      ]
     },
     "execution_count": 311,
     "metadata": {},
     "output_type": "execute_result"
    }
   ],
   "source": [
    "x.dtype"
   ]
  },
  {
   "cell_type": "code",
   "execution_count": 313,
   "id": "37dd9665-f7de-49b6-8bd6-7b66ca485ff3",
   "metadata": {},
   "outputs": [
    {
     "data": {
      "text/plain": [
       "array([[1, 1, 1, 1],\n",
       "       [1, 1, 1, 1],\n",
       "       [1, 1, 1, 1]])"
      ]
     },
     "execution_count": 313,
     "metadata": {},
     "output_type": "execute_result"
    }
   ],
   "source": [
    "x=np.ones((3,4), dtype=int)\n",
    "x"
   ]
  },
  {
   "cell_type": "markdown",
   "id": "1e917d14-6f74-45cb-ac0c-e1940ec3da19",
   "metadata": {},
   "source": [
    "### np.eye()"
   ]
  },
  {
   "cell_type": "code",
   "execution_count": 316,
   "id": "b5ce4f6d-3e6b-4976-9daf-aaf04b2e02ea",
   "metadata": {},
   "outputs": [],
   "source": [
    "# - It returns an identity matrix."
   ]
  },
  {
   "cell_type": "code",
   "execution_count": 318,
   "id": "b25bd3f4-57e8-4b6c-823b-62af0db4894a",
   "metadata": {},
   "outputs": [],
   "source": [
    "# np.eye(rows,cols)"
   ]
  },
  {
   "cell_type": "code",
   "execution_count": 322,
   "id": "5dd6fad1-fd7c-4117-b89b-880df8323ae8",
   "metadata": {},
   "outputs": [
    {
     "data": {
      "text/plain": [
       "array([[1., 0., 0.],\n",
       "       [0., 1., 0.],\n",
       "       [0., 0., 1.]])"
      ]
     },
     "execution_count": 322,
     "metadata": {},
     "output_type": "execute_result"
    }
   ],
   "source": [
    "# Craete a 3*3 identity matrix\n",
    "\n",
    "x=np.eye(3,3)\n",
    "x"
   ]
  },
  {
   "cell_type": "code",
   "execution_count": 324,
   "id": "1bd8959c-5c15-4eda-a53e-cb8c562295df",
   "metadata": {},
   "outputs": [
    {
     "data": {
      "text/plain": [
       "dtype('float64')"
      ]
     },
     "execution_count": 324,
     "metadata": {},
     "output_type": "execute_result"
    }
   ],
   "source": [
    "x.dtype"
   ]
  },
  {
   "cell_type": "code",
   "execution_count": 326,
   "id": "1214586c-94b0-4f61-b6d1-24bd278a1008",
   "metadata": {},
   "outputs": [
    {
     "data": {
      "text/plain": [
       "array([[1, 0, 0],\n",
       "       [0, 1, 0],\n",
       "       [0, 0, 1]])"
      ]
     },
     "execution_count": 326,
     "metadata": {},
     "output_type": "execute_result"
    }
   ],
   "source": [
    "x=np.eye(3,3, dtype=int)\n",
    "x"
   ]
  },
  {
   "cell_type": "code",
   "execution_count": 328,
   "id": "e097620b-625d-4b48-af7e-004e7ac8741c",
   "metadata": {},
   "outputs": [
    {
     "data": {
      "text/plain": [
       "array([[1., 0., 0., 0.],\n",
       "       [0., 1., 0., 0.],\n",
       "       [0., 0., 1., 0.]])"
      ]
     },
     "execution_count": 328,
     "metadata": {},
     "output_type": "execute_result"
    }
   ],
   "source": [
    "x=np.eye(3,4)\n",
    "x"
   ]
  },
  {
   "cell_type": "markdown",
   "id": "5d762d8d-88c2-4306-b64e-95d61352fd2e",
   "metadata": {},
   "source": [
    "### np.full()"
   ]
  },
  {
   "cell_type": "code",
   "execution_count": 331,
   "id": "505c1c9a-6460-46c2-873a-e58158f331d5",
   "metadata": {},
   "outputs": [],
   "source": [
    "# - It returns an array of the given shape and the given value."
   ]
  },
  {
   "cell_type": "code",
   "execution_count": 333,
   "id": "6e643658-503a-4ba2-81df-06b3c6775ec2",
   "metadata": {},
   "outputs": [],
   "source": [
    "# np.full((rows, cols), value)"
   ]
  },
  {
   "cell_type": "code",
   "execution_count": 335,
   "id": "540ff3bd-0381-49cc-b6d8-d5413a9de602",
   "metadata": {},
   "outputs": [],
   "source": [
    "# Create a 3*4 array where all the values are 2.5"
   ]
  },
  {
   "cell_type": "code",
   "execution_count": 345,
   "id": "d259900e-6a97-46cc-9281-1e2f9327f399",
   "metadata": {},
   "outputs": [
    {
     "data": {
      "text/plain": [
       "array([[2.5, 2.5, 2.5, 2.5],\n",
       "       [2.5, 2.5, 2.5, 2.5],\n",
       "       [2.5, 2.5, 2.5, 2.5]])"
      ]
     },
     "execution_count": 345,
     "metadata": {},
     "output_type": "execute_result"
    }
   ],
   "source": [
    "x=np.full((3,4),2.5)\n",
    "x"
   ]
  },
  {
   "cell_type": "code",
   "execution_count": 349,
   "id": "55695ce8-dfaa-4a25-9742-95d0cd973fa7",
   "metadata": {},
   "outputs": [
    {
     "data": {
      "text/plain": [
       "array([[2.5, 2.5, 2.5, 2.5],\n",
       "       [2.5, 2.5, 2.5, 2.5],\n",
       "       [2.5, 2.5, 2.5, 2.5]])"
      ]
     },
     "execution_count": 349,
     "metadata": {},
     "output_type": "execute_result"
    }
   ],
   "source": [
    "np.zeros((3,4))+2.5"
   ]
  },
  {
   "cell_type": "code",
   "execution_count": 353,
   "id": "10618501-db6e-4c15-b52e-968663a81ffd",
   "metadata": {},
   "outputs": [
    {
     "data": {
      "text/plain": [
       "array([[2.5, 2.5, 2.5, 2.5],\n",
       "       [2.5, 2.5, 2.5, 2.5],\n",
       "       [2.5, 2.5, 2.5, 2.5]])"
      ]
     },
     "execution_count": 353,
     "metadata": {},
     "output_type": "execute_result"
    }
   ],
   "source": [
    "np.ones((3,4))*2.5"
   ]
  },
  {
   "cell_type": "markdown",
   "id": "a47ec757-3628-4112-98ae-aa8957d606ca",
   "metadata": {},
   "source": [
    "### np.zeros_like()"
   ]
  },
  {
   "cell_type": "code",
   "execution_count": 356,
   "id": "da5dfb3e-66c3-464d-af60-57fbd5a85bd6",
   "metadata": {},
   "outputs": [],
   "source": [
    "# - It takes an array as argument.\n",
    "# - It returns an array of 0's of the shape of the given array."
   ]
  },
  {
   "cell_type": "code",
   "execution_count": 358,
   "id": "14f9a369-9dfa-4f9c-be1c-4c415304d1b2",
   "metadata": {},
   "outputs": [],
   "source": [
    "# np.zeros_like(arr)"
   ]
  },
  {
   "cell_type": "code",
   "execution_count": 364,
   "id": "3f4e8693-4411-4214-b47b-8d5a825da2a4",
   "metadata": {},
   "outputs": [
    {
     "data": {
      "text/plain": [
       "array([[1, 2, 3],\n",
       "       [4, 5, 6],\n",
       "       [7, 8, 9],\n",
       "       [5, 6, 7],\n",
       "       [5, 6, 4]])"
      ]
     },
     "execution_count": 364,
     "metadata": {},
     "output_type": "execute_result"
    }
   ],
   "source": [
    "arr=np.array([[1,2,3],[4,5,6],[7,8,9],[5,6,7],[5,6,4]])\n",
    "arr"
   ]
  },
  {
   "cell_type": "code",
   "execution_count": 366,
   "id": "d24f5bca-ceb3-4415-a085-95bd94db871e",
   "metadata": {},
   "outputs": [
    {
     "data": {
      "text/plain": [
       "(5, 3)"
      ]
     },
     "execution_count": 366,
     "metadata": {},
     "output_type": "execute_result"
    }
   ],
   "source": [
    "arr.shape"
   ]
  },
  {
   "cell_type": "code",
   "execution_count": 368,
   "id": "00330e66-8c42-446f-8b40-999c337d22aa",
   "metadata": {},
   "outputs": [
    {
     "data": {
      "text/plain": [
       "array([[0, 0, 0],\n",
       "       [0, 0, 0],\n",
       "       [0, 0, 0],\n",
       "       [0, 0, 0],\n",
       "       [0, 0, 0]])"
      ]
     },
     "execution_count": 368,
     "metadata": {},
     "output_type": "execute_result"
    }
   ],
   "source": [
    "np.zeros_like(arr)"
   ]
  },
  {
   "cell_type": "code",
   "execution_count": 370,
   "id": "fcd457a6-8214-4987-aa3f-7e5c8bfaf7d2",
   "metadata": {},
   "outputs": [
    {
     "data": {
      "text/plain": [
       "array([[1, 2, 3],\n",
       "       [4, 5, 6],\n",
       "       [7, 8, 9],\n",
       "       [5, 6, 7],\n",
       "       [5, 6, 4]])"
      ]
     },
     "execution_count": 370,
     "metadata": {},
     "output_type": "execute_result"
    }
   ],
   "source": [
    "arr"
   ]
  },
  {
   "cell_type": "code",
   "execution_count": 372,
   "id": "d0bfe16f-f656-4348-a409-b20d4dc52797",
   "metadata": {},
   "outputs": [
    {
     "data": {
      "text/plain": [
       "array([[0, 0, 0],\n",
       "       [0, 0, 0],\n",
       "       [0, 0, 0],\n",
       "       [0, 0, 0],\n",
       "       [0, 0, 0]])"
      ]
     },
     "execution_count": 372,
     "metadata": {},
     "output_type": "execute_result"
    }
   ],
   "source": [
    "arr*0"
   ]
  },
  {
   "cell_type": "code",
   "execution_count": 374,
   "id": "018024ee-67aa-431e-ae5a-94a3c5c3f108",
   "metadata": {},
   "outputs": [
    {
     "data": {
      "text/plain": [
       "array([[1, 2, 3],\n",
       "       [4, 5, 6],\n",
       "       [7, 8, 9],\n",
       "       [5, 6, 7],\n",
       "       [5, 6, 4]])"
      ]
     },
     "execution_count": 374,
     "metadata": {},
     "output_type": "execute_result"
    }
   ],
   "source": [
    "arr"
   ]
  },
  {
   "cell_type": "markdown",
   "id": "045ca828-5bf4-475f-8a8f-c3eaadb13086",
   "metadata": {},
   "source": [
    "### np.ones_like()"
   ]
  },
  {
   "cell_type": "code",
   "execution_count": 377,
   "id": "96036b32-b144-451d-a49b-1be2ac5ef543",
   "metadata": {},
   "outputs": [],
   "source": [
    "# - It takes an array as argument.\n",
    "# - It returns an array of 1's of the shape of the given array."
   ]
  },
  {
   "cell_type": "code",
   "execution_count": 379,
   "id": "b9b017a0-73b2-4442-9479-9581c03b28c6",
   "metadata": {},
   "outputs": [
    {
     "data": {
      "text/plain": [
       "array([[1, 2, 3],\n",
       "       [4, 5, 6],\n",
       "       [7, 8, 9],\n",
       "       [5, 6, 7],\n",
       "       [5, 6, 4]])"
      ]
     },
     "execution_count": 379,
     "metadata": {},
     "output_type": "execute_result"
    }
   ],
   "source": [
    "arr"
   ]
  },
  {
   "cell_type": "code",
   "execution_count": 381,
   "id": "c52ade2c-3e5e-4d9c-af42-f9774ae6dfaf",
   "metadata": {},
   "outputs": [
    {
     "data": {
      "text/plain": [
       "array([[1, 1, 1],\n",
       "       [1, 1, 1],\n",
       "       [1, 1, 1],\n",
       "       [1, 1, 1],\n",
       "       [1, 1, 1]])"
      ]
     },
     "execution_count": 381,
     "metadata": {},
     "output_type": "execute_result"
    }
   ],
   "source": [
    "np.ones_like(arr)"
   ]
  },
  {
   "cell_type": "markdown",
   "id": "a0475afe-0a83-490f-8e66-6a6799902b54",
   "metadata": {},
   "source": [
    "### np.full_like()"
   ]
  },
  {
   "cell_type": "code",
   "execution_count": 384,
   "id": "2976b57c-3735-4dec-a90f-cdedec7e88c4",
   "metadata": {},
   "outputs": [],
   "source": [
    "# - It takes an array and a value as arguments.\n",
    "# - It returns an array of the shape of the given array filled with the given value."
   ]
  },
  {
   "cell_type": "code",
   "execution_count": 386,
   "id": "9ab1673d-0690-4641-a079-2f86ace1cbae",
   "metadata": {},
   "outputs": [],
   "source": [
    "# np.full_like(arr)"
   ]
  },
  {
   "cell_type": "code",
   "execution_count": 388,
   "id": "7fd5d9c6-2417-4ea2-af6f-3da09d61be6a",
   "metadata": {},
   "outputs": [
    {
     "data": {
      "text/plain": [
       "array([[1, 2, 3],\n",
       "       [4, 5, 6],\n",
       "       [7, 8, 9],\n",
       "       [5, 6, 7],\n",
       "       [5, 6, 4]])"
      ]
     },
     "execution_count": 388,
     "metadata": {},
     "output_type": "execute_result"
    }
   ],
   "source": [
    "arr"
   ]
  },
  {
   "cell_type": "code",
   "execution_count": 390,
   "id": "9dff4f84-5896-49db-8bdb-1e22640015b0",
   "metadata": {},
   "outputs": [
    {
     "data": {
      "text/plain": [
       "array([[55, 55, 55],\n",
       "       [55, 55, 55],\n",
       "       [55, 55, 55],\n",
       "       [55, 55, 55],\n",
       "       [55, 55, 55]])"
      ]
     },
     "execution_count": 390,
     "metadata": {},
     "output_type": "execute_result"
    }
   ],
   "source": [
    "np.full_like(arr, 55)"
   ]
  },
  {
   "cell_type": "code",
   "execution_count": 394,
   "id": "719b2c40-7fd0-4c9b-b80b-b63dc0674f1b",
   "metadata": {},
   "outputs": [
    {
     "data": {
      "text/plain": [
       "array([[2.5, 2.5, 2.5],\n",
       "       [2.5, 2.5, 2.5],\n",
       "       [2.5, 2.5, 2.5],\n",
       "       [2.5, 2.5, 2.5],\n",
       "       [2.5, 2.5, 2.5]])"
      ]
     },
     "execution_count": 394,
     "metadata": {},
     "output_type": "execute_result"
    }
   ],
   "source": [
    "np.full_like(arr, 2.5, dtype=float)"
   ]
  },
  {
   "cell_type": "code",
   "execution_count": 408,
   "id": "c097e7d3-e3b7-45ce-ad27-9932558d092c",
   "metadata": {},
   "outputs": [
    {
     "data": {
      "text/plain": [
       "array([['a', 'a', 'a'],\n",
       "       ['a', 'a', 'a'],\n",
       "       ['a', 'a', 'a'],\n",
       "       ['a', 'a', 'a'],\n",
       "       ['a', 'a', 'a']], dtype='<U1')"
      ]
     },
     "execution_count": 408,
     "metadata": {},
     "output_type": "execute_result"
    }
   ],
   "source": [
    "np.full_like(arr, 'a', dtype=str)"
   ]
  },
  {
   "cell_type": "code",
   "execution_count": 398,
   "id": "e77c6186-16a0-4d01-8110-2e939fe05273",
   "metadata": {},
   "outputs": [
    {
     "ename": "ValueError",
     "evalue": "invalid literal for int() with base 10: 'a'",
     "output_type": "error",
     "traceback": [
      "\u001b[1;31m---------------------------------------------------------------------------\u001b[0m",
      "\u001b[1;31mValueError\u001b[0m                                Traceback (most recent call last)",
      "Cell \u001b[1;32mIn[398], line 1\u001b[0m\n\u001b[1;32m----> 1\u001b[0m \u001b[38;5;28mint\u001b[39m(\u001b[38;5;124m'\u001b[39m\u001b[38;5;124ma\u001b[39m\u001b[38;5;124m'\u001b[39m)\n",
      "\u001b[1;31mValueError\u001b[0m: invalid literal for int() with base 10: 'a'"
     ]
    }
   ],
   "source": [
    "int('a')"
   ]
  },
  {
   "cell_type": "markdown",
   "id": "7b945b9d-f9b9-4d36-be91-842190746079",
   "metadata": {},
   "source": [
    "# Creating 2-D array"
   ]
  },
  {
   "cell_type": "markdown",
   "id": "c484e578-0b82-4c85-ad91-30bb67aa42a1",
   "metadata": {},
   "source": [
    "### By using a 2-D list"
   ]
  },
  {
   "cell_type": "code",
   "execution_count": 413,
   "id": "4a7e1f56-ad70-4898-8ac7-f9e18861dc9e",
   "metadata": {},
   "outputs": [
    {
     "data": {
      "text/plain": [
       "[[10, 20, 30], [40, 50, 60]]"
      ]
     },
     "execution_count": 413,
     "metadata": {},
     "output_type": "execute_result"
    }
   ],
   "source": [
    "lst=[[10,20,30],[40,50,60]]\n",
    "lst"
   ]
  },
  {
   "cell_type": "code",
   "execution_count": 417,
   "id": "b1505ad4-dfed-4b3b-b61b-988b87b674a6",
   "metadata": {},
   "outputs": [
    {
     "data": {
      "text/plain": [
       "array([[10, 20, 30],\n",
       "       [40, 50, 60]])"
      ]
     },
     "execution_count": 417,
     "metadata": {},
     "output_type": "execute_result"
    }
   ],
   "source": [
    "x=np.array(lst)\n",
    "x"
   ]
  },
  {
   "cell_type": "code",
   "execution_count": 419,
   "id": "67dd97f4-f9dc-47a8-8c6a-de1b9f49dd18",
   "metadata": {},
   "outputs": [
    {
     "data": {
      "text/plain": [
       "(2, 3)"
      ]
     },
     "execution_count": 419,
     "metadata": {},
     "output_type": "execute_result"
    }
   ],
   "source": [
    "x.shape"
   ]
  },
  {
   "cell_type": "code",
   "execution_count": 421,
   "id": "cd131f7a-24da-4eb3-8a19-0db466facd83",
   "metadata": {},
   "outputs": [
    {
     "data": {
      "text/plain": [
       "2"
      ]
     },
     "execution_count": 421,
     "metadata": {},
     "output_type": "execute_result"
    }
   ],
   "source": [
    "x.ndim"
   ]
  },
  {
   "cell_type": "code",
   "execution_count": 423,
   "id": "e8b6a357-eb39-4864-b148-a91359cbabe3",
   "metadata": {},
   "outputs": [
    {
     "data": {
      "text/plain": [
       "6"
      ]
     },
     "execution_count": 423,
     "metadata": {},
     "output_type": "execute_result"
    }
   ],
   "source": [
    "x.size"
   ]
  },
  {
   "cell_type": "code",
   "execution_count": 425,
   "id": "2a3cd3cd-2556-41d7-b086-c005b781c30d",
   "metadata": {},
   "outputs": [
    {
     "data": {
      "text/plain": [
       "2"
      ]
     },
     "execution_count": 425,
     "metadata": {},
     "output_type": "execute_result"
    }
   ],
   "source": [
    "len(x)"
   ]
  },
  {
   "cell_type": "code",
   "execution_count": 447,
   "id": "7e0eba55-549c-4ee4-94be-dafb37de8004",
   "metadata": {},
   "outputs": [
    {
     "data": {
      "text/plain": [
       "[[10, 20, 30], [40, 50, 60, 80]]"
      ]
     },
     "execution_count": 447,
     "metadata": {},
     "output_type": "execute_result"
    }
   ],
   "source": [
    "lst=[[10,20,30],[40,50,60,80]]\n",
    "lst"
   ]
  },
  {
   "cell_type": "code",
   "execution_count": 451,
   "id": "5f059a89-5a7a-4021-9676-8cc1ec4f7451",
   "metadata": {},
   "outputs": [
    {
     "data": {
      "text/plain": [
       "array([list([10, 20, 30]), list([40, 50, 60, 80])], dtype=object)"
      ]
     },
     "execution_count": 451,
     "metadata": {},
     "output_type": "execute_result"
    }
   ],
   "source": [
    "np.array(lst, dtype=object)"
   ]
  },
  {
   "cell_type": "markdown",
   "id": "17a6f5a4-a3c9-486c-b56b-6389b5cf440a",
   "metadata": {},
   "source": [
    "### By using reshape() or shape"
   ]
  },
  {
   "cell_type": "markdown",
   "id": "cc7ee4a8-d196-4f08-86fa-07c6a15aef85",
   "metadata": {},
   "source": [
    "### reshape()"
   ]
  },
  {
   "cell_type": "code",
   "execution_count": 430,
   "id": "fd1e408c-72b6-4589-a2ae-ff208e6bc1a7",
   "metadata": {},
   "outputs": [],
   "source": [
    "# - It returns a new array after reshaping"
   ]
  },
  {
   "cell_type": "code",
   "execution_count": 455,
   "id": "e15b5558-50ee-4109-a428-79585309408b",
   "metadata": {},
   "outputs": [
    {
     "data": {
      "text/plain": [
       "array([ 0,  1,  2,  3,  4,  5,  6,  7,  8,  9, 10, 11])"
      ]
     },
     "execution_count": 455,
     "metadata": {},
     "output_type": "execute_result"
    }
   ],
   "source": [
    "x=np.arange(12)\n",
    "x"
   ]
  },
  {
   "cell_type": "code",
   "execution_count": 453,
   "id": "76e06d70-f9b9-43e4-8929-64ca814096fb",
   "metadata": {},
   "outputs": [],
   "source": [
    "# arr.reshape(rows, cols)"
   ]
  },
  {
   "cell_type": "code",
   "execution_count": 457,
   "id": "28b0a4a0-cba2-4b31-b340-4c9d44ba88f0",
   "metadata": {},
   "outputs": [
    {
     "data": {
      "text/plain": [
       "array([[ 0,  1,  2,  3],\n",
       "       [ 4,  5,  6,  7],\n",
       "       [ 8,  9, 10, 11]])"
      ]
     },
     "execution_count": 457,
     "metadata": {},
     "output_type": "execute_result"
    }
   ],
   "source": [
    "x.reshape(3,4)"
   ]
  },
  {
   "cell_type": "code",
   "execution_count": 459,
   "id": "b74e8881-9b0d-4c77-ac15-c82092cdbacb",
   "metadata": {},
   "outputs": [
    {
     "data": {
      "text/plain": [
       "array([ 0,  1,  2,  3,  4,  5,  6,  7,  8,  9, 10, 11])"
      ]
     },
     "execution_count": 459,
     "metadata": {},
     "output_type": "execute_result"
    }
   ],
   "source": [
    "x"
   ]
  },
  {
   "cell_type": "code",
   "execution_count": 461,
   "id": "e4830f38-98e9-4841-9339-9c24a8ff5a91",
   "metadata": {},
   "outputs": [
    {
     "data": {
      "text/plain": [
       "array([ 0,  1,  2,  3,  4,  5,  6,  7,  8,  9, 10, 11])"
      ]
     },
     "execution_count": 461,
     "metadata": {},
     "output_type": "execute_result"
    }
   ],
   "source": [
    "x"
   ]
  },
  {
   "cell_type": "code",
   "execution_count": 463,
   "id": "0a30a504-f9cb-475c-8398-42a3deec2824",
   "metadata": {},
   "outputs": [
    {
     "ename": "ValueError",
     "evalue": "cannot reshape array of size 12 into shape (3,5)",
     "output_type": "error",
     "traceback": [
      "\u001b[1;31m---------------------------------------------------------------------------\u001b[0m",
      "\u001b[1;31mValueError\u001b[0m                                Traceback (most recent call last)",
      "Cell \u001b[1;32mIn[463], line 1\u001b[0m\n\u001b[1;32m----> 1\u001b[0m x\u001b[38;5;241m.\u001b[39mreshape(\u001b[38;5;241m3\u001b[39m,\u001b[38;5;241m5\u001b[39m)\n",
      "\u001b[1;31mValueError\u001b[0m: cannot reshape array of size 12 into shape (3,5)"
     ]
    }
   ],
   "source": [
    "x.reshape(3,5)"
   ]
  },
  {
   "cell_type": "code",
   "execution_count": 467,
   "id": "4472b986-f3b3-43e5-8e44-92d6a5e2fd40",
   "metadata": {},
   "outputs": [
    {
     "data": {
      "text/plain": [
       "array([ 1,  2,  3,  4,  5,  6,  7,  8,  9, 10, 11, 12, 13, 14, 15])"
      ]
     },
     "execution_count": 467,
     "metadata": {},
     "output_type": "execute_result"
    }
   ],
   "source": [
    "# Create a 3*5 array of numbers from 1 to 15\n",
    "\n",
    "x=np.arange(1,16)\n",
    "x"
   ]
  },
  {
   "cell_type": "code",
   "execution_count": 471,
   "id": "e97f2ea6-dbbc-4df3-a8fa-901e89801c5e",
   "metadata": {},
   "outputs": [],
   "source": [
    "y=x.reshape(3,5)"
   ]
  },
  {
   "cell_type": "code",
   "execution_count": 473,
   "id": "dd796504-f9e6-47df-bd02-8be096f4e69e",
   "metadata": {},
   "outputs": [
    {
     "data": {
      "text/plain": [
       "array([[ 1,  2,  3,  4,  5],\n",
       "       [ 6,  7,  8,  9, 10],\n",
       "       [11, 12, 13, 14, 15]])"
      ]
     },
     "execution_count": 473,
     "metadata": {},
     "output_type": "execute_result"
    }
   ],
   "source": [
    "y"
   ]
  },
  {
   "cell_type": "code",
   "execution_count": 475,
   "id": "c2e043c4-5a01-42ec-a9e7-81f47fbaeaaf",
   "metadata": {},
   "outputs": [],
   "source": [
    "x=np.arange(1,16).reshape(3,5)"
   ]
  },
  {
   "cell_type": "code",
   "execution_count": 477,
   "id": "0db9358d-079e-4a7f-a76c-26dcd18876ce",
   "metadata": {},
   "outputs": [
    {
     "data": {
      "text/plain": [
       "array([[ 1,  2,  3,  4,  5],\n",
       "       [ 6,  7,  8,  9, 10],\n",
       "       [11, 12, 13, 14, 15]])"
      ]
     },
     "execution_count": 477,
     "metadata": {},
     "output_type": "execute_result"
    }
   ],
   "source": [
    "x"
   ]
  },
  {
   "cell_type": "markdown",
   "id": "3216ebdc-7fcd-48b3-a4af-90b61b0fbde1",
   "metadata": {},
   "source": [
    "### shape"
   ]
  },
  {
   "cell_type": "code",
   "execution_count": 480,
   "id": "a60f3a50-3f2e-45cb-8c7a-82ebf8a4c26e",
   "metadata": {},
   "outputs": [],
   "source": [
    "# - It is a tuple.\n",
    "# - It makes the changes in the existing array."
   ]
  },
  {
   "cell_type": "code",
   "execution_count": 482,
   "id": "573b832a-9c54-4271-8b3d-cd2b19164b38",
   "metadata": {},
   "outputs": [],
   "source": [
    "# arr.shape=(rows, cols)"
   ]
  },
  {
   "cell_type": "code",
   "execution_count": 488,
   "id": "37646831-2f9c-42db-a6f2-cb6cdaba539a",
   "metadata": {},
   "outputs": [
    {
     "data": {
      "text/plain": [
       "array([ 1,  2,  3,  4,  5,  6,  7,  8,  9, 10, 11, 12, 13, 14, 15])"
      ]
     },
     "execution_count": 488,
     "metadata": {},
     "output_type": "execute_result"
    }
   ],
   "source": [
    "x=np.arange(1,16)\n",
    "x"
   ]
  },
  {
   "cell_type": "code",
   "execution_count": 490,
   "id": "df3cd69d-4f52-4dfc-83d1-9f390efb8b95",
   "metadata": {},
   "outputs": [],
   "source": [
    "x.shape=(3,5)"
   ]
  },
  {
   "cell_type": "code",
   "execution_count": 492,
   "id": "2326e010-7970-44b0-b1b9-c15afcaed2ed",
   "metadata": {},
   "outputs": [
    {
     "data": {
      "text/plain": [
       "array([[ 1,  2,  3,  4,  5],\n",
       "       [ 6,  7,  8,  9, 10],\n",
       "       [11, 12, 13, 14, 15]])"
      ]
     },
     "execution_count": 492,
     "metadata": {},
     "output_type": "execute_result"
    }
   ],
   "source": [
    "x"
   ]
  },
  {
   "cell_type": "code",
   "execution_count": 494,
   "id": "e7530762-0bcf-4e84-b083-8e7dd5b842f3",
   "metadata": {},
   "outputs": [
    {
     "data": {
      "text/plain": [
       "array([[ 1,  2,  3,  4,  5],\n",
       "       [ 6,  7,  8,  9, 10],\n",
       "       [11, 12, 13, 14, 15]])"
      ]
     },
     "execution_count": 494,
     "metadata": {},
     "output_type": "execute_result"
    }
   ],
   "source": [
    "x"
   ]
  },
  {
   "cell_type": "code",
   "execution_count": 496,
   "id": "60e6e579-a37c-4ee3-9848-d4acfd39d032",
   "metadata": {},
   "outputs": [],
   "source": [
    "x.shape=(5,3)"
   ]
  },
  {
   "cell_type": "code",
   "execution_count": 498,
   "id": "8fd623a6-e475-4f58-b8dc-ed095387b7a7",
   "metadata": {},
   "outputs": [
    {
     "data": {
      "text/plain": [
       "array([[ 1,  2,  3],\n",
       "       [ 4,  5,  6],\n",
       "       [ 7,  8,  9],\n",
       "       [10, 11, 12],\n",
       "       [13, 14, 15]])"
      ]
     },
     "execution_count": 498,
     "metadata": {},
     "output_type": "execute_result"
    }
   ],
   "source": [
    "x"
   ]
  },
  {
   "cell_type": "markdown",
   "id": "8d35b6dc-d154-4413-9667-4cb3570076d0",
   "metadata": {},
   "source": [
    "# Creating a 3-D array"
   ]
  },
  {
   "cell_type": "code",
   "execution_count": 501,
   "id": "4821baf2-67ed-4395-8c0d-9e40c45983dc",
   "metadata": {},
   "outputs": [],
   "source": [
    "# - When we repeat a 2-D array then we get a 3-D array."
   ]
  },
  {
   "cell_type": "markdown",
   "id": "b93cce1c-2200-4c1a-b036-e2f5963f52bc",
   "metadata": {},
   "source": [
    "### By using a 3-D list"
   ]
  },
  {
   "cell_type": "code",
   "execution_count": 508,
   "id": "36d1a1f8-8073-4f29-8e2f-6986a7338693",
   "metadata": {},
   "outputs": [
    {
     "data": {
      "text/plain": [
       "[[[1, 2, 3], [4, 5, 6]], [[1, 2, 3], [4, 5, 6]], [[1, 2, 3], [4, 5, 6]]]"
      ]
     },
     "execution_count": 508,
     "metadata": {},
     "output_type": "execute_result"
    }
   ],
   "source": [
    "lst=[[[1,2,3],[4,5,6]], [[1,2,3],[4,5,6]], [[1,2,3],[4,5,6]]]\n",
    "lst"
   ]
  },
  {
   "cell_type": "code",
   "execution_count": 512,
   "id": "e5a66ceb-f76b-4a81-861d-7a08a7996cfc",
   "metadata": {},
   "outputs": [
    {
     "data": {
      "text/plain": [
       "array([[[1, 2, 3],\n",
       "        [4, 5, 6]],\n",
       "\n",
       "       [[1, 2, 3],\n",
       "        [4, 5, 6]],\n",
       "\n",
       "       [[1, 2, 3],\n",
       "        [4, 5, 6]]])"
      ]
     },
     "execution_count": 512,
     "metadata": {},
     "output_type": "execute_result"
    }
   ],
   "source": [
    "x=np.array(lst)\n",
    "x"
   ]
  },
  {
   "cell_type": "code",
   "execution_count": 514,
   "id": "34f81028-208a-4757-880b-b31286fe4fdd",
   "metadata": {},
   "outputs": [
    {
     "data": {
      "text/plain": [
       "(3, 2, 3)"
      ]
     },
     "execution_count": 514,
     "metadata": {},
     "output_type": "execute_result"
    }
   ],
   "source": [
    "x.shape"
   ]
  },
  {
   "cell_type": "code",
   "execution_count": 516,
   "id": "37c1d36b-681e-4679-a018-5861d92f1743",
   "metadata": {},
   "outputs": [
    {
     "data": {
      "text/plain": [
       "3"
      ]
     },
     "execution_count": 516,
     "metadata": {},
     "output_type": "execute_result"
    }
   ],
   "source": [
    "x.ndim"
   ]
  },
  {
   "cell_type": "markdown",
   "id": "e554950a-dc08-4836-b334-0b3e61debb53",
   "metadata": {},
   "source": [
    "### By using reshape() or shape"
   ]
  },
  {
   "cell_type": "code",
   "execution_count": 521,
   "id": "44dbc2d8-1238-42aa-8ac0-5c44f40754d2",
   "metadata": {},
   "outputs": [
    {
     "data": {
      "text/plain": [
       "array([ 0,  1,  2,  3,  4,  5,  6,  7,  8,  9, 10, 11, 12, 13, 14, 15, 16,\n",
       "       17, 18, 19, 20, 21, 22, 23])"
      ]
     },
     "execution_count": 521,
     "metadata": {},
     "output_type": "execute_result"
    }
   ],
   "source": [
    "# Create a 3*2*4 array\n",
    "\n",
    "x=np.arange(24)\n",
    "x"
   ]
  },
  {
   "cell_type": "code",
   "execution_count": 527,
   "id": "7402eee8-cad3-440b-9d2a-06ef5463e2b3",
   "metadata": {},
   "outputs": [
    {
     "data": {
      "text/plain": [
       "array([[[ 0,  1,  2,  3],\n",
       "        [ 4,  5,  6,  7]],\n",
       "\n",
       "       [[ 8,  9, 10, 11],\n",
       "        [12, 13, 14, 15]],\n",
       "\n",
       "       [[16, 17, 18, 19],\n",
       "        [20, 21, 22, 23]]])"
      ]
     },
     "execution_count": 527,
     "metadata": {},
     "output_type": "execute_result"
    }
   ],
   "source": [
    "y=x.reshape(3,2,4)\n",
    "y"
   ]
  },
  {
   "cell_type": "code",
   "execution_count": 529,
   "id": "08612ecf-7c12-416b-9375-042b2c940a53",
   "metadata": {},
   "outputs": [
    {
     "data": {
      "text/plain": [
       "(3, 2, 4)"
      ]
     },
     "execution_count": 529,
     "metadata": {},
     "output_type": "execute_result"
    }
   ],
   "source": [
    "y.shape"
   ]
  },
  {
   "cell_type": "code",
   "execution_count": 531,
   "id": "9f8a94be-4d1f-4cc5-96bf-884b3905fa5d",
   "metadata": {},
   "outputs": [
    {
     "data": {
      "text/plain": [
       "array([ 0,  1,  2,  3,  4,  5,  6,  7,  8,  9, 10, 11, 12, 13, 14, 15, 16,\n",
       "       17, 18, 19, 20, 21, 22, 23])"
      ]
     },
     "execution_count": 531,
     "metadata": {},
     "output_type": "execute_result"
    }
   ],
   "source": [
    "x"
   ]
  },
  {
   "cell_type": "code",
   "execution_count": 533,
   "id": "5f52e516-dcbe-4ad9-b68b-8b0eadb487ec",
   "metadata": {},
   "outputs": [],
   "source": [
    "x.shape=(3,2,4)"
   ]
  },
  {
   "cell_type": "code",
   "execution_count": 535,
   "id": "39c76d6a-1f54-4665-9b98-5d6aa812ee9b",
   "metadata": {},
   "outputs": [
    {
     "data": {
      "text/plain": [
       "array([[[ 0,  1,  2,  3],\n",
       "        [ 4,  5,  6,  7]],\n",
       "\n",
       "       [[ 8,  9, 10, 11],\n",
       "        [12, 13, 14, 15]],\n",
       "\n",
       "       [[16, 17, 18, 19],\n",
       "        [20, 21, 22, 23]]])"
      ]
     },
     "execution_count": 535,
     "metadata": {},
     "output_type": "execute_result"
    }
   ],
   "source": [
    "x"
   ]
  },
  {
   "cell_type": "code",
   "execution_count": null,
   "id": "a7b08604-2582-4a30-8b60-665b99148661",
   "metadata": {},
   "outputs": [],
   "source": []
  }
 ],
 "metadata": {
  "kernelspec": {
   "display_name": "Python 3 (ipykernel)",
   "language": "python",
   "name": "python3"
  },
  "language_info": {
   "codemirror_mode": {
    "name": "ipython",
    "version": 3
   },
   "file_extension": ".py",
   "mimetype": "text/x-python",
   "name": "python",
   "nbconvert_exporter": "python",
   "pygments_lexer": "ipython3",
   "version": "3.11.10"
  }
 },
 "nbformat": 4,
 "nbformat_minor": 5
}
