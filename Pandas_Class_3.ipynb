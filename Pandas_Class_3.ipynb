{
 "cells": [
  {
   "cell_type": "code",
   "execution_count": 1,
   "id": "b186bc29-2c2d-4329-9404-dea80e8540e3",
   "metadata": {},
   "outputs": [],
   "source": [
    "import numpy as np\n",
    "import pandas as pd"
   ]
  },
  {
   "cell_type": "code",
   "execution_count": 3,
   "id": "321d6ea1-e3d3-4acf-b82a-c4ec0aa944c1",
   "metadata": {},
   "outputs": [],
   "source": [
    "file_path=r\"C:\\Users\\ashis\\OneDrive\\Desktop\\Data Science\\Batches\\Practice Datasets\\Titanic.csv\""
   ]
  },
  {
   "cell_type": "code",
   "execution_count": 14,
   "id": "0223c6e8-1173-44d3-85c9-9509449e433f",
   "metadata": {},
   "outputs": [],
   "source": [
    "names=['Kushagra', 'Kartik', 'Vikash', 'Sukesh', 'Deepti', 'Priti', 'Pranali', 'Amit']\n",
    "codes=[101, np.nan, np.nan, 104, 105, np.nan, 107, 108]\n",
    "city=['Pune', 'Madurai', 'Chennai', 'Dehradun', 'Noida', 'Bengaluru', np.nan, 'Goa']"
   ]
  },
  {
   "cell_type": "code",
   "execution_count": 40,
   "id": "e336ad1a-3970-4eba-8039-c9913629078a",
   "metadata": {},
   "outputs": [],
   "source": [
    "data={'Name':names,\n",
    "'ID':codes,\n",
    "'City':city}"
   ]
  },
  {
   "cell_type": "code",
   "execution_count": 20,
   "id": "0459304e-93dc-4237-8834-cfb493f627f7",
   "metadata": {},
   "outputs": [],
   "source": [
    "df=pd.DataFrame(data)"
   ]
  },
  {
   "cell_type": "code",
   "execution_count": 22,
   "id": "3b21f615-53b4-4a73-8e12-25cf4cb781cb",
   "metadata": {},
   "outputs": [
    {
     "data": {
      "text/html": [
       "<div>\n",
       "<style scoped>\n",
       "    .dataframe tbody tr th:only-of-type {\n",
       "        vertical-align: middle;\n",
       "    }\n",
       "\n",
       "    .dataframe tbody tr th {\n",
       "        vertical-align: top;\n",
       "    }\n",
       "\n",
       "    .dataframe thead th {\n",
       "        text-align: right;\n",
       "    }\n",
       "</style>\n",
       "<table border=\"1\" class=\"dataframe\">\n",
       "  <thead>\n",
       "    <tr style=\"text-align: right;\">\n",
       "      <th></th>\n",
       "      <th>Name</th>\n",
       "      <th>ID</th>\n",
       "      <th>City</th>\n",
       "    </tr>\n",
       "  </thead>\n",
       "  <tbody>\n",
       "    <tr>\n",
       "      <th>0</th>\n",
       "      <td>Kushagra</td>\n",
       "      <td>101.0</td>\n",
       "      <td>Pune</td>\n",
       "    </tr>\n",
       "    <tr>\n",
       "      <th>1</th>\n",
       "      <td>Kartik</td>\n",
       "      <td>NaN</td>\n",
       "      <td>Madurai</td>\n",
       "    </tr>\n",
       "    <tr>\n",
       "      <th>2</th>\n",
       "      <td>Vikash</td>\n",
       "      <td>NaN</td>\n",
       "      <td>Chennai</td>\n",
       "    </tr>\n",
       "    <tr>\n",
       "      <th>3</th>\n",
       "      <td>Sukesh</td>\n",
       "      <td>104.0</td>\n",
       "      <td>Dehradun</td>\n",
       "    </tr>\n",
       "    <tr>\n",
       "      <th>4</th>\n",
       "      <td>Deepti</td>\n",
       "      <td>105.0</td>\n",
       "      <td>Noida</td>\n",
       "    </tr>\n",
       "    <tr>\n",
       "      <th>5</th>\n",
       "      <td>Priti</td>\n",
       "      <td>NaN</td>\n",
       "      <td>Bengaluru</td>\n",
       "    </tr>\n",
       "    <tr>\n",
       "      <th>6</th>\n",
       "      <td>Pranali</td>\n",
       "      <td>107.0</td>\n",
       "      <td>NaN</td>\n",
       "    </tr>\n",
       "    <tr>\n",
       "      <th>7</th>\n",
       "      <td>Amit</td>\n",
       "      <td>108.0</td>\n",
       "      <td>Goa</td>\n",
       "    </tr>\n",
       "  </tbody>\n",
       "</table>\n",
       "</div>"
      ],
      "text/plain": [
       "       Name     ID       City\n",
       "0  Kushagra  101.0       Pune\n",
       "1    Kartik    NaN    Madurai\n",
       "2    Vikash    NaN    Chennai\n",
       "3    Sukesh  104.0   Dehradun\n",
       "4    Deepti  105.0      Noida\n",
       "5     Priti    NaN  Bengaluru\n",
       "6   Pranali  107.0        NaN\n",
       "7      Amit  108.0        Goa"
      ]
     },
     "execution_count": 22,
     "metadata": {},
     "output_type": "execute_result"
    }
   ],
   "source": [
    "df"
   ]
  },
  {
   "cell_type": "code",
   "execution_count": 28,
   "id": "66aef4ba-2bf1-435c-96cf-a82ad3d2d028",
   "metadata": {},
   "outputs": [],
   "source": [
    "df['ID_FFL']=df.ID.ffill()"
   ]
  },
  {
   "cell_type": "code",
   "execution_count": 30,
   "id": "ae5e168f-b822-42ef-9548-14d88163a7a1",
   "metadata": {},
   "outputs": [
    {
     "data": {
      "text/html": [
       "<div>\n",
       "<style scoped>\n",
       "    .dataframe tbody tr th:only-of-type {\n",
       "        vertical-align: middle;\n",
       "    }\n",
       "\n",
       "    .dataframe tbody tr th {\n",
       "        vertical-align: top;\n",
       "    }\n",
       "\n",
       "    .dataframe thead th {\n",
       "        text-align: right;\n",
       "    }\n",
       "</style>\n",
       "<table border=\"1\" class=\"dataframe\">\n",
       "  <thead>\n",
       "    <tr style=\"text-align: right;\">\n",
       "      <th></th>\n",
       "      <th>Name</th>\n",
       "      <th>ID</th>\n",
       "      <th>City</th>\n",
       "      <th>ID_FFL</th>\n",
       "    </tr>\n",
       "  </thead>\n",
       "  <tbody>\n",
       "    <tr>\n",
       "      <th>0</th>\n",
       "      <td>Kushagra</td>\n",
       "      <td>101.0</td>\n",
       "      <td>Pune</td>\n",
       "      <td>101.0</td>\n",
       "    </tr>\n",
       "    <tr>\n",
       "      <th>1</th>\n",
       "      <td>Kartik</td>\n",
       "      <td>NaN</td>\n",
       "      <td>Madurai</td>\n",
       "      <td>101.0</td>\n",
       "    </tr>\n",
       "    <tr>\n",
       "      <th>2</th>\n",
       "      <td>Vikash</td>\n",
       "      <td>NaN</td>\n",
       "      <td>Chennai</td>\n",
       "      <td>101.0</td>\n",
       "    </tr>\n",
       "    <tr>\n",
       "      <th>3</th>\n",
       "      <td>Sukesh</td>\n",
       "      <td>104.0</td>\n",
       "      <td>Dehradun</td>\n",
       "      <td>104.0</td>\n",
       "    </tr>\n",
       "    <tr>\n",
       "      <th>4</th>\n",
       "      <td>Deepti</td>\n",
       "      <td>105.0</td>\n",
       "      <td>Noida</td>\n",
       "      <td>105.0</td>\n",
       "    </tr>\n",
       "    <tr>\n",
       "      <th>5</th>\n",
       "      <td>Priti</td>\n",
       "      <td>NaN</td>\n",
       "      <td>Bengaluru</td>\n",
       "      <td>105.0</td>\n",
       "    </tr>\n",
       "    <tr>\n",
       "      <th>6</th>\n",
       "      <td>Pranali</td>\n",
       "      <td>107.0</td>\n",
       "      <td>NaN</td>\n",
       "      <td>107.0</td>\n",
       "    </tr>\n",
       "    <tr>\n",
       "      <th>7</th>\n",
       "      <td>Amit</td>\n",
       "      <td>108.0</td>\n",
       "      <td>Goa</td>\n",
       "      <td>108.0</td>\n",
       "    </tr>\n",
       "  </tbody>\n",
       "</table>\n",
       "</div>"
      ],
      "text/plain": [
       "       Name     ID       City  ID_FFL\n",
       "0  Kushagra  101.0       Pune   101.0\n",
       "1    Kartik    NaN    Madurai   101.0\n",
       "2    Vikash    NaN    Chennai   101.0\n",
       "3    Sukesh  104.0   Dehradun   104.0\n",
       "4    Deepti  105.0      Noida   105.0\n",
       "5     Priti    NaN  Bengaluru   105.0\n",
       "6   Pranali  107.0        NaN   107.0\n",
       "7      Amit  108.0        Goa   108.0"
      ]
     },
     "execution_count": 30,
     "metadata": {},
     "output_type": "execute_result"
    }
   ],
   "source": [
    "df"
   ]
  },
  {
   "cell_type": "code",
   "execution_count": 34,
   "id": "df3f7a4d-a53d-4316-895b-68d0ba875b37",
   "metadata": {},
   "outputs": [],
   "source": [
    "df['City_BFL']=df.City.bfill()"
   ]
  },
  {
   "cell_type": "code",
   "execution_count": 36,
   "id": "5fd5da6c-5e04-41df-9929-7f6f057c2634",
   "metadata": {},
   "outputs": [
    {
     "data": {
      "text/html": [
       "<div>\n",
       "<style scoped>\n",
       "    .dataframe tbody tr th:only-of-type {\n",
       "        vertical-align: middle;\n",
       "    }\n",
       "\n",
       "    .dataframe tbody tr th {\n",
       "        vertical-align: top;\n",
       "    }\n",
       "\n",
       "    .dataframe thead th {\n",
       "        text-align: right;\n",
       "    }\n",
       "</style>\n",
       "<table border=\"1\" class=\"dataframe\">\n",
       "  <thead>\n",
       "    <tr style=\"text-align: right;\">\n",
       "      <th></th>\n",
       "      <th>Name</th>\n",
       "      <th>ID</th>\n",
       "      <th>City</th>\n",
       "      <th>ID_FFL</th>\n",
       "      <th>City_BFL</th>\n",
       "    </tr>\n",
       "  </thead>\n",
       "  <tbody>\n",
       "    <tr>\n",
       "      <th>0</th>\n",
       "      <td>Kushagra</td>\n",
       "      <td>101.0</td>\n",
       "      <td>Pune</td>\n",
       "      <td>101.0</td>\n",
       "      <td>Pune</td>\n",
       "    </tr>\n",
       "    <tr>\n",
       "      <th>1</th>\n",
       "      <td>Kartik</td>\n",
       "      <td>NaN</td>\n",
       "      <td>Madurai</td>\n",
       "      <td>101.0</td>\n",
       "      <td>Madurai</td>\n",
       "    </tr>\n",
       "    <tr>\n",
       "      <th>2</th>\n",
       "      <td>Vikash</td>\n",
       "      <td>NaN</td>\n",
       "      <td>Chennai</td>\n",
       "      <td>101.0</td>\n",
       "      <td>Chennai</td>\n",
       "    </tr>\n",
       "    <tr>\n",
       "      <th>3</th>\n",
       "      <td>Sukesh</td>\n",
       "      <td>104.0</td>\n",
       "      <td>Dehradun</td>\n",
       "      <td>104.0</td>\n",
       "      <td>Dehradun</td>\n",
       "    </tr>\n",
       "    <tr>\n",
       "      <th>4</th>\n",
       "      <td>Deepti</td>\n",
       "      <td>105.0</td>\n",
       "      <td>Noida</td>\n",
       "      <td>105.0</td>\n",
       "      <td>Noida</td>\n",
       "    </tr>\n",
       "    <tr>\n",
       "      <th>5</th>\n",
       "      <td>Priti</td>\n",
       "      <td>NaN</td>\n",
       "      <td>Bengaluru</td>\n",
       "      <td>105.0</td>\n",
       "      <td>Bengaluru</td>\n",
       "    </tr>\n",
       "    <tr>\n",
       "      <th>6</th>\n",
       "      <td>Pranali</td>\n",
       "      <td>107.0</td>\n",
       "      <td>NaN</td>\n",
       "      <td>107.0</td>\n",
       "      <td>Goa</td>\n",
       "    </tr>\n",
       "    <tr>\n",
       "      <th>7</th>\n",
       "      <td>Amit</td>\n",
       "      <td>108.0</td>\n",
       "      <td>Goa</td>\n",
       "      <td>108.0</td>\n",
       "      <td>Goa</td>\n",
       "    </tr>\n",
       "  </tbody>\n",
       "</table>\n",
       "</div>"
      ],
      "text/plain": [
       "       Name     ID       City  ID_FFL   City_BFL\n",
       "0  Kushagra  101.0       Pune   101.0       Pune\n",
       "1    Kartik    NaN    Madurai   101.0    Madurai\n",
       "2    Vikash    NaN    Chennai   101.0    Chennai\n",
       "3    Sukesh  104.0   Dehradun   104.0   Dehradun\n",
       "4    Deepti  105.0      Noida   105.0      Noida\n",
       "5     Priti    NaN  Bengaluru   105.0  Bengaluru\n",
       "6   Pranali  107.0        NaN   107.0        Goa\n",
       "7      Amit  108.0        Goa   108.0        Goa"
      ]
     },
     "execution_count": 36,
     "metadata": {},
     "output_type": "execute_result"
    }
   ],
   "source": [
    "df"
   ]
  },
  {
   "cell_type": "code",
   "execution_count": 64,
   "id": "cab45913-d86c-4c09-b410-d765c7f90b9f",
   "metadata": {},
   "outputs": [],
   "source": [
    "names=['Kushagra', 'Kartik', 'Vikash', 'Sukesh', 'Deepti', 'Priti', 'Pranali', 'Amit']\n",
    "codes=[np.nan, np.nan, np.nan, 104, 105, np.nan, 107, np.nan]\n",
    "city=['Pune', 'Madurai', 'Chennai', 'Dehradun', 'Noida', 'Bengaluru', np.nan, 'Goa']"
   ]
  },
  {
   "cell_type": "code",
   "execution_count": 66,
   "id": "f7694dfc-ca38-4f75-a0a4-5a70e9d470f4",
   "metadata": {},
   "outputs": [],
   "source": [
    "df=pd.DataFrame(data)"
   ]
  },
  {
   "cell_type": "code",
   "execution_count": 68,
   "id": "bb9805b7-ecb8-454b-88bc-196ffad7bb41",
   "metadata": {},
   "outputs": [
    {
     "data": {
      "text/html": [
       "<div>\n",
       "<style scoped>\n",
       "    .dataframe tbody tr th:only-of-type {\n",
       "        vertical-align: middle;\n",
       "    }\n",
       "\n",
       "    .dataframe tbody tr th {\n",
       "        vertical-align: top;\n",
       "    }\n",
       "\n",
       "    .dataframe thead th {\n",
       "        text-align: right;\n",
       "    }\n",
       "</style>\n",
       "<table border=\"1\" class=\"dataframe\">\n",
       "  <thead>\n",
       "    <tr style=\"text-align: right;\">\n",
       "      <th></th>\n",
       "      <th>Name</th>\n",
       "      <th>ID</th>\n",
       "      <th>City</th>\n",
       "    </tr>\n",
       "  </thead>\n",
       "  <tbody>\n",
       "    <tr>\n",
       "      <th>0</th>\n",
       "      <td>Kushagra</td>\n",
       "      <td>NaN</td>\n",
       "      <td>Pune</td>\n",
       "    </tr>\n",
       "    <tr>\n",
       "      <th>1</th>\n",
       "      <td>Kartik</td>\n",
       "      <td>NaN</td>\n",
       "      <td>Madurai</td>\n",
       "    </tr>\n",
       "    <tr>\n",
       "      <th>2</th>\n",
       "      <td>Vikash</td>\n",
       "      <td>NaN</td>\n",
       "      <td>Chennai</td>\n",
       "    </tr>\n",
       "    <tr>\n",
       "      <th>3</th>\n",
       "      <td>Sukesh</td>\n",
       "      <td>104.0</td>\n",
       "      <td>Dehradun</td>\n",
       "    </tr>\n",
       "    <tr>\n",
       "      <th>4</th>\n",
       "      <td>Deepti</td>\n",
       "      <td>105.0</td>\n",
       "      <td>Noida</td>\n",
       "    </tr>\n",
       "    <tr>\n",
       "      <th>5</th>\n",
       "      <td>Priti</td>\n",
       "      <td>NaN</td>\n",
       "      <td>Bengaluru</td>\n",
       "    </tr>\n",
       "    <tr>\n",
       "      <th>6</th>\n",
       "      <td>Pranali</td>\n",
       "      <td>107.0</td>\n",
       "      <td>NaN</td>\n",
       "    </tr>\n",
       "    <tr>\n",
       "      <th>7</th>\n",
       "      <td>Amit</td>\n",
       "      <td>NaN</td>\n",
       "      <td>Goa</td>\n",
       "    </tr>\n",
       "  </tbody>\n",
       "</table>\n",
       "</div>"
      ],
      "text/plain": [
       "       Name     ID       City\n",
       "0  Kushagra    NaN       Pune\n",
       "1    Kartik    NaN    Madurai\n",
       "2    Vikash    NaN    Chennai\n",
       "3    Sukesh  104.0   Dehradun\n",
       "4    Deepti  105.0      Noida\n",
       "5     Priti    NaN  Bengaluru\n",
       "6   Pranali  107.0        NaN\n",
       "7      Amit    NaN        Goa"
      ]
     },
     "execution_count": 68,
     "metadata": {},
     "output_type": "execute_result"
    }
   ],
   "source": [
    "df"
   ]
  },
  {
   "cell_type": "code",
   "execution_count": 70,
   "id": "21cd1543-2ed2-47c9-83b4-1ce4f0aed370",
   "metadata": {},
   "outputs": [
    {
     "data": {
      "text/plain": [
       "0      NaN\n",
       "1      NaN\n",
       "2      NaN\n",
       "3    104.0\n",
       "4    105.0\n",
       "5    105.0\n",
       "6    107.0\n",
       "7    107.0\n",
       "Name: ID, dtype: float64"
      ]
     },
     "execution_count": 70,
     "metadata": {},
     "output_type": "execute_result"
    }
   ],
   "source": [
    "df.ID.ffill()"
   ]
  },
  {
   "cell_type": "code",
   "execution_count": 78,
   "id": "f72e4a51-8416-4802-9d38-558f65e6d1b4",
   "metadata": {},
   "outputs": [],
   "source": [
    "df['ID_Fill']=df.ID.ffill().bfill()"
   ]
  },
  {
   "cell_type": "code",
   "execution_count": 80,
   "id": "ba285ca1-8e48-49f8-81cb-7b5c14ea985a",
   "metadata": {},
   "outputs": [
    {
     "data": {
      "text/html": [
       "<div>\n",
       "<style scoped>\n",
       "    .dataframe tbody tr th:only-of-type {\n",
       "        vertical-align: middle;\n",
       "    }\n",
       "\n",
       "    .dataframe tbody tr th {\n",
       "        vertical-align: top;\n",
       "    }\n",
       "\n",
       "    .dataframe thead th {\n",
       "        text-align: right;\n",
       "    }\n",
       "</style>\n",
       "<table border=\"1\" class=\"dataframe\">\n",
       "  <thead>\n",
       "    <tr style=\"text-align: right;\">\n",
       "      <th></th>\n",
       "      <th>Name</th>\n",
       "      <th>ID</th>\n",
       "      <th>City</th>\n",
       "      <th>ID_Fill</th>\n",
       "    </tr>\n",
       "  </thead>\n",
       "  <tbody>\n",
       "    <tr>\n",
       "      <th>0</th>\n",
       "      <td>Kushagra</td>\n",
       "      <td>NaN</td>\n",
       "      <td>Pune</td>\n",
       "      <td>104.0</td>\n",
       "    </tr>\n",
       "    <tr>\n",
       "      <th>1</th>\n",
       "      <td>Kartik</td>\n",
       "      <td>NaN</td>\n",
       "      <td>Madurai</td>\n",
       "      <td>104.0</td>\n",
       "    </tr>\n",
       "    <tr>\n",
       "      <th>2</th>\n",
       "      <td>Vikash</td>\n",
       "      <td>NaN</td>\n",
       "      <td>Chennai</td>\n",
       "      <td>104.0</td>\n",
       "    </tr>\n",
       "    <tr>\n",
       "      <th>3</th>\n",
       "      <td>Sukesh</td>\n",
       "      <td>104.0</td>\n",
       "      <td>Dehradun</td>\n",
       "      <td>104.0</td>\n",
       "    </tr>\n",
       "    <tr>\n",
       "      <th>4</th>\n",
       "      <td>Deepti</td>\n",
       "      <td>105.0</td>\n",
       "      <td>Noida</td>\n",
       "      <td>105.0</td>\n",
       "    </tr>\n",
       "    <tr>\n",
       "      <th>5</th>\n",
       "      <td>Priti</td>\n",
       "      <td>NaN</td>\n",
       "      <td>Bengaluru</td>\n",
       "      <td>105.0</td>\n",
       "    </tr>\n",
       "    <tr>\n",
       "      <th>6</th>\n",
       "      <td>Pranali</td>\n",
       "      <td>107.0</td>\n",
       "      <td>NaN</td>\n",
       "      <td>107.0</td>\n",
       "    </tr>\n",
       "    <tr>\n",
       "      <th>7</th>\n",
       "      <td>Amit</td>\n",
       "      <td>NaN</td>\n",
       "      <td>Goa</td>\n",
       "      <td>107.0</td>\n",
       "    </tr>\n",
       "  </tbody>\n",
       "</table>\n",
       "</div>"
      ],
      "text/plain": [
       "       Name     ID       City  ID_Fill\n",
       "0  Kushagra    NaN       Pune    104.0\n",
       "1    Kartik    NaN    Madurai    104.0\n",
       "2    Vikash    NaN    Chennai    104.0\n",
       "3    Sukesh  104.0   Dehradun    104.0\n",
       "4    Deepti  105.0      Noida    105.0\n",
       "5     Priti    NaN  Bengaluru    105.0\n",
       "6   Pranali  107.0        NaN    107.0\n",
       "7      Amit    NaN        Goa    107.0"
      ]
     },
     "execution_count": 80,
     "metadata": {},
     "output_type": "execute_result"
    }
   ],
   "source": [
    "df"
   ]
  },
  {
   "cell_type": "markdown",
   "id": "e4f76c09-f972-49c1-97fd-f509fc8040c8",
   "metadata": {},
   "source": [
    "# Handling Duplicates"
   ]
  },
  {
   "cell_type": "code",
   "execution_count": 83,
   "id": "6e000e92-9f86-470b-9073-8a9725696f1e",
   "metadata": {},
   "outputs": [],
   "source": [
    "# - If the same row gets repetaed, we call it as duplicate row."
   ]
  },
  {
   "cell_type": "code",
   "execution_count": 91,
   "id": "7014bb31-ca7b-44fd-a21f-468016287954",
   "metadata": {},
   "outputs": [],
   "source": [
    "df=pd.concat((df,df.iloc[:2]), ignore_index=True)"
   ]
  },
  {
   "cell_type": "code",
   "execution_count": 93,
   "id": "c3a10f15-7860-4ce7-b89b-e9659a4f2d86",
   "metadata": {},
   "outputs": [
    {
     "data": {
      "text/html": [
       "<div>\n",
       "<style scoped>\n",
       "    .dataframe tbody tr th:only-of-type {\n",
       "        vertical-align: middle;\n",
       "    }\n",
       "\n",
       "    .dataframe tbody tr th {\n",
       "        vertical-align: top;\n",
       "    }\n",
       "\n",
       "    .dataframe thead th {\n",
       "        text-align: right;\n",
       "    }\n",
       "</style>\n",
       "<table border=\"1\" class=\"dataframe\">\n",
       "  <thead>\n",
       "    <tr style=\"text-align: right;\">\n",
       "      <th></th>\n",
       "      <th>Name</th>\n",
       "      <th>ID</th>\n",
       "      <th>City</th>\n",
       "      <th>ID_Fill</th>\n",
       "    </tr>\n",
       "  </thead>\n",
       "  <tbody>\n",
       "    <tr>\n",
       "      <th>0</th>\n",
       "      <td>Kushagra</td>\n",
       "      <td>NaN</td>\n",
       "      <td>Pune</td>\n",
       "      <td>104.0</td>\n",
       "    </tr>\n",
       "    <tr>\n",
       "      <th>1</th>\n",
       "      <td>Kartik</td>\n",
       "      <td>NaN</td>\n",
       "      <td>Madurai</td>\n",
       "      <td>104.0</td>\n",
       "    </tr>\n",
       "    <tr>\n",
       "      <th>2</th>\n",
       "      <td>Vikash</td>\n",
       "      <td>NaN</td>\n",
       "      <td>Chennai</td>\n",
       "      <td>104.0</td>\n",
       "    </tr>\n",
       "    <tr>\n",
       "      <th>3</th>\n",
       "      <td>Sukesh</td>\n",
       "      <td>104.0</td>\n",
       "      <td>Dehradun</td>\n",
       "      <td>104.0</td>\n",
       "    </tr>\n",
       "    <tr>\n",
       "      <th>4</th>\n",
       "      <td>Deepti</td>\n",
       "      <td>105.0</td>\n",
       "      <td>Noida</td>\n",
       "      <td>105.0</td>\n",
       "    </tr>\n",
       "    <tr>\n",
       "      <th>5</th>\n",
       "      <td>Priti</td>\n",
       "      <td>NaN</td>\n",
       "      <td>Bengaluru</td>\n",
       "      <td>105.0</td>\n",
       "    </tr>\n",
       "    <tr>\n",
       "      <th>6</th>\n",
       "      <td>Pranali</td>\n",
       "      <td>107.0</td>\n",
       "      <td>NaN</td>\n",
       "      <td>107.0</td>\n",
       "    </tr>\n",
       "    <tr>\n",
       "      <th>7</th>\n",
       "      <td>Amit</td>\n",
       "      <td>NaN</td>\n",
       "      <td>Goa</td>\n",
       "      <td>107.0</td>\n",
       "    </tr>\n",
       "    <tr>\n",
       "      <th>8</th>\n",
       "      <td>Kushagra</td>\n",
       "      <td>NaN</td>\n",
       "      <td>Pune</td>\n",
       "      <td>104.0</td>\n",
       "    </tr>\n",
       "    <tr>\n",
       "      <th>9</th>\n",
       "      <td>Kartik</td>\n",
       "      <td>NaN</td>\n",
       "      <td>Madurai</td>\n",
       "      <td>104.0</td>\n",
       "    </tr>\n",
       "  </tbody>\n",
       "</table>\n",
       "</div>"
      ],
      "text/plain": [
       "       Name     ID       City  ID_Fill\n",
       "0  Kushagra    NaN       Pune    104.0\n",
       "1    Kartik    NaN    Madurai    104.0\n",
       "2    Vikash    NaN    Chennai    104.0\n",
       "3    Sukesh  104.0   Dehradun    104.0\n",
       "4    Deepti  105.0      Noida    105.0\n",
       "5     Priti    NaN  Bengaluru    105.0\n",
       "6   Pranali  107.0        NaN    107.0\n",
       "7      Amit    NaN        Goa    107.0\n",
       "8  Kushagra    NaN       Pune    104.0\n",
       "9    Kartik    NaN    Madurai    104.0"
      ]
     },
     "execution_count": 93,
     "metadata": {},
     "output_type": "execute_result"
    }
   ],
   "source": [
    "df"
   ]
  },
  {
   "cell_type": "markdown",
   "id": "5b3e3e96-a3f4-4248-a06e-e22dd8288b07",
   "metadata": {},
   "source": [
    "### duplicated()"
   ]
  },
  {
   "cell_type": "code",
   "execution_count": 98,
   "id": "2eaf5467-f1c8-40ca-b0ce-77049ef7b2ac",
   "metadata": {},
   "outputs": [
    {
     "data": {
      "text/plain": [
       "2"
      ]
     },
     "execution_count": 98,
     "metadata": {},
     "output_type": "execute_result"
    }
   ],
   "source": [
    "# - It checks the duplicate rows and returns a boolean series.\n",
    "\n",
    "df.duplicated().sum()"
   ]
  },
  {
   "cell_type": "code",
   "execution_count": 120,
   "id": "8b021b07-520d-4588-a481-b5d271fc7a72",
   "metadata": {},
   "outputs": [
    {
     "data": {
      "text/html": [
       "<div>\n",
       "<style scoped>\n",
       "    .dataframe tbody tr th:only-of-type {\n",
       "        vertical-align: middle;\n",
       "    }\n",
       "\n",
       "    .dataframe tbody tr th {\n",
       "        vertical-align: top;\n",
       "    }\n",
       "\n",
       "    .dataframe thead th {\n",
       "        text-align: right;\n",
       "    }\n",
       "</style>\n",
       "<table border=\"1\" class=\"dataframe\">\n",
       "  <thead>\n",
       "    <tr style=\"text-align: right;\">\n",
       "      <th></th>\n",
       "      <th>Name</th>\n",
       "      <th>ID</th>\n",
       "      <th>City</th>\n",
       "      <th>ID_Fill</th>\n",
       "    </tr>\n",
       "  </thead>\n",
       "  <tbody>\n",
       "    <tr>\n",
       "      <th>8</th>\n",
       "      <td>Kushagra</td>\n",
       "      <td>NaN</td>\n",
       "      <td>Pune</td>\n",
       "      <td>104.0</td>\n",
       "    </tr>\n",
       "    <tr>\n",
       "      <th>9</th>\n",
       "      <td>Kartik</td>\n",
       "      <td>NaN</td>\n",
       "      <td>Madurai</td>\n",
       "      <td>104.0</td>\n",
       "    </tr>\n",
       "  </tbody>\n",
       "</table>\n",
       "</div>"
      ],
      "text/plain": [
       "       Name  ID     City  ID_Fill\n",
       "8  Kushagra NaN     Pune    104.0\n",
       "9    Kartik NaN  Madurai    104.0"
      ]
     },
     "execution_count": 120,
     "metadata": {},
     "output_type": "execute_result"
    }
   ],
   "source": [
    "df[df.duplicated()]"
   ]
  },
  {
   "cell_type": "code",
   "execution_count": 110,
   "id": "95e4d66e-9c91-4544-9f1f-442f2a3b4513",
   "metadata": {},
   "outputs": [
    {
     "data": {
      "text/plain": [
       "0    False\n",
       "1    False\n",
       "2    False\n",
       "3    False\n",
       "4    False\n",
       "5    False\n",
       "6    False\n",
       "7    False\n",
       "8     True\n",
       "9     True\n",
       "dtype: bool"
      ]
     },
     "execution_count": 110,
     "metadata": {},
     "output_type": "execute_result"
    }
   ],
   "source": [
    "df.duplicated(keep='first')"
   ]
  },
  {
   "cell_type": "code",
   "execution_count": 106,
   "id": "423462c7-45f7-4c67-8a6d-150a9e37f918",
   "metadata": {},
   "outputs": [
    {
     "data": {
      "text/plain": [
       "0     True\n",
       "1     True\n",
       "2    False\n",
       "3    False\n",
       "4    False\n",
       "5    False\n",
       "6    False\n",
       "7    False\n",
       "8    False\n",
       "9    False\n",
       "dtype: bool"
      ]
     },
     "execution_count": 106,
     "metadata": {},
     "output_type": "execute_result"
    }
   ],
   "source": [
    "df.duplicated(keep='last')"
   ]
  },
  {
   "cell_type": "code",
   "execution_count": 108,
   "id": "4fc4e17c-8aac-40a3-8a73-75ab4502456a",
   "metadata": {},
   "outputs": [
    {
     "data": {
      "text/plain": [
       "0     True\n",
       "1     True\n",
       "2    False\n",
       "3    False\n",
       "4    False\n",
       "5    False\n",
       "6    False\n",
       "7    False\n",
       "8     True\n",
       "9     True\n",
       "dtype: bool"
      ]
     },
     "execution_count": 108,
     "metadata": {},
     "output_type": "execute_result"
    }
   ],
   "source": [
    "df.duplicated(keep=False)"
   ]
  },
  {
   "cell_type": "code",
   "execution_count": 112,
   "id": "e494488a-ca00-4c17-a9ed-3074e97b66fd",
   "metadata": {},
   "outputs": [
    {
     "data": {
      "text/html": [
       "<div>\n",
       "<style scoped>\n",
       "    .dataframe tbody tr th:only-of-type {\n",
       "        vertical-align: middle;\n",
       "    }\n",
       "\n",
       "    .dataframe tbody tr th {\n",
       "        vertical-align: top;\n",
       "    }\n",
       "\n",
       "    .dataframe thead th {\n",
       "        text-align: right;\n",
       "    }\n",
       "</style>\n",
       "<table border=\"1\" class=\"dataframe\">\n",
       "  <thead>\n",
       "    <tr style=\"text-align: right;\">\n",
       "      <th></th>\n",
       "      <th>Name</th>\n",
       "      <th>ID</th>\n",
       "      <th>City</th>\n",
       "      <th>ID_Fill</th>\n",
       "    </tr>\n",
       "  </thead>\n",
       "  <tbody>\n",
       "    <tr>\n",
       "      <th>0</th>\n",
       "      <td>Kushagra</td>\n",
       "      <td>NaN</td>\n",
       "      <td>Pune</td>\n",
       "      <td>104.0</td>\n",
       "    </tr>\n",
       "    <tr>\n",
       "      <th>1</th>\n",
       "      <td>Kartik</td>\n",
       "      <td>NaN</td>\n",
       "      <td>Madurai</td>\n",
       "      <td>104.0</td>\n",
       "    </tr>\n",
       "    <tr>\n",
       "      <th>2</th>\n",
       "      <td>Vikash</td>\n",
       "      <td>NaN</td>\n",
       "      <td>Chennai</td>\n",
       "      <td>104.0</td>\n",
       "    </tr>\n",
       "    <tr>\n",
       "      <th>3</th>\n",
       "      <td>Sukesh</td>\n",
       "      <td>104.0</td>\n",
       "      <td>Dehradun</td>\n",
       "      <td>104.0</td>\n",
       "    </tr>\n",
       "    <tr>\n",
       "      <th>4</th>\n",
       "      <td>Deepti</td>\n",
       "      <td>105.0</td>\n",
       "      <td>Noida</td>\n",
       "      <td>105.0</td>\n",
       "    </tr>\n",
       "    <tr>\n",
       "      <th>5</th>\n",
       "      <td>Priti</td>\n",
       "      <td>NaN</td>\n",
       "      <td>Bengaluru</td>\n",
       "      <td>105.0</td>\n",
       "    </tr>\n",
       "    <tr>\n",
       "      <th>6</th>\n",
       "      <td>Pranali</td>\n",
       "      <td>107.0</td>\n",
       "      <td>NaN</td>\n",
       "      <td>107.0</td>\n",
       "    </tr>\n",
       "    <tr>\n",
       "      <th>7</th>\n",
       "      <td>Amit</td>\n",
       "      <td>NaN</td>\n",
       "      <td>Goa</td>\n",
       "      <td>107.0</td>\n",
       "    </tr>\n",
       "    <tr>\n",
       "      <th>8</th>\n",
       "      <td>Kushagra</td>\n",
       "      <td>NaN</td>\n",
       "      <td>Pune</td>\n",
       "      <td>104.0</td>\n",
       "    </tr>\n",
       "    <tr>\n",
       "      <th>9</th>\n",
       "      <td>Kartik</td>\n",
       "      <td>NaN</td>\n",
       "      <td>Madurai</td>\n",
       "      <td>104.0</td>\n",
       "    </tr>\n",
       "  </tbody>\n",
       "</table>\n",
       "</div>"
      ],
      "text/plain": [
       "       Name     ID       City  ID_Fill\n",
       "0  Kushagra    NaN       Pune    104.0\n",
       "1    Kartik    NaN    Madurai    104.0\n",
       "2    Vikash    NaN    Chennai    104.0\n",
       "3    Sukesh  104.0   Dehradun    104.0\n",
       "4    Deepti  105.0      Noida    105.0\n",
       "5     Priti    NaN  Bengaluru    105.0\n",
       "6   Pranali  107.0        NaN    107.0\n",
       "7      Amit    NaN        Goa    107.0\n",
       "8  Kushagra    NaN       Pune    104.0\n",
       "9    Kartik    NaN    Madurai    104.0"
      ]
     },
     "execution_count": 112,
     "metadata": {},
     "output_type": "execute_result"
    }
   ],
   "source": [
    "df"
   ]
  },
  {
   "cell_type": "code",
   "execution_count": 124,
   "id": "8f700a93-976f-4921-b853-1683e6b2019a",
   "metadata": {},
   "outputs": [],
   "source": [
    "df.loc[6,'City']='Chennai'"
   ]
  },
  {
   "cell_type": "code",
   "execution_count": 126,
   "id": "0d9fe86e-490b-49db-900e-5dfe25c8c3b7",
   "metadata": {},
   "outputs": [
    {
     "data": {
      "text/html": [
       "<div>\n",
       "<style scoped>\n",
       "    .dataframe tbody tr th:only-of-type {\n",
       "        vertical-align: middle;\n",
       "    }\n",
       "\n",
       "    .dataframe tbody tr th {\n",
       "        vertical-align: top;\n",
       "    }\n",
       "\n",
       "    .dataframe thead th {\n",
       "        text-align: right;\n",
       "    }\n",
       "</style>\n",
       "<table border=\"1\" class=\"dataframe\">\n",
       "  <thead>\n",
       "    <tr style=\"text-align: right;\">\n",
       "      <th></th>\n",
       "      <th>Name</th>\n",
       "      <th>ID</th>\n",
       "      <th>City</th>\n",
       "      <th>ID_Fill</th>\n",
       "    </tr>\n",
       "  </thead>\n",
       "  <tbody>\n",
       "    <tr>\n",
       "      <th>0</th>\n",
       "      <td>Kushagra</td>\n",
       "      <td>NaN</td>\n",
       "      <td>Pune</td>\n",
       "      <td>104.0</td>\n",
       "    </tr>\n",
       "    <tr>\n",
       "      <th>1</th>\n",
       "      <td>Kartik</td>\n",
       "      <td>NaN</td>\n",
       "      <td>Madurai</td>\n",
       "      <td>104.0</td>\n",
       "    </tr>\n",
       "    <tr>\n",
       "      <th>2</th>\n",
       "      <td>Vikash</td>\n",
       "      <td>NaN</td>\n",
       "      <td>Chennai</td>\n",
       "      <td>104.0</td>\n",
       "    </tr>\n",
       "    <tr>\n",
       "      <th>3</th>\n",
       "      <td>Sukesh</td>\n",
       "      <td>104.0</td>\n",
       "      <td>Dehradun</td>\n",
       "      <td>104.0</td>\n",
       "    </tr>\n",
       "    <tr>\n",
       "      <th>4</th>\n",
       "      <td>Deepti</td>\n",
       "      <td>105.0</td>\n",
       "      <td>Noida</td>\n",
       "      <td>105.0</td>\n",
       "    </tr>\n",
       "    <tr>\n",
       "      <th>5</th>\n",
       "      <td>Priti</td>\n",
       "      <td>NaN</td>\n",
       "      <td>Bengaluru</td>\n",
       "      <td>105.0</td>\n",
       "    </tr>\n",
       "    <tr>\n",
       "      <th>6</th>\n",
       "      <td>Pranali</td>\n",
       "      <td>107.0</td>\n",
       "      <td>Chennai</td>\n",
       "      <td>107.0</td>\n",
       "    </tr>\n",
       "    <tr>\n",
       "      <th>7</th>\n",
       "      <td>Amit</td>\n",
       "      <td>NaN</td>\n",
       "      <td>Goa</td>\n",
       "      <td>107.0</td>\n",
       "    </tr>\n",
       "    <tr>\n",
       "      <th>8</th>\n",
       "      <td>Kushagra</td>\n",
       "      <td>NaN</td>\n",
       "      <td>Pune</td>\n",
       "      <td>104.0</td>\n",
       "    </tr>\n",
       "    <tr>\n",
       "      <th>9</th>\n",
       "      <td>Kartik</td>\n",
       "      <td>NaN</td>\n",
       "      <td>Madurai</td>\n",
       "      <td>104.0</td>\n",
       "    </tr>\n",
       "  </tbody>\n",
       "</table>\n",
       "</div>"
      ],
      "text/plain": [
       "       Name     ID       City  ID_Fill\n",
       "0  Kushagra    NaN       Pune    104.0\n",
       "1    Kartik    NaN    Madurai    104.0\n",
       "2    Vikash    NaN    Chennai    104.0\n",
       "3    Sukesh  104.0   Dehradun    104.0\n",
       "4    Deepti  105.0      Noida    105.0\n",
       "5     Priti    NaN  Bengaluru    105.0\n",
       "6   Pranali  107.0    Chennai    107.0\n",
       "7      Amit    NaN        Goa    107.0\n",
       "8  Kushagra    NaN       Pune    104.0\n",
       "9    Kartik    NaN    Madurai    104.0"
      ]
     },
     "execution_count": 126,
     "metadata": {},
     "output_type": "execute_result"
    }
   ],
   "source": [
    "df"
   ]
  },
  {
   "cell_type": "code",
   "execution_count": 132,
   "id": "9fa723e4-41b8-4e50-8f10-4874f16acc55",
   "metadata": {},
   "outputs": [
    {
     "data": {
      "text/html": [
       "<div>\n",
       "<style scoped>\n",
       "    .dataframe tbody tr th:only-of-type {\n",
       "        vertical-align: middle;\n",
       "    }\n",
       "\n",
       "    .dataframe tbody tr th {\n",
       "        vertical-align: top;\n",
       "    }\n",
       "\n",
       "    .dataframe thead th {\n",
       "        text-align: right;\n",
       "    }\n",
       "</style>\n",
       "<table border=\"1\" class=\"dataframe\">\n",
       "  <thead>\n",
       "    <tr style=\"text-align: right;\">\n",
       "      <th></th>\n",
       "      <th>Name</th>\n",
       "      <th>ID</th>\n",
       "      <th>City</th>\n",
       "      <th>ID_Fill</th>\n",
       "    </tr>\n",
       "  </thead>\n",
       "  <tbody>\n",
       "    <tr>\n",
       "      <th>6</th>\n",
       "      <td>Pranali</td>\n",
       "      <td>107.0</td>\n",
       "      <td>Chennai</td>\n",
       "      <td>107.0</td>\n",
       "    </tr>\n",
       "    <tr>\n",
       "      <th>8</th>\n",
       "      <td>Kushagra</td>\n",
       "      <td>NaN</td>\n",
       "      <td>Pune</td>\n",
       "      <td>104.0</td>\n",
       "    </tr>\n",
       "    <tr>\n",
       "      <th>9</th>\n",
       "      <td>Kartik</td>\n",
       "      <td>NaN</td>\n",
       "      <td>Madurai</td>\n",
       "      <td>104.0</td>\n",
       "    </tr>\n",
       "  </tbody>\n",
       "</table>\n",
       "</div>"
      ],
      "text/plain": [
       "       Name     ID     City  ID_Fill\n",
       "6   Pranali  107.0  Chennai    107.0\n",
       "8  Kushagra    NaN     Pune    104.0\n",
       "9    Kartik    NaN  Madurai    104.0"
      ]
     },
     "execution_count": 132,
     "metadata": {},
     "output_type": "execute_result"
    }
   ],
   "source": [
    "df[df.duplicated(subset='City')]"
   ]
  },
  {
   "cell_type": "code",
   "execution_count": 134,
   "id": "bb69be16-fb9b-4156-b56a-1c901bd59ad9",
   "metadata": {},
   "outputs": [
    {
     "data": {
      "text/html": [
       "<div>\n",
       "<style scoped>\n",
       "    .dataframe tbody tr th:only-of-type {\n",
       "        vertical-align: middle;\n",
       "    }\n",
       "\n",
       "    .dataframe tbody tr th {\n",
       "        vertical-align: top;\n",
       "    }\n",
       "\n",
       "    .dataframe thead th {\n",
       "        text-align: right;\n",
       "    }\n",
       "</style>\n",
       "<table border=\"1\" class=\"dataframe\">\n",
       "  <thead>\n",
       "    <tr style=\"text-align: right;\">\n",
       "      <th></th>\n",
       "      <th>Name</th>\n",
       "      <th>ID</th>\n",
       "      <th>City</th>\n",
       "      <th>ID_Fill</th>\n",
       "    </tr>\n",
       "  </thead>\n",
       "  <tbody>\n",
       "    <tr>\n",
       "      <th>8</th>\n",
       "      <td>Kushagra</td>\n",
       "      <td>NaN</td>\n",
       "      <td>Pune</td>\n",
       "      <td>104.0</td>\n",
       "    </tr>\n",
       "    <tr>\n",
       "      <th>9</th>\n",
       "      <td>Kartik</td>\n",
       "      <td>NaN</td>\n",
       "      <td>Madurai</td>\n",
       "      <td>104.0</td>\n",
       "    </tr>\n",
       "  </tbody>\n",
       "</table>\n",
       "</div>"
      ],
      "text/plain": [
       "       Name  ID     City  ID_Fill\n",
       "8  Kushagra NaN     Pune    104.0\n",
       "9    Kartik NaN  Madurai    104.0"
      ]
     },
     "execution_count": 134,
     "metadata": {},
     "output_type": "execute_result"
    }
   ],
   "source": [
    "df[df.duplicated(subset=['ID','City'])]"
   ]
  },
  {
   "cell_type": "markdown",
   "id": "209b4354-df1c-449c-b640-697a4b5bf567",
   "metadata": {},
   "source": [
    "### Dropping the duplicates"
   ]
  },
  {
   "cell_type": "markdown",
   "id": "c7baff94-9e1b-413f-ac6c-888b8781946a",
   "metadata": {},
   "source": [
    "### drop_duplicates()"
   ]
  },
  {
   "cell_type": "code",
   "execution_count": 138,
   "id": "ddfb3822-ab33-49fc-8228-757b71daee09",
   "metadata": {},
   "outputs": [],
   "source": [
    "# - It drops the duplicate rows and returns a new dataframe."
   ]
  },
  {
   "cell_type": "code",
   "execution_count": 154,
   "id": "7e034c3c-2402-4194-9082-8ce35cd50cc8",
   "metadata": {},
   "outputs": [],
   "source": [
    "df.drop_duplicates(keep=False, inplace=True, ignore_index=True)"
   ]
  },
  {
   "cell_type": "code",
   "execution_count": 156,
   "id": "29a2596a-64d2-4432-ab3f-d16c53229816",
   "metadata": {},
   "outputs": [
    {
     "data": {
      "text/html": [
       "<div>\n",
       "<style scoped>\n",
       "    .dataframe tbody tr th:only-of-type {\n",
       "        vertical-align: middle;\n",
       "    }\n",
       "\n",
       "    .dataframe tbody tr th {\n",
       "        vertical-align: top;\n",
       "    }\n",
       "\n",
       "    .dataframe thead th {\n",
       "        text-align: right;\n",
       "    }\n",
       "</style>\n",
       "<table border=\"1\" class=\"dataframe\">\n",
       "  <thead>\n",
       "    <tr style=\"text-align: right;\">\n",
       "      <th></th>\n",
       "      <th>Name</th>\n",
       "      <th>ID</th>\n",
       "      <th>City</th>\n",
       "      <th>ID_Fill</th>\n",
       "    </tr>\n",
       "  </thead>\n",
       "  <tbody>\n",
       "    <tr>\n",
       "      <th>0</th>\n",
       "      <td>Vikash</td>\n",
       "      <td>NaN</td>\n",
       "      <td>Chennai</td>\n",
       "      <td>104.0</td>\n",
       "    </tr>\n",
       "    <tr>\n",
       "      <th>1</th>\n",
       "      <td>Sukesh</td>\n",
       "      <td>104.0</td>\n",
       "      <td>Dehradun</td>\n",
       "      <td>104.0</td>\n",
       "    </tr>\n",
       "    <tr>\n",
       "      <th>2</th>\n",
       "      <td>Deepti</td>\n",
       "      <td>105.0</td>\n",
       "      <td>Noida</td>\n",
       "      <td>105.0</td>\n",
       "    </tr>\n",
       "    <tr>\n",
       "      <th>3</th>\n",
       "      <td>Priti</td>\n",
       "      <td>NaN</td>\n",
       "      <td>Bengaluru</td>\n",
       "      <td>105.0</td>\n",
       "    </tr>\n",
       "    <tr>\n",
       "      <th>4</th>\n",
       "      <td>Pranali</td>\n",
       "      <td>107.0</td>\n",
       "      <td>Chennai</td>\n",
       "      <td>107.0</td>\n",
       "    </tr>\n",
       "    <tr>\n",
       "      <th>5</th>\n",
       "      <td>Amit</td>\n",
       "      <td>NaN</td>\n",
       "      <td>Goa</td>\n",
       "      <td>107.0</td>\n",
       "    </tr>\n",
       "  </tbody>\n",
       "</table>\n",
       "</div>"
      ],
      "text/plain": [
       "      Name     ID       City  ID_Fill\n",
       "0   Vikash    NaN    Chennai    104.0\n",
       "1   Sukesh  104.0   Dehradun    104.0\n",
       "2   Deepti  105.0      Noida    105.0\n",
       "3    Priti    NaN  Bengaluru    105.0\n",
       "4  Pranali  107.0    Chennai    107.0\n",
       "5     Amit    NaN        Goa    107.0"
      ]
     },
     "execution_count": 156,
     "metadata": {},
     "output_type": "execute_result"
    }
   ],
   "source": [
    "df"
   ]
  },
  {
   "cell_type": "markdown",
   "id": "7f361553-b270-4e9c-ad9d-3064b7c9c753",
   "metadata": {},
   "source": [
    "### info()"
   ]
  },
  {
   "cell_type": "code",
   "execution_count": 159,
   "id": "f11d6e0a-8c71-4a2c-a021-81a735bf0a9c",
   "metadata": {},
   "outputs": [],
   "source": [
    "# - It returns a series that contains basis information about the dataframe."
   ]
  },
  {
   "cell_type": "code",
   "execution_count": 161,
   "id": "fa2debda-ecf1-4c73-840b-34783e69e606",
   "metadata": {},
   "outputs": [],
   "source": [
    "df=pd.read_csv(file_path)"
   ]
  },
  {
   "cell_type": "code",
   "execution_count": 163,
   "id": "bbd33ba3-63b8-4570-b7b6-689f740284a4",
   "metadata": {},
   "outputs": [
    {
     "data": {
      "text/html": [
       "<div>\n",
       "<style scoped>\n",
       "    .dataframe tbody tr th:only-of-type {\n",
       "        vertical-align: middle;\n",
       "    }\n",
       "\n",
       "    .dataframe tbody tr th {\n",
       "        vertical-align: top;\n",
       "    }\n",
       "\n",
       "    .dataframe thead th {\n",
       "        text-align: right;\n",
       "    }\n",
       "</style>\n",
       "<table border=\"1\" class=\"dataframe\">\n",
       "  <thead>\n",
       "    <tr style=\"text-align: right;\">\n",
       "      <th></th>\n",
       "      <th>PassengerId</th>\n",
       "      <th>Survived</th>\n",
       "      <th>Pclass</th>\n",
       "      <th>Name</th>\n",
       "      <th>Sex</th>\n",
       "      <th>Age</th>\n",
       "      <th>SibSp</th>\n",
       "      <th>Parch</th>\n",
       "      <th>Ticket</th>\n",
       "      <th>Fare</th>\n",
       "      <th>Cabin</th>\n",
       "      <th>Embarked</th>\n",
       "    </tr>\n",
       "  </thead>\n",
       "  <tbody>\n",
       "    <tr>\n",
       "      <th>0</th>\n",
       "      <td>1</td>\n",
       "      <td>0</td>\n",
       "      <td>3</td>\n",
       "      <td>Braund, Mr. Owen Harris</td>\n",
       "      <td>male</td>\n",
       "      <td>22.0</td>\n",
       "      <td>1</td>\n",
       "      <td>0</td>\n",
       "      <td>A/5 21171</td>\n",
       "      <td>7.2500</td>\n",
       "      <td>NaN</td>\n",
       "      <td>S</td>\n",
       "    </tr>\n",
       "    <tr>\n",
       "      <th>1</th>\n",
       "      <td>2</td>\n",
       "      <td>1</td>\n",
       "      <td>1</td>\n",
       "      <td>Cumings, Mrs. John Bradley (Florence Briggs Th...</td>\n",
       "      <td>female</td>\n",
       "      <td>38.0</td>\n",
       "      <td>1</td>\n",
       "      <td>0</td>\n",
       "      <td>PC 17599</td>\n",
       "      <td>71.2833</td>\n",
       "      <td>C85</td>\n",
       "      <td>C</td>\n",
       "    </tr>\n",
       "    <tr>\n",
       "      <th>2</th>\n",
       "      <td>3</td>\n",
       "      <td>1</td>\n",
       "      <td>3</td>\n",
       "      <td>Heikkinen, Miss. Laina</td>\n",
       "      <td>female</td>\n",
       "      <td>26.0</td>\n",
       "      <td>0</td>\n",
       "      <td>0</td>\n",
       "      <td>STON/O2. 3101282</td>\n",
       "      <td>7.9250</td>\n",
       "      <td>NaN</td>\n",
       "      <td>S</td>\n",
       "    </tr>\n",
       "    <tr>\n",
       "      <th>3</th>\n",
       "      <td>4</td>\n",
       "      <td>1</td>\n",
       "      <td>1</td>\n",
       "      <td>Futrelle, Mrs. Jacques Heath (Lily May Peel)</td>\n",
       "      <td>female</td>\n",
       "      <td>35.0</td>\n",
       "      <td>1</td>\n",
       "      <td>0</td>\n",
       "      <td>113803</td>\n",
       "      <td>53.1000</td>\n",
       "      <td>C123</td>\n",
       "      <td>S</td>\n",
       "    </tr>\n",
       "    <tr>\n",
       "      <th>4</th>\n",
       "      <td>5</td>\n",
       "      <td>0</td>\n",
       "      <td>3</td>\n",
       "      <td>Allen, Mr. William Henry</td>\n",
       "      <td>male</td>\n",
       "      <td>35.0</td>\n",
       "      <td>0</td>\n",
       "      <td>0</td>\n",
       "      <td>373450</td>\n",
       "      <td>8.0500</td>\n",
       "      <td>NaN</td>\n",
       "      <td>S</td>\n",
       "    </tr>\n",
       "  </tbody>\n",
       "</table>\n",
       "</div>"
      ],
      "text/plain": [
       "   PassengerId  Survived  Pclass  \\\n",
       "0            1         0       3   \n",
       "1            2         1       1   \n",
       "2            3         1       3   \n",
       "3            4         1       1   \n",
       "4            5         0       3   \n",
       "\n",
       "                                                Name     Sex   Age  SibSp  \\\n",
       "0                            Braund, Mr. Owen Harris    male  22.0      1   \n",
       "1  Cumings, Mrs. John Bradley (Florence Briggs Th...  female  38.0      1   \n",
       "2                             Heikkinen, Miss. Laina  female  26.0      0   \n",
       "3       Futrelle, Mrs. Jacques Heath (Lily May Peel)  female  35.0      1   \n",
       "4                           Allen, Mr. William Henry    male  35.0      0   \n",
       "\n",
       "   Parch            Ticket     Fare Cabin Embarked  \n",
       "0      0         A/5 21171   7.2500   NaN        S  \n",
       "1      0          PC 17599  71.2833   C85        C  \n",
       "2      0  STON/O2. 3101282   7.9250   NaN        S  \n",
       "3      0            113803  53.1000  C123        S  \n",
       "4      0            373450   8.0500   NaN        S  "
      ]
     },
     "execution_count": 163,
     "metadata": {},
     "output_type": "execute_result"
    }
   ],
   "source": [
    "df.head()"
   ]
  },
  {
   "cell_type": "code",
   "execution_count": 165,
   "id": "ee7cc933-9d12-4078-b3e6-d1b1940323e8",
   "metadata": {},
   "outputs": [
    {
     "name": "stdout",
     "output_type": "stream",
     "text": [
      "<class 'pandas.core.frame.DataFrame'>\n",
      "RangeIndex: 891 entries, 0 to 890\n",
      "Data columns (total 12 columns):\n",
      " #   Column       Non-Null Count  Dtype  \n",
      "---  ------       --------------  -----  \n",
      " 0   PassengerId  891 non-null    int64  \n",
      " 1   Survived     891 non-null    int64  \n",
      " 2   Pclass       891 non-null    int64  \n",
      " 3   Name         891 non-null    object \n",
      " 4   Sex          891 non-null    object \n",
      " 5   Age          714 non-null    float64\n",
      " 6   SibSp        891 non-null    int64  \n",
      " 7   Parch        891 non-null    int64  \n",
      " 8   Ticket       891 non-null    object \n",
      " 9   Fare         891 non-null    float64\n",
      " 10  Cabin        204 non-null    object \n",
      " 11  Embarked     889 non-null    object \n",
      "dtypes: float64(2), int64(5), object(5)\n",
      "memory usage: 83.7+ KB\n"
     ]
    }
   ],
   "source": [
    "df.info()"
   ]
  },
  {
   "cell_type": "markdown",
   "id": "3833417e-1d97-44b6-ba9d-41caf5f8ffce",
   "metadata": {},
   "source": [
    "### describe()"
   ]
  },
  {
   "cell_type": "code",
   "execution_count": 170,
   "id": "d61b3e94-d3a4-40ae-b2d1-cfc82f4a2b7a",
   "metadata": {},
   "outputs": [],
   "source": [
    "# - It returns the 5 point statistical summary."
   ]
  },
  {
   "cell_type": "code",
   "execution_count": 172,
   "id": "9f5e77de-f230-4eb6-b7c3-e996d7168d11",
   "metadata": {},
   "outputs": [
    {
     "data": {
      "text/html": [
       "<div>\n",
       "<style scoped>\n",
       "    .dataframe tbody tr th:only-of-type {\n",
       "        vertical-align: middle;\n",
       "    }\n",
       "\n",
       "    .dataframe tbody tr th {\n",
       "        vertical-align: top;\n",
       "    }\n",
       "\n",
       "    .dataframe thead th {\n",
       "        text-align: right;\n",
       "    }\n",
       "</style>\n",
       "<table border=\"1\" class=\"dataframe\">\n",
       "  <thead>\n",
       "    <tr style=\"text-align: right;\">\n",
       "      <th></th>\n",
       "      <th>PassengerId</th>\n",
       "      <th>Survived</th>\n",
       "      <th>Pclass</th>\n",
       "      <th>Age</th>\n",
       "      <th>SibSp</th>\n",
       "      <th>Parch</th>\n",
       "      <th>Fare</th>\n",
       "    </tr>\n",
       "  </thead>\n",
       "  <tbody>\n",
       "    <tr>\n",
       "      <th>count</th>\n",
       "      <td>891.000000</td>\n",
       "      <td>891.000000</td>\n",
       "      <td>891.000000</td>\n",
       "      <td>714.000000</td>\n",
       "      <td>891.000000</td>\n",
       "      <td>891.000000</td>\n",
       "      <td>891.000000</td>\n",
       "    </tr>\n",
       "    <tr>\n",
       "      <th>mean</th>\n",
       "      <td>446.000000</td>\n",
       "      <td>0.383838</td>\n",
       "      <td>2.308642</td>\n",
       "      <td>29.699118</td>\n",
       "      <td>0.523008</td>\n",
       "      <td>0.381594</td>\n",
       "      <td>32.204208</td>\n",
       "    </tr>\n",
       "    <tr>\n",
       "      <th>std</th>\n",
       "      <td>257.353842</td>\n",
       "      <td>0.486592</td>\n",
       "      <td>0.836071</td>\n",
       "      <td>14.526497</td>\n",
       "      <td>1.102743</td>\n",
       "      <td>0.806057</td>\n",
       "      <td>49.693429</td>\n",
       "    </tr>\n",
       "    <tr>\n",
       "      <th>min</th>\n",
       "      <td>1.000000</td>\n",
       "      <td>0.000000</td>\n",
       "      <td>1.000000</td>\n",
       "      <td>0.420000</td>\n",
       "      <td>0.000000</td>\n",
       "      <td>0.000000</td>\n",
       "      <td>0.000000</td>\n",
       "    </tr>\n",
       "    <tr>\n",
       "      <th>25%</th>\n",
       "      <td>223.500000</td>\n",
       "      <td>0.000000</td>\n",
       "      <td>2.000000</td>\n",
       "      <td>20.125000</td>\n",
       "      <td>0.000000</td>\n",
       "      <td>0.000000</td>\n",
       "      <td>7.910400</td>\n",
       "    </tr>\n",
       "    <tr>\n",
       "      <th>50%</th>\n",
       "      <td>446.000000</td>\n",
       "      <td>0.000000</td>\n",
       "      <td>3.000000</td>\n",
       "      <td>28.000000</td>\n",
       "      <td>0.000000</td>\n",
       "      <td>0.000000</td>\n",
       "      <td>14.454200</td>\n",
       "    </tr>\n",
       "    <tr>\n",
       "      <th>75%</th>\n",
       "      <td>668.500000</td>\n",
       "      <td>1.000000</td>\n",
       "      <td>3.000000</td>\n",
       "      <td>38.000000</td>\n",
       "      <td>1.000000</td>\n",
       "      <td>0.000000</td>\n",
       "      <td>31.000000</td>\n",
       "    </tr>\n",
       "    <tr>\n",
       "      <th>max</th>\n",
       "      <td>891.000000</td>\n",
       "      <td>1.000000</td>\n",
       "      <td>3.000000</td>\n",
       "      <td>80.000000</td>\n",
       "      <td>8.000000</td>\n",
       "      <td>6.000000</td>\n",
       "      <td>512.329200</td>\n",
       "    </tr>\n",
       "  </tbody>\n",
       "</table>\n",
       "</div>"
      ],
      "text/plain": [
       "       PassengerId    Survived      Pclass         Age       SibSp  \\\n",
       "count   891.000000  891.000000  891.000000  714.000000  891.000000   \n",
       "mean    446.000000    0.383838    2.308642   29.699118    0.523008   \n",
       "std     257.353842    0.486592    0.836071   14.526497    1.102743   \n",
       "min       1.000000    0.000000    1.000000    0.420000    0.000000   \n",
       "25%     223.500000    0.000000    2.000000   20.125000    0.000000   \n",
       "50%     446.000000    0.000000    3.000000   28.000000    0.000000   \n",
       "75%     668.500000    1.000000    3.000000   38.000000    1.000000   \n",
       "max     891.000000    1.000000    3.000000   80.000000    8.000000   \n",
       "\n",
       "            Parch        Fare  \n",
       "count  891.000000  891.000000  \n",
       "mean     0.381594   32.204208  \n",
       "std      0.806057   49.693429  \n",
       "min      0.000000    0.000000  \n",
       "25%      0.000000    7.910400  \n",
       "50%      0.000000   14.454200  \n",
       "75%      0.000000   31.000000  \n",
       "max      6.000000  512.329200  "
      ]
     },
     "execution_count": 172,
     "metadata": {},
     "output_type": "execute_result"
    }
   ],
   "source": [
    "df.describe()"
   ]
  },
  {
   "cell_type": "code",
   "execution_count": 177,
   "id": "20eec27a-84cc-40ba-b117-4daf8d483b89",
   "metadata": {},
   "outputs": [
    {
     "data": {
      "text/html": [
       "<div>\n",
       "<style scoped>\n",
       "    .dataframe tbody tr th:only-of-type {\n",
       "        vertical-align: middle;\n",
       "    }\n",
       "\n",
       "    .dataframe tbody tr th {\n",
       "        vertical-align: top;\n",
       "    }\n",
       "\n",
       "    .dataframe thead th {\n",
       "        text-align: right;\n",
       "    }\n",
       "</style>\n",
       "<table border=\"1\" class=\"dataframe\">\n",
       "  <thead>\n",
       "    <tr style=\"text-align: right;\">\n",
       "      <th></th>\n",
       "      <th>PassengerId</th>\n",
       "      <th>Survived</th>\n",
       "      <th>Pclass</th>\n",
       "      <th>Age</th>\n",
       "      <th>SibSp</th>\n",
       "      <th>Parch</th>\n",
       "      <th>Fare</th>\n",
       "    </tr>\n",
       "  </thead>\n",
       "  <tbody>\n",
       "    <tr>\n",
       "      <th>count</th>\n",
       "      <td>891.000000</td>\n",
       "      <td>891.000000</td>\n",
       "      <td>891.000000</td>\n",
       "      <td>714.000000</td>\n",
       "      <td>891.000000</td>\n",
       "      <td>891.000000</td>\n",
       "      <td>891.000000</td>\n",
       "    </tr>\n",
       "    <tr>\n",
       "      <th>mean</th>\n",
       "      <td>446.000000</td>\n",
       "      <td>0.383838</td>\n",
       "      <td>2.308642</td>\n",
       "      <td>29.699118</td>\n",
       "      <td>0.523008</td>\n",
       "      <td>0.381594</td>\n",
       "      <td>32.204208</td>\n",
       "    </tr>\n",
       "    <tr>\n",
       "      <th>std</th>\n",
       "      <td>257.353842</td>\n",
       "      <td>0.486592</td>\n",
       "      <td>0.836071</td>\n",
       "      <td>14.526497</td>\n",
       "      <td>1.102743</td>\n",
       "      <td>0.806057</td>\n",
       "      <td>49.693429</td>\n",
       "    </tr>\n",
       "    <tr>\n",
       "      <th>min</th>\n",
       "      <td>1.000000</td>\n",
       "      <td>0.000000</td>\n",
       "      <td>1.000000</td>\n",
       "      <td>0.420000</td>\n",
       "      <td>0.000000</td>\n",
       "      <td>0.000000</td>\n",
       "      <td>0.000000</td>\n",
       "    </tr>\n",
       "    <tr>\n",
       "      <th>10%</th>\n",
       "      <td>90.000000</td>\n",
       "      <td>0.000000</td>\n",
       "      <td>1.000000</td>\n",
       "      <td>14.000000</td>\n",
       "      <td>0.000000</td>\n",
       "      <td>0.000000</td>\n",
       "      <td>7.550000</td>\n",
       "    </tr>\n",
       "    <tr>\n",
       "      <th>20%</th>\n",
       "      <td>179.000000</td>\n",
       "      <td>0.000000</td>\n",
       "      <td>1.000000</td>\n",
       "      <td>19.000000</td>\n",
       "      <td>0.000000</td>\n",
       "      <td>0.000000</td>\n",
       "      <td>7.854200</td>\n",
       "    </tr>\n",
       "    <tr>\n",
       "      <th>50%</th>\n",
       "      <td>446.000000</td>\n",
       "      <td>0.000000</td>\n",
       "      <td>3.000000</td>\n",
       "      <td>28.000000</td>\n",
       "      <td>0.000000</td>\n",
       "      <td>0.000000</td>\n",
       "      <td>14.454200</td>\n",
       "    </tr>\n",
       "    <tr>\n",
       "      <th>75%</th>\n",
       "      <td>668.500000</td>\n",
       "      <td>1.000000</td>\n",
       "      <td>3.000000</td>\n",
       "      <td>38.000000</td>\n",
       "      <td>1.000000</td>\n",
       "      <td>0.000000</td>\n",
       "      <td>31.000000</td>\n",
       "    </tr>\n",
       "    <tr>\n",
       "      <th>90%</th>\n",
       "      <td>802.000000</td>\n",
       "      <td>1.000000</td>\n",
       "      <td>3.000000</td>\n",
       "      <td>50.000000</td>\n",
       "      <td>1.000000</td>\n",
       "      <td>2.000000</td>\n",
       "      <td>77.958300</td>\n",
       "    </tr>\n",
       "    <tr>\n",
       "      <th>95%</th>\n",
       "      <td>846.500000</td>\n",
       "      <td>1.000000</td>\n",
       "      <td>3.000000</td>\n",
       "      <td>56.000000</td>\n",
       "      <td>3.000000</td>\n",
       "      <td>2.000000</td>\n",
       "      <td>112.079150</td>\n",
       "    </tr>\n",
       "    <tr>\n",
       "      <th>99%</th>\n",
       "      <td>882.100000</td>\n",
       "      <td>1.000000</td>\n",
       "      <td>3.000000</td>\n",
       "      <td>65.870000</td>\n",
       "      <td>5.000000</td>\n",
       "      <td>4.000000</td>\n",
       "      <td>249.006220</td>\n",
       "    </tr>\n",
       "    <tr>\n",
       "      <th>max</th>\n",
       "      <td>891.000000</td>\n",
       "      <td>1.000000</td>\n",
       "      <td>3.000000</td>\n",
       "      <td>80.000000</td>\n",
       "      <td>8.000000</td>\n",
       "      <td>6.000000</td>\n",
       "      <td>512.329200</td>\n",
       "    </tr>\n",
       "  </tbody>\n",
       "</table>\n",
       "</div>"
      ],
      "text/plain": [
       "       PassengerId    Survived      Pclass         Age       SibSp  \\\n",
       "count   891.000000  891.000000  891.000000  714.000000  891.000000   \n",
       "mean    446.000000    0.383838    2.308642   29.699118    0.523008   \n",
       "std     257.353842    0.486592    0.836071   14.526497    1.102743   \n",
       "min       1.000000    0.000000    1.000000    0.420000    0.000000   \n",
       "10%      90.000000    0.000000    1.000000   14.000000    0.000000   \n",
       "20%     179.000000    0.000000    1.000000   19.000000    0.000000   \n",
       "50%     446.000000    0.000000    3.000000   28.000000    0.000000   \n",
       "75%     668.500000    1.000000    3.000000   38.000000    1.000000   \n",
       "90%     802.000000    1.000000    3.000000   50.000000    1.000000   \n",
       "95%     846.500000    1.000000    3.000000   56.000000    3.000000   \n",
       "99%     882.100000    1.000000    3.000000   65.870000    5.000000   \n",
       "max     891.000000    1.000000    3.000000   80.000000    8.000000   \n",
       "\n",
       "            Parch        Fare  \n",
       "count  891.000000  891.000000  \n",
       "mean     0.381594   32.204208  \n",
       "std      0.806057   49.693429  \n",
       "min      0.000000    0.000000  \n",
       "10%      0.000000    7.550000  \n",
       "20%      0.000000    7.854200  \n",
       "50%      0.000000   14.454200  \n",
       "75%      0.000000   31.000000  \n",
       "90%      2.000000   77.958300  \n",
       "95%      2.000000  112.079150  \n",
       "99%      4.000000  249.006220  \n",
       "max      6.000000  512.329200  "
      ]
     },
     "execution_count": 177,
     "metadata": {},
     "output_type": "execute_result"
    }
   ],
   "source": [
    "df.describe(percentiles=[0.1, .2, .5, .75, .90, .95, .99])"
   ]
  },
  {
   "cell_type": "code",
   "execution_count": 179,
   "id": "822ed320-8242-4c04-80ff-cb607aa3fc60",
   "metadata": {},
   "outputs": [
    {
     "data": {
      "text/plain": [
       "count    714.000000\n",
       "mean      29.699118\n",
       "std       14.526497\n",
       "min        0.420000\n",
       "25%       20.125000\n",
       "50%       28.000000\n",
       "75%       38.000000\n",
       "max       80.000000\n",
       "Name: Age, dtype: float64"
      ]
     },
     "execution_count": 179,
     "metadata": {},
     "output_type": "execute_result"
    }
   ],
   "source": [
    "df.Age.describe()"
   ]
  },
  {
   "cell_type": "code",
   "execution_count": 187,
   "id": "4b9e2b89-edec-4caa-9e69-06d319ed9cb8",
   "metadata": {},
   "outputs": [
    {
     "data": {
      "text/plain": [
       "0.3838383838383838"
      ]
     },
     "execution_count": 187,
     "metadata": {},
     "output_type": "execute_result"
    }
   ],
   "source": [
    "df.Survived.sum()/len(df)"
   ]
  },
  {
   "cell_type": "code",
   "execution_count": 189,
   "id": "e83919c6-7f45-428a-8a1e-c9844400ef07",
   "metadata": {},
   "outputs": [
    {
     "data": {
      "text/html": [
       "<div>\n",
       "<style scoped>\n",
       "    .dataframe tbody tr th:only-of-type {\n",
       "        vertical-align: middle;\n",
       "    }\n",
       "\n",
       "    .dataframe tbody tr th {\n",
       "        vertical-align: top;\n",
       "    }\n",
       "\n",
       "    .dataframe thead th {\n",
       "        text-align: right;\n",
       "    }\n",
       "</style>\n",
       "<table border=\"1\" class=\"dataframe\">\n",
       "  <thead>\n",
       "    <tr style=\"text-align: right;\">\n",
       "      <th></th>\n",
       "      <th>Name</th>\n",
       "      <th>Sex</th>\n",
       "      <th>Ticket</th>\n",
       "      <th>Cabin</th>\n",
       "      <th>Embarked</th>\n",
       "    </tr>\n",
       "  </thead>\n",
       "  <tbody>\n",
       "    <tr>\n",
       "      <th>count</th>\n",
       "      <td>891</td>\n",
       "      <td>891</td>\n",
       "      <td>891</td>\n",
       "      <td>204</td>\n",
       "      <td>889</td>\n",
       "    </tr>\n",
       "    <tr>\n",
       "      <th>unique</th>\n",
       "      <td>891</td>\n",
       "      <td>2</td>\n",
       "      <td>681</td>\n",
       "      <td>147</td>\n",
       "      <td>3</td>\n",
       "    </tr>\n",
       "    <tr>\n",
       "      <th>top</th>\n",
       "      <td>Braund, Mr. Owen Harris</td>\n",
       "      <td>male</td>\n",
       "      <td>347082</td>\n",
       "      <td>B96 B98</td>\n",
       "      <td>S</td>\n",
       "    </tr>\n",
       "    <tr>\n",
       "      <th>freq</th>\n",
       "      <td>1</td>\n",
       "      <td>577</td>\n",
       "      <td>7</td>\n",
       "      <td>4</td>\n",
       "      <td>644</td>\n",
       "    </tr>\n",
       "  </tbody>\n",
       "</table>\n",
       "</div>"
      ],
      "text/plain": [
       "                           Name   Sex  Ticket    Cabin Embarked\n",
       "count                       891   891     891      204      889\n",
       "unique                      891     2     681      147        3\n",
       "top     Braund, Mr. Owen Harris  male  347082  B96 B98        S\n",
       "freq                          1   577       7        4      644"
      ]
     },
     "execution_count": 189,
     "metadata": {},
     "output_type": "execute_result"
    }
   ],
   "source": [
    "df.describe(include=object)"
   ]
  },
  {
   "cell_type": "code",
   "execution_count": 203,
   "id": "e5128ce9-e379-4379-8367-2d2531a00ed4",
   "metadata": {},
   "outputs": [
    {
     "data": {
      "text/plain": [
       "Embarked\n",
       "S    644\n",
       "C    168\n",
       "Q     77\n",
       "Name: count, dtype: int64"
      ]
     },
     "execution_count": 203,
     "metadata": {},
     "output_type": "execute_result"
    }
   ],
   "source": [
    "df.Embarked.value_counts()"
   ]
  },
  {
   "cell_type": "markdown",
   "id": "b796b19c-c8b8-4981-a597-0beafef14c87",
   "metadata": {},
   "source": [
    "# Mathematical and Statistical Functions"
   ]
  },
  {
   "cell_type": "markdown",
   "id": "6b524248-6aa2-4f88-ab35-f471df6ab096",
   "metadata": {},
   "source": [
    "### mean()"
   ]
  },
  {
   "cell_type": "code",
   "execution_count": 195,
   "id": "3d780478-8154-4981-8b22-730a58414ea6",
   "metadata": {},
   "outputs": [
    {
     "data": {
      "text/plain": [
       "PassengerId    446.000000\n",
       "Survived         0.383838\n",
       "Pclass           2.308642\n",
       "Age             29.699118\n",
       "SibSp            0.523008\n",
       "Parch            0.381594\n",
       "Fare            32.204208\n",
       "dtype: float64"
      ]
     },
     "execution_count": 195,
     "metadata": {},
     "output_type": "execute_result"
    }
   ],
   "source": [
    "df.mean(numeric_only=True)"
   ]
  },
  {
   "cell_type": "code",
   "execution_count": 197,
   "id": "100b3cc4-0317-4889-b291-e94917f57626",
   "metadata": {},
   "outputs": [
    {
     "data": {
      "text/plain": [
       "32.204207968574636"
      ]
     },
     "execution_count": 197,
     "metadata": {},
     "output_type": "execute_result"
    }
   ],
   "source": [
    "df.Fare.mean()"
   ]
  },
  {
   "cell_type": "code",
   "execution_count": 201,
   "id": "2526a965-b109-4835-a9e6-079084ecf69a",
   "metadata": {},
   "outputs": [
    {
     "data": {
      "text/plain": [
       "Age     29.699118\n",
       "Fare    32.204208\n",
       "dtype: float64"
      ]
     },
     "execution_count": 201,
     "metadata": {},
     "output_type": "execute_result"
    }
   ],
   "source": [
    "df[['Age','Fare']].mean()"
   ]
  },
  {
   "cell_type": "markdown",
   "id": "e4fe34ec-1575-4cf2-92a4-49a142ceace5",
   "metadata": {},
   "source": [
    "### median()"
   ]
  },
  {
   "cell_type": "code",
   "execution_count": 208,
   "id": "1bcdec62-cd2a-4e30-955e-1857a1e3df6a",
   "metadata": {},
   "outputs": [
    {
     "data": {
      "text/plain": [
       "PassengerId    446.0000\n",
       "Survived         0.0000\n",
       "Pclass           3.0000\n",
       "Age             28.0000\n",
       "SibSp            0.0000\n",
       "Parch            0.0000\n",
       "Fare            14.4542\n",
       "dtype: float64"
      ]
     },
     "execution_count": 208,
     "metadata": {},
     "output_type": "execute_result"
    }
   ],
   "source": [
    "df.median(numeric_only=True)"
   ]
  },
  {
   "cell_type": "code",
   "execution_count": 210,
   "id": "886f4122-9f44-460a-b8db-1245a4509b8b",
   "metadata": {},
   "outputs": [
    {
     "data": {
      "text/plain": [
       "28.0"
      ]
     },
     "execution_count": 210,
     "metadata": {},
     "output_type": "execute_result"
    }
   ],
   "source": [
    "df.Age.median()"
   ]
  },
  {
   "cell_type": "markdown",
   "id": "ebf31d17-4b06-45af-98fc-ede8ab0e6aec",
   "metadata": {},
   "source": [
    "### sum()"
   ]
  },
  {
   "cell_type": "code",
   "execution_count": 215,
   "id": "b4ebbb9c-ac43-496d-adad-5af07ea78802",
   "metadata": {},
   "outputs": [
    {
     "data": {
      "text/plain": [
       "PassengerId    397386.0000\n",
       "Survived          342.0000\n",
       "Pclass           2057.0000\n",
       "Age             21205.1700\n",
       "SibSp             466.0000\n",
       "Parch             340.0000\n",
       "Fare            28693.9493\n",
       "dtype: float64"
      ]
     },
     "execution_count": 215,
     "metadata": {},
     "output_type": "execute_result"
    }
   ],
   "source": [
    "df.sum(numeric_only=True)"
   ]
  },
  {
   "cell_type": "code",
   "execution_count": 217,
   "id": "6b6f1f2b-b33b-4b72-9ea1-a562a56426ba",
   "metadata": {},
   "outputs": [
    {
     "data": {
      "text/plain": [
       "28693.9493"
      ]
     },
     "execution_count": 217,
     "metadata": {},
     "output_type": "execute_result"
    }
   ],
   "source": [
    "df.Fare.sum()"
   ]
  },
  {
   "cell_type": "markdown",
   "id": "fa077ee7-6fe1-4730-9bc7-17261a4d99a1",
   "metadata": {},
   "source": [
    "### min()"
   ]
  },
  {
   "cell_type": "code",
   "execution_count": 220,
   "id": "467c2a23-e90d-49c5-9bb8-a4ecf8288243",
   "metadata": {},
   "outputs": [
    {
     "data": {
      "text/plain": [
       "PassengerId    1.00\n",
       "Survived       0.00\n",
       "Pclass         1.00\n",
       "Age            0.42\n",
       "SibSp          0.00\n",
       "Parch          0.00\n",
       "Fare           0.00\n",
       "dtype: float64"
      ]
     },
     "execution_count": 220,
     "metadata": {},
     "output_type": "execute_result"
    }
   ],
   "source": [
    "df.min(numeric_only=True)"
   ]
  },
  {
   "cell_type": "code",
   "execution_count": 222,
   "id": "2eab6086-0336-4086-b8b5-371b1d45a93c",
   "metadata": {},
   "outputs": [
    {
     "data": {
      "text/plain": [
       "0.42"
      ]
     },
     "execution_count": 222,
     "metadata": {},
     "output_type": "execute_result"
    }
   ],
   "source": [
    "df.Age.min()"
   ]
  },
  {
   "cell_type": "markdown",
   "id": "7a2fb762-7449-4e41-b014-f5470e9435bd",
   "metadata": {},
   "source": [
    "### mmax()"
   ]
  },
  {
   "cell_type": "code",
   "execution_count": 225,
   "id": "3c038ba7-9c11-4768-8d20-da754a5c1e87",
   "metadata": {},
   "outputs": [
    {
     "data": {
      "text/plain": [
       "PassengerId    891.0000\n",
       "Survived         1.0000\n",
       "Pclass           3.0000\n",
       "Age             80.0000\n",
       "SibSp            8.0000\n",
       "Parch            6.0000\n",
       "Fare           512.3292\n",
       "dtype: float64"
      ]
     },
     "execution_count": 225,
     "metadata": {},
     "output_type": "execute_result"
    }
   ],
   "source": [
    "df.max(numeric_only=True)"
   ]
  },
  {
   "cell_type": "code",
   "execution_count": 227,
   "id": "9c855f5f-39e3-4ec5-b6fc-df5bbf4cfca1",
   "metadata": {},
   "outputs": [
    {
     "data": {
      "text/plain": [
       "80.0"
      ]
     },
     "execution_count": 227,
     "metadata": {},
     "output_type": "execute_result"
    }
   ],
   "source": [
    "df.Age.max()"
   ]
  },
  {
   "cell_type": "markdown",
   "id": "1cacae2e-571a-4c74-9f76-58fc6880a289",
   "metadata": {},
   "source": [
    "### mode()"
   ]
  },
  {
   "cell_type": "code",
   "execution_count": 232,
   "id": "741e5df9-3c84-4e3f-a8ea-9595c2a23969",
   "metadata": {},
   "outputs": [],
   "source": [
    "# df.mode()"
   ]
  },
  {
   "cell_type": "code",
   "execution_count": 234,
   "id": "de55751c-24a7-420f-a4cb-27580f930e56",
   "metadata": {},
   "outputs": [
    {
     "data": {
      "text/plain": [
       "0    24.0\n",
       "Name: Age, dtype: float64"
      ]
     },
     "execution_count": 234,
     "metadata": {},
     "output_type": "execute_result"
    }
   ],
   "source": [
    "df.Age.mode()"
   ]
  },
  {
   "cell_type": "code",
   "execution_count": 236,
   "id": "7ed8a701-83f7-42cd-a4ef-fb5c527b9cfc",
   "metadata": {},
   "outputs": [
    {
     "data": {
      "text/plain": [
       "0    male\n",
       "Name: Sex, dtype: object"
      ]
     },
     "execution_count": 236,
     "metadata": {},
     "output_type": "execute_result"
    }
   ],
   "source": [
    "df.Sex.mode()"
   ]
  },
  {
   "cell_type": "code",
   "execution_count": 238,
   "id": "6c24b56c-8c3a-4db1-b2a7-60db172ce287",
   "metadata": {},
   "outputs": [
    {
     "data": {
      "text/plain": [
       "0    S\n",
       "Name: Embarked, dtype: object"
      ]
     },
     "execution_count": 238,
     "metadata": {},
     "output_type": "execute_result"
    }
   ],
   "source": [
    "df.Embarked.mode()"
   ]
  },
  {
   "cell_type": "markdown",
   "id": "e6fd740b-dd7d-4ec9-a56a-cf2b4099ef79",
   "metadata": {},
   "source": [
    "### std()"
   ]
  },
  {
   "cell_type": "code",
   "execution_count": 241,
   "id": "844ef33e-6bb4-466a-93af-d3d4eae2de1d",
   "metadata": {},
   "outputs": [
    {
     "data": {
      "text/plain": [
       "PassengerId    257.353842\n",
       "Survived         0.486592\n",
       "Pclass           0.836071\n",
       "Age             14.526497\n",
       "SibSp            1.102743\n",
       "Parch            0.806057\n",
       "Fare            49.693429\n",
       "dtype: float64"
      ]
     },
     "execution_count": 241,
     "metadata": {},
     "output_type": "execute_result"
    }
   ],
   "source": [
    "df.std(numeric_only=True)"
   ]
  },
  {
   "cell_type": "code",
   "execution_count": 243,
   "id": "7d8fa8b0-e936-48f6-87a5-19f736022c92",
   "metadata": {},
   "outputs": [
    {
     "data": {
      "text/plain": [
       "49.693428597180905"
      ]
     },
     "execution_count": 243,
     "metadata": {},
     "output_type": "execute_result"
    }
   ],
   "source": [
    "df.Fare.std()"
   ]
  },
  {
   "cell_type": "markdown",
   "id": "f165331a-541c-403f-9b74-a3898fa3a4ba",
   "metadata": {},
   "source": [
    "### var()"
   ]
  },
  {
   "cell_type": "code",
   "execution_count": 248,
   "id": "a7433523-66d8-4456-9f75-fc9f1720b123",
   "metadata": {},
   "outputs": [
    {
     "data": {
      "text/plain": [
       "PassengerId    66231.000000\n",
       "Survived           0.236772\n",
       "Pclass             0.699015\n",
       "Age              211.019125\n",
       "SibSp              1.216043\n",
       "Parch              0.649728\n",
       "Fare            2469.436846\n",
       "dtype: float64"
      ]
     },
     "execution_count": 248,
     "metadata": {},
     "output_type": "execute_result"
    }
   ],
   "source": [
    "df.var(numeric_only=True)"
   ]
  },
  {
   "cell_type": "code",
   "execution_count": 250,
   "id": "f6829c84-e15c-4d49-a23b-051310c8cf4b",
   "metadata": {},
   "outputs": [
    {
     "data": {
      "text/plain": [
       "211.0191247463081"
      ]
     },
     "execution_count": 250,
     "metadata": {},
     "output_type": "execute_result"
    }
   ],
   "source": [
    "df.Age.var()"
   ]
  },
  {
   "cell_type": "markdown",
   "id": "c9319730-2304-4f4c-bb2e-601b4a859d4a",
   "metadata": {},
   "source": [
    "### quantile()"
   ]
  },
  {
   "cell_type": "code",
   "execution_count": 253,
   "id": "c42f4483-0aff-413c-83f3-7b3dddb47426",
   "metadata": {},
   "outputs": [],
   "source": [
    "# - It is used to calculate the percentile value."
   ]
  },
  {
   "cell_type": "code",
   "execution_count": 273,
   "id": "79c8abff-2561-44e2-b69a-199d9cb01475",
   "metadata": {},
   "outputs": [
    {
     "data": {
      "text/html": [
       "<div>\n",
       "<style scoped>\n",
       "    .dataframe tbody tr th:only-of-type {\n",
       "        vertical-align: middle;\n",
       "    }\n",
       "\n",
       "    .dataframe tbody tr th {\n",
       "        vertical-align: top;\n",
       "    }\n",
       "\n",
       "    .dataframe thead th {\n",
       "        text-align: right;\n",
       "    }\n",
       "</style>\n",
       "<table border=\"1\" class=\"dataframe\">\n",
       "  <thead>\n",
       "    <tr style=\"text-align: right;\">\n",
       "      <th></th>\n",
       "      <th>PassengerId</th>\n",
       "      <th>Survived</th>\n",
       "      <th>Pclass</th>\n",
       "      <th>Age</th>\n",
       "      <th>SibSp</th>\n",
       "      <th>Parch</th>\n",
       "      <th>Fare</th>\n",
       "    </tr>\n",
       "  </thead>\n",
       "  <tbody>\n",
       "    <tr>\n",
       "      <th>0.10</th>\n",
       "      <td>90.0</td>\n",
       "      <td>0.0</td>\n",
       "      <td>1.0</td>\n",
       "      <td>14.000</td>\n",
       "      <td>0.0</td>\n",
       "      <td>0.0</td>\n",
       "      <td>7.55000</td>\n",
       "    </tr>\n",
       "    <tr>\n",
       "      <th>0.25</th>\n",
       "      <td>223.5</td>\n",
       "      <td>0.0</td>\n",
       "      <td>2.0</td>\n",
       "      <td>20.125</td>\n",
       "      <td>0.0</td>\n",
       "      <td>0.0</td>\n",
       "      <td>7.91040</td>\n",
       "    </tr>\n",
       "    <tr>\n",
       "      <th>0.50</th>\n",
       "      <td>446.0</td>\n",
       "      <td>0.0</td>\n",
       "      <td>3.0</td>\n",
       "      <td>28.000</td>\n",
       "      <td>0.0</td>\n",
       "      <td>0.0</td>\n",
       "      <td>14.45420</td>\n",
       "    </tr>\n",
       "    <tr>\n",
       "      <th>0.75</th>\n",
       "      <td>668.5</td>\n",
       "      <td>1.0</td>\n",
       "      <td>3.0</td>\n",
       "      <td>38.000</td>\n",
       "      <td>1.0</td>\n",
       "      <td>0.0</td>\n",
       "      <td>31.00000</td>\n",
       "    </tr>\n",
       "    <tr>\n",
       "      <th>0.90</th>\n",
       "      <td>802.0</td>\n",
       "      <td>1.0</td>\n",
       "      <td>3.0</td>\n",
       "      <td>50.000</td>\n",
       "      <td>1.0</td>\n",
       "      <td>2.0</td>\n",
       "      <td>77.95830</td>\n",
       "    </tr>\n",
       "    <tr>\n",
       "      <th>0.95</th>\n",
       "      <td>846.5</td>\n",
       "      <td>1.0</td>\n",
       "      <td>3.0</td>\n",
       "      <td>56.000</td>\n",
       "      <td>3.0</td>\n",
       "      <td>2.0</td>\n",
       "      <td>112.07915</td>\n",
       "    </tr>\n",
       "    <tr>\n",
       "      <th>0.99</th>\n",
       "      <td>882.1</td>\n",
       "      <td>1.0</td>\n",
       "      <td>3.0</td>\n",
       "      <td>65.870</td>\n",
       "      <td>5.0</td>\n",
       "      <td>4.0</td>\n",
       "      <td>249.00622</td>\n",
       "    </tr>\n",
       "  </tbody>\n",
       "</table>\n",
       "</div>"
      ],
      "text/plain": [
       "      PassengerId  Survived  Pclass     Age  SibSp  Parch       Fare\n",
       "0.10         90.0       0.0     1.0  14.000    0.0    0.0    7.55000\n",
       "0.25        223.5       0.0     2.0  20.125    0.0    0.0    7.91040\n",
       "0.50        446.0       0.0     3.0  28.000    0.0    0.0   14.45420\n",
       "0.75        668.5       1.0     3.0  38.000    1.0    0.0   31.00000\n",
       "0.90        802.0       1.0     3.0  50.000    1.0    2.0   77.95830\n",
       "0.95        846.5       1.0     3.0  56.000    3.0    2.0  112.07915\n",
       "0.99        882.1       1.0     3.0  65.870    5.0    4.0  249.00622"
      ]
     },
     "execution_count": 273,
     "metadata": {},
     "output_type": "execute_result"
    }
   ],
   "source": [
    "df.quantile(numeric_only=True, q=[.1, .25, 0.50, .75, .90, .95, .99])"
   ]
  },
  {
   "cell_type": "code",
   "execution_count": 277,
   "id": "3eaa86b9-f36e-4b8d-86c5-4db772d52dae",
   "metadata": {},
   "outputs": [
    {
     "data": {
      "text/plain": [
       "0.25    20.125\n",
       "0.50    28.000\n",
       "Name: Age, dtype: float64"
      ]
     },
     "execution_count": 277,
     "metadata": {},
     "output_type": "execute_result"
    }
   ],
   "source": [
    "df.Age.quantile([.25, .50])"
   ]
  },
  {
   "cell_type": "markdown",
   "id": "774513e6-e1e9-4fc0-9f8e-1718dc9af896",
   "metadata": {},
   "source": [
    "### corr()"
   ]
  },
  {
   "cell_type": "code",
   "execution_count": 280,
   "id": "1417185b-891f-4463-a5c8-3c51ec6c6c33",
   "metadata": {},
   "outputs": [],
   "source": [
    "# - It returns the coorelation matrix."
   ]
  },
  {
   "cell_type": "code",
   "execution_count": 284,
   "id": "2f81eead-4c67-4705-af78-814c94007292",
   "metadata": {},
   "outputs": [
    {
     "data": {
      "text/html": [
       "<div>\n",
       "<style scoped>\n",
       "    .dataframe tbody tr th:only-of-type {\n",
       "        vertical-align: middle;\n",
       "    }\n",
       "\n",
       "    .dataframe tbody tr th {\n",
       "        vertical-align: top;\n",
       "    }\n",
       "\n",
       "    .dataframe thead th {\n",
       "        text-align: right;\n",
       "    }\n",
       "</style>\n",
       "<table border=\"1\" class=\"dataframe\">\n",
       "  <thead>\n",
       "    <tr style=\"text-align: right;\">\n",
       "      <th></th>\n",
       "      <th>PassengerId</th>\n",
       "      <th>Survived</th>\n",
       "      <th>Pclass</th>\n",
       "      <th>Age</th>\n",
       "      <th>SibSp</th>\n",
       "      <th>Parch</th>\n",
       "      <th>Fare</th>\n",
       "    </tr>\n",
       "  </thead>\n",
       "  <tbody>\n",
       "    <tr>\n",
       "      <th>PassengerId</th>\n",
       "      <td>1.000000</td>\n",
       "      <td>-0.005007</td>\n",
       "      <td>-0.035144</td>\n",
       "      <td>0.036847</td>\n",
       "      <td>-0.057527</td>\n",
       "      <td>-0.001652</td>\n",
       "      <td>0.012658</td>\n",
       "    </tr>\n",
       "    <tr>\n",
       "      <th>Survived</th>\n",
       "      <td>-0.005007</td>\n",
       "      <td>1.000000</td>\n",
       "      <td>-0.338481</td>\n",
       "      <td>-0.077221</td>\n",
       "      <td>-0.035322</td>\n",
       "      <td>0.081629</td>\n",
       "      <td>0.257307</td>\n",
       "    </tr>\n",
       "    <tr>\n",
       "      <th>Pclass</th>\n",
       "      <td>-0.035144</td>\n",
       "      <td>-0.338481</td>\n",
       "      <td>1.000000</td>\n",
       "      <td>-0.369226</td>\n",
       "      <td>0.083081</td>\n",
       "      <td>0.018443</td>\n",
       "      <td>-0.549500</td>\n",
       "    </tr>\n",
       "    <tr>\n",
       "      <th>Age</th>\n",
       "      <td>0.036847</td>\n",
       "      <td>-0.077221</td>\n",
       "      <td>-0.369226</td>\n",
       "      <td>1.000000</td>\n",
       "      <td>-0.308247</td>\n",
       "      <td>-0.189119</td>\n",
       "      <td>0.096067</td>\n",
       "    </tr>\n",
       "    <tr>\n",
       "      <th>SibSp</th>\n",
       "      <td>-0.057527</td>\n",
       "      <td>-0.035322</td>\n",
       "      <td>0.083081</td>\n",
       "      <td>-0.308247</td>\n",
       "      <td>1.000000</td>\n",
       "      <td>0.414838</td>\n",
       "      <td>0.159651</td>\n",
       "    </tr>\n",
       "    <tr>\n",
       "      <th>Parch</th>\n",
       "      <td>-0.001652</td>\n",
       "      <td>0.081629</td>\n",
       "      <td>0.018443</td>\n",
       "      <td>-0.189119</td>\n",
       "      <td>0.414838</td>\n",
       "      <td>1.000000</td>\n",
       "      <td>0.216225</td>\n",
       "    </tr>\n",
       "    <tr>\n",
       "      <th>Fare</th>\n",
       "      <td>0.012658</td>\n",
       "      <td>0.257307</td>\n",
       "      <td>-0.549500</td>\n",
       "      <td>0.096067</td>\n",
       "      <td>0.159651</td>\n",
       "      <td>0.216225</td>\n",
       "      <td>1.000000</td>\n",
       "    </tr>\n",
       "  </tbody>\n",
       "</table>\n",
       "</div>"
      ],
      "text/plain": [
       "             PassengerId  Survived    Pclass       Age     SibSp     Parch  \\\n",
       "PassengerId     1.000000 -0.005007 -0.035144  0.036847 -0.057527 -0.001652   \n",
       "Survived       -0.005007  1.000000 -0.338481 -0.077221 -0.035322  0.081629   \n",
       "Pclass         -0.035144 -0.338481  1.000000 -0.369226  0.083081  0.018443   \n",
       "Age             0.036847 -0.077221 -0.369226  1.000000 -0.308247 -0.189119   \n",
       "SibSp          -0.057527 -0.035322  0.083081 -0.308247  1.000000  0.414838   \n",
       "Parch          -0.001652  0.081629  0.018443 -0.189119  0.414838  1.000000   \n",
       "Fare            0.012658  0.257307 -0.549500  0.096067  0.159651  0.216225   \n",
       "\n",
       "                 Fare  \n",
       "PassengerId  0.012658  \n",
       "Survived     0.257307  \n",
       "Pclass      -0.549500  \n",
       "Age          0.096067  \n",
       "SibSp        0.159651  \n",
       "Parch        0.216225  \n",
       "Fare         1.000000  "
      ]
     },
     "execution_count": 284,
     "metadata": {},
     "output_type": "execute_result"
    }
   ],
   "source": [
    "df.corr(numeric_only=True)"
   ]
  },
  {
   "cell_type": "code",
   "execution_count": 286,
   "id": "29ee0b10-c531-4d3c-8bfc-a8e16936cc58",
   "metadata": {},
   "outputs": [
    {
     "data": {
      "text/html": [
       "<div>\n",
       "<style scoped>\n",
       "    .dataframe tbody tr th:only-of-type {\n",
       "        vertical-align: middle;\n",
       "    }\n",
       "\n",
       "    .dataframe tbody tr th {\n",
       "        vertical-align: top;\n",
       "    }\n",
       "\n",
       "    .dataframe thead th {\n",
       "        text-align: right;\n",
       "    }\n",
       "</style>\n",
       "<table border=\"1\" class=\"dataframe\">\n",
       "  <thead>\n",
       "    <tr style=\"text-align: right;\">\n",
       "      <th></th>\n",
       "      <th>Age</th>\n",
       "      <th>Fare</th>\n",
       "    </tr>\n",
       "  </thead>\n",
       "  <tbody>\n",
       "    <tr>\n",
       "      <th>Age</th>\n",
       "      <td>1.000000</td>\n",
       "      <td>0.096067</td>\n",
       "    </tr>\n",
       "    <tr>\n",
       "      <th>Fare</th>\n",
       "      <td>0.096067</td>\n",
       "      <td>1.000000</td>\n",
       "    </tr>\n",
       "  </tbody>\n",
       "</table>\n",
       "</div>"
      ],
      "text/plain": [
       "           Age      Fare\n",
       "Age   1.000000  0.096067\n",
       "Fare  0.096067  1.000000"
      ]
     },
     "execution_count": 286,
     "metadata": {},
     "output_type": "execute_result"
    }
   ],
   "source": [
    "df[['Age', 'Fare']].corr()"
   ]
  },
  {
   "cell_type": "markdown",
   "id": "ec66c308-fbc6-4be2-a2fc-92b89ba42d05",
   "metadata": {},
   "source": [
    "# Changing the column names"
   ]
  },
  {
   "cell_type": "code",
   "execution_count": 299,
   "id": "d55a13ba-824e-4d49-a736-335981a05774",
   "metadata": {},
   "outputs": [],
   "source": [
    "# df.rename({col_name:new_name}, axis=1, inplace=True)"
   ]
  },
  {
   "cell_type": "code",
   "execution_count": 301,
   "id": "ba17a07f-cfd4-4897-bd67-e7fb7d64243c",
   "metadata": {},
   "outputs": [],
   "source": [
    "# Sex-Gender\n",
    "# Parch-Parents\n",
    "# SibSp- Siblings"
   ]
  },
  {
   "cell_type": "code",
   "execution_count": 307,
   "id": "3b9dcd3b-6446-4068-b6d0-cdd8ed265d54",
   "metadata": {},
   "outputs": [],
   "source": [
    "df.rename({'Sex':'Gender', 'SibSp':'Siblings', 'Parch':'Parents'}, axis=1, inplace=True)"
   ]
  },
  {
   "cell_type": "code",
   "execution_count": 309,
   "id": "43cc95af-2ae0-4eae-a5ec-f349b4318bc0",
   "metadata": {},
   "outputs": [
    {
     "data": {
      "text/html": [
       "<div>\n",
       "<style scoped>\n",
       "    .dataframe tbody tr th:only-of-type {\n",
       "        vertical-align: middle;\n",
       "    }\n",
       "\n",
       "    .dataframe tbody tr th {\n",
       "        vertical-align: top;\n",
       "    }\n",
       "\n",
       "    .dataframe thead th {\n",
       "        text-align: right;\n",
       "    }\n",
       "</style>\n",
       "<table border=\"1\" class=\"dataframe\">\n",
       "  <thead>\n",
       "    <tr style=\"text-align: right;\">\n",
       "      <th></th>\n",
       "      <th>PassengerId</th>\n",
       "      <th>Survived</th>\n",
       "      <th>Pclass</th>\n",
       "      <th>Name</th>\n",
       "      <th>Gender</th>\n",
       "      <th>Age</th>\n",
       "      <th>Siblings</th>\n",
       "      <th>Parents</th>\n",
       "      <th>Ticket</th>\n",
       "      <th>Fare</th>\n",
       "      <th>Cabin</th>\n",
       "      <th>Embarked</th>\n",
       "    </tr>\n",
       "  </thead>\n",
       "  <tbody>\n",
       "    <tr>\n",
       "      <th>0</th>\n",
       "      <td>1</td>\n",
       "      <td>0</td>\n",
       "      <td>3</td>\n",
       "      <td>Braund, Mr. Owen Harris</td>\n",
       "      <td>male</td>\n",
       "      <td>22.0</td>\n",
       "      <td>1</td>\n",
       "      <td>0</td>\n",
       "      <td>A/5 21171</td>\n",
       "      <td>7.2500</td>\n",
       "      <td>NaN</td>\n",
       "      <td>S</td>\n",
       "    </tr>\n",
       "    <tr>\n",
       "      <th>1</th>\n",
       "      <td>2</td>\n",
       "      <td>1</td>\n",
       "      <td>1</td>\n",
       "      <td>Cumings, Mrs. John Bradley (Florence Briggs Th...</td>\n",
       "      <td>female</td>\n",
       "      <td>38.0</td>\n",
       "      <td>1</td>\n",
       "      <td>0</td>\n",
       "      <td>PC 17599</td>\n",
       "      <td>71.2833</td>\n",
       "      <td>C85</td>\n",
       "      <td>C</td>\n",
       "    </tr>\n",
       "    <tr>\n",
       "      <th>2</th>\n",
       "      <td>3</td>\n",
       "      <td>1</td>\n",
       "      <td>3</td>\n",
       "      <td>Heikkinen, Miss. Laina</td>\n",
       "      <td>female</td>\n",
       "      <td>26.0</td>\n",
       "      <td>0</td>\n",
       "      <td>0</td>\n",
       "      <td>STON/O2. 3101282</td>\n",
       "      <td>7.9250</td>\n",
       "      <td>NaN</td>\n",
       "      <td>S</td>\n",
       "    </tr>\n",
       "    <tr>\n",
       "      <th>3</th>\n",
       "      <td>4</td>\n",
       "      <td>1</td>\n",
       "      <td>1</td>\n",
       "      <td>Futrelle, Mrs. Jacques Heath (Lily May Peel)</td>\n",
       "      <td>female</td>\n",
       "      <td>35.0</td>\n",
       "      <td>1</td>\n",
       "      <td>0</td>\n",
       "      <td>113803</td>\n",
       "      <td>53.1000</td>\n",
       "      <td>C123</td>\n",
       "      <td>S</td>\n",
       "    </tr>\n",
       "    <tr>\n",
       "      <th>4</th>\n",
       "      <td>5</td>\n",
       "      <td>0</td>\n",
       "      <td>3</td>\n",
       "      <td>Allen, Mr. William Henry</td>\n",
       "      <td>male</td>\n",
       "      <td>35.0</td>\n",
       "      <td>0</td>\n",
       "      <td>0</td>\n",
       "      <td>373450</td>\n",
       "      <td>8.0500</td>\n",
       "      <td>NaN</td>\n",
       "      <td>S</td>\n",
       "    </tr>\n",
       "  </tbody>\n",
       "</table>\n",
       "</div>"
      ],
      "text/plain": [
       "   PassengerId  Survived  Pclass  \\\n",
       "0            1         0       3   \n",
       "1            2         1       1   \n",
       "2            3         1       3   \n",
       "3            4         1       1   \n",
       "4            5         0       3   \n",
       "\n",
       "                                                Name  Gender   Age  Siblings  \\\n",
       "0                            Braund, Mr. Owen Harris    male  22.0         1   \n",
       "1  Cumings, Mrs. John Bradley (Florence Briggs Th...  female  38.0         1   \n",
       "2                             Heikkinen, Miss. Laina  female  26.0         0   \n",
       "3       Futrelle, Mrs. Jacques Heath (Lily May Peel)  female  35.0         1   \n",
       "4                           Allen, Mr. William Henry    male  35.0         0   \n",
       "\n",
       "   Parents            Ticket     Fare Cabin Embarked  \n",
       "0        0         A/5 21171   7.2500   NaN        S  \n",
       "1        0          PC 17599  71.2833   C85        C  \n",
       "2        0  STON/O2. 3101282   7.9250   NaN        S  \n",
       "3        0            113803  53.1000  C123        S  \n",
       "4        0            373450   8.0500   NaN        S  "
      ]
     },
     "execution_count": 309,
     "metadata": {},
     "output_type": "execute_result"
    }
   ],
   "source": [
    "df.head()"
   ]
  },
  {
   "cell_type": "markdown",
   "id": "dcd8588d-3a85-41f2-b176-221a44e211ed",
   "metadata": {},
   "source": [
    "# Data Filteration"
   ]
  },
  {
   "cell_type": "markdown",
   "id": "76b1b1f9-7f73-475f-8d72-8aecb15cae01",
   "metadata": {},
   "source": [
    "### Conditions"
   ]
  },
  {
   "cell_type": "code",
   "execution_count": 311,
   "id": "8739912a-32be-4f2f-b895-75472a7f947e",
   "metadata": {},
   "outputs": [
    {
     "data": {
      "text/html": [
       "<div>\n",
       "<style scoped>\n",
       "    .dataframe tbody tr th:only-of-type {\n",
       "        vertical-align: middle;\n",
       "    }\n",
       "\n",
       "    .dataframe tbody tr th {\n",
       "        vertical-align: top;\n",
       "    }\n",
       "\n",
       "    .dataframe thead th {\n",
       "        text-align: right;\n",
       "    }\n",
       "</style>\n",
       "<table border=\"1\" class=\"dataframe\">\n",
       "  <thead>\n",
       "    <tr style=\"text-align: right;\">\n",
       "      <th></th>\n",
       "      <th>PassengerId</th>\n",
       "      <th>Survived</th>\n",
       "      <th>Pclass</th>\n",
       "      <th>Name</th>\n",
       "      <th>Gender</th>\n",
       "      <th>Age</th>\n",
       "      <th>Siblings</th>\n",
       "      <th>Parents</th>\n",
       "      <th>Ticket</th>\n",
       "      <th>Fare</th>\n",
       "      <th>Cabin</th>\n",
       "      <th>Embarked</th>\n",
       "    </tr>\n",
       "  </thead>\n",
       "  <tbody>\n",
       "    <tr>\n",
       "      <th>0</th>\n",
       "      <td>1</td>\n",
       "      <td>0</td>\n",
       "      <td>3</td>\n",
       "      <td>Braund, Mr. Owen Harris</td>\n",
       "      <td>male</td>\n",
       "      <td>22.0</td>\n",
       "      <td>1</td>\n",
       "      <td>0</td>\n",
       "      <td>A/5 21171</td>\n",
       "      <td>7.2500</td>\n",
       "      <td>NaN</td>\n",
       "      <td>S</td>\n",
       "    </tr>\n",
       "    <tr>\n",
       "      <th>1</th>\n",
       "      <td>2</td>\n",
       "      <td>1</td>\n",
       "      <td>1</td>\n",
       "      <td>Cumings, Mrs. John Bradley (Florence Briggs Th...</td>\n",
       "      <td>female</td>\n",
       "      <td>38.0</td>\n",
       "      <td>1</td>\n",
       "      <td>0</td>\n",
       "      <td>PC 17599</td>\n",
       "      <td>71.2833</td>\n",
       "      <td>C85</td>\n",
       "      <td>C</td>\n",
       "    </tr>\n",
       "    <tr>\n",
       "      <th>2</th>\n",
       "      <td>3</td>\n",
       "      <td>1</td>\n",
       "      <td>3</td>\n",
       "      <td>Heikkinen, Miss. Laina</td>\n",
       "      <td>female</td>\n",
       "      <td>26.0</td>\n",
       "      <td>0</td>\n",
       "      <td>0</td>\n",
       "      <td>STON/O2. 3101282</td>\n",
       "      <td>7.9250</td>\n",
       "      <td>NaN</td>\n",
       "      <td>S</td>\n",
       "    </tr>\n",
       "    <tr>\n",
       "      <th>3</th>\n",
       "      <td>4</td>\n",
       "      <td>1</td>\n",
       "      <td>1</td>\n",
       "      <td>Futrelle, Mrs. Jacques Heath (Lily May Peel)</td>\n",
       "      <td>female</td>\n",
       "      <td>35.0</td>\n",
       "      <td>1</td>\n",
       "      <td>0</td>\n",
       "      <td>113803</td>\n",
       "      <td>53.1000</td>\n",
       "      <td>C123</td>\n",
       "      <td>S</td>\n",
       "    </tr>\n",
       "    <tr>\n",
       "      <th>4</th>\n",
       "      <td>5</td>\n",
       "      <td>0</td>\n",
       "      <td>3</td>\n",
       "      <td>Allen, Mr. William Henry</td>\n",
       "      <td>male</td>\n",
       "      <td>35.0</td>\n",
       "      <td>0</td>\n",
       "      <td>0</td>\n",
       "      <td>373450</td>\n",
       "      <td>8.0500</td>\n",
       "      <td>NaN</td>\n",
       "      <td>S</td>\n",
       "    </tr>\n",
       "  </tbody>\n",
       "</table>\n",
       "</div>"
      ],
      "text/plain": [
       "   PassengerId  Survived  Pclass  \\\n",
       "0            1         0       3   \n",
       "1            2         1       1   \n",
       "2            3         1       3   \n",
       "3            4         1       1   \n",
       "4            5         0       3   \n",
       "\n",
       "                                                Name  Gender   Age  Siblings  \\\n",
       "0                            Braund, Mr. Owen Harris    male  22.0         1   \n",
       "1  Cumings, Mrs. John Bradley (Florence Briggs Th...  female  38.0         1   \n",
       "2                             Heikkinen, Miss. Laina  female  26.0         0   \n",
       "3       Futrelle, Mrs. Jacques Heath (Lily May Peel)  female  35.0         1   \n",
       "4                           Allen, Mr. William Henry    male  35.0         0   \n",
       "\n",
       "   Parents            Ticket     Fare Cabin Embarked  \n",
       "0        0         A/5 21171   7.2500   NaN        S  \n",
       "1        0          PC 17599  71.2833   C85        C  \n",
       "2        0  STON/O2. 3101282   7.9250   NaN        S  \n",
       "3        0            113803  53.1000  C123        S  \n",
       "4        0            373450   8.0500   NaN        S  "
      ]
     },
     "execution_count": 311,
     "metadata": {},
     "output_type": "execute_result"
    }
   ],
   "source": [
    "df.head()"
   ]
  },
  {
   "cell_type": "code",
   "execution_count": 323,
   "id": "e6a2f79d-54c0-4d2d-a338-73e75dc74228",
   "metadata": {},
   "outputs": [
    {
     "data": {
      "text/html": [
       "<div>\n",
       "<style scoped>\n",
       "    .dataframe tbody tr th:only-of-type {\n",
       "        vertical-align: middle;\n",
       "    }\n",
       "\n",
       "    .dataframe tbody tr th {\n",
       "        vertical-align: top;\n",
       "    }\n",
       "\n",
       "    .dataframe thead th {\n",
       "        text-align: right;\n",
       "    }\n",
       "</style>\n",
       "<table border=\"1\" class=\"dataframe\">\n",
       "  <thead>\n",
       "    <tr style=\"text-align: right;\">\n",
       "      <th></th>\n",
       "      <th>PassengerId</th>\n",
       "      <th>Survived</th>\n",
       "      <th>Pclass</th>\n",
       "      <th>Name</th>\n",
       "      <th>Gender</th>\n",
       "      <th>Age</th>\n",
       "      <th>Siblings</th>\n",
       "      <th>Parents</th>\n",
       "      <th>Ticket</th>\n",
       "      <th>Fare</th>\n",
       "      <th>Cabin</th>\n",
       "      <th>Embarked</th>\n",
       "    </tr>\n",
       "  </thead>\n",
       "  <tbody>\n",
       "    <tr>\n",
       "      <th>0</th>\n",
       "      <td>1</td>\n",
       "      <td>0</td>\n",
       "      <td>3</td>\n",
       "      <td>Braund, Mr. Owen Harris</td>\n",
       "      <td>male</td>\n",
       "      <td>22.0</td>\n",
       "      <td>1</td>\n",
       "      <td>0</td>\n",
       "      <td>A/5 21171</td>\n",
       "      <td>7.2500</td>\n",
       "      <td>NaN</td>\n",
       "      <td>S</td>\n",
       "    </tr>\n",
       "    <tr>\n",
       "      <th>4</th>\n",
       "      <td>5</td>\n",
       "      <td>0</td>\n",
       "      <td>3</td>\n",
       "      <td>Allen, Mr. William Henry</td>\n",
       "      <td>male</td>\n",
       "      <td>35.0</td>\n",
       "      <td>0</td>\n",
       "      <td>0</td>\n",
       "      <td>373450</td>\n",
       "      <td>8.0500</td>\n",
       "      <td>NaN</td>\n",
       "      <td>S</td>\n",
       "    </tr>\n",
       "    <tr>\n",
       "      <th>5</th>\n",
       "      <td>6</td>\n",
       "      <td>0</td>\n",
       "      <td>3</td>\n",
       "      <td>Moran, Mr. James</td>\n",
       "      <td>male</td>\n",
       "      <td>NaN</td>\n",
       "      <td>0</td>\n",
       "      <td>0</td>\n",
       "      <td>330877</td>\n",
       "      <td>8.4583</td>\n",
       "      <td>NaN</td>\n",
       "      <td>Q</td>\n",
       "    </tr>\n",
       "    <tr>\n",
       "      <th>6</th>\n",
       "      <td>7</td>\n",
       "      <td>0</td>\n",
       "      <td>1</td>\n",
       "      <td>McCarthy, Mr. Timothy J</td>\n",
       "      <td>male</td>\n",
       "      <td>54.0</td>\n",
       "      <td>0</td>\n",
       "      <td>0</td>\n",
       "      <td>17463</td>\n",
       "      <td>51.8625</td>\n",
       "      <td>E46</td>\n",
       "      <td>S</td>\n",
       "    </tr>\n",
       "    <tr>\n",
       "      <th>7</th>\n",
       "      <td>8</td>\n",
       "      <td>0</td>\n",
       "      <td>3</td>\n",
       "      <td>Palsson, Master. Gosta Leonard</td>\n",
       "      <td>male</td>\n",
       "      <td>2.0</td>\n",
       "      <td>3</td>\n",
       "      <td>1</td>\n",
       "      <td>349909</td>\n",
       "      <td>21.0750</td>\n",
       "      <td>NaN</td>\n",
       "      <td>S</td>\n",
       "    </tr>\n",
       "    <tr>\n",
       "      <th>...</th>\n",
       "      <td>...</td>\n",
       "      <td>...</td>\n",
       "      <td>...</td>\n",
       "      <td>...</td>\n",
       "      <td>...</td>\n",
       "      <td>...</td>\n",
       "      <td>...</td>\n",
       "      <td>...</td>\n",
       "      <td>...</td>\n",
       "      <td>...</td>\n",
       "      <td>...</td>\n",
       "      <td>...</td>\n",
       "    </tr>\n",
       "    <tr>\n",
       "      <th>883</th>\n",
       "      <td>884</td>\n",
       "      <td>0</td>\n",
       "      <td>2</td>\n",
       "      <td>Banfield, Mr. Frederick James</td>\n",
       "      <td>male</td>\n",
       "      <td>28.0</td>\n",
       "      <td>0</td>\n",
       "      <td>0</td>\n",
       "      <td>C.A./SOTON 34068</td>\n",
       "      <td>10.5000</td>\n",
       "      <td>NaN</td>\n",
       "      <td>S</td>\n",
       "    </tr>\n",
       "    <tr>\n",
       "      <th>884</th>\n",
       "      <td>885</td>\n",
       "      <td>0</td>\n",
       "      <td>3</td>\n",
       "      <td>Sutehall, Mr. Henry Jr</td>\n",
       "      <td>male</td>\n",
       "      <td>25.0</td>\n",
       "      <td>0</td>\n",
       "      <td>0</td>\n",
       "      <td>SOTON/OQ 392076</td>\n",
       "      <td>7.0500</td>\n",
       "      <td>NaN</td>\n",
       "      <td>S</td>\n",
       "    </tr>\n",
       "    <tr>\n",
       "      <th>886</th>\n",
       "      <td>887</td>\n",
       "      <td>0</td>\n",
       "      <td>2</td>\n",
       "      <td>Montvila, Rev. Juozas</td>\n",
       "      <td>male</td>\n",
       "      <td>27.0</td>\n",
       "      <td>0</td>\n",
       "      <td>0</td>\n",
       "      <td>211536</td>\n",
       "      <td>13.0000</td>\n",
       "      <td>NaN</td>\n",
       "      <td>S</td>\n",
       "    </tr>\n",
       "    <tr>\n",
       "      <th>889</th>\n",
       "      <td>890</td>\n",
       "      <td>1</td>\n",
       "      <td>1</td>\n",
       "      <td>Behr, Mr. Karl Howell</td>\n",
       "      <td>male</td>\n",
       "      <td>26.0</td>\n",
       "      <td>0</td>\n",
       "      <td>0</td>\n",
       "      <td>111369</td>\n",
       "      <td>30.0000</td>\n",
       "      <td>C148</td>\n",
       "      <td>C</td>\n",
       "    </tr>\n",
       "    <tr>\n",
       "      <th>890</th>\n",
       "      <td>891</td>\n",
       "      <td>0</td>\n",
       "      <td>3</td>\n",
       "      <td>Dooley, Mr. Patrick</td>\n",
       "      <td>male</td>\n",
       "      <td>32.0</td>\n",
       "      <td>0</td>\n",
       "      <td>0</td>\n",
       "      <td>370376</td>\n",
       "      <td>7.7500</td>\n",
       "      <td>NaN</td>\n",
       "      <td>Q</td>\n",
       "    </tr>\n",
       "  </tbody>\n",
       "</table>\n",
       "<p>577 rows × 12 columns</p>\n",
       "</div>"
      ],
      "text/plain": [
       "     PassengerId  Survived  Pclass                            Name Gender  \\\n",
       "0              1         0       3         Braund, Mr. Owen Harris   male   \n",
       "4              5         0       3        Allen, Mr. William Henry   male   \n",
       "5              6         0       3                Moran, Mr. James   male   \n",
       "6              7         0       1         McCarthy, Mr. Timothy J   male   \n",
       "7              8         0       3  Palsson, Master. Gosta Leonard   male   \n",
       "..           ...       ...     ...                             ...    ...   \n",
       "883          884         0       2   Banfield, Mr. Frederick James   male   \n",
       "884          885         0       3          Sutehall, Mr. Henry Jr   male   \n",
       "886          887         0       2           Montvila, Rev. Juozas   male   \n",
       "889          890         1       1           Behr, Mr. Karl Howell   male   \n",
       "890          891         0       3             Dooley, Mr. Patrick   male   \n",
       "\n",
       "      Age  Siblings  Parents            Ticket     Fare Cabin Embarked  \n",
       "0    22.0         1        0         A/5 21171   7.2500   NaN        S  \n",
       "4    35.0         0        0            373450   8.0500   NaN        S  \n",
       "5     NaN         0        0            330877   8.4583   NaN        Q  \n",
       "6    54.0         0        0             17463  51.8625   E46        S  \n",
       "7     2.0         3        1            349909  21.0750   NaN        S  \n",
       "..    ...       ...      ...               ...      ...   ...      ...  \n",
       "883  28.0         0        0  C.A./SOTON 34068  10.5000   NaN        S  \n",
       "884  25.0         0        0   SOTON/OQ 392076   7.0500   NaN        S  \n",
       "886  27.0         0        0            211536  13.0000   NaN        S  \n",
       "889  26.0         0        0            111369  30.0000  C148        C  \n",
       "890  32.0         0        0            370376   7.7500   NaN        Q  \n",
       "\n",
       "[577 rows x 12 columns]"
      ]
     },
     "execution_count": 323,
     "metadata": {},
     "output_type": "execute_result"
    }
   ],
   "source": [
    "# Get the data of the male passengers\n",
    "\n",
    "df[df.Gender=='male']"
   ]
  },
  {
   "cell_type": "code",
   "execution_count": 331,
   "id": "c2421db4-381c-414d-a089-6ea2998f6d75",
   "metadata": {},
   "outputs": [
    {
     "data": {
      "text/plain": [
       "25.523893414211443"
      ]
     },
     "execution_count": 331,
     "metadata": {},
     "output_type": "execute_result"
    }
   ],
   "source": [
    "# Get the Average Fare of Male Passengers\n",
    "\n",
    "df[df.Gender=='male']['Fare'].mean()"
   ]
  },
  {
   "cell_type": "code",
   "execution_count": 341,
   "id": "de67efbf-dd3f-4383-915b-6abbb6bfbf42",
   "metadata": {},
   "outputs": [
    {
     "data": {
      "text/html": [
       "<div>\n",
       "<style scoped>\n",
       "    .dataframe tbody tr th:only-of-type {\n",
       "        vertical-align: middle;\n",
       "    }\n",
       "\n",
       "    .dataframe tbody tr th {\n",
       "        vertical-align: top;\n",
       "    }\n",
       "\n",
       "    .dataframe thead th {\n",
       "        text-align: right;\n",
       "    }\n",
       "</style>\n",
       "<table border=\"1\" class=\"dataframe\">\n",
       "  <thead>\n",
       "    <tr style=\"text-align: right;\">\n",
       "      <th></th>\n",
       "      <th>PassengerId</th>\n",
       "      <th>Survived</th>\n",
       "      <th>Pclass</th>\n",
       "      <th>Name</th>\n",
       "      <th>Gender</th>\n",
       "      <th>Age</th>\n",
       "      <th>Siblings</th>\n",
       "      <th>Parents</th>\n",
       "      <th>Ticket</th>\n",
       "      <th>Fare</th>\n",
       "      <th>Cabin</th>\n",
       "      <th>Embarked</th>\n",
       "    </tr>\n",
       "  </thead>\n",
       "  <tbody>\n",
       "    <tr>\n",
       "      <th>0</th>\n",
       "      <td>1</td>\n",
       "      <td>0</td>\n",
       "      <td>3</td>\n",
       "      <td>Braund, Mr. Owen Harris</td>\n",
       "      <td>male</td>\n",
       "      <td>22.0</td>\n",
       "      <td>1</td>\n",
       "      <td>0</td>\n",
       "      <td>A/5 21171</td>\n",
       "      <td>7.2500</td>\n",
       "      <td>NaN</td>\n",
       "      <td>S</td>\n",
       "    </tr>\n",
       "    <tr>\n",
       "      <th>4</th>\n",
       "      <td>5</td>\n",
       "      <td>0</td>\n",
       "      <td>3</td>\n",
       "      <td>Allen, Mr. William Henry</td>\n",
       "      <td>male</td>\n",
       "      <td>35.0</td>\n",
       "      <td>0</td>\n",
       "      <td>0</td>\n",
       "      <td>373450</td>\n",
       "      <td>8.0500</td>\n",
       "      <td>NaN</td>\n",
       "      <td>S</td>\n",
       "    </tr>\n",
       "    <tr>\n",
       "      <th>5</th>\n",
       "      <td>6</td>\n",
       "      <td>0</td>\n",
       "      <td>3</td>\n",
       "      <td>Moran, Mr. James</td>\n",
       "      <td>male</td>\n",
       "      <td>NaN</td>\n",
       "      <td>0</td>\n",
       "      <td>0</td>\n",
       "      <td>330877</td>\n",
       "      <td>8.4583</td>\n",
       "      <td>NaN</td>\n",
       "      <td>Q</td>\n",
       "    </tr>\n",
       "    <tr>\n",
       "      <th>7</th>\n",
       "      <td>8</td>\n",
       "      <td>0</td>\n",
       "      <td>3</td>\n",
       "      <td>Palsson, Master. Gosta Leonard</td>\n",
       "      <td>male</td>\n",
       "      <td>2.0</td>\n",
       "      <td>3</td>\n",
       "      <td>1</td>\n",
       "      <td>349909</td>\n",
       "      <td>21.0750</td>\n",
       "      <td>NaN</td>\n",
       "      <td>S</td>\n",
       "    </tr>\n",
       "    <tr>\n",
       "      <th>12</th>\n",
       "      <td>13</td>\n",
       "      <td>0</td>\n",
       "      <td>3</td>\n",
       "      <td>Saundercock, Mr. William Henry</td>\n",
       "      <td>male</td>\n",
       "      <td>20.0</td>\n",
       "      <td>0</td>\n",
       "      <td>0</td>\n",
       "      <td>A/5. 2151</td>\n",
       "      <td>8.0500</td>\n",
       "      <td>NaN</td>\n",
       "      <td>S</td>\n",
       "    </tr>\n",
       "    <tr>\n",
       "      <th>...</th>\n",
       "      <td>...</td>\n",
       "      <td>...</td>\n",
       "      <td>...</td>\n",
       "      <td>...</td>\n",
       "      <td>...</td>\n",
       "      <td>...</td>\n",
       "      <td>...</td>\n",
       "      <td>...</td>\n",
       "      <td>...</td>\n",
       "      <td>...</td>\n",
       "      <td>...</td>\n",
       "      <td>...</td>\n",
       "    </tr>\n",
       "    <tr>\n",
       "      <th>877</th>\n",
       "      <td>878</td>\n",
       "      <td>0</td>\n",
       "      <td>3</td>\n",
       "      <td>Petroff, Mr. Nedelio</td>\n",
       "      <td>male</td>\n",
       "      <td>19.0</td>\n",
       "      <td>0</td>\n",
       "      <td>0</td>\n",
       "      <td>349212</td>\n",
       "      <td>7.8958</td>\n",
       "      <td>NaN</td>\n",
       "      <td>S</td>\n",
       "    </tr>\n",
       "    <tr>\n",
       "      <th>878</th>\n",
       "      <td>879</td>\n",
       "      <td>0</td>\n",
       "      <td>3</td>\n",
       "      <td>Laleff, Mr. Kristo</td>\n",
       "      <td>male</td>\n",
       "      <td>NaN</td>\n",
       "      <td>0</td>\n",
       "      <td>0</td>\n",
       "      <td>349217</td>\n",
       "      <td>7.8958</td>\n",
       "      <td>NaN</td>\n",
       "      <td>S</td>\n",
       "    </tr>\n",
       "    <tr>\n",
       "      <th>881</th>\n",
       "      <td>882</td>\n",
       "      <td>0</td>\n",
       "      <td>3</td>\n",
       "      <td>Markun, Mr. Johann</td>\n",
       "      <td>male</td>\n",
       "      <td>33.0</td>\n",
       "      <td>0</td>\n",
       "      <td>0</td>\n",
       "      <td>349257</td>\n",
       "      <td>7.8958</td>\n",
       "      <td>NaN</td>\n",
       "      <td>S</td>\n",
       "    </tr>\n",
       "    <tr>\n",
       "      <th>884</th>\n",
       "      <td>885</td>\n",
       "      <td>0</td>\n",
       "      <td>3</td>\n",
       "      <td>Sutehall, Mr. Henry Jr</td>\n",
       "      <td>male</td>\n",
       "      <td>25.0</td>\n",
       "      <td>0</td>\n",
       "      <td>0</td>\n",
       "      <td>SOTON/OQ 392076</td>\n",
       "      <td>7.0500</td>\n",
       "      <td>NaN</td>\n",
       "      <td>S</td>\n",
       "    </tr>\n",
       "    <tr>\n",
       "      <th>890</th>\n",
       "      <td>891</td>\n",
       "      <td>0</td>\n",
       "      <td>3</td>\n",
       "      <td>Dooley, Mr. Patrick</td>\n",
       "      <td>male</td>\n",
       "      <td>32.0</td>\n",
       "      <td>0</td>\n",
       "      <td>0</td>\n",
       "      <td>370376</td>\n",
       "      <td>7.7500</td>\n",
       "      <td>NaN</td>\n",
       "      <td>Q</td>\n",
       "    </tr>\n",
       "  </tbody>\n",
       "</table>\n",
       "<p>347 rows × 12 columns</p>\n",
       "</div>"
      ],
      "text/plain": [
       "     PassengerId  Survived  Pclass                            Name Gender  \\\n",
       "0              1         0       3         Braund, Mr. Owen Harris   male   \n",
       "4              5         0       3        Allen, Mr. William Henry   male   \n",
       "5              6         0       3                Moran, Mr. James   male   \n",
       "7              8         0       3  Palsson, Master. Gosta Leonard   male   \n",
       "12            13         0       3  Saundercock, Mr. William Henry   male   \n",
       "..           ...       ...     ...                             ...    ...   \n",
       "877          878         0       3            Petroff, Mr. Nedelio   male   \n",
       "878          879         0       3              Laleff, Mr. Kristo   male   \n",
       "881          882         0       3              Markun, Mr. Johann   male   \n",
       "884          885         0       3          Sutehall, Mr. Henry Jr   male   \n",
       "890          891         0       3             Dooley, Mr. Patrick   male   \n",
       "\n",
       "      Age  Siblings  Parents           Ticket     Fare Cabin Embarked  \n",
       "0    22.0         1        0        A/5 21171   7.2500   NaN        S  \n",
       "4    35.0         0        0           373450   8.0500   NaN        S  \n",
       "5     NaN         0        0           330877   8.4583   NaN        Q  \n",
       "7     2.0         3        1           349909  21.0750   NaN        S  \n",
       "12   20.0         0        0        A/5. 2151   8.0500   NaN        S  \n",
       "..    ...       ...      ...              ...      ...   ...      ...  \n",
       "877  19.0         0        0           349212   7.8958   NaN        S  \n",
       "878   NaN         0        0           349217   7.8958   NaN        S  \n",
       "881  33.0         0        0           349257   7.8958   NaN        S  \n",
       "884  25.0         0        0  SOTON/OQ 392076   7.0500   NaN        S  \n",
       "890  32.0         0        0           370376   7.7500   NaN        Q  \n",
       "\n",
       "[347 rows x 12 columns]"
      ]
     },
     "execution_count": 341,
     "metadata": {},
     "output_type": "execute_result"
    }
   ],
   "source": [
    "# Get the data of male passengers travelling in Pclass 3\n",
    "# Gender\n",
    "# Pclass\n",
    "\n",
    "df[(df.Gender=='male')&(df.Pclass==3)]"
   ]
  },
  {
   "cell_type": "code",
   "execution_count": 349,
   "id": "86d2f947-9413-40db-a73f-bdba095a913b",
   "metadata": {},
   "outputs": [
    {
     "data": {
      "text/plain": [
       "12.661632564841499"
      ]
     },
     "execution_count": 349,
     "metadata": {},
     "output_type": "execute_result"
    }
   ],
   "source": [
    "# Get the Fare of male passengers travelling in Pclass 3\n",
    "\n",
    "df[(df.Gender=='male')&(df.Pclass==3)]['Fare'].mean()"
   ]
  },
  {
   "cell_type": "code",
   "execution_count": 365,
   "id": "6d4a0312-dcde-4d0b-b705-08f305050347",
   "metadata": {},
   "outputs": [
    {
     "data": {
      "text/plain": [
       "15.579695744680853"
      ]
     },
     "execution_count": 365,
     "metadata": {},
     "output_type": "execute_result"
    }
   ],
   "source": [
    "# Average Fare of Male Female Passengers travelling in Pclass 3 and survived.\n",
    "\n",
    "# Gender\n",
    "# Pclass\n",
    "# Survived\n",
    "\n",
    "df[(df.Gender=='male')&(df.Pclass==3)&(df.Survived==1)]['Fare'].mean()"
   ]
  },
  {
   "cell_type": "code",
   "execution_count": 367,
   "id": "1c0e93d0-e3ef-4cd4-8bd1-072d4556e9a3",
   "metadata": {},
   "outputs": [
    {
     "data": {
      "text/plain": [
       "12.464526388888888"
      ]
     },
     "execution_count": 367,
     "metadata": {},
     "output_type": "execute_result"
    }
   ],
   "source": [
    "df[(df.Gender=='female')&(df.Pclass==3)&(df.Survived==1)]['Fare'].mean()"
   ]
  },
  {
   "cell_type": "code",
   "execution_count": 369,
   "id": "c7081e78-458e-46a2-93ff-bfddb7254992",
   "metadata": {},
   "outputs": [],
   "source": [
    "# Average Fare in each Pclass Gender wise for the passengers who survived"
   ]
  },
  {
   "cell_type": "code",
   "execution_count": 371,
   "id": "c8ec2fdf-b20b-4009-98cd-38c03c87ad92",
   "metadata": {},
   "outputs": [
    {
     "data": {
      "text/plain": [
       "74.63732"
      ]
     },
     "execution_count": 371,
     "metadata": {},
     "output_type": "execute_result"
    }
   ],
   "source": [
    "df[(df.Gender=='male')&(df.Pclass==1)&(df.Survived==1)]['Fare'].mean()"
   ]
  },
  {
   "cell_type": "code",
   "execution_count": 373,
   "id": "1038d686-574e-4c9b-b03c-28efeecee0cf",
   "metadata": {},
   "outputs": [
    {
     "data": {
      "text/plain": [
       "105.97815934065933"
      ]
     },
     "execution_count": 373,
     "metadata": {},
     "output_type": "execute_result"
    }
   ],
   "source": [
    "df[(df.Gender=='female')&(df.Pclass==1)&(df.Survived==1)]['Fare'].mean()"
   ]
  },
  {
   "cell_type": "code",
   "execution_count": 375,
   "id": "727e6441-c35c-4049-98be-349e76143491",
   "metadata": {},
   "outputs": [
    {
     "data": {
      "text/plain": [
       "21.095100000000002"
      ]
     },
     "execution_count": 375,
     "metadata": {},
     "output_type": "execute_result"
    }
   ],
   "source": [
    "df[(df.Gender=='male')&(df.Pclass==2)&(df.Survived==1)]['Fare'].mean()"
   ]
  },
  {
   "cell_type": "code",
   "execution_count": 379,
   "id": "cc0c991e-813b-432a-95fe-12da79f3d790",
   "metadata": {},
   "outputs": [
    {
     "data": {
      "text/plain": [
       "22.288988571428572"
      ]
     },
     "execution_count": 379,
     "metadata": {},
     "output_type": "execute_result"
    }
   ],
   "source": [
    "df[(df.Gender=='female')&(df.Pclass==2)&(df.Survived==1)]['Fare'].mean()"
   ]
  },
  {
   "cell_type": "code",
   "execution_count": 381,
   "id": "7ab75035-5423-48ce-bc5e-9c2a6104d239",
   "metadata": {},
   "outputs": [
    {
     "data": {
      "text/plain": [
       "15.579695744680853"
      ]
     },
     "execution_count": 381,
     "metadata": {},
     "output_type": "execute_result"
    }
   ],
   "source": [
    "df[(df.Gender=='male')&(df.Pclass==3)&(df.Survived==1)]['Fare'].mean()"
   ]
  },
  {
   "cell_type": "code",
   "execution_count": 383,
   "id": "11fc77df-f5d7-4147-931d-d090cf4ee040",
   "metadata": {},
   "outputs": [
    {
     "data": {
      "text/plain": [
       "12.464526388888888"
      ]
     },
     "execution_count": 383,
     "metadata": {},
     "output_type": "execute_result"
    }
   ],
   "source": [
    "df[(df.Gender=='female')&(df.Pclass==3)&(df.Survived==1)]['Fare'].mean()"
   ]
  },
  {
   "cell_type": "markdown",
   "id": "5aec3951-c904-475f-9ecf-20c5001f31b6",
   "metadata": {},
   "source": [
    "### groupby()"
   ]
  },
  {
   "cell_type": "code",
   "execution_count": 394,
   "id": "8026aea4-c220-43dd-9e43-8d5fc534eb9e",
   "metadata": {},
   "outputs": [],
   "source": [
    "# - It is used to analyse two or more variables together.\n",
    "# - It returns a series object."
   ]
  },
  {
   "cell_type": "code",
   "execution_count": 388,
   "id": "68f57d20-1747-44d8-abe5-294adde02ecc",
   "metadata": {},
   "outputs": [],
   "source": [
    "# df.groupby(col).col.function()"
   ]
  },
  {
   "cell_type": "code",
   "execution_count": 390,
   "id": "182e5c6a-901b-4e89-9421-65cee40210b4",
   "metadata": {},
   "outputs": [],
   "source": [
    "# Average Fare of Male and Female Passengers travelling in Pclass 3\n",
    "\n",
    "# Gender\n",
    "# Fare\n",
    "# Operation - mean (Fare)"
   ]
  },
  {
   "cell_type": "code",
   "execution_count": 392,
   "id": "e79c81af-6ee7-460a-b64a-407cc6beed4f",
   "metadata": {},
   "outputs": [
    {
     "data": {
      "text/plain": [
       "Gender\n",
       "female    44.479818\n",
       "male      25.523893\n",
       "Name: Fare, dtype: float64"
      ]
     },
     "execution_count": 392,
     "metadata": {},
     "output_type": "execute_result"
    }
   ],
   "source": [
    "df.groupby('Gender').Fare.mean()"
   ]
  },
  {
   "cell_type": "code",
   "execution_count": 396,
   "id": "252c4e31-5fc3-4fa0-bc4c-9a215d161d79",
   "metadata": {},
   "outputs": [
    {
     "data": {
      "text/plain": [
       "Gender\n",
       "female    44.479818\n",
       "male      25.523893\n",
       "Name: Fare, dtype: float64"
      ]
     },
     "execution_count": 396,
     "metadata": {},
     "output_type": "execute_result"
    }
   ],
   "source": [
    "df.groupby('Gender')['Fare'].mean()"
   ]
  },
  {
   "cell_type": "code",
   "execution_count": 400,
   "id": "1dd08070-ad9e-4495-bd18-21e4cf5e8924",
   "metadata": {},
   "outputs": [],
   "source": [
    "# Average Fare in each Pclass Gender wise for the passengers\n",
    "\n",
    "# Gender\n",
    "# Pclass\n",
    "# Fare\n",
    "# Operation - mean (Fare)"
   ]
  },
  {
   "cell_type": "code",
   "execution_count": 402,
   "id": "e7fdda5a-f059-4e14-a514-e1d81d8716a4",
   "metadata": {},
   "outputs": [
    {
     "data": {
      "text/plain": [
       "Gender  Pclass\n",
       "female  1         106.125798\n",
       "        2          21.970121\n",
       "        3          16.118810\n",
       "male    1          67.226127\n",
       "        2          19.741782\n",
       "        3          12.661633\n",
       "Name: Fare, dtype: float64"
      ]
     },
     "execution_count": 402,
     "metadata": {},
     "output_type": "execute_result"
    }
   ],
   "source": [
    "df.groupby(['Gender', 'Pclass']).Fare.mean()"
   ]
  },
  {
   "cell_type": "code",
   "execution_count": 404,
   "id": "63db1e60-6dc0-4145-8058-9aab31f3c36a",
   "metadata": {},
   "outputs": [
    {
     "data": {
      "text/plain": [
       "Pclass  Gender\n",
       "1       female    106.125798\n",
       "        male       67.226127\n",
       "2       female     21.970121\n",
       "        male       19.741782\n",
       "3       female     16.118810\n",
       "        male       12.661633\n",
       "Name: Fare, dtype: float64"
      ]
     },
     "execution_count": 404,
     "metadata": {},
     "output_type": "execute_result"
    }
   ],
   "source": [
    "df.groupby(['Pclass', 'Gender']).Fare.mean()"
   ]
  },
  {
   "cell_type": "code",
   "execution_count": 410,
   "id": "becf9f53-fe02-4409-bff5-5bbdbdb4dfe3",
   "metadata": {},
   "outputs": [],
   "source": [
    "# Average Fare in each Pclass Gender wise for the passengers as per the survival status\n",
    "\n",
    "# Gender\n",
    "# Pclass\n",
    "# Survived\n",
    "# Fare\n",
    "# Operation - mean (Fare)"
   ]
  },
  {
   "cell_type": "code",
   "execution_count": 408,
   "id": "957693c6-9d77-422f-81ee-04bc428c798f",
   "metadata": {},
   "outputs": [
    {
     "data": {
      "text/plain": [
       "Pclass  Gender  Survived\n",
       "1       female  0           110.604167\n",
       "                1           105.978159\n",
       "        male    0            62.894910\n",
       "                1            74.637320\n",
       "2       female  0            18.250000\n",
       "                1            22.288989\n",
       "        male    0            19.488965\n",
       "                1            21.095100\n",
       "3       female  0            19.773093\n",
       "                1            12.464526\n",
       "        male    0            12.204469\n",
       "                1            15.579696\n",
       "Name: Fare, dtype: float64"
      ]
     },
     "execution_count": 408,
     "metadata": {},
     "output_type": "execute_result"
    }
   ],
   "source": [
    "df.groupby(['Pclass', 'Gender', 'Survived']).Fare.mean()"
   ]
  },
  {
   "cell_type": "code",
   "execution_count": 413,
   "id": "6df8aba6-f75a-407c-aa1c-7ae2f771b68a",
   "metadata": {},
   "outputs": [],
   "source": [
    "# How many male and female passengers in each Pclass\n",
    "\n",
    "# Gedner\n",
    "# Pclass\n",
    "\n",
    "# Operation - value_counts() (Gender/Pclass)"
   ]
  },
  {
   "cell_type": "code",
   "execution_count": 415,
   "id": "e891e144-4bbb-4a71-aeeb-4de50f1bd224",
   "metadata": {},
   "outputs": [
    {
     "data": {
      "text/plain": [
       "Gender  Pclass\n",
       "female  3         144\n",
       "        1          94\n",
       "        2          76\n",
       "male    3         347\n",
       "        1         122\n",
       "        2         108\n",
       "Name: count, dtype: int64"
      ]
     },
     "execution_count": 415,
     "metadata": {},
     "output_type": "execute_result"
    }
   ],
   "source": [
    "df.groupby('Gender').Pclass.value_counts()"
   ]
  },
  {
   "cell_type": "code",
   "execution_count": 417,
   "id": "8f880415-3d65-42e4-bd3a-7063305e1afd",
   "metadata": {},
   "outputs": [
    {
     "data": {
      "text/plain": [
       "Pclass  Gender\n",
       "1       male      122\n",
       "        female     94\n",
       "2       male      108\n",
       "        female     76\n",
       "3       male      347\n",
       "        female    144\n",
       "Name: count, dtype: int64"
      ]
     },
     "execution_count": 417,
     "metadata": {},
     "output_type": "execute_result"
    }
   ],
   "source": [
    "df.groupby('Pclass').Gender.value_counts()"
   ]
  },
  {
   "cell_type": "markdown",
   "id": "bcbc1c81-7112-4bac-a31e-621c05a958b8",
   "metadata": {},
   "source": [
    "### pivot_table()"
   ]
  },
  {
   "cell_type": "code",
   "execution_count": 420,
   "id": "b5354772-943b-457f-82b0-9607b6e78d8e",
   "metadata": {},
   "outputs": [],
   "source": [
    "# - It is used to summarise multiple columns.\n",
    "# - It returns a dataframe."
   ]
  },
  {
   "cell_type": "code",
   "execution_count": 424,
   "id": "82d008d6-22ad-471a-af65-c68f9f8a0a08",
   "metadata": {},
   "outputs": [],
   "source": [
    "# pd.pivot_table(df, values=, index=, columns=, aggfunc=)"
   ]
  },
  {
   "cell_type": "code",
   "execution_count": 426,
   "id": "ec92dad1-a236-4fee-91fc-59cfabdfe4d9",
   "metadata": {},
   "outputs": [],
   "source": [
    "path=r\"C:\\Users\\ashis\\OneDrive\\Desktop\\Data Science\\Batches\\Practice Datasets\\sales.xlsx\""
   ]
  },
  {
   "cell_type": "code",
   "execution_count": 430,
   "id": "a09174a7-ef26-4de0-bdb8-f2253abd0af8",
   "metadata": {},
   "outputs": [],
   "source": [
    "sls=pd.read_excel(path)"
   ]
  },
  {
   "cell_type": "code",
   "execution_count": 432,
   "id": "3bd5fff4-55a6-4a83-8e05-c28fee99cdbe",
   "metadata": {},
   "outputs": [
    {
     "data": {
      "text/html": [
       "<div>\n",
       "<style scoped>\n",
       "    .dataframe tbody tr th:only-of-type {\n",
       "        vertical-align: middle;\n",
       "    }\n",
       "\n",
       "    .dataframe tbody tr th {\n",
       "        vertical-align: top;\n",
       "    }\n",
       "\n",
       "    .dataframe thead th {\n",
       "        text-align: right;\n",
       "    }\n",
       "</style>\n",
       "<table border=\"1\" class=\"dataframe\">\n",
       "  <thead>\n",
       "    <tr style=\"text-align: right;\">\n",
       "      <th></th>\n",
       "      <th>Year</th>\n",
       "      <th>Month</th>\n",
       "      <th>Type</th>\n",
       "      <th>Salesperson</th>\n",
       "      <th>Region</th>\n",
       "      <th>Sales</th>\n",
       "      <th>Units</th>\n",
       "      <th>Order #</th>\n",
       "    </tr>\n",
       "  </thead>\n",
       "  <tbody>\n",
       "    <tr>\n",
       "      <th>0</th>\n",
       "      <td>2013</td>\n",
       "      <td>January</td>\n",
       "      <td>Ice Cream</td>\n",
       "      <td>Bishop</td>\n",
       "      <td>West</td>\n",
       "      <td>2395.5</td>\n",
       "      <td>1597</td>\n",
       "      <td>1</td>\n",
       "    </tr>\n",
       "    <tr>\n",
       "      <th>1</th>\n",
       "      <td>2013</td>\n",
       "      <td>January</td>\n",
       "      <td>Ice Cream</td>\n",
       "      <td>Bishop</td>\n",
       "      <td>West</td>\n",
       "      <td>11761.5</td>\n",
       "      <td>7841</td>\n",
       "      <td>2</td>\n",
       "    </tr>\n",
       "    <tr>\n",
       "      <th>2</th>\n",
       "      <td>2013</td>\n",
       "      <td>January</td>\n",
       "      <td>Frozen Yogurt</td>\n",
       "      <td>Bishop</td>\n",
       "      <td>West</td>\n",
       "      <td>8943.0</td>\n",
       "      <td>5962</td>\n",
       "      <td>3</td>\n",
       "    </tr>\n",
       "    <tr>\n",
       "      <th>3</th>\n",
       "      <td>2013</td>\n",
       "      <td>January</td>\n",
       "      <td>Ice Cream</td>\n",
       "      <td>Bishop</td>\n",
       "      <td>West</td>\n",
       "      <td>2395.5</td>\n",
       "      <td>1597</td>\n",
       "      <td>4</td>\n",
       "    </tr>\n",
       "    <tr>\n",
       "      <th>4</th>\n",
       "      <td>2013</td>\n",
       "      <td>January</td>\n",
       "      <td>Ice Cream</td>\n",
       "      <td>Bishop</td>\n",
       "      <td>West</td>\n",
       "      <td>11761.5</td>\n",
       "      <td>7841</td>\n",
       "      <td>5</td>\n",
       "    </tr>\n",
       "  </tbody>\n",
       "</table>\n",
       "</div>"
      ],
      "text/plain": [
       "   Year    Month           Type Salesperson Region    Sales  Units  Order #\n",
       "0  2013  January      Ice Cream      Bishop   West   2395.5   1597        1\n",
       "1  2013  January      Ice Cream      Bishop   West  11761.5   7841        2\n",
       "2  2013  January  Frozen Yogurt      Bishop   West   8943.0   5962        3\n",
       "3  2013  January      Ice Cream      Bishop   West   2395.5   1597        4\n",
       "4  2013  January      Ice Cream      Bishop   West  11761.5   7841        5"
      ]
     },
     "execution_count": 432,
     "metadata": {},
     "output_type": "execute_result"
    }
   ],
   "source": [
    "sls.head()"
   ]
  },
  {
   "cell_type": "code",
   "execution_count": 434,
   "id": "96bdd464-b917-4c42-b690-4879babd5a6d",
   "metadata": {},
   "outputs": [
    {
     "data": {
      "text/plain": [
       "(60, 8)"
      ]
     },
     "execution_count": 434,
     "metadata": {},
     "output_type": "execute_result"
    }
   ],
   "source": [
    "sls.shape"
   ]
  },
  {
   "cell_type": "code",
   "execution_count": 436,
   "id": "fc739ad7-53a7-4bb4-8e6a-ecd3b48943d2",
   "metadata": {},
   "outputs": [
    {
     "data": {
      "text/plain": [
       "array([2013, 2014, 2015], dtype=int64)"
      ]
     },
     "execution_count": 436,
     "metadata": {},
     "output_type": "execute_result"
    }
   ],
   "source": [
    "sls.Year.unique()"
   ]
  },
  {
   "cell_type": "code",
   "execution_count": 438,
   "id": "265d263f-9abd-4f93-bf90-617e586b967c",
   "metadata": {},
   "outputs": [
    {
     "data": {
      "text/plain": [
       "array(['January'], dtype=object)"
      ]
     },
     "execution_count": 438,
     "metadata": {},
     "output_type": "execute_result"
    }
   ],
   "source": [
    "sls.Month.unique()"
   ]
  },
  {
   "cell_type": "code",
   "execution_count": 442,
   "id": "dd85540a-db6c-438e-8d59-001fda9423be",
   "metadata": {},
   "outputs": [],
   "source": [
    "# Region wise total Sales\n",
    "\n",
    "# Region\n",
    "# Sales\n",
    "# Operation - sum (Sales)"
   ]
  },
  {
   "cell_type": "code",
   "execution_count": 444,
   "id": "abbab4bd-1db2-45c6-8233-af1f3f39368c",
   "metadata": {},
   "outputs": [
    {
     "data": {
      "text/plain": [
       "Region\n",
       "Central    280674.0\n",
       "North       72741.0\n",
       "South       21321.0\n",
       "West       138600.0\n",
       "Name: Sales, dtype: float64"
      ]
     },
     "execution_count": 444,
     "metadata": {},
     "output_type": "execute_result"
    }
   ],
   "source": [
    "sls.groupby('Region').Sales.sum()"
   ]
  },
  {
   "cell_type": "code",
   "execution_count": 446,
   "id": "e456d2aa-2c4e-4d92-a71e-d9ccf5d6c684",
   "metadata": {},
   "outputs": [
    {
     "data": {
      "text/html": [
       "<div>\n",
       "<style scoped>\n",
       "    .dataframe tbody tr th:only-of-type {\n",
       "        vertical-align: middle;\n",
       "    }\n",
       "\n",
       "    .dataframe tbody tr th {\n",
       "        vertical-align: top;\n",
       "    }\n",
       "\n",
       "    .dataframe thead th {\n",
       "        text-align: right;\n",
       "    }\n",
       "</style>\n",
       "<table border=\"1\" class=\"dataframe\">\n",
       "  <thead>\n",
       "    <tr style=\"text-align: right;\">\n",
       "      <th></th>\n",
       "      <th>Sales</th>\n",
       "    </tr>\n",
       "    <tr>\n",
       "      <th>Region</th>\n",
       "      <th></th>\n",
       "    </tr>\n",
       "  </thead>\n",
       "  <tbody>\n",
       "    <tr>\n",
       "      <th>Central</th>\n",
       "      <td>280674.0</td>\n",
       "    </tr>\n",
       "    <tr>\n",
       "      <th>North</th>\n",
       "      <td>72741.0</td>\n",
       "    </tr>\n",
       "    <tr>\n",
       "      <th>South</th>\n",
       "      <td>21321.0</td>\n",
       "    </tr>\n",
       "    <tr>\n",
       "      <th>West</th>\n",
       "      <td>138600.0</td>\n",
       "    </tr>\n",
       "  </tbody>\n",
       "</table>\n",
       "</div>"
      ],
      "text/plain": [
       "            Sales\n",
       "Region           \n",
       "Central  280674.0\n",
       "North     72741.0\n",
       "South     21321.0\n",
       "West     138600.0"
      ]
     },
     "execution_count": 446,
     "metadata": {},
     "output_type": "execute_result"
    }
   ],
   "source": [
    "pd.pivot_table(sls, values='Sales', index='Region', aggfunc='sum')"
   ]
  },
  {
   "cell_type": "code",
   "execution_count": 448,
   "id": "02608a2b-b8ec-4524-885d-c286ed5bab63",
   "metadata": {},
   "outputs": [
    {
     "data": {
      "text/html": [
       "<div>\n",
       "<style scoped>\n",
       "    .dataframe tbody tr th:only-of-type {\n",
       "        vertical-align: middle;\n",
       "    }\n",
       "\n",
       "    .dataframe tbody tr th {\n",
       "        vertical-align: top;\n",
       "    }\n",
       "\n",
       "    .dataframe thead th {\n",
       "        text-align: right;\n",
       "    }\n",
       "</style>\n",
       "<table border=\"1\" class=\"dataframe\">\n",
       "  <thead>\n",
       "    <tr style=\"text-align: right;\">\n",
       "      <th>Region</th>\n",
       "      <th>Central</th>\n",
       "      <th>North</th>\n",
       "      <th>South</th>\n",
       "      <th>West</th>\n",
       "    </tr>\n",
       "  </thead>\n",
       "  <tbody>\n",
       "    <tr>\n",
       "      <th>Sales</th>\n",
       "      <td>280674.0</td>\n",
       "      <td>72741.0</td>\n",
       "      <td>21321.0</td>\n",
       "      <td>138600.0</td>\n",
       "    </tr>\n",
       "  </tbody>\n",
       "</table>\n",
       "</div>"
      ],
      "text/plain": [
       "Region   Central    North    South      West\n",
       "Sales   280674.0  72741.0  21321.0  138600.0"
      ]
     },
     "execution_count": 448,
     "metadata": {},
     "output_type": "execute_result"
    }
   ],
   "source": [
    "pd.pivot_table(sls, values='Sales', columns='Region', aggfunc='sum')"
   ]
  },
  {
   "cell_type": "code",
   "execution_count": 450,
   "id": "35685cf9-63ca-421d-8c91-6f35d5903eea",
   "metadata": {},
   "outputs": [],
   "source": [
    "# Region wise total Sales of each product\n",
    "\n",
    "# Region\n",
    "# Sales\n",
    "# Type\n",
    "# Operation - sum (Sales)"
   ]
  },
  {
   "cell_type": "code",
   "execution_count": 458,
   "id": "a4ce4bbd-97b5-4bdd-8389-02d83521d4fc",
   "metadata": {},
   "outputs": [
    {
     "data": {
      "text/html": [
       "<div>\n",
       "<style scoped>\n",
       "    .dataframe tbody tr th:only-of-type {\n",
       "        vertical-align: middle;\n",
       "    }\n",
       "\n",
       "    .dataframe tbody tr th {\n",
       "        vertical-align: top;\n",
       "    }\n",
       "\n",
       "    .dataframe thead th {\n",
       "        text-align: right;\n",
       "    }\n",
       "</style>\n",
       "<table border=\"1\" class=\"dataframe\">\n",
       "  <thead>\n",
       "    <tr style=\"text-align: right;\">\n",
       "      <th>Type</th>\n",
       "      <th>Frozen Yogurt</th>\n",
       "      <th>Ice Cream</th>\n",
       "      <th>Popsicles</th>\n",
       "      <th>Tasty Treats</th>\n",
       "    </tr>\n",
       "    <tr>\n",
       "      <th>Region</th>\n",
       "      <th></th>\n",
       "      <th></th>\n",
       "      <th></th>\n",
       "      <th></th>\n",
       "    </tr>\n",
       "  </thead>\n",
       "  <tbody>\n",
       "    <tr>\n",
       "      <th>Central</th>\n",
       "      <td>175158.0</td>\n",
       "      <td>0.0</td>\n",
       "      <td>0.0</td>\n",
       "      <td>105516.0</td>\n",
       "    </tr>\n",
       "    <tr>\n",
       "      <th>North</th>\n",
       "      <td>0.0</td>\n",
       "      <td>72741.0</td>\n",
       "      <td>0.0</td>\n",
       "      <td>0.0</td>\n",
       "    </tr>\n",
       "    <tr>\n",
       "      <th>South</th>\n",
       "      <td>0.0</td>\n",
       "      <td>0.0</td>\n",
       "      <td>21321.0</td>\n",
       "      <td>0.0</td>\n",
       "    </tr>\n",
       "    <tr>\n",
       "      <th>West</th>\n",
       "      <td>53658.0</td>\n",
       "      <td>84942.0</td>\n",
       "      <td>0.0</td>\n",
       "      <td>0.0</td>\n",
       "    </tr>\n",
       "  </tbody>\n",
       "</table>\n",
       "</div>"
      ],
      "text/plain": [
       "Type     Frozen Yogurt  Ice Cream  Popsicles  Tasty Treats\n",
       "Region                                                    \n",
       "Central       175158.0        0.0        0.0      105516.0\n",
       "North              0.0    72741.0        0.0           0.0\n",
       "South              0.0        0.0    21321.0           0.0\n",
       "West           53658.0    84942.0        0.0           0.0"
      ]
     },
     "execution_count": 458,
     "metadata": {},
     "output_type": "execute_result"
    }
   ],
   "source": [
    "pd.pivot_table(sls, values='Sales', index='Region', columns='Type', aggfunc='sum', fill_value=0)"
   ]
  },
  {
   "cell_type": "code",
   "execution_count": 466,
   "id": "809bd6a4-9cc9-43e5-8681-b0cbb8d97552",
   "metadata": {},
   "outputs": [
    {
     "data": {
      "text/html": [
       "<div>\n",
       "<style scoped>\n",
       "    .dataframe tbody tr th:only-of-type {\n",
       "        vertical-align: middle;\n",
       "    }\n",
       "\n",
       "    .dataframe tbody tr th {\n",
       "        vertical-align: top;\n",
       "    }\n",
       "\n",
       "    .dataframe thead th {\n",
       "        text-align: right;\n",
       "    }\n",
       "</style>\n",
       "<table border=\"1\" class=\"dataframe\">\n",
       "  <thead>\n",
       "    <tr style=\"text-align: right;\">\n",
       "      <th>Region</th>\n",
       "      <th>Central</th>\n",
       "      <th>North</th>\n",
       "      <th>South</th>\n",
       "      <th>West</th>\n",
       "    </tr>\n",
       "    <tr>\n",
       "      <th>Type</th>\n",
       "      <th></th>\n",
       "      <th></th>\n",
       "      <th></th>\n",
       "      <th></th>\n",
       "    </tr>\n",
       "  </thead>\n",
       "  <tbody>\n",
       "    <tr>\n",
       "      <th>Frozen Yogurt</th>\n",
       "      <td>175158.0</td>\n",
       "      <td>0.0</td>\n",
       "      <td>0.0</td>\n",
       "      <td>53658.0</td>\n",
       "    </tr>\n",
       "    <tr>\n",
       "      <th>Ice Cream</th>\n",
       "      <td>0.0</td>\n",
       "      <td>72741.0</td>\n",
       "      <td>0.0</td>\n",
       "      <td>84942.0</td>\n",
       "    </tr>\n",
       "    <tr>\n",
       "      <th>Popsicles</th>\n",
       "      <td>0.0</td>\n",
       "      <td>0.0</td>\n",
       "      <td>21321.0</td>\n",
       "      <td>0.0</td>\n",
       "    </tr>\n",
       "    <tr>\n",
       "      <th>Tasty Treats</th>\n",
       "      <td>105516.0</td>\n",
       "      <td>0.0</td>\n",
       "      <td>0.0</td>\n",
       "      <td>0.0</td>\n",
       "    </tr>\n",
       "  </tbody>\n",
       "</table>\n",
       "</div>"
      ],
      "text/plain": [
       "Region          Central    North    South     West\n",
       "Type                                              \n",
       "Frozen Yogurt  175158.0      0.0      0.0  53658.0\n",
       "Ice Cream           0.0  72741.0      0.0  84942.0\n",
       "Popsicles           0.0      0.0  21321.0      0.0\n",
       "Tasty Treats   105516.0      0.0      0.0      0.0"
      ]
     },
     "execution_count": 466,
     "metadata": {},
     "output_type": "execute_result"
    }
   ],
   "source": [
    "pd.pivot_table(sls, values='Sales', columns='Region', index='Type', aggfunc='sum', fill_value=0)"
   ]
  },
  {
   "cell_type": "code",
   "execution_count": 468,
   "id": "5cdb5fbe-21c2-4384-949e-a4ef51c66bb7",
   "metadata": {},
   "outputs": [
    {
     "data": {
      "text/html": [
       "<div>\n",
       "<style scoped>\n",
       "    .dataframe tbody tr th:only-of-type {\n",
       "        vertical-align: middle;\n",
       "    }\n",
       "\n",
       "    .dataframe tbody tr th {\n",
       "        vertical-align: top;\n",
       "    }\n",
       "\n",
       "    .dataframe thead th {\n",
       "        text-align: right;\n",
       "    }\n",
       "</style>\n",
       "<table border=\"1\" class=\"dataframe\">\n",
       "  <thead>\n",
       "    <tr style=\"text-align: right;\">\n",
       "      <th></th>\n",
       "      <th></th>\n",
       "      <th>Sales</th>\n",
       "    </tr>\n",
       "    <tr>\n",
       "      <th>Region</th>\n",
       "      <th>Type</th>\n",
       "      <th></th>\n",
       "    </tr>\n",
       "  </thead>\n",
       "  <tbody>\n",
       "    <tr>\n",
       "      <th rowspan=\"2\" valign=\"top\">Central</th>\n",
       "      <th>Frozen Yogurt</th>\n",
       "      <td>175158.0</td>\n",
       "    </tr>\n",
       "    <tr>\n",
       "      <th>Tasty Treats</th>\n",
       "      <td>105516.0</td>\n",
       "    </tr>\n",
       "    <tr>\n",
       "      <th>North</th>\n",
       "      <th>Ice Cream</th>\n",
       "      <td>72741.0</td>\n",
       "    </tr>\n",
       "    <tr>\n",
       "      <th>South</th>\n",
       "      <th>Popsicles</th>\n",
       "      <td>21321.0</td>\n",
       "    </tr>\n",
       "    <tr>\n",
       "      <th rowspan=\"2\" valign=\"top\">West</th>\n",
       "      <th>Frozen Yogurt</th>\n",
       "      <td>53658.0</td>\n",
       "    </tr>\n",
       "    <tr>\n",
       "      <th>Ice Cream</th>\n",
       "      <td>84942.0</td>\n",
       "    </tr>\n",
       "  </tbody>\n",
       "</table>\n",
       "</div>"
      ],
      "text/plain": [
       "                          Sales\n",
       "Region  Type                   \n",
       "Central Frozen Yogurt  175158.0\n",
       "        Tasty Treats   105516.0\n",
       "North   Ice Cream       72741.0\n",
       "South   Popsicles       21321.0\n",
       "West    Frozen Yogurt   53658.0\n",
       "        Ice Cream       84942.0"
      ]
     },
     "execution_count": 468,
     "metadata": {},
     "output_type": "execute_result"
    }
   ],
   "source": [
    "pd.pivot_table(sls, values='Sales', index=['Region', 'Type'], aggfunc='sum', fill_value=0)"
   ]
  },
  {
   "cell_type": "code",
   "execution_count": 470,
   "id": "2f221362-e1af-4564-a5d6-20a2388c2aea",
   "metadata": {},
   "outputs": [
    {
     "data": {
      "text/html": [
       "<div>\n",
       "<style scoped>\n",
       "    .dataframe tbody tr th:only-of-type {\n",
       "        vertical-align: middle;\n",
       "    }\n",
       "\n",
       "    .dataframe tbody tr th {\n",
       "        vertical-align: top;\n",
       "    }\n",
       "\n",
       "    .dataframe thead tr th {\n",
       "        text-align: left;\n",
       "    }\n",
       "</style>\n",
       "<table border=\"1\" class=\"dataframe\">\n",
       "  <thead>\n",
       "    <tr>\n",
       "      <th>Region</th>\n",
       "      <th colspan=\"2\" halign=\"left\">Central</th>\n",
       "      <th>North</th>\n",
       "      <th>South</th>\n",
       "      <th colspan=\"2\" halign=\"left\">West</th>\n",
       "    </tr>\n",
       "    <tr>\n",
       "      <th>Type</th>\n",
       "      <th>Frozen Yogurt</th>\n",
       "      <th>Tasty Treats</th>\n",
       "      <th>Ice Cream</th>\n",
       "      <th>Popsicles</th>\n",
       "      <th>Frozen Yogurt</th>\n",
       "      <th>Ice Cream</th>\n",
       "    </tr>\n",
       "  </thead>\n",
       "  <tbody>\n",
       "    <tr>\n",
       "      <th>Sales</th>\n",
       "      <td>175158.0</td>\n",
       "      <td>105516.0</td>\n",
       "      <td>72741.0</td>\n",
       "      <td>21321.0</td>\n",
       "      <td>53658.0</td>\n",
       "      <td>84942.0</td>\n",
       "    </tr>\n",
       "  </tbody>\n",
       "</table>\n",
       "</div>"
      ],
      "text/plain": [
       "Region       Central                  North     South          West          \n",
       "Type   Frozen Yogurt Tasty Treats Ice Cream Popsicles Frozen Yogurt Ice Cream\n",
       "Sales       175158.0     105516.0   72741.0   21321.0       53658.0   84942.0"
      ]
     },
     "execution_count": 470,
     "metadata": {},
     "output_type": "execute_result"
    }
   ],
   "source": [
    "pd.pivot_table(sls, values='Sales', columns=['Region', 'Type'], aggfunc='sum', fill_value=0)"
   ]
  },
  {
   "cell_type": "code",
   "execution_count": 472,
   "id": "7cfec8c2-2f4e-4d34-b6bd-829367b76c07",
   "metadata": {},
   "outputs": [],
   "source": [
    "# Region wise total Sales of each product sold by each Salesperson\n",
    "\n",
    "# Region\n",
    "# Sales\n",
    "# Type\n",
    "# Salesperson\n",
    "# Operation - sum (Sales)"
   ]
  },
  {
   "cell_type": "code",
   "execution_count": 476,
   "id": "d98b3517-57ee-427b-ae6e-95c4810cf645",
   "metadata": {},
   "outputs": [
    {
     "data": {
      "text/html": [
       "<div>\n",
       "<style scoped>\n",
       "    .dataframe tbody tr th:only-of-type {\n",
       "        vertical-align: middle;\n",
       "    }\n",
       "\n",
       "    .dataframe tbody tr th {\n",
       "        vertical-align: top;\n",
       "    }\n",
       "\n",
       "    .dataframe thead tr th {\n",
       "        text-align: left;\n",
       "    }\n",
       "\n",
       "    .dataframe thead tr:last-of-type th {\n",
       "        text-align: right;\n",
       "    }\n",
       "</style>\n",
       "<table border=\"1\" class=\"dataframe\">\n",
       "  <thead>\n",
       "    <tr>\n",
       "      <th>Salesperson</th>\n",
       "      <th colspan=\"2\" halign=\"left\">Bishop</th>\n",
       "      <th colspan=\"2\" halign=\"left\">Lee</th>\n",
       "      <th>Parker</th>\n",
       "      <th>Pullen</th>\n",
       "      <th colspan=\"2\" halign=\"left\">Watson</th>\n",
       "    </tr>\n",
       "    <tr>\n",
       "      <th>Type</th>\n",
       "      <th>Frozen Yogurt</th>\n",
       "      <th>Ice Cream</th>\n",
       "      <th>Frozen Yogurt</th>\n",
       "      <th>Tasty Treats</th>\n",
       "      <th>Ice Cream</th>\n",
       "      <th>Popsicles</th>\n",
       "      <th>Frozen Yogurt</th>\n",
       "      <th>Tasty Treats</th>\n",
       "    </tr>\n",
       "    <tr>\n",
       "      <th>Region</th>\n",
       "      <th></th>\n",
       "      <th></th>\n",
       "      <th></th>\n",
       "      <th></th>\n",
       "      <th></th>\n",
       "      <th></th>\n",
       "      <th></th>\n",
       "      <th></th>\n",
       "    </tr>\n",
       "  </thead>\n",
       "  <tbody>\n",
       "    <tr>\n",
       "      <th>Central</th>\n",
       "      <td>0.0</td>\n",
       "      <td>0.0</td>\n",
       "      <td>87579.0</td>\n",
       "      <td>52758.0</td>\n",
       "      <td>0.0</td>\n",
       "      <td>0.0</td>\n",
       "      <td>87579.0</td>\n",
       "      <td>52758.0</td>\n",
       "    </tr>\n",
       "    <tr>\n",
       "      <th>North</th>\n",
       "      <td>0.0</td>\n",
       "      <td>0.0</td>\n",
       "      <td>0.0</td>\n",
       "      <td>0.0</td>\n",
       "      <td>72741.0</td>\n",
       "      <td>0.0</td>\n",
       "      <td>0.0</td>\n",
       "      <td>0.0</td>\n",
       "    </tr>\n",
       "    <tr>\n",
       "      <th>South</th>\n",
       "      <td>0.0</td>\n",
       "      <td>0.0</td>\n",
       "      <td>0.0</td>\n",
       "      <td>0.0</td>\n",
       "      <td>0.0</td>\n",
       "      <td>21321.0</td>\n",
       "      <td>0.0</td>\n",
       "      <td>0.0</td>\n",
       "    </tr>\n",
       "    <tr>\n",
       "      <th>West</th>\n",
       "      <td>53658.0</td>\n",
       "      <td>84942.0</td>\n",
       "      <td>0.0</td>\n",
       "      <td>0.0</td>\n",
       "      <td>0.0</td>\n",
       "      <td>0.0</td>\n",
       "      <td>0.0</td>\n",
       "      <td>0.0</td>\n",
       "    </tr>\n",
       "  </tbody>\n",
       "</table>\n",
       "</div>"
      ],
      "text/plain": [
       "Salesperson        Bishop                     Lee                 Parker  \\\n",
       "Type        Frozen Yogurt Ice Cream Frozen Yogurt Tasty Treats Ice Cream   \n",
       "Region                                                                     \n",
       "Central               0.0       0.0       87579.0      52758.0       0.0   \n",
       "North                 0.0       0.0           0.0          0.0   72741.0   \n",
       "South                 0.0       0.0           0.0          0.0       0.0   \n",
       "West              53658.0   84942.0           0.0          0.0       0.0   \n",
       "\n",
       "Salesperson    Pullen        Watson               \n",
       "Type        Popsicles Frozen Yogurt Tasty Treats  \n",
       "Region                                            \n",
       "Central           0.0       87579.0      52758.0  \n",
       "North             0.0           0.0          0.0  \n",
       "South         21321.0           0.0          0.0  \n",
       "West              0.0           0.0          0.0  "
      ]
     },
     "execution_count": 476,
     "metadata": {},
     "output_type": "execute_result"
    }
   ],
   "source": [
    "pd.pivot_table(sls, values='Sales', index='Region', columns=['Salesperson', 'Type'],aggfunc='sum', fill_value=0)"
   ]
  },
  {
   "cell_type": "code",
   "execution_count": 478,
   "id": "9640901e-1cc0-44ae-868d-e667e76e4708",
   "metadata": {},
   "outputs": [],
   "source": [
    "# Region wise total Sales and total units sold of each product sold by each Salesperson\n",
    "\n",
    "# Region\n",
    "# Sales\n",
    "# Type\n",
    "# Salesperson\n",
    "# Units\n",
    "# Operation - sum (Sales + Units)"
   ]
  },
  {
   "cell_type": "code",
   "execution_count": 484,
   "id": "65821bac-ab70-42b7-ab64-1a075b9ed2d1",
   "metadata": {},
   "outputs": [
    {
     "data": {
      "text/html": [
       "<div>\n",
       "<style scoped>\n",
       "    .dataframe tbody tr th:only-of-type {\n",
       "        vertical-align: middle;\n",
       "    }\n",
       "\n",
       "    .dataframe tbody tr th {\n",
       "        vertical-align: top;\n",
       "    }\n",
       "\n",
       "    .dataframe thead tr th {\n",
       "        text-align: left;\n",
       "    }\n",
       "\n",
       "    .dataframe thead tr:last-of-type th {\n",
       "        text-align: right;\n",
       "    }\n",
       "</style>\n",
       "<table border=\"1\" class=\"dataframe\">\n",
       "  <thead>\n",
       "    <tr>\n",
       "      <th></th>\n",
       "      <th colspan=\"8\" halign=\"left\">Sales</th>\n",
       "      <th colspan=\"8\" halign=\"left\">Units</th>\n",
       "    </tr>\n",
       "    <tr>\n",
       "      <th>Salesperson</th>\n",
       "      <th colspan=\"2\" halign=\"left\">Bishop</th>\n",
       "      <th colspan=\"2\" halign=\"left\">Lee</th>\n",
       "      <th>Parker</th>\n",
       "      <th>Pullen</th>\n",
       "      <th colspan=\"2\" halign=\"left\">Watson</th>\n",
       "      <th colspan=\"2\" halign=\"left\">Bishop</th>\n",
       "      <th colspan=\"2\" halign=\"left\">Lee</th>\n",
       "      <th>Parker</th>\n",
       "      <th>Pullen</th>\n",
       "      <th colspan=\"2\" halign=\"left\">Watson</th>\n",
       "    </tr>\n",
       "    <tr>\n",
       "      <th>Type</th>\n",
       "      <th>Frozen Yogurt</th>\n",
       "      <th>Ice Cream</th>\n",
       "      <th>Frozen Yogurt</th>\n",
       "      <th>Tasty Treats</th>\n",
       "      <th>Ice Cream</th>\n",
       "      <th>Popsicles</th>\n",
       "      <th>Frozen Yogurt</th>\n",
       "      <th>Tasty Treats</th>\n",
       "      <th>Frozen Yogurt</th>\n",
       "      <th>Ice Cream</th>\n",
       "      <th>Frozen Yogurt</th>\n",
       "      <th>Tasty Treats</th>\n",
       "      <th>Ice Cream</th>\n",
       "      <th>Popsicles</th>\n",
       "      <th>Frozen Yogurt</th>\n",
       "      <th>Tasty Treats</th>\n",
       "    </tr>\n",
       "    <tr>\n",
       "      <th>Region</th>\n",
       "      <th></th>\n",
       "      <th></th>\n",
       "      <th></th>\n",
       "      <th></th>\n",
       "      <th></th>\n",
       "      <th></th>\n",
       "      <th></th>\n",
       "      <th></th>\n",
       "      <th></th>\n",
       "      <th></th>\n",
       "      <th></th>\n",
       "      <th></th>\n",
       "      <th></th>\n",
       "      <th></th>\n",
       "      <th></th>\n",
       "      <th></th>\n",
       "    </tr>\n",
       "  </thead>\n",
       "  <tbody>\n",
       "    <tr>\n",
       "      <th>Central</th>\n",
       "      <td>0.0</td>\n",
       "      <td>0.0</td>\n",
       "      <td>87579.0</td>\n",
       "      <td>52758.0</td>\n",
       "      <td>0.0</td>\n",
       "      <td>0.0</td>\n",
       "      <td>87579.0</td>\n",
       "      <td>52758.0</td>\n",
       "      <td>0</td>\n",
       "      <td>0</td>\n",
       "      <td>58386</td>\n",
       "      <td>35172</td>\n",
       "      <td>0</td>\n",
       "      <td>0</td>\n",
       "      <td>58386</td>\n",
       "      <td>35172</td>\n",
       "    </tr>\n",
       "    <tr>\n",
       "      <th>North</th>\n",
       "      <td>0.0</td>\n",
       "      <td>0.0</td>\n",
       "      <td>0.0</td>\n",
       "      <td>0.0</td>\n",
       "      <td>72741.0</td>\n",
       "      <td>0.0</td>\n",
       "      <td>0.0</td>\n",
       "      <td>0.0</td>\n",
       "      <td>0</td>\n",
       "      <td>0</td>\n",
       "      <td>0</td>\n",
       "      <td>0</td>\n",
       "      <td>63012</td>\n",
       "      <td>0</td>\n",
       "      <td>0</td>\n",
       "      <td>0</td>\n",
       "    </tr>\n",
       "    <tr>\n",
       "      <th>South</th>\n",
       "      <td>0.0</td>\n",
       "      <td>0.0</td>\n",
       "      <td>0.0</td>\n",
       "      <td>0.0</td>\n",
       "      <td>0.0</td>\n",
       "      <td>21321.0</td>\n",
       "      <td>0.0</td>\n",
       "      <td>0.0</td>\n",
       "      <td>0</td>\n",
       "      <td>0</td>\n",
       "      <td>0</td>\n",
       "      <td>0</td>\n",
       "      <td>0</td>\n",
       "      <td>14214</td>\n",
       "      <td>0</td>\n",
       "      <td>0</td>\n",
       "    </tr>\n",
       "    <tr>\n",
       "      <th>West</th>\n",
       "      <td>53658.0</td>\n",
       "      <td>84942.0</td>\n",
       "      <td>0.0</td>\n",
       "      <td>0.0</td>\n",
       "      <td>0.0</td>\n",
       "      <td>0.0</td>\n",
       "      <td>0.0</td>\n",
       "      <td>0.0</td>\n",
       "      <td>35772</td>\n",
       "      <td>56628</td>\n",
       "      <td>0</td>\n",
       "      <td>0</td>\n",
       "      <td>0</td>\n",
       "      <td>0</td>\n",
       "      <td>0</td>\n",
       "      <td>0</td>\n",
       "    </tr>\n",
       "  </tbody>\n",
       "</table>\n",
       "</div>"
      ],
      "text/plain": [
       "                    Sales                                                 \\\n",
       "Salesperson        Bishop                     Lee                 Parker   \n",
       "Type        Frozen Yogurt Ice Cream Frozen Yogurt Tasty Treats Ice Cream   \n",
       "Region                                                                     \n",
       "Central               0.0       0.0       87579.0      52758.0       0.0   \n",
       "North                 0.0       0.0           0.0          0.0   72741.0   \n",
       "South                 0.0       0.0           0.0          0.0       0.0   \n",
       "West              53658.0   84942.0           0.0          0.0       0.0   \n",
       "\n",
       "                                                         Units            \\\n",
       "Salesperson    Pullen        Watson                     Bishop             \n",
       "Type        Popsicles Frozen Yogurt Tasty Treats Frozen Yogurt Ice Cream   \n",
       "Region                                                                     \n",
       "Central           0.0       87579.0      52758.0             0         0   \n",
       "North             0.0           0.0          0.0             0         0   \n",
       "South         21321.0           0.0          0.0             0         0   \n",
       "West              0.0           0.0          0.0         35772     56628   \n",
       "\n",
       "                                                                          \\\n",
       "Salesperson           Lee                 Parker    Pullen        Watson   \n",
       "Type        Frozen Yogurt Tasty Treats Ice Cream Popsicles Frozen Yogurt   \n",
       "Region                                                                     \n",
       "Central             58386        35172         0         0         58386   \n",
       "North                   0            0     63012         0             0   \n",
       "South                   0            0         0     14214             0   \n",
       "West                    0            0         0         0             0   \n",
       "\n",
       "                          \n",
       "Salesperson               \n",
       "Type        Tasty Treats  \n",
       "Region                    \n",
       "Central            35172  \n",
       "North                  0  \n",
       "South                  0  \n",
       "West                   0  "
      ]
     },
     "execution_count": 484,
     "metadata": {},
     "output_type": "execute_result"
    }
   ],
   "source": [
    "pd.pivot_table(sls, values=['Sales', 'Units'], index='Region', columns=['Salesperson', 'Type'],aggfunc='sum', fill_value=0)"
   ]
  },
  {
   "cell_type": "code",
   "execution_count": 486,
   "id": "9e921fde-427e-4084-afc6-c64e874b16a8",
   "metadata": {},
   "outputs": [],
   "source": [
    "# Region wise total Sales and Average Sales and total units sold and Average Units of each product sold by each Salesperson\n",
    "\n",
    "# Region\n",
    "# Sales\n",
    "# Type\n",
    "# Salesperson\n",
    "# Units\n",
    "# Operation - (sum + mean) (Sales + Units)"
   ]
  },
  {
   "cell_type": "code",
   "execution_count": 492,
   "id": "60fc392f-3222-4ac5-9eb5-51915bdb7f5e",
   "metadata": {},
   "outputs": [
    {
     "data": {
      "text/html": [
       "<div>\n",
       "<style scoped>\n",
       "    .dataframe tbody tr th:only-of-type {\n",
       "        vertical-align: middle;\n",
       "    }\n",
       "\n",
       "    .dataframe tbody tr th {\n",
       "        vertical-align: top;\n",
       "    }\n",
       "\n",
       "    .dataframe thead th {\n",
       "        text-align: right;\n",
       "    }\n",
       "</style>\n",
       "<table border=\"1\" class=\"dataframe\">\n",
       "  <thead>\n",
       "    <tr style=\"text-align: right;\">\n",
       "      <th></th>\n",
       "      <th></th>\n",
       "      <th></th>\n",
       "      <th>Region</th>\n",
       "      <th>Central</th>\n",
       "      <th>North</th>\n",
       "      <th>South</th>\n",
       "      <th>West</th>\n",
       "    </tr>\n",
       "    <tr>\n",
       "      <th></th>\n",
       "      <th></th>\n",
       "      <th>Salesperson</th>\n",
       "      <th>Type</th>\n",
       "      <th></th>\n",
       "      <th></th>\n",
       "      <th></th>\n",
       "      <th></th>\n",
       "    </tr>\n",
       "  </thead>\n",
       "  <tbody>\n",
       "    <tr>\n",
       "      <th rowspan=\"16\" valign=\"top\">sum</th>\n",
       "      <th rowspan=\"8\" valign=\"top\">Sales</th>\n",
       "      <th rowspan=\"2\" valign=\"top\">Bishop</th>\n",
       "      <th>Frozen Yogurt</th>\n",
       "      <td>0.0</td>\n",
       "      <td>0.00</td>\n",
       "      <td>0.0</td>\n",
       "      <td>53658.0</td>\n",
       "    </tr>\n",
       "    <tr>\n",
       "      <th>Ice Cream</th>\n",
       "      <td>0.0</td>\n",
       "      <td>0.00</td>\n",
       "      <td>0.0</td>\n",
       "      <td>84942.0</td>\n",
       "    </tr>\n",
       "    <tr>\n",
       "      <th rowspan=\"2\" valign=\"top\">Lee</th>\n",
       "      <th>Frozen Yogurt</th>\n",
       "      <td>87579.0</td>\n",
       "      <td>0.00</td>\n",
       "      <td>0.0</td>\n",
       "      <td>0.0</td>\n",
       "    </tr>\n",
       "    <tr>\n",
       "      <th>Tasty Treats</th>\n",
       "      <td>52758.0</td>\n",
       "      <td>0.00</td>\n",
       "      <td>0.0</td>\n",
       "      <td>0.0</td>\n",
       "    </tr>\n",
       "    <tr>\n",
       "      <th>Parker</th>\n",
       "      <th>Ice Cream</th>\n",
       "      <td>0.0</td>\n",
       "      <td>72741.00</td>\n",
       "      <td>0.0</td>\n",
       "      <td>0.0</td>\n",
       "    </tr>\n",
       "    <tr>\n",
       "      <th>Pullen</th>\n",
       "      <th>Popsicles</th>\n",
       "      <td>0.0</td>\n",
       "      <td>0.00</td>\n",
       "      <td>21321.0</td>\n",
       "      <td>0.0</td>\n",
       "    </tr>\n",
       "    <tr>\n",
       "      <th rowspan=\"2\" valign=\"top\">Watson</th>\n",
       "      <th>Frozen Yogurt</th>\n",
       "      <td>87579.0</td>\n",
       "      <td>0.00</td>\n",
       "      <td>0.0</td>\n",
       "      <td>0.0</td>\n",
       "    </tr>\n",
       "    <tr>\n",
       "      <th>Tasty Treats</th>\n",
       "      <td>52758.0</td>\n",
       "      <td>0.00</td>\n",
       "      <td>0.0</td>\n",
       "      <td>0.0</td>\n",
       "    </tr>\n",
       "    <tr>\n",
       "      <th rowspan=\"8\" valign=\"top\">Units</th>\n",
       "      <th rowspan=\"2\" valign=\"top\">Bishop</th>\n",
       "      <th>Frozen Yogurt</th>\n",
       "      <td>0.0</td>\n",
       "      <td>0.00</td>\n",
       "      <td>0.0</td>\n",
       "      <td>35772.0</td>\n",
       "    </tr>\n",
       "    <tr>\n",
       "      <th>Ice Cream</th>\n",
       "      <td>0.0</td>\n",
       "      <td>0.00</td>\n",
       "      <td>0.0</td>\n",
       "      <td>56628.0</td>\n",
       "    </tr>\n",
       "    <tr>\n",
       "      <th rowspan=\"2\" valign=\"top\">Lee</th>\n",
       "      <th>Frozen Yogurt</th>\n",
       "      <td>58386.0</td>\n",
       "      <td>0.00</td>\n",
       "      <td>0.0</td>\n",
       "      <td>0.0</td>\n",
       "    </tr>\n",
       "    <tr>\n",
       "      <th>Tasty Treats</th>\n",
       "      <td>35172.0</td>\n",
       "      <td>0.00</td>\n",
       "      <td>0.0</td>\n",
       "      <td>0.0</td>\n",
       "    </tr>\n",
       "    <tr>\n",
       "      <th>Parker</th>\n",
       "      <th>Ice Cream</th>\n",
       "      <td>0.0</td>\n",
       "      <td>63012.00</td>\n",
       "      <td>0.0</td>\n",
       "      <td>0.0</td>\n",
       "    </tr>\n",
       "    <tr>\n",
       "      <th>Pullen</th>\n",
       "      <th>Popsicles</th>\n",
       "      <td>0.0</td>\n",
       "      <td>0.00</td>\n",
       "      <td>14214.0</td>\n",
       "      <td>0.0</td>\n",
       "    </tr>\n",
       "    <tr>\n",
       "      <th rowspan=\"2\" valign=\"top\">Watson</th>\n",
       "      <th>Frozen Yogurt</th>\n",
       "      <td>58386.0</td>\n",
       "      <td>0.00</td>\n",
       "      <td>0.0</td>\n",
       "      <td>0.0</td>\n",
       "    </tr>\n",
       "    <tr>\n",
       "      <th>Tasty Treats</th>\n",
       "      <td>35172.0</td>\n",
       "      <td>0.00</td>\n",
       "      <td>0.0</td>\n",
       "      <td>0.0</td>\n",
       "    </tr>\n",
       "    <tr>\n",
       "      <th rowspan=\"16\" valign=\"top\">mean</th>\n",
       "      <th rowspan=\"8\" valign=\"top\">Sales</th>\n",
       "      <th rowspan=\"2\" valign=\"top\">Bishop</th>\n",
       "      <th>Frozen Yogurt</th>\n",
       "      <td>0.0</td>\n",
       "      <td>0.00</td>\n",
       "      <td>0.0</td>\n",
       "      <td>8943.0</td>\n",
       "    </tr>\n",
       "    <tr>\n",
       "      <th>Ice Cream</th>\n",
       "      <td>0.0</td>\n",
       "      <td>0.00</td>\n",
       "      <td>0.0</td>\n",
       "      <td>7078.5</td>\n",
       "    </tr>\n",
       "    <tr>\n",
       "      <th rowspan=\"2\" valign=\"top\">Lee</th>\n",
       "      <th>Frozen Yogurt</th>\n",
       "      <td>14596.5</td>\n",
       "      <td>0.00</td>\n",
       "      <td>0.0</td>\n",
       "      <td>0.0</td>\n",
       "    </tr>\n",
       "    <tr>\n",
       "      <th>Tasty Treats</th>\n",
       "      <td>8793.0</td>\n",
       "      <td>0.00</td>\n",
       "      <td>0.0</td>\n",
       "      <td>0.0</td>\n",
       "    </tr>\n",
       "    <tr>\n",
       "      <th>Parker</th>\n",
       "      <th>Ice Cream</th>\n",
       "      <td>0.0</td>\n",
       "      <td>6061.75</td>\n",
       "      <td>0.0</td>\n",
       "      <td>0.0</td>\n",
       "    </tr>\n",
       "    <tr>\n",
       "      <th>Pullen</th>\n",
       "      <th>Popsicles</th>\n",
       "      <td>0.0</td>\n",
       "      <td>0.00</td>\n",
       "      <td>3553.5</td>\n",
       "      <td>0.0</td>\n",
       "    </tr>\n",
       "    <tr>\n",
       "      <th rowspan=\"2\" valign=\"top\">Watson</th>\n",
       "      <th>Frozen Yogurt</th>\n",
       "      <td>14596.5</td>\n",
       "      <td>0.00</td>\n",
       "      <td>0.0</td>\n",
       "      <td>0.0</td>\n",
       "    </tr>\n",
       "    <tr>\n",
       "      <th>Tasty Treats</th>\n",
       "      <td>8793.0</td>\n",
       "      <td>0.00</td>\n",
       "      <td>0.0</td>\n",
       "      <td>0.0</td>\n",
       "    </tr>\n",
       "    <tr>\n",
       "      <th rowspan=\"8\" valign=\"top\">Units</th>\n",
       "      <th rowspan=\"2\" valign=\"top\">Bishop</th>\n",
       "      <th>Frozen Yogurt</th>\n",
       "      <td>0.0</td>\n",
       "      <td>0.00</td>\n",
       "      <td>0.0</td>\n",
       "      <td>5962.0</td>\n",
       "    </tr>\n",
       "    <tr>\n",
       "      <th>Ice Cream</th>\n",
       "      <td>0.0</td>\n",
       "      <td>0.00</td>\n",
       "      <td>0.0</td>\n",
       "      <td>4719.0</td>\n",
       "    </tr>\n",
       "    <tr>\n",
       "      <th rowspan=\"2\" valign=\"top\">Lee</th>\n",
       "      <th>Frozen Yogurt</th>\n",
       "      <td>9731.0</td>\n",
       "      <td>0.00</td>\n",
       "      <td>0.0</td>\n",
       "      <td>0.0</td>\n",
       "    </tr>\n",
       "    <tr>\n",
       "      <th>Tasty Treats</th>\n",
       "      <td>5862.0</td>\n",
       "      <td>0.00</td>\n",
       "      <td>0.0</td>\n",
       "      <td>0.0</td>\n",
       "    </tr>\n",
       "    <tr>\n",
       "      <th>Parker</th>\n",
       "      <th>Ice Cream</th>\n",
       "      <td>0.0</td>\n",
       "      <td>5251.00</td>\n",
       "      <td>0.0</td>\n",
       "      <td>0.0</td>\n",
       "    </tr>\n",
       "    <tr>\n",
       "      <th>Pullen</th>\n",
       "      <th>Popsicles</th>\n",
       "      <td>0.0</td>\n",
       "      <td>0.00</td>\n",
       "      <td>2369.0</td>\n",
       "      <td>0.0</td>\n",
       "    </tr>\n",
       "    <tr>\n",
       "      <th rowspan=\"2\" valign=\"top\">Watson</th>\n",
       "      <th>Frozen Yogurt</th>\n",
       "      <td>9731.0</td>\n",
       "      <td>0.00</td>\n",
       "      <td>0.0</td>\n",
       "      <td>0.0</td>\n",
       "    </tr>\n",
       "    <tr>\n",
       "      <th>Tasty Treats</th>\n",
       "      <td>5862.0</td>\n",
       "      <td>0.00</td>\n",
       "      <td>0.0</td>\n",
       "      <td>0.0</td>\n",
       "    </tr>\n",
       "  </tbody>\n",
       "</table>\n",
       "</div>"
      ],
      "text/plain": [
       "Region                                Central     North    South     West\n",
       "           Salesperson Type                                              \n",
       "sum  Sales Bishop      Frozen Yogurt      0.0      0.00      0.0  53658.0\n",
       "                       Ice Cream          0.0      0.00      0.0  84942.0\n",
       "           Lee         Frozen Yogurt  87579.0      0.00      0.0      0.0\n",
       "                       Tasty Treats   52758.0      0.00      0.0      0.0\n",
       "           Parker      Ice Cream          0.0  72741.00      0.0      0.0\n",
       "           Pullen      Popsicles          0.0      0.00  21321.0      0.0\n",
       "           Watson      Frozen Yogurt  87579.0      0.00      0.0      0.0\n",
       "                       Tasty Treats   52758.0      0.00      0.0      0.0\n",
       "     Units Bishop      Frozen Yogurt      0.0      0.00      0.0  35772.0\n",
       "                       Ice Cream          0.0      0.00      0.0  56628.0\n",
       "           Lee         Frozen Yogurt  58386.0      0.00      0.0      0.0\n",
       "                       Tasty Treats   35172.0      0.00      0.0      0.0\n",
       "           Parker      Ice Cream          0.0  63012.00      0.0      0.0\n",
       "           Pullen      Popsicles          0.0      0.00  14214.0      0.0\n",
       "           Watson      Frozen Yogurt  58386.0      0.00      0.0      0.0\n",
       "                       Tasty Treats   35172.0      0.00      0.0      0.0\n",
       "mean Sales Bishop      Frozen Yogurt      0.0      0.00      0.0   8943.0\n",
       "                       Ice Cream          0.0      0.00      0.0   7078.5\n",
       "           Lee         Frozen Yogurt  14596.5      0.00      0.0      0.0\n",
       "                       Tasty Treats    8793.0      0.00      0.0      0.0\n",
       "           Parker      Ice Cream          0.0   6061.75      0.0      0.0\n",
       "           Pullen      Popsicles          0.0      0.00   3553.5      0.0\n",
       "           Watson      Frozen Yogurt  14596.5      0.00      0.0      0.0\n",
       "                       Tasty Treats    8793.0      0.00      0.0      0.0\n",
       "     Units Bishop      Frozen Yogurt      0.0      0.00      0.0   5962.0\n",
       "                       Ice Cream          0.0      0.00      0.0   4719.0\n",
       "           Lee         Frozen Yogurt   9731.0      0.00      0.0      0.0\n",
       "                       Tasty Treats    5862.0      0.00      0.0      0.0\n",
       "           Parker      Ice Cream          0.0   5251.00      0.0      0.0\n",
       "           Pullen      Popsicles          0.0      0.00   2369.0      0.0\n",
       "           Watson      Frozen Yogurt   9731.0      0.00      0.0      0.0\n",
       "                       Tasty Treats    5862.0      0.00      0.0      0.0"
      ]
     },
     "execution_count": 492,
     "metadata": {},
     "output_type": "execute_result"
    }
   ],
   "source": [
    "pd.pivot_table(sls, \n",
    "               values=['Sales', 'Units'], \n",
    "               index='Region', \n",
    "               columns=['Salesperson', 'Type'],\n",
    "               aggfunc=['sum', 'mean'], fill_value=0).T"
   ]
  },
  {
   "cell_type": "code",
   "execution_count": 506,
   "id": "a278a372-4116-4b96-a477-2ba492a800b1",
   "metadata": {},
   "outputs": [
    {
     "data": {
      "text/html": [
       "<div>\n",
       "<style scoped>\n",
       "    .dataframe tbody tr th:only-of-type {\n",
       "        vertical-align: middle;\n",
       "    }\n",
       "\n",
       "    .dataframe tbody tr th {\n",
       "        vertical-align: top;\n",
       "    }\n",
       "\n",
       "    .dataframe thead tr th {\n",
       "        text-align: left;\n",
       "    }\n",
       "\n",
       "    .dataframe thead tr:last-of-type th {\n",
       "        text-align: right;\n",
       "    }\n",
       "</style>\n",
       "<table border=\"1\" class=\"dataframe\">\n",
       "  <thead>\n",
       "    <tr>\n",
       "      <th>Salesperson</th>\n",
       "      <th colspan=\"2\" halign=\"left\">Bishop</th>\n",
       "      <th colspan=\"2\" halign=\"left\">Lee</th>\n",
       "      <th>Parker</th>\n",
       "      <th>Pullen</th>\n",
       "      <th colspan=\"2\" halign=\"left\">Watson</th>\n",
       "    </tr>\n",
       "    <tr>\n",
       "      <th>Type</th>\n",
       "      <th>Frozen Yogurt</th>\n",
       "      <th>Ice Cream</th>\n",
       "      <th>Frozen Yogurt</th>\n",
       "      <th>Tasty Treats</th>\n",
       "      <th>Ice Cream</th>\n",
       "      <th>Popsicles</th>\n",
       "      <th>Frozen Yogurt</th>\n",
       "      <th>Tasty Treats</th>\n",
       "    </tr>\n",
       "    <tr>\n",
       "      <th>Region</th>\n",
       "      <th></th>\n",
       "      <th></th>\n",
       "      <th></th>\n",
       "      <th></th>\n",
       "      <th></th>\n",
       "      <th></th>\n",
       "      <th></th>\n",
       "      <th></th>\n",
       "    </tr>\n",
       "  </thead>\n",
       "  <tbody>\n",
       "    <tr>\n",
       "      <th>Central</th>\n",
       "      <td>0.0</td>\n",
       "      <td>0.0</td>\n",
       "      <td>14596.5</td>\n",
       "      <td>8793.0</td>\n",
       "      <td>0.0</td>\n",
       "      <td>0.0</td>\n",
       "      <td>14596.5</td>\n",
       "      <td>8793.0</td>\n",
       "    </tr>\n",
       "    <tr>\n",
       "      <th>North</th>\n",
       "      <td>0.0</td>\n",
       "      <td>0.0</td>\n",
       "      <td>0.0</td>\n",
       "      <td>0.0</td>\n",
       "      <td>4666.0</td>\n",
       "      <td>0.0</td>\n",
       "      <td>0.0</td>\n",
       "      <td>0.0</td>\n",
       "    </tr>\n",
       "    <tr>\n",
       "      <th>South</th>\n",
       "      <td>0.0</td>\n",
       "      <td>0.0</td>\n",
       "      <td>0.0</td>\n",
       "      <td>0.0</td>\n",
       "      <td>0.0</td>\n",
       "      <td>3553.5</td>\n",
       "      <td>0.0</td>\n",
       "      <td>0.0</td>\n",
       "    </tr>\n",
       "    <tr>\n",
       "      <th>West</th>\n",
       "      <td>8943.0</td>\n",
       "      <td>2395.5</td>\n",
       "      <td>0.0</td>\n",
       "      <td>0.0</td>\n",
       "      <td>0.0</td>\n",
       "      <td>0.0</td>\n",
       "      <td>0.0</td>\n",
       "      <td>0.0</td>\n",
       "    </tr>\n",
       "  </tbody>\n",
       "</table>\n",
       "</div>"
      ],
      "text/plain": [
       "Salesperson        Bishop                     Lee                 Parker  \\\n",
       "Type        Frozen Yogurt Ice Cream Frozen Yogurt Tasty Treats Ice Cream   \n",
       "Region                                                                     \n",
       "Central               0.0       0.0       14596.5       8793.0       0.0   \n",
       "North                 0.0       0.0           0.0          0.0    4666.0   \n",
       "South                 0.0       0.0           0.0          0.0       0.0   \n",
       "West               8943.0    2395.5           0.0          0.0       0.0   \n",
       "\n",
       "Salesperson    Pullen        Watson               \n",
       "Type        Popsicles Frozen Yogurt Tasty Treats  \n",
       "Region                                            \n",
       "Central           0.0       14596.5       8793.0  \n",
       "North             0.0           0.0          0.0  \n",
       "South          3553.5           0.0          0.0  \n",
       "West              0.0           0.0          0.0  "
      ]
     },
     "execution_count": 506,
     "metadata": {},
     "output_type": "execute_result"
    }
   ],
   "source": [
    "pd.pivot_table(sls, values='Sales', index='Region', \n",
    "               columns=['Salesperson', 'Type'],\n",
    "               aggfunc='min', fill_value=0)"
   ]
  },
  {
   "cell_type": "markdown",
   "id": "be9f9af7-3ac7-419e-86ae-778144699ac1",
   "metadata": {},
   "source": [
    "# Data Cleaning and Transformation"
   ]
  },
  {
   "cell_type": "code",
   "execution_count": 509,
   "id": "3de9fcfc-c35b-4681-ba0f-d03300bb33b1",
   "metadata": {},
   "outputs": [],
   "source": [
    "# - Typecasting\n",
    "# - apply()\n",
    "# - Cleaning (Regex)\n",
    "# - Capping\n",
    "# - Bining\n",
    "# - Encoding (OHE/Label/TE)\n",
    "# Merging\n",
    "# Concatenation\n",
    "# Iterating over a Dataframe\n",
    "# Exporting a dataframe"
   ]
  },
  {
   "cell_type": "markdown",
   "id": "82aa4c22-c261-432e-ac89-a10eb7621bb2",
   "metadata": {},
   "source": [
    "### Typecasting"
   ]
  },
  {
   "cell_type": "markdown",
   "id": "63534a07-b1b2-4986-8a29-11b27755fa48",
   "metadata": {},
   "source": [
    "### astype()"
   ]
  },
  {
   "cell_type": "code",
   "execution_count": 513,
   "id": "225b96fa-7e17-4404-a942-eac20f131304",
   "metadata": {},
   "outputs": [],
   "source": [
    "# - It typecasts a series or a dataframe and returns a new object."
   ]
  },
  {
   "cell_type": "code",
   "execution_count": 539,
   "id": "a4e6537b-e73a-4005-ba08-b6dc854a67e0",
   "metadata": {},
   "outputs": [],
   "source": [
    "names=['Kushagra', 'Kartik', 'Vikash', 'Sukesh', 'Deepti', 'Priti', 'Pranali', 'Amit']\n",
    "codes=[101, 102, 103, 104, 105, 106, 107, 108]\n",
    "city=['Pune', 'Madurai', 'Chennai', 'Dehradun', 'Noida', 'Bengaluru', 'Chennai', 'Goa']\n",
    "salary=['55000', '61000', '57000', '92000', '88000', '75000', '71000', '62000']"
   ]
  },
  {
   "cell_type": "code",
   "execution_count": 541,
   "id": "20e17724-d77f-484f-b080-bff7b7bdb9d2",
   "metadata": {},
   "outputs": [],
   "source": [
    "data={'Name':names,\n",
    "     'ID':codes,\n",
    "     'City':city,\n",
    "     'Salary':salary}\n",
    "\n",
    "df=pd.DataFrame(data)"
   ]
  },
  {
   "cell_type": "code",
   "execution_count": 545,
   "id": "ad4a05a6-a1eb-4123-abb9-03bc97b75e12",
   "metadata": {},
   "outputs": [
    {
     "data": {
      "text/html": [
       "<div>\n",
       "<style scoped>\n",
       "    .dataframe tbody tr th:only-of-type {\n",
       "        vertical-align: middle;\n",
       "    }\n",
       "\n",
       "    .dataframe tbody tr th {\n",
       "        vertical-align: top;\n",
       "    }\n",
       "\n",
       "    .dataframe thead th {\n",
       "        text-align: right;\n",
       "    }\n",
       "</style>\n",
       "<table border=\"1\" class=\"dataframe\">\n",
       "  <thead>\n",
       "    <tr style=\"text-align: right;\">\n",
       "      <th></th>\n",
       "      <th>Name</th>\n",
       "      <th>ID</th>\n",
       "      <th>City</th>\n",
       "      <th>Salary</th>\n",
       "    </tr>\n",
       "  </thead>\n",
       "  <tbody>\n",
       "    <tr>\n",
       "      <th>0</th>\n",
       "      <td>Kushagra</td>\n",
       "      <td>101</td>\n",
       "      <td>Pune</td>\n",
       "      <td>55000</td>\n",
       "    </tr>\n",
       "    <tr>\n",
       "      <th>1</th>\n",
       "      <td>Kartik</td>\n",
       "      <td>102</td>\n",
       "      <td>Madurai</td>\n",
       "      <td>61000</td>\n",
       "    </tr>\n",
       "    <tr>\n",
       "      <th>2</th>\n",
       "      <td>Vikash</td>\n",
       "      <td>103</td>\n",
       "      <td>Chennai</td>\n",
       "      <td>57000</td>\n",
       "    </tr>\n",
       "    <tr>\n",
       "      <th>3</th>\n",
       "      <td>Sukesh</td>\n",
       "      <td>104</td>\n",
       "      <td>Dehradun</td>\n",
       "      <td>92000</td>\n",
       "    </tr>\n",
       "    <tr>\n",
       "      <th>4</th>\n",
       "      <td>Deepti</td>\n",
       "      <td>105</td>\n",
       "      <td>Noida</td>\n",
       "      <td>88000</td>\n",
       "    </tr>\n",
       "    <tr>\n",
       "      <th>5</th>\n",
       "      <td>Priti</td>\n",
       "      <td>106</td>\n",
       "      <td>Bengaluru</td>\n",
       "      <td>75000</td>\n",
       "    </tr>\n",
       "    <tr>\n",
       "      <th>6</th>\n",
       "      <td>Pranali</td>\n",
       "      <td>107</td>\n",
       "      <td>Chennai</td>\n",
       "      <td>71000</td>\n",
       "    </tr>\n",
       "    <tr>\n",
       "      <th>7</th>\n",
       "      <td>Amit</td>\n",
       "      <td>108</td>\n",
       "      <td>Goa</td>\n",
       "      <td>62000</td>\n",
       "    </tr>\n",
       "  </tbody>\n",
       "</table>\n",
       "</div>"
      ],
      "text/plain": [
       "       Name   ID       City Salary\n",
       "0  Kushagra  101       Pune  55000\n",
       "1    Kartik  102    Madurai  61000\n",
       "2    Vikash  103    Chennai  57000\n",
       "3    Sukesh  104   Dehradun  92000\n",
       "4    Deepti  105      Noida  88000\n",
       "5     Priti  106  Bengaluru  75000\n",
       "6   Pranali  107    Chennai  71000\n",
       "7      Amit  108        Goa  62000"
      ]
     },
     "execution_count": 545,
     "metadata": {},
     "output_type": "execute_result"
    }
   ],
   "source": [
    "df"
   ]
  },
  {
   "cell_type": "code",
   "execution_count": 547,
   "id": "b84acba7-aac4-4152-b86a-e0a77439ee7d",
   "metadata": {},
   "outputs": [
    {
     "data": {
      "text/plain": [
       "Name      object\n",
       "ID         int64\n",
       "City      object\n",
       "Salary    object\n",
       "dtype: object"
      ]
     },
     "execution_count": 547,
     "metadata": {},
     "output_type": "execute_result"
    }
   ],
   "source": [
    "df.dtypes"
   ]
  },
  {
   "cell_type": "code",
   "execution_count": 549,
   "id": "54b4e70d-3031-4bf7-89b0-bd2f5770ec26",
   "metadata": {},
   "outputs": [],
   "source": [
    "df.Salary=df.Salary.astype(int)"
   ]
  },
  {
   "cell_type": "code",
   "execution_count": 551,
   "id": "07aaff49-bbde-419c-a5f5-f9f54cd3b2b0",
   "metadata": {},
   "outputs": [
    {
     "data": {
      "text/html": [
       "<div>\n",
       "<style scoped>\n",
       "    .dataframe tbody tr th:only-of-type {\n",
       "        vertical-align: middle;\n",
       "    }\n",
       "\n",
       "    .dataframe tbody tr th {\n",
       "        vertical-align: top;\n",
       "    }\n",
       "\n",
       "    .dataframe thead th {\n",
       "        text-align: right;\n",
       "    }\n",
       "</style>\n",
       "<table border=\"1\" class=\"dataframe\">\n",
       "  <thead>\n",
       "    <tr style=\"text-align: right;\">\n",
       "      <th></th>\n",
       "      <th>Name</th>\n",
       "      <th>ID</th>\n",
       "      <th>City</th>\n",
       "      <th>Salary</th>\n",
       "    </tr>\n",
       "  </thead>\n",
       "  <tbody>\n",
       "    <tr>\n",
       "      <th>0</th>\n",
       "      <td>Kushagra</td>\n",
       "      <td>101</td>\n",
       "      <td>Pune</td>\n",
       "      <td>55000</td>\n",
       "    </tr>\n",
       "    <tr>\n",
       "      <th>1</th>\n",
       "      <td>Kartik</td>\n",
       "      <td>102</td>\n",
       "      <td>Madurai</td>\n",
       "      <td>61000</td>\n",
       "    </tr>\n",
       "    <tr>\n",
       "      <th>2</th>\n",
       "      <td>Vikash</td>\n",
       "      <td>103</td>\n",
       "      <td>Chennai</td>\n",
       "      <td>57000</td>\n",
       "    </tr>\n",
       "    <tr>\n",
       "      <th>3</th>\n",
       "      <td>Sukesh</td>\n",
       "      <td>104</td>\n",
       "      <td>Dehradun</td>\n",
       "      <td>92000</td>\n",
       "    </tr>\n",
       "    <tr>\n",
       "      <th>4</th>\n",
       "      <td>Deepti</td>\n",
       "      <td>105</td>\n",
       "      <td>Noida</td>\n",
       "      <td>88000</td>\n",
       "    </tr>\n",
       "    <tr>\n",
       "      <th>5</th>\n",
       "      <td>Priti</td>\n",
       "      <td>106</td>\n",
       "      <td>Bengaluru</td>\n",
       "      <td>75000</td>\n",
       "    </tr>\n",
       "    <tr>\n",
       "      <th>6</th>\n",
       "      <td>Pranali</td>\n",
       "      <td>107</td>\n",
       "      <td>Chennai</td>\n",
       "      <td>71000</td>\n",
       "    </tr>\n",
       "    <tr>\n",
       "      <th>7</th>\n",
       "      <td>Amit</td>\n",
       "      <td>108</td>\n",
       "      <td>Goa</td>\n",
       "      <td>62000</td>\n",
       "    </tr>\n",
       "  </tbody>\n",
       "</table>\n",
       "</div>"
      ],
      "text/plain": [
       "       Name   ID       City  Salary\n",
       "0  Kushagra  101       Pune   55000\n",
       "1    Kartik  102    Madurai   61000\n",
       "2    Vikash  103    Chennai   57000\n",
       "3    Sukesh  104   Dehradun   92000\n",
       "4    Deepti  105      Noida   88000\n",
       "5     Priti  106  Bengaluru   75000\n",
       "6   Pranali  107    Chennai   71000\n",
       "7      Amit  108        Goa   62000"
      ]
     },
     "execution_count": 551,
     "metadata": {},
     "output_type": "execute_result"
    }
   ],
   "source": [
    "df"
   ]
  },
  {
   "cell_type": "code",
   "execution_count": 553,
   "id": "d29a33e7-6c25-4d76-becf-0a3fcb340ff8",
   "metadata": {},
   "outputs": [
    {
     "data": {
      "text/plain": [
       "Name      object\n",
       "ID         int64\n",
       "City      object\n",
       "Salary     int32\n",
       "dtype: object"
      ]
     },
     "execution_count": 553,
     "metadata": {},
     "output_type": "execute_result"
    }
   ],
   "source": [
    "df.dtypes"
   ]
  },
  {
   "cell_type": "code",
   "execution_count": 555,
   "id": "bb48b8b9-afb1-4e02-9595-5f68dfec74b7",
   "metadata": {},
   "outputs": [
    {
     "data": {
      "text/plain": [
       "92000"
      ]
     },
     "execution_count": 555,
     "metadata": {},
     "output_type": "execute_result"
    }
   ],
   "source": [
    "df.Salary.max()"
   ]
  },
  {
   "cell_type": "code",
   "execution_count": 567,
   "id": "3305b371-ac97-49a9-8de8-ce2dfc8244b6",
   "metadata": {},
   "outputs": [],
   "source": [
    "names=['Kushagra', 'Kartik', 'Vikash', 'Sukesh', 'Deepti', 'Priti', 'Pranali', 'Amit']\n",
    "codes=[101, 102, 103, 104, 105, 106, 107, 108]\n",
    "city=['Pune', 'Madurai', 'Chennai', 'Dehradun', 'Noida', 'Bengaluru', 'Chennai', 'Goa']\n",
    "salary=['.', '61000', '-', '92000', '88000', '', '71000', '62000']"
   ]
  },
  {
   "cell_type": "code",
   "execution_count": 641,
   "id": "f971f8c5-cc50-4d7e-ac13-7ee5d465070d",
   "metadata": {},
   "outputs": [],
   "source": [
    "data={'Name':names,\n",
    "     'ID':codes,\n",
    "     'City':city,\n",
    "     'Salary':salary}\n",
    "\n",
    "df=pd.DataFrame(data)"
   ]
  },
  {
   "cell_type": "code",
   "execution_count": 571,
   "id": "ae2fb49b-0be9-4df1-bc95-d4794482f0e1",
   "metadata": {},
   "outputs": [
    {
     "data": {
      "text/html": [
       "<div>\n",
       "<style scoped>\n",
       "    .dataframe tbody tr th:only-of-type {\n",
       "        vertical-align: middle;\n",
       "    }\n",
       "\n",
       "    .dataframe tbody tr th {\n",
       "        vertical-align: top;\n",
       "    }\n",
       "\n",
       "    .dataframe thead th {\n",
       "        text-align: right;\n",
       "    }\n",
       "</style>\n",
       "<table border=\"1\" class=\"dataframe\">\n",
       "  <thead>\n",
       "    <tr style=\"text-align: right;\">\n",
       "      <th></th>\n",
       "      <th>Name</th>\n",
       "      <th>ID</th>\n",
       "      <th>City</th>\n",
       "      <th>Salary</th>\n",
       "    </tr>\n",
       "  </thead>\n",
       "  <tbody>\n",
       "    <tr>\n",
       "      <th>0</th>\n",
       "      <td>Kushagra</td>\n",
       "      <td>101</td>\n",
       "      <td>Pune</td>\n",
       "      <td>.</td>\n",
       "    </tr>\n",
       "    <tr>\n",
       "      <th>1</th>\n",
       "      <td>Kartik</td>\n",
       "      <td>102</td>\n",
       "      <td>Madurai</td>\n",
       "      <td>61000</td>\n",
       "    </tr>\n",
       "    <tr>\n",
       "      <th>2</th>\n",
       "      <td>Vikash</td>\n",
       "      <td>103</td>\n",
       "      <td>Chennai</td>\n",
       "      <td>-</td>\n",
       "    </tr>\n",
       "    <tr>\n",
       "      <th>3</th>\n",
       "      <td>Sukesh</td>\n",
       "      <td>104</td>\n",
       "      <td>Dehradun</td>\n",
       "      <td>92000</td>\n",
       "    </tr>\n",
       "    <tr>\n",
       "      <th>4</th>\n",
       "      <td>Deepti</td>\n",
       "      <td>105</td>\n",
       "      <td>Noida</td>\n",
       "      <td>88000</td>\n",
       "    </tr>\n",
       "    <tr>\n",
       "      <th>5</th>\n",
       "      <td>Priti</td>\n",
       "      <td>106</td>\n",
       "      <td>Bengaluru</td>\n",
       "      <td></td>\n",
       "    </tr>\n",
       "    <tr>\n",
       "      <th>6</th>\n",
       "      <td>Pranali</td>\n",
       "      <td>107</td>\n",
       "      <td>Chennai</td>\n",
       "      <td>71000</td>\n",
       "    </tr>\n",
       "    <tr>\n",
       "      <th>7</th>\n",
       "      <td>Amit</td>\n",
       "      <td>108</td>\n",
       "      <td>Goa</td>\n",
       "      <td>62000</td>\n",
       "    </tr>\n",
       "  </tbody>\n",
       "</table>\n",
       "</div>"
      ],
      "text/plain": [
       "       Name   ID       City Salary\n",
       "0  Kushagra  101       Pune      .\n",
       "1    Kartik  102    Madurai  61000\n",
       "2    Vikash  103    Chennai      -\n",
       "3    Sukesh  104   Dehradun  92000\n",
       "4    Deepti  105      Noida  88000\n",
       "5     Priti  106  Bengaluru       \n",
       "6   Pranali  107    Chennai  71000\n",
       "7      Amit  108        Goa  62000"
      ]
     },
     "execution_count": 571,
     "metadata": {},
     "output_type": "execute_result"
    }
   ],
   "source": [
    "df"
   ]
  },
  {
   "cell_type": "code",
   "execution_count": 580,
   "id": "36117be2-3d03-4065-a88b-c087eaf4bd7a",
   "metadata": {},
   "outputs": [],
   "source": [
    "# int('.')"
   ]
  },
  {
   "cell_type": "code",
   "execution_count": 582,
   "id": "285aaea9-4998-4b9b-a445-89ba0c065eed",
   "metadata": {},
   "outputs": [],
   "source": [
    "# df.Salary.astype(int)"
   ]
  },
  {
   "cell_type": "code",
   "execution_count": 596,
   "id": "9d2821dc-7bca-40e0-89f5-4f0a9e23de2b",
   "metadata": {},
   "outputs": [],
   "source": [
    "df.loc[df.Salary=='.','Salary']=np.nan"
   ]
  },
  {
   "cell_type": "code",
   "execution_count": 602,
   "id": "50ba8d9c-450e-4d1c-b870-c861f7884058",
   "metadata": {},
   "outputs": [
    {
     "data": {
      "text/html": [
       "<div>\n",
       "<style scoped>\n",
       "    .dataframe tbody tr th:only-of-type {\n",
       "        vertical-align: middle;\n",
       "    }\n",
       "\n",
       "    .dataframe tbody tr th {\n",
       "        vertical-align: top;\n",
       "    }\n",
       "\n",
       "    .dataframe thead th {\n",
       "        text-align: right;\n",
       "    }\n",
       "</style>\n",
       "<table border=\"1\" class=\"dataframe\">\n",
       "  <thead>\n",
       "    <tr style=\"text-align: right;\">\n",
       "      <th></th>\n",
       "      <th>Name</th>\n",
       "      <th>ID</th>\n",
       "      <th>City</th>\n",
       "      <th>Salary</th>\n",
       "    </tr>\n",
       "  </thead>\n",
       "  <tbody>\n",
       "    <tr>\n",
       "      <th>0</th>\n",
       "      <td>Kushagra</td>\n",
       "      <td>101</td>\n",
       "      <td>Pune</td>\n",
       "      <td>NaN</td>\n",
       "    </tr>\n",
       "    <tr>\n",
       "      <th>1</th>\n",
       "      <td>Kartik</td>\n",
       "      <td>102</td>\n",
       "      <td>Madurai</td>\n",
       "      <td>61000</td>\n",
       "    </tr>\n",
       "    <tr>\n",
       "      <th>2</th>\n",
       "      <td>Vikash</td>\n",
       "      <td>103</td>\n",
       "      <td>Chennai</td>\n",
       "      <td>-</td>\n",
       "    </tr>\n",
       "    <tr>\n",
       "      <th>3</th>\n",
       "      <td>Sukesh</td>\n",
       "      <td>104</td>\n",
       "      <td>Dehradun</td>\n",
       "      <td>92000</td>\n",
       "    </tr>\n",
       "    <tr>\n",
       "      <th>4</th>\n",
       "      <td>Deepti</td>\n",
       "      <td>105</td>\n",
       "      <td>Noida</td>\n",
       "      <td>88000</td>\n",
       "    </tr>\n",
       "    <tr>\n",
       "      <th>5</th>\n",
       "      <td>Priti</td>\n",
       "      <td>106</td>\n",
       "      <td>Bengaluru</td>\n",
       "      <td></td>\n",
       "    </tr>\n",
       "    <tr>\n",
       "      <th>6</th>\n",
       "      <td>Pranali</td>\n",
       "      <td>107</td>\n",
       "      <td>Chennai</td>\n",
       "      <td>71000</td>\n",
       "    </tr>\n",
       "    <tr>\n",
       "      <th>7</th>\n",
       "      <td>Amit</td>\n",
       "      <td>108</td>\n",
       "      <td>Goa</td>\n",
       "      <td>62000</td>\n",
       "    </tr>\n",
       "  </tbody>\n",
       "</table>\n",
       "</div>"
      ],
      "text/plain": [
       "       Name   ID       City Salary\n",
       "0  Kushagra  101       Pune    NaN\n",
       "1    Kartik  102    Madurai  61000\n",
       "2    Vikash  103    Chennai      -\n",
       "3    Sukesh  104   Dehradun  92000\n",
       "4    Deepti  105      Noida  88000\n",
       "5     Priti  106  Bengaluru       \n",
       "6   Pranali  107    Chennai  71000\n",
       "7      Amit  108        Goa  62000"
      ]
     },
     "execution_count": 602,
     "metadata": {},
     "output_type": "execute_result"
    }
   ],
   "source": [
    "df"
   ]
  },
  {
   "cell_type": "code",
   "execution_count": 636,
   "id": "7ee7cf31-a5f0-4233-a2e4-9af59644c247",
   "metadata": {},
   "outputs": [],
   "source": [
    "# df.Salary.astype(float)"
   ]
  },
  {
   "cell_type": "code",
   "execution_count": 610,
   "id": "ec709d8c-0788-4321-a1e7-dbf0e8d2f3fb",
   "metadata": {},
   "outputs": [],
   "source": [
    "df.loc[df.Salary=='-', 'Salary']=np.nan"
   ]
  },
  {
   "cell_type": "code",
   "execution_count": 612,
   "id": "cee97007-26ff-4438-9118-ac59f27f3d38",
   "metadata": {},
   "outputs": [
    {
     "data": {
      "text/html": [
       "<div>\n",
       "<style scoped>\n",
       "    .dataframe tbody tr th:only-of-type {\n",
       "        vertical-align: middle;\n",
       "    }\n",
       "\n",
       "    .dataframe tbody tr th {\n",
       "        vertical-align: top;\n",
       "    }\n",
       "\n",
       "    .dataframe thead th {\n",
       "        text-align: right;\n",
       "    }\n",
       "</style>\n",
       "<table border=\"1\" class=\"dataframe\">\n",
       "  <thead>\n",
       "    <tr style=\"text-align: right;\">\n",
       "      <th></th>\n",
       "      <th>Name</th>\n",
       "      <th>ID</th>\n",
       "      <th>City</th>\n",
       "      <th>Salary</th>\n",
       "    </tr>\n",
       "  </thead>\n",
       "  <tbody>\n",
       "    <tr>\n",
       "      <th>0</th>\n",
       "      <td>Kushagra</td>\n",
       "      <td>101</td>\n",
       "      <td>Pune</td>\n",
       "      <td>NaN</td>\n",
       "    </tr>\n",
       "    <tr>\n",
       "      <th>1</th>\n",
       "      <td>Kartik</td>\n",
       "      <td>102</td>\n",
       "      <td>Madurai</td>\n",
       "      <td>61000</td>\n",
       "    </tr>\n",
       "    <tr>\n",
       "      <th>2</th>\n",
       "      <td>Vikash</td>\n",
       "      <td>103</td>\n",
       "      <td>Chennai</td>\n",
       "      <td>NaN</td>\n",
       "    </tr>\n",
       "    <tr>\n",
       "      <th>3</th>\n",
       "      <td>Sukesh</td>\n",
       "      <td>104</td>\n",
       "      <td>Dehradun</td>\n",
       "      <td>92000</td>\n",
       "    </tr>\n",
       "    <tr>\n",
       "      <th>4</th>\n",
       "      <td>Deepti</td>\n",
       "      <td>105</td>\n",
       "      <td>Noida</td>\n",
       "      <td>88000</td>\n",
       "    </tr>\n",
       "    <tr>\n",
       "      <th>5</th>\n",
       "      <td>Priti</td>\n",
       "      <td>106</td>\n",
       "      <td>Bengaluru</td>\n",
       "      <td></td>\n",
       "    </tr>\n",
       "    <tr>\n",
       "      <th>6</th>\n",
       "      <td>Pranali</td>\n",
       "      <td>107</td>\n",
       "      <td>Chennai</td>\n",
       "      <td>71000</td>\n",
       "    </tr>\n",
       "    <tr>\n",
       "      <th>7</th>\n",
       "      <td>Amit</td>\n",
       "      <td>108</td>\n",
       "      <td>Goa</td>\n",
       "      <td>62000</td>\n",
       "    </tr>\n",
       "  </tbody>\n",
       "</table>\n",
       "</div>"
      ],
      "text/plain": [
       "       Name   ID       City Salary\n",
       "0  Kushagra  101       Pune    NaN\n",
       "1    Kartik  102    Madurai  61000\n",
       "2    Vikash  103    Chennai    NaN\n",
       "3    Sukesh  104   Dehradun  92000\n",
       "4    Deepti  105      Noida  88000\n",
       "5     Priti  106  Bengaluru       \n",
       "6   Pranali  107    Chennai  71000\n",
       "7      Amit  108        Goa  62000"
      ]
     },
     "execution_count": 612,
     "metadata": {},
     "output_type": "execute_result"
    }
   ],
   "source": [
    "df"
   ]
  },
  {
   "cell_type": "code",
   "execution_count": 634,
   "id": "e1272f8b-6a00-47f0-b7fe-dc86d165f23b",
   "metadata": {},
   "outputs": [],
   "source": [
    "# df.Salary.astype(float)"
   ]
  },
  {
   "cell_type": "code",
   "execution_count": 622,
   "id": "3254c970-bfe6-4db5-96b6-e31663731bda",
   "metadata": {},
   "outputs": [],
   "source": [
    "df.loc[df.Salary=='', 'Salary']=np.nan"
   ]
  },
  {
   "cell_type": "code",
   "execution_count": 624,
   "id": "00ca483f-683a-4d33-ae1d-134f4de79f6a",
   "metadata": {},
   "outputs": [
    {
     "data": {
      "text/html": [
       "<div>\n",
       "<style scoped>\n",
       "    .dataframe tbody tr th:only-of-type {\n",
       "        vertical-align: middle;\n",
       "    }\n",
       "\n",
       "    .dataframe tbody tr th {\n",
       "        vertical-align: top;\n",
       "    }\n",
       "\n",
       "    .dataframe thead th {\n",
       "        text-align: right;\n",
       "    }\n",
       "</style>\n",
       "<table border=\"1\" class=\"dataframe\">\n",
       "  <thead>\n",
       "    <tr style=\"text-align: right;\">\n",
       "      <th></th>\n",
       "      <th>Name</th>\n",
       "      <th>ID</th>\n",
       "      <th>City</th>\n",
       "      <th>Salary</th>\n",
       "    </tr>\n",
       "  </thead>\n",
       "  <tbody>\n",
       "    <tr>\n",
       "      <th>0</th>\n",
       "      <td>Kushagra</td>\n",
       "      <td>101</td>\n",
       "      <td>Pune</td>\n",
       "      <td>NaN</td>\n",
       "    </tr>\n",
       "    <tr>\n",
       "      <th>1</th>\n",
       "      <td>Kartik</td>\n",
       "      <td>102</td>\n",
       "      <td>Madurai</td>\n",
       "      <td>61000</td>\n",
       "    </tr>\n",
       "    <tr>\n",
       "      <th>2</th>\n",
       "      <td>Vikash</td>\n",
       "      <td>103</td>\n",
       "      <td>Chennai</td>\n",
       "      <td>NaN</td>\n",
       "    </tr>\n",
       "    <tr>\n",
       "      <th>3</th>\n",
       "      <td>Sukesh</td>\n",
       "      <td>104</td>\n",
       "      <td>Dehradun</td>\n",
       "      <td>92000</td>\n",
       "    </tr>\n",
       "    <tr>\n",
       "      <th>4</th>\n",
       "      <td>Deepti</td>\n",
       "      <td>105</td>\n",
       "      <td>Noida</td>\n",
       "      <td>88000</td>\n",
       "    </tr>\n",
       "    <tr>\n",
       "      <th>5</th>\n",
       "      <td>Priti</td>\n",
       "      <td>106</td>\n",
       "      <td>Bengaluru</td>\n",
       "      <td>NaN</td>\n",
       "    </tr>\n",
       "    <tr>\n",
       "      <th>6</th>\n",
       "      <td>Pranali</td>\n",
       "      <td>107</td>\n",
       "      <td>Chennai</td>\n",
       "      <td>71000</td>\n",
       "    </tr>\n",
       "    <tr>\n",
       "      <th>7</th>\n",
       "      <td>Amit</td>\n",
       "      <td>108</td>\n",
       "      <td>Goa</td>\n",
       "      <td>62000</td>\n",
       "    </tr>\n",
       "  </tbody>\n",
       "</table>\n",
       "</div>"
      ],
      "text/plain": [
       "       Name   ID       City Salary\n",
       "0  Kushagra  101       Pune    NaN\n",
       "1    Kartik  102    Madurai  61000\n",
       "2    Vikash  103    Chennai    NaN\n",
       "3    Sukesh  104   Dehradun  92000\n",
       "4    Deepti  105      Noida  88000\n",
       "5     Priti  106  Bengaluru    NaN\n",
       "6   Pranali  107    Chennai  71000\n",
       "7      Amit  108        Goa  62000"
      ]
     },
     "execution_count": 624,
     "metadata": {},
     "output_type": "execute_result"
    }
   ],
   "source": [
    "df"
   ]
  },
  {
   "cell_type": "code",
   "execution_count": 628,
   "id": "45fafaf3-5449-4fd0-b8de-3a5672ab980e",
   "metadata": {},
   "outputs": [],
   "source": [
    "df.Salary=df.Salary.astype(float)"
   ]
  },
  {
   "cell_type": "code",
   "execution_count": 630,
   "id": "d98d1893-cd04-40f0-8235-7b975d0e460f",
   "metadata": {},
   "outputs": [
    {
     "data": {
      "text/html": [
       "<div>\n",
       "<style scoped>\n",
       "    .dataframe tbody tr th:only-of-type {\n",
       "        vertical-align: middle;\n",
       "    }\n",
       "\n",
       "    .dataframe tbody tr th {\n",
       "        vertical-align: top;\n",
       "    }\n",
       "\n",
       "    .dataframe thead th {\n",
       "        text-align: right;\n",
       "    }\n",
       "</style>\n",
       "<table border=\"1\" class=\"dataframe\">\n",
       "  <thead>\n",
       "    <tr style=\"text-align: right;\">\n",
       "      <th></th>\n",
       "      <th>Name</th>\n",
       "      <th>ID</th>\n",
       "      <th>City</th>\n",
       "      <th>Salary</th>\n",
       "    </tr>\n",
       "  </thead>\n",
       "  <tbody>\n",
       "    <tr>\n",
       "      <th>0</th>\n",
       "      <td>Kushagra</td>\n",
       "      <td>101</td>\n",
       "      <td>Pune</td>\n",
       "      <td>NaN</td>\n",
       "    </tr>\n",
       "    <tr>\n",
       "      <th>1</th>\n",
       "      <td>Kartik</td>\n",
       "      <td>102</td>\n",
       "      <td>Madurai</td>\n",
       "      <td>61000.0</td>\n",
       "    </tr>\n",
       "    <tr>\n",
       "      <th>2</th>\n",
       "      <td>Vikash</td>\n",
       "      <td>103</td>\n",
       "      <td>Chennai</td>\n",
       "      <td>NaN</td>\n",
       "    </tr>\n",
       "    <tr>\n",
       "      <th>3</th>\n",
       "      <td>Sukesh</td>\n",
       "      <td>104</td>\n",
       "      <td>Dehradun</td>\n",
       "      <td>92000.0</td>\n",
       "    </tr>\n",
       "    <tr>\n",
       "      <th>4</th>\n",
       "      <td>Deepti</td>\n",
       "      <td>105</td>\n",
       "      <td>Noida</td>\n",
       "      <td>88000.0</td>\n",
       "    </tr>\n",
       "    <tr>\n",
       "      <th>5</th>\n",
       "      <td>Priti</td>\n",
       "      <td>106</td>\n",
       "      <td>Bengaluru</td>\n",
       "      <td>NaN</td>\n",
       "    </tr>\n",
       "    <tr>\n",
       "      <th>6</th>\n",
       "      <td>Pranali</td>\n",
       "      <td>107</td>\n",
       "      <td>Chennai</td>\n",
       "      <td>71000.0</td>\n",
       "    </tr>\n",
       "    <tr>\n",
       "      <th>7</th>\n",
       "      <td>Amit</td>\n",
       "      <td>108</td>\n",
       "      <td>Goa</td>\n",
       "      <td>62000.0</td>\n",
       "    </tr>\n",
       "  </tbody>\n",
       "</table>\n",
       "</div>"
      ],
      "text/plain": [
       "       Name   ID       City   Salary\n",
       "0  Kushagra  101       Pune      NaN\n",
       "1    Kartik  102    Madurai  61000.0\n",
       "2    Vikash  103    Chennai      NaN\n",
       "3    Sukesh  104   Dehradun  92000.0\n",
       "4    Deepti  105      Noida  88000.0\n",
       "5     Priti  106  Bengaluru      NaN\n",
       "6   Pranali  107    Chennai  71000.0\n",
       "7      Amit  108        Goa  62000.0"
      ]
     },
     "execution_count": 630,
     "metadata": {},
     "output_type": "execute_result"
    }
   ],
   "source": [
    "df"
   ]
  },
  {
   "cell_type": "code",
   "execution_count": 632,
   "id": "7d4c8837-79d1-4ef8-a694-2d0337f0ee57",
   "metadata": {},
   "outputs": [
    {
     "data": {
      "text/plain": [
       "Name       object\n",
       "ID          int64\n",
       "City       object\n",
       "Salary    float64\n",
       "dtype: object"
      ]
     },
     "execution_count": 632,
     "metadata": {},
     "output_type": "execute_result"
    }
   ],
   "source": [
    "df.dtypes"
   ]
  },
  {
   "cell_type": "markdown",
   "id": "ce685262-e5b1-4c48-a5d6-d33c50c43a9f",
   "metadata": {},
   "source": [
    "### pd.to_numeric()"
   ]
  },
  {
   "cell_type": "code",
   "execution_count": 639,
   "id": "cb91c638-4738-408d-bb9b-35068ef82783",
   "metadata": {},
   "outputs": [],
   "source": [
    "# - It typcasts to numeric."
   ]
  },
  {
   "cell_type": "code",
   "execution_count": 643,
   "id": "1ffd42af-31eb-4740-9710-c302b5c32eb1",
   "metadata": {},
   "outputs": [
    {
     "data": {
      "text/html": [
       "<div>\n",
       "<style scoped>\n",
       "    .dataframe tbody tr th:only-of-type {\n",
       "        vertical-align: middle;\n",
       "    }\n",
       "\n",
       "    .dataframe tbody tr th {\n",
       "        vertical-align: top;\n",
       "    }\n",
       "\n",
       "    .dataframe thead th {\n",
       "        text-align: right;\n",
       "    }\n",
       "</style>\n",
       "<table border=\"1\" class=\"dataframe\">\n",
       "  <thead>\n",
       "    <tr style=\"text-align: right;\">\n",
       "      <th></th>\n",
       "      <th>Name</th>\n",
       "      <th>ID</th>\n",
       "      <th>City</th>\n",
       "      <th>Salary</th>\n",
       "    </tr>\n",
       "  </thead>\n",
       "  <tbody>\n",
       "    <tr>\n",
       "      <th>0</th>\n",
       "      <td>Kushagra</td>\n",
       "      <td>101</td>\n",
       "      <td>Pune</td>\n",
       "      <td>.</td>\n",
       "    </tr>\n",
       "    <tr>\n",
       "      <th>1</th>\n",
       "      <td>Kartik</td>\n",
       "      <td>102</td>\n",
       "      <td>Madurai</td>\n",
       "      <td>61000</td>\n",
       "    </tr>\n",
       "    <tr>\n",
       "      <th>2</th>\n",
       "      <td>Vikash</td>\n",
       "      <td>103</td>\n",
       "      <td>Chennai</td>\n",
       "      <td>-</td>\n",
       "    </tr>\n",
       "    <tr>\n",
       "      <th>3</th>\n",
       "      <td>Sukesh</td>\n",
       "      <td>104</td>\n",
       "      <td>Dehradun</td>\n",
       "      <td>92000</td>\n",
       "    </tr>\n",
       "    <tr>\n",
       "      <th>4</th>\n",
       "      <td>Deepti</td>\n",
       "      <td>105</td>\n",
       "      <td>Noida</td>\n",
       "      <td>88000</td>\n",
       "    </tr>\n",
       "    <tr>\n",
       "      <th>5</th>\n",
       "      <td>Priti</td>\n",
       "      <td>106</td>\n",
       "      <td>Bengaluru</td>\n",
       "      <td></td>\n",
       "    </tr>\n",
       "    <tr>\n",
       "      <th>6</th>\n",
       "      <td>Pranali</td>\n",
       "      <td>107</td>\n",
       "      <td>Chennai</td>\n",
       "      <td>71000</td>\n",
       "    </tr>\n",
       "    <tr>\n",
       "      <th>7</th>\n",
       "      <td>Amit</td>\n",
       "      <td>108</td>\n",
       "      <td>Goa</td>\n",
       "      <td>62000</td>\n",
       "    </tr>\n",
       "  </tbody>\n",
       "</table>\n",
       "</div>"
      ],
      "text/plain": [
       "       Name   ID       City Salary\n",
       "0  Kushagra  101       Pune      .\n",
       "1    Kartik  102    Madurai  61000\n",
       "2    Vikash  103    Chennai      -\n",
       "3    Sukesh  104   Dehradun  92000\n",
       "4    Deepti  105      Noida  88000\n",
       "5     Priti  106  Bengaluru       \n",
       "6   Pranali  107    Chennai  71000\n",
       "7      Amit  108        Goa  62000"
      ]
     },
     "execution_count": 643,
     "metadata": {},
     "output_type": "execute_result"
    }
   ],
   "source": [
    "df"
   ]
  },
  {
   "cell_type": "code",
   "execution_count": 651,
   "id": "dc6b81c9-f82f-4525-a517-15b7623919b0",
   "metadata": {},
   "outputs": [],
   "source": [
    "# float('-')"
   ]
  },
  {
   "cell_type": "code",
   "execution_count": 655,
   "id": "c86ab755-a01c-44e2-96a3-abb34c0dcb42",
   "metadata": {},
   "outputs": [],
   "source": [
    "df.Salary=pd.to_numeric(df.Salary, errors='coerce')"
   ]
  },
  {
   "cell_type": "code",
   "execution_count": 657,
   "id": "11d224c6-3daa-48be-aeed-f8a8b849fa92",
   "metadata": {},
   "outputs": [
    {
     "data": {
      "text/html": [
       "<div>\n",
       "<style scoped>\n",
       "    .dataframe tbody tr th:only-of-type {\n",
       "        vertical-align: middle;\n",
       "    }\n",
       "\n",
       "    .dataframe tbody tr th {\n",
       "        vertical-align: top;\n",
       "    }\n",
       "\n",
       "    .dataframe thead th {\n",
       "        text-align: right;\n",
       "    }\n",
       "</style>\n",
       "<table border=\"1\" class=\"dataframe\">\n",
       "  <thead>\n",
       "    <tr style=\"text-align: right;\">\n",
       "      <th></th>\n",
       "      <th>Name</th>\n",
       "      <th>ID</th>\n",
       "      <th>City</th>\n",
       "      <th>Salary</th>\n",
       "    </tr>\n",
       "  </thead>\n",
       "  <tbody>\n",
       "    <tr>\n",
       "      <th>0</th>\n",
       "      <td>Kushagra</td>\n",
       "      <td>101</td>\n",
       "      <td>Pune</td>\n",
       "      <td>NaN</td>\n",
       "    </tr>\n",
       "    <tr>\n",
       "      <th>1</th>\n",
       "      <td>Kartik</td>\n",
       "      <td>102</td>\n",
       "      <td>Madurai</td>\n",
       "      <td>61000.0</td>\n",
       "    </tr>\n",
       "    <tr>\n",
       "      <th>2</th>\n",
       "      <td>Vikash</td>\n",
       "      <td>103</td>\n",
       "      <td>Chennai</td>\n",
       "      <td>NaN</td>\n",
       "    </tr>\n",
       "    <tr>\n",
       "      <th>3</th>\n",
       "      <td>Sukesh</td>\n",
       "      <td>104</td>\n",
       "      <td>Dehradun</td>\n",
       "      <td>92000.0</td>\n",
       "    </tr>\n",
       "    <tr>\n",
       "      <th>4</th>\n",
       "      <td>Deepti</td>\n",
       "      <td>105</td>\n",
       "      <td>Noida</td>\n",
       "      <td>88000.0</td>\n",
       "    </tr>\n",
       "    <tr>\n",
       "      <th>5</th>\n",
       "      <td>Priti</td>\n",
       "      <td>106</td>\n",
       "      <td>Bengaluru</td>\n",
       "      <td>NaN</td>\n",
       "    </tr>\n",
       "    <tr>\n",
       "      <th>6</th>\n",
       "      <td>Pranali</td>\n",
       "      <td>107</td>\n",
       "      <td>Chennai</td>\n",
       "      <td>71000.0</td>\n",
       "    </tr>\n",
       "    <tr>\n",
       "      <th>7</th>\n",
       "      <td>Amit</td>\n",
       "      <td>108</td>\n",
       "      <td>Goa</td>\n",
       "      <td>62000.0</td>\n",
       "    </tr>\n",
       "  </tbody>\n",
       "</table>\n",
       "</div>"
      ],
      "text/plain": [
       "       Name   ID       City   Salary\n",
       "0  Kushagra  101       Pune      NaN\n",
       "1    Kartik  102    Madurai  61000.0\n",
       "2    Vikash  103    Chennai      NaN\n",
       "3    Sukesh  104   Dehradun  92000.0\n",
       "4    Deepti  105      Noida  88000.0\n",
       "5     Priti  106  Bengaluru      NaN\n",
       "6   Pranali  107    Chennai  71000.0\n",
       "7      Amit  108        Goa  62000.0"
      ]
     },
     "execution_count": 657,
     "metadata": {},
     "output_type": "execute_result"
    }
   ],
   "source": [
    "df"
   ]
  },
  {
   "cell_type": "code",
   "execution_count": 659,
   "id": "8b3f49c4-f775-4506-9a22-f1a5a3c49842",
   "metadata": {},
   "outputs": [
    {
     "data": {
      "text/plain": [
       "Name       object\n",
       "ID          int64\n",
       "City       object\n",
       "Salary    float64\n",
       "dtype: object"
      ]
     },
     "execution_count": 659,
     "metadata": {},
     "output_type": "execute_result"
    }
   ],
   "source": [
    "df.dtypes"
   ]
  },
  {
   "cell_type": "code",
   "execution_count": 661,
   "id": "9a733386-e8a7-4b9b-b232-1719db2e74a4",
   "metadata": {},
   "outputs": [],
   "source": [
    "names=['Kushagra', 'Kartik', 'Vikash', 'Sukesh', 'Deepti', 'Priti', 'Pranali', 'Amit']\n",
    "codes=[101, 102, 103, 104, 105, 106, 107, 108]\n",
    "city=['Pune', 'Madurai', 'Chennai', 'Dehradun', 'Noida', 'Bengaluru', 'Chennai', 'Goa']\n",
    "salary=['.', '$61000', '-', '$92000', '$88000', '', '$71000', '$62000']"
   ]
  },
  {
   "cell_type": "code",
   "execution_count": 663,
   "id": "f5524a4a-04d8-4319-b9ca-87b66a0e1a78",
   "metadata": {},
   "outputs": [],
   "source": [
    "data={'Name':names,\n",
    "     'ID':codes,\n",
    "     'City':city,\n",
    "     'Salary':salary}\n",
    "\n",
    "df=pd.DataFrame(data)"
   ]
  },
  {
   "cell_type": "code",
   "execution_count": 665,
   "id": "1df5c82b-858e-49c6-8bea-13e11ac2dc07",
   "metadata": {},
   "outputs": [
    {
     "data": {
      "text/html": [
       "<div>\n",
       "<style scoped>\n",
       "    .dataframe tbody tr th:only-of-type {\n",
       "        vertical-align: middle;\n",
       "    }\n",
       "\n",
       "    .dataframe tbody tr th {\n",
       "        vertical-align: top;\n",
       "    }\n",
       "\n",
       "    .dataframe thead th {\n",
       "        text-align: right;\n",
       "    }\n",
       "</style>\n",
       "<table border=\"1\" class=\"dataframe\">\n",
       "  <thead>\n",
       "    <tr style=\"text-align: right;\">\n",
       "      <th></th>\n",
       "      <th>Name</th>\n",
       "      <th>ID</th>\n",
       "      <th>City</th>\n",
       "      <th>Salary</th>\n",
       "    </tr>\n",
       "  </thead>\n",
       "  <tbody>\n",
       "    <tr>\n",
       "      <th>0</th>\n",
       "      <td>Kushagra</td>\n",
       "      <td>101</td>\n",
       "      <td>Pune</td>\n",
       "      <td>.</td>\n",
       "    </tr>\n",
       "    <tr>\n",
       "      <th>1</th>\n",
       "      <td>Kartik</td>\n",
       "      <td>102</td>\n",
       "      <td>Madurai</td>\n",
       "      <td>$61000</td>\n",
       "    </tr>\n",
       "    <tr>\n",
       "      <th>2</th>\n",
       "      <td>Vikash</td>\n",
       "      <td>103</td>\n",
       "      <td>Chennai</td>\n",
       "      <td>-</td>\n",
       "    </tr>\n",
       "    <tr>\n",
       "      <th>3</th>\n",
       "      <td>Sukesh</td>\n",
       "      <td>104</td>\n",
       "      <td>Dehradun</td>\n",
       "      <td>$92000</td>\n",
       "    </tr>\n",
       "    <tr>\n",
       "      <th>4</th>\n",
       "      <td>Deepti</td>\n",
       "      <td>105</td>\n",
       "      <td>Noida</td>\n",
       "      <td>$88000</td>\n",
       "    </tr>\n",
       "    <tr>\n",
       "      <th>5</th>\n",
       "      <td>Priti</td>\n",
       "      <td>106</td>\n",
       "      <td>Bengaluru</td>\n",
       "      <td></td>\n",
       "    </tr>\n",
       "    <tr>\n",
       "      <th>6</th>\n",
       "      <td>Pranali</td>\n",
       "      <td>107</td>\n",
       "      <td>Chennai</td>\n",
       "      <td>$71000</td>\n",
       "    </tr>\n",
       "    <tr>\n",
       "      <th>7</th>\n",
       "      <td>Amit</td>\n",
       "      <td>108</td>\n",
       "      <td>Goa</td>\n",
       "      <td>$62000</td>\n",
       "    </tr>\n",
       "  </tbody>\n",
       "</table>\n",
       "</div>"
      ],
      "text/plain": [
       "       Name   ID       City  Salary\n",
       "0  Kushagra  101       Pune       .\n",
       "1    Kartik  102    Madurai  $61000\n",
       "2    Vikash  103    Chennai       -\n",
       "3    Sukesh  104   Dehradun  $92000\n",
       "4    Deepti  105      Noida  $88000\n",
       "5     Priti  106  Bengaluru        \n",
       "6   Pranali  107    Chennai  $71000\n",
       "7      Amit  108        Goa  $62000"
      ]
     },
     "execution_count": 665,
     "metadata": {},
     "output_type": "execute_result"
    }
   ],
   "source": [
    "df"
   ]
  },
  {
   "cell_type": "code",
   "execution_count": 671,
   "id": "9176fe86-8e20-4b75-8253-f3a3a8b3f728",
   "metadata": {},
   "outputs": [
    {
     "data": {
      "text/plain": [
       "0   NaN\n",
       "1   NaN\n",
       "2   NaN\n",
       "3   NaN\n",
       "4   NaN\n",
       "5   NaN\n",
       "6   NaN\n",
       "7   NaN\n",
       "Name: Salary, dtype: float64"
      ]
     },
     "execution_count": 671,
     "metadata": {},
     "output_type": "execute_result"
    }
   ],
   "source": [
    "pd.to_numeric(df.Salary, errors='coerce')"
   ]
  },
  {
   "cell_type": "code",
   "execution_count": 675,
   "id": "0d312029-329b-4cec-a45e-650350fe4caa",
   "metadata": {},
   "outputs": [
    {
     "ename": "ValueError",
     "evalue": "could not convert string to float: '$200'",
     "output_type": "error",
     "traceback": [
      "\u001b[1;31m---------------------------------------------------------------------------\u001b[0m",
      "\u001b[1;31mValueError\u001b[0m                                Traceback (most recent call last)",
      "Cell \u001b[1;32mIn[675], line 1\u001b[0m\n\u001b[1;32m----> 1\u001b[0m \u001b[38;5;28mfloat\u001b[39m(\u001b[38;5;124m'\u001b[39m\u001b[38;5;124m$200\u001b[39m\u001b[38;5;124m'\u001b[39m)\n",
      "\u001b[1;31mValueError\u001b[0m: could not convert string to float: '$200'"
     ]
    }
   ],
   "source": [
    "float('$200')"
   ]
  },
  {
   "cell_type": "code",
   "execution_count": null,
   "id": "47824dfa-8542-4de2-bc72-777bd05f91f2",
   "metadata": {},
   "outputs": [],
   "source": []
  }
 ],
 "metadata": {
  "kernelspec": {
   "display_name": "Python 3 (ipykernel)",
   "language": "python",
   "name": "python3"
  },
  "language_info": {
   "codemirror_mode": {
    "name": "ipython",
    "version": 3
   },
   "file_extension": ".py",
   "mimetype": "text/x-python",
   "name": "python",
   "nbconvert_exporter": "python",
   "pygments_lexer": "ipython3",
   "version": "3.11.10"
  }
 },
 "nbformat": 4,
 "nbformat_minor": 5
}
