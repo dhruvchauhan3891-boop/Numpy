{
 "cells": [
  {
   "cell_type": "code",
   "execution_count": 1,
   "id": "3fb3a02a-bd83-4760-9d3a-4ac4c3663ee5",
   "metadata": {},
   "outputs": [],
   "source": [
    "import numpy as np"
   ]
  },
  {
   "cell_type": "code",
   "execution_count": 3,
   "id": "c6d2f806-ac67-42bb-8bf1-cc8735d66e1c",
   "metadata": {},
   "outputs": [],
   "source": [
    "# np.argmax()\n",
    "# np.argmin()\n",
    "# np.where()\n",
    "# np.select()\n",
    "# np.clip()\n",
    "# Missing values in arrays\n",
    "# Typecasting (astype)\n",
    "# Iteratiing over arrays\n",
    "# Array Concatenation\n",
    "# Array Broadcasting"
   ]
  },
  {
   "cell_type": "markdown",
   "id": "00653217-d8e6-40ae-a526-f421e097e9df",
   "metadata": {},
   "source": [
    "### np.argmax()"
   ]
  },
  {
   "cell_type": "code",
   "execution_count": 8,
   "id": "9b82fc74-e248-48ec-b97b-41678edc026d",
   "metadata": {},
   "outputs": [],
   "source": [
    "# - It returns the index of the maximum number in an array.\n",
    "# - It treats any n-D array as a 1-D array.\n",
    "# - In case of multiple maximum, it returns the index of the first occurance of the maximum number."
   ]
  },
  {
   "cell_type": "code",
   "execution_count": 12,
   "id": "8a950cee-c512-48ea-a2c9-f8a045831819",
   "metadata": {},
   "outputs": [
    {
     "data": {
      "text/plain": [
       "array([[10, 20, 30],\n",
       "       [98, 50, 44],\n",
       "       [25, 98, 77]])"
      ]
     },
     "execution_count": 12,
     "metadata": {},
     "output_type": "execute_result"
    }
   ],
   "source": [
    "x=np.array([[10,20,30],[98,50,44],[25,98,77]])\n",
    "x"
   ]
  },
  {
   "cell_type": "code",
   "execution_count": 14,
   "id": "2ec3c544-004f-424d-a248-0abcba1285ce",
   "metadata": {},
   "outputs": [
    {
     "data": {
      "text/plain": [
       "3"
      ]
     },
     "execution_count": 14,
     "metadata": {},
     "output_type": "execute_result"
    }
   ],
   "source": [
    "np.argmax(x)"
   ]
  },
  {
   "cell_type": "code",
   "execution_count": 16,
   "id": "45edc8b2-729f-463a-947b-1e50c28fae83",
   "metadata": {},
   "outputs": [
    {
     "data": {
      "text/plain": [
       "array([10, 20, 30, 98, 50, 44, 25, 98, 77])"
      ]
     },
     "execution_count": 16,
     "metadata": {},
     "output_type": "execute_result"
    }
   ],
   "source": [
    "x.ravel()"
   ]
  },
  {
   "cell_type": "markdown",
   "id": "57aac7ee-6d89-4589-91f4-035a93a76d05",
   "metadata": {},
   "source": [
    "### np.argmin()"
   ]
  },
  {
   "cell_type": "code",
   "execution_count": 19,
   "id": "b894316a-dee5-4bec-8c98-ae8a8ab82fe6",
   "metadata": {},
   "outputs": [],
   "source": [
    "# - It returns the index of the minimum number in an array.\n",
    "# - It treats any n-D array as a 1-D array.\n",
    "# - In case of multiple minimum, it returns the index of the first occurance of the maximum number."
   ]
  },
  {
   "cell_type": "code",
   "execution_count": 21,
   "id": "5958dfa9-143b-416d-bf35-714750c87b1a",
   "metadata": {},
   "outputs": [
    {
     "data": {
      "text/plain": [
       "array([[10,  2, 30],\n",
       "       [98, 50, 44],\n",
       "       [ 2, 98, 77]])"
      ]
     },
     "execution_count": 21,
     "metadata": {},
     "output_type": "execute_result"
    }
   ],
   "source": [
    "x=np.array([[10,2,30],[98,50,44],[2,98,77]])\n",
    "x"
   ]
  },
  {
   "cell_type": "code",
   "execution_count": 23,
   "id": "44c722ac-1f3d-4e4b-a08a-38700751771f",
   "metadata": {},
   "outputs": [
    {
     "data": {
      "text/plain": [
       "2"
      ]
     },
     "execution_count": 23,
     "metadata": {},
     "output_type": "execute_result"
    }
   ],
   "source": [
    "np.min(x)"
   ]
  },
  {
   "cell_type": "code",
   "execution_count": 25,
   "id": "830dc302-58c6-465a-a0f4-ae5dd8dcdf79",
   "metadata": {},
   "outputs": [
    {
     "data": {
      "text/plain": [
       "1"
      ]
     },
     "execution_count": 25,
     "metadata": {},
     "output_type": "execute_result"
    }
   ],
   "source": [
    "np.argmin(x)"
   ]
  },
  {
   "cell_type": "code",
   "execution_count": 27,
   "id": "286de67c-8652-4669-a2dd-a01f281203c4",
   "metadata": {},
   "outputs": [
    {
     "data": {
      "text/plain": [
       "array([10,  2, 30, 98, 50, 44,  2, 98, 77])"
      ]
     },
     "execution_count": 27,
     "metadata": {},
     "output_type": "execute_result"
    }
   ],
   "source": [
    "x.ravel()"
   ]
  },
  {
   "cell_type": "code",
   "execution_count": 29,
   "id": "21f898d6-f1ce-4f87-969e-b3a73298cbf0",
   "metadata": {},
   "outputs": [
    {
     "data": {
      "text/plain": [
       "array([[10, 20, 30],\n",
       "       [98, 50, 44],\n",
       "       [ 2, 98, 77]])"
      ]
     },
     "execution_count": 29,
     "metadata": {},
     "output_type": "execute_result"
    }
   ],
   "source": [
    "x=np.array([[10,20,30],[98,50,44],[2,98,77]])\n",
    "x"
   ]
  },
  {
   "cell_type": "code",
   "execution_count": 31,
   "id": "9046e397-fed4-4c88-ad66-f127e69a4032",
   "metadata": {},
   "outputs": [
    {
     "data": {
      "text/plain": [
       "6"
      ]
     },
     "execution_count": 31,
     "metadata": {},
     "output_type": "execute_result"
    }
   ],
   "source": [
    "np.argmin(x)"
   ]
  },
  {
   "cell_type": "code",
   "execution_count": 33,
   "id": "0cfb4fb2-a359-404d-8898-c80e74c62768",
   "metadata": {},
   "outputs": [
    {
     "data": {
      "text/plain": [
       "array([10, 20, 30, 98, 50, 44,  2, 98, 77])"
      ]
     },
     "execution_count": 33,
     "metadata": {},
     "output_type": "execute_result"
    }
   ],
   "source": [
    "x.ravel()"
   ]
  },
  {
   "cell_type": "markdown",
   "id": "f0369af5-4c9b-4878-a066-62d16baa4134",
   "metadata": {},
   "source": [
    "### np.where()"
   ]
  },
  {
   "cell_type": "markdown",
   "id": "ada1462d-a2af-46a9-b8e9-e4759ed77465",
   "metadata": {},
   "source": [
    "### Case_1"
   ]
  },
  {
   "cell_type": "code",
   "execution_count": 37,
   "id": "ab6c944a-1eb1-4066-a67d-e2e8a5c5b5e2",
   "metadata": {},
   "outputs": [],
   "source": [
    "# np.where(condition)"
   ]
  },
  {
   "cell_type": "code",
   "execution_count": 39,
   "id": "c8ef5896-4285-4888-a894-03687c043308",
   "metadata": {},
   "outputs": [],
   "source": [
    "# - It returns a tuple of arrays.\n",
    "# - The array inside the tuple contains the indexes of elements for which the condition is True."
   ]
  },
  {
   "cell_type": "code",
   "execution_count": 49,
   "id": "15f62eaf-76ab-4b35-b6e3-97a31b90d225",
   "metadata": {},
   "outputs": [],
   "source": [
    "np.random.seed(446)\n",
    "x=np.random.randint(10,100,10)"
   ]
  },
  {
   "cell_type": "code",
   "execution_count": 51,
   "id": "ceb87dc2-1dfe-4c38-a281-3d58276cdb6f",
   "metadata": {},
   "outputs": [
    {
     "data": {
      "text/plain": [
       "array([41, 76, 13, 97, 87, 69, 48, 92, 18, 97])"
      ]
     },
     "execution_count": 51,
     "metadata": {},
     "output_type": "execute_result"
    }
   ],
   "source": [
    "x"
   ]
  },
  {
   "cell_type": "code",
   "execution_count": 53,
   "id": "39c6c22e-62b3-4252-9c2e-43edae8545c9",
   "metadata": {},
   "outputs": [
    {
     "data": {
      "text/plain": [
       "(array([1, 3, 4, 5, 7, 9], dtype=int64),)"
      ]
     },
     "execution_count": 53,
     "metadata": {},
     "output_type": "execute_result"
    }
   ],
   "source": [
    "np.where(x>50)"
   ]
  },
  {
   "cell_type": "code",
   "execution_count": 55,
   "id": "76207fa2-50a9-4fa0-9bf4-1936fb2296c1",
   "metadata": {},
   "outputs": [
    {
     "data": {
      "text/plain": [
       "(array([0, 2, 6, 8], dtype=int64),)"
      ]
     },
     "execution_count": 55,
     "metadata": {},
     "output_type": "execute_result"
    }
   ],
   "source": [
    "np.where(x<50)"
   ]
  },
  {
   "cell_type": "code",
   "execution_count": 57,
   "id": "9d65cb2e-9dfd-40a3-bee0-66253c2a392a",
   "metadata": {},
   "outputs": [],
   "source": [
    "np.random.seed(666)\n",
    "x=np.random.randint(10,100,size=(3,4))"
   ]
  },
  {
   "cell_type": "code",
   "execution_count": 59,
   "id": "bb69ecec-44cf-49e8-9efa-8421da10f6df",
   "metadata": {},
   "outputs": [
    {
     "data": {
      "text/plain": [
       "array([[12, 55, 40, 72],\n",
       "       [80, 83, 40, 46],\n",
       "       [71, 61, 70, 38]])"
      ]
     },
     "execution_count": 59,
     "metadata": {},
     "output_type": "execute_result"
    }
   ],
   "source": [
    "x"
   ]
  },
  {
   "cell_type": "code",
   "execution_count": 61,
   "id": "e2f2ff47-2f47-4dd5-a82d-58a3b879270a",
   "metadata": {},
   "outputs": [
    {
     "data": {
      "text/plain": [
       "(array([0, 0, 1, 1, 2, 2, 2], dtype=int64),\n",
       " array([1, 3, 0, 1, 0, 1, 2], dtype=int64))"
      ]
     },
     "execution_count": 61,
     "metadata": {},
     "output_type": "execute_result"
    }
   ],
   "source": [
    "np.where(x>50)"
   ]
  },
  {
   "cell_type": "code",
   "execution_count": 63,
   "id": "a5941664-e286-489b-9a9a-a088c980459f",
   "metadata": {},
   "outputs": [
    {
     "data": {
      "text/plain": [
       "(array([0, 0, 1, 1, 2], dtype=int64), array([0, 2, 2, 3, 3], dtype=int64))"
      ]
     },
     "execution_count": 63,
     "metadata": {},
     "output_type": "execute_result"
    }
   ],
   "source": [
    "np.where(x<50)"
   ]
  },
  {
   "cell_type": "code",
   "execution_count": 65,
   "id": "d1b29997-aaad-4a96-a290-87aff33a01ed",
   "metadata": {},
   "outputs": [
    {
     "data": {
      "text/plain": [
       "array([12, 40, 40, 46, 38])"
      ]
     },
     "execution_count": 65,
     "metadata": {},
     "output_type": "execute_result"
    }
   ],
   "source": [
    "x[np.where(x<50)]"
   ]
  },
  {
   "cell_type": "markdown",
   "id": "0d81dc67-a3df-4015-bc6e-aceaa8dcdf4a",
   "metadata": {},
   "source": [
    "### Case_2"
   ]
  },
  {
   "cell_type": "code",
   "execution_count": 68,
   "id": "8d358b16-1180-4875-999a-88399ba2d116",
   "metadata": {},
   "outputs": [],
   "source": [
    "# np.where(condition, x,y)"
   ]
  },
  {
   "cell_type": "code",
   "execution_count": 70,
   "id": "21bd5390-fc91-48ae-b592-a326cf2e33ab",
   "metadata": {},
   "outputs": [],
   "source": [
    "# - When the condition gets True then x is the result else y is the result."
   ]
  },
  {
   "cell_type": "code",
   "execution_count": 72,
   "id": "13fb2d31-9bdb-4ce3-a631-0d25cd0479f4",
   "metadata": {},
   "outputs": [
    {
     "data": {
      "text/plain": [
       "array([[12, 55, 40, 72],\n",
       "       [80, 83, 40, 46],\n",
       "       [71, 61, 70, 38]])"
      ]
     },
     "execution_count": 72,
     "metadata": {},
     "output_type": "execute_result"
    }
   ],
   "source": [
    "x"
   ]
  },
  {
   "cell_type": "code",
   "execution_count": 76,
   "id": "fc1413b3-11d2-4d5f-a0ab-4955f4fedb9c",
   "metadata": {},
   "outputs": [],
   "source": [
    "# Even numbers should converted to 1 and the odd numbers should be converted to 0"
   ]
  },
  {
   "cell_type": "code",
   "execution_count": 87,
   "id": "d00aa4ff-ef1a-46b1-b6b5-93484eb5fffa",
   "metadata": {},
   "outputs": [],
   "source": [
    "y=np.where(x%2==0, 1, 0)"
   ]
  },
  {
   "cell_type": "code",
   "execution_count": 89,
   "id": "e2b811b5-d75c-4ced-a9b9-09f53df999de",
   "metadata": {},
   "outputs": [
    {
     "data": {
      "text/plain": [
       "array([[1, 0, 1, 1],\n",
       "       [1, 0, 1, 1],\n",
       "       [0, 0, 1, 1]])"
      ]
     },
     "execution_count": 89,
     "metadata": {},
     "output_type": "execute_result"
    }
   ],
   "source": [
    "y"
   ]
  },
  {
   "cell_type": "code",
   "execution_count": 91,
   "id": "d603d4ae-7397-4413-933d-547896154340",
   "metadata": {},
   "outputs": [
    {
     "data": {
      "text/plain": [
       "array([[12, 55, 40, 72],\n",
       "       [80, 83, 40, 46],\n",
       "       [71, 61, 70, 38]])"
      ]
     },
     "execution_count": 91,
     "metadata": {},
     "output_type": "execute_result"
    }
   ],
   "source": [
    "x"
   ]
  },
  {
   "cell_type": "markdown",
   "id": "4711d70b-5957-4d53-8a3e-b427209e6f2b",
   "metadata": {},
   "source": [
    "### Case_3"
   ]
  },
  {
   "cell_type": "code",
   "execution_count": 85,
   "id": "9192539c-15ed-442e-8288-4b1c8e55410d",
   "metadata": {},
   "outputs": [],
   "source": [
    "# np.where(condition, x, arr)"
   ]
  },
  {
   "cell_type": "code",
   "execution_count": 97,
   "id": "e94620c6-054d-4f56-ae21-080a322c6e9f",
   "metadata": {},
   "outputs": [],
   "source": [
    "# - When the condition is True then x is the result else no change."
   ]
  },
  {
   "cell_type": "code",
   "execution_count": 93,
   "id": "cbd78aad-8d43-4d7e-bde7-362d65d4c728",
   "metadata": {},
   "outputs": [
    {
     "data": {
      "text/plain": [
       "array([[12, 55, 40, 72],\n",
       "       [80, 83, 40, 46],\n",
       "       [71, 61, 70, 38]])"
      ]
     },
     "execution_count": 93,
     "metadata": {},
     "output_type": "execute_result"
    }
   ],
   "source": [
    "x"
   ]
  },
  {
   "cell_type": "code",
   "execution_count": 95,
   "id": "a1934a34-620a-4ba0-a3d3-e1ac4e076909",
   "metadata": {},
   "outputs": [],
   "source": [
    "# all the odd numbers should be 0 rest all the numbers should remain the same."
   ]
  },
  {
   "cell_type": "code",
   "execution_count": 119,
   "id": "adc8b0c5-c790-47cd-8295-8d434e8850d9",
   "metadata": {},
   "outputs": [
    {
     "data": {
      "text/plain": [
       "array([[12,  0, 40, 72],\n",
       "       [80,  0, 40, 46],\n",
       "       [ 0,  0, 70, 38]])"
      ]
     },
     "execution_count": 119,
     "metadata": {},
     "output_type": "execute_result"
    }
   ],
   "source": [
    "np.where(x%2!=0, 0, x)"
   ]
  },
  {
   "cell_type": "markdown",
   "id": "c387634a-cf09-4771-a43d-d5981d0fd1b7",
   "metadata": {},
   "source": [
    "### Capping"
   ]
  },
  {
   "cell_type": "code",
   "execution_count": 132,
   "id": "228046f9-6f8c-4bb9-9722-2f0b3e700677",
   "metadata": {},
   "outputs": [],
   "source": [
    "np.random.seed(45)\n",
    "x=np.random.randint(10,100, size=(3,4))"
   ]
  },
  {
   "cell_type": "code",
   "execution_count": 134,
   "id": "351cc8f8-a6bf-4aef-bb08-7f168d9f6511",
   "metadata": {},
   "outputs": [
    {
     "data": {
      "text/plain": [
       "array([[85, 40, 13, 42],\n",
       "       [71, 95, 45, 78],\n",
       "       [25, 75, 24, 63]])"
      ]
     },
     "execution_count": 134,
     "metadata": {},
     "output_type": "execute_result"
    }
   ],
   "source": [
    "x"
   ]
  },
  {
   "cell_type": "code",
   "execution_count": 136,
   "id": "439b5a69-a998-4918-a19b-7b31ae6f8994",
   "metadata": {},
   "outputs": [],
   "source": [
    "# Cap the values in this array in between 30 and 70.\n",
    "# - Any value that is less than 30 should be 30.\n",
    "# - Any value that is greater than 70 should be 70."
   ]
  },
  {
   "cell_type": "code",
   "execution_count": 146,
   "id": "d1ef33fa-1b54-4b41-8c17-f879048155e4",
   "metadata": {},
   "outputs": [
    {
     "data": {
      "text/plain": [
       "array([[85, 40, 30, 42],\n",
       "       [71, 95, 45, 78],\n",
       "       [30, 75, 30, 63]])"
      ]
     },
     "execution_count": 146,
     "metadata": {},
     "output_type": "execute_result"
    }
   ],
   "source": [
    "y=np.where(x<30,30,x)\n",
    "y"
   ]
  },
  {
   "cell_type": "code",
   "execution_count": 148,
   "id": "abe6da25-a02a-4735-885e-a51d3a2d74ec",
   "metadata": {},
   "outputs": [],
   "source": [
    "res=np.where(y>70,70, y)"
   ]
  },
  {
   "cell_type": "code",
   "execution_count": 150,
   "id": "3877ea83-c495-4b05-8b51-45d6b51925d8",
   "metadata": {},
   "outputs": [
    {
     "data": {
      "text/plain": [
       "array([[70, 40, 30, 42],\n",
       "       [70, 70, 45, 70],\n",
       "       [30, 70, 30, 63]])"
      ]
     },
     "execution_count": 150,
     "metadata": {},
     "output_type": "execute_result"
    }
   ],
   "source": [
    "res"
   ]
  },
  {
   "cell_type": "code",
   "execution_count": 152,
   "id": "9658c627-68ff-4015-970f-c0b2269ce1c1",
   "metadata": {},
   "outputs": [
    {
     "data": {
      "text/plain": [
       "array([[85, 40, 13, 42],\n",
       "       [71, 95, 45, 78],\n",
       "       [25, 75, 24, 63]])"
      ]
     },
     "execution_count": 152,
     "metadata": {},
     "output_type": "execute_result"
    }
   ],
   "source": [
    "x"
   ]
  },
  {
   "cell_type": "code",
   "execution_count": 160,
   "id": "a03fe099-bec4-4629-ba93-9d302beca1ab",
   "metadata": {},
   "outputs": [
    {
     "data": {
      "text/plain": [
       "array([[70, 40, 30, 42],\n",
       "       [70, 70, 45, 70],\n",
       "       [30, 70, 30, 63]])"
      ]
     },
     "execution_count": 160,
     "metadata": {},
     "output_type": "execute_result"
    }
   ],
   "source": [
    "np.where(x<30,30,\n",
    "         np.where(x>70,70, x)\n",
    "        )"
   ]
  },
  {
   "cell_type": "markdown",
   "id": "e1100669-ebd6-4548-a864-514f5203408c",
   "metadata": {},
   "source": [
    "### np.clip()"
   ]
  },
  {
   "cell_type": "code",
   "execution_count": 163,
   "id": "19f2bf58-b73d-418f-a3d4-54322f9a72de",
   "metadata": {},
   "outputs": [],
   "source": [
    "# - It caps the values withing lower limit and upper limit."
   ]
  },
  {
   "cell_type": "code",
   "execution_count": 169,
   "id": "ce0e853a-c3ab-4576-bad8-88660b6dda9a",
   "metadata": {},
   "outputs": [],
   "source": [
    "# np.clip(arr, lower, upper)"
   ]
  },
  {
   "cell_type": "code",
   "execution_count": 165,
   "id": "46a9249a-8960-4f09-aa9d-47973a666c74",
   "metadata": {},
   "outputs": [
    {
     "data": {
      "text/plain": [
       "array([[85, 40, 13, 42],\n",
       "       [71, 95, 45, 78],\n",
       "       [25, 75, 24, 63]])"
      ]
     },
     "execution_count": 165,
     "metadata": {},
     "output_type": "execute_result"
    }
   ],
   "source": [
    "x"
   ]
  },
  {
   "cell_type": "code",
   "execution_count": 167,
   "id": "38e3d1a1-d352-49e8-aae1-6654f56b3d59",
   "metadata": {},
   "outputs": [],
   "source": [
    "# Cap the values in this array in between 30 and 70.\n",
    "# - Any value that is less than 30 should be 30.\n",
    "# - Any value that is greater than 70 should be 70."
   ]
  },
  {
   "cell_type": "code",
   "execution_count": 171,
   "id": "e9de29a5-1cff-4c24-aa33-7a40593604c0",
   "metadata": {},
   "outputs": [
    {
     "data": {
      "text/plain": [
       "array([[70, 40, 30, 42],\n",
       "       [70, 70, 45, 70],\n",
       "       [30, 70, 30, 63]])"
      ]
     },
     "execution_count": 171,
     "metadata": {},
     "output_type": "execute_result"
    }
   ],
   "source": [
    "np.clip(x, 30, 70)"
   ]
  },
  {
   "cell_type": "code",
   "execution_count": 183,
   "id": "ccad1425-1f20-4975-ae48-2525bca4c344",
   "metadata": {},
   "outputs": [
    {
     "data": {
      "text/plain": [
       "array(['male', 'female', 'female', 'not disclosed', 'male', 'unknown',\n",
       "       'male', 'female', 'not defined', 'male'], dtype='<U13')"
      ]
     },
     "execution_count": 183,
     "metadata": {},
     "output_type": "execute_result"
    }
   ],
   "source": [
    "gender=np.array(['male', 'female', 'female', 'not disclosed', 'male', 'unknown', 'male', 'female', 'not defined', 'male'])\n",
    "gender"
   ]
  },
  {
   "cell_type": "code",
   "execution_count": 189,
   "id": "a5c2dcb0-a9a5-48f9-ae79-feac81d36335",
   "metadata": {},
   "outputs": [],
   "source": [
    "# male-1\n",
    "# female-0\n",
    "# any other should be -1"
   ]
  },
  {
   "cell_type": "code",
   "execution_count": 204,
   "id": "bd771cea-8dc6-42b3-8c86-9dfacac9a2f2",
   "metadata": {},
   "outputs": [
    {
     "data": {
      "text/plain": [
       "array([ 1,  0,  0, -1,  1, -1,  1,  0, -1,  1])"
      ]
     },
     "execution_count": 204,
     "metadata": {},
     "output_type": "execute_result"
    }
   ],
   "source": [
    "np.where(gender=='male',1 , np.where(gender=='female', 0, -1))"
   ]
  },
  {
   "cell_type": "markdown",
   "id": "46a4ef03-54fc-45d1-bba4-dc5c0716fcfc",
   "metadata": {},
   "source": [
    "### np.select()"
   ]
  },
  {
   "cell_type": "code",
   "execution_count": 206,
   "id": "fbf40bae-4130-437a-9d92-f1e786f3c3a4",
   "metadata": {},
   "outputs": [],
   "source": [
    "# np.select(condition_list, choice_list, default_value)"
   ]
  },
  {
   "cell_type": "code",
   "execution_count": 218,
   "id": "8010868f-160d-4518-929b-8e160a41ca21",
   "metadata": {},
   "outputs": [],
   "source": [
    "st=np.array(['self employed', 'salaried', 'student', 'house wife', 'trader', 'retired', 'pensioner',\n",
    "         'businessman', 'unemployed', 'jobless', 'freelancer'])"
   ]
  },
  {
   "cell_type": "code",
   "execution_count": 220,
   "id": "120ab899-1cbc-4120-b0d9-14192ca3652f",
   "metadata": {},
   "outputs": [
    {
     "data": {
      "text/plain": [
       "array(['self employed', 'salaried', 'student', 'house wife', 'trader',\n",
       "       'retired', 'pensioner', 'businessman', 'unemployed', 'jobless',\n",
       "       'freelancer'], dtype='<U13')"
      ]
     },
     "execution_count": 220,
     "metadata": {},
     "output_type": "execute_result"
    }
   ],
   "source": [
    "st"
   ]
  },
  {
   "cell_type": "code",
   "execution_count": 222,
   "id": "dc35a61d-eaf8-457e-981a-775a355175e4",
   "metadata": {},
   "outputs": [],
   "source": [
    "# 'self employed' + 'businessman' +'trader' 'freelancer'-> 'businessman'\n",
    "# 'salaried' + 'pensioner' -> 'salaried'\n",
    "# 'stident' + 'house wife' + 'unemployed' + 'jobless' + 'retired' -> 'unemployed'"
   ]
  },
  {
   "cell_type": "code",
   "execution_count": 226,
   "id": "2c9687cc-a361-4c03-bc62-c03882355dac",
   "metadata": {},
   "outputs": [],
   "source": [
    "conditions=[st=='self employed', st=='businessman', st=='trader', st=='freelancer',\n",
    "st=='salaried', st=='pensioner', st=='student', st=='house wife', st=='jobless', st=='retired']"
   ]
  },
  {
   "cell_type": "code",
   "execution_count": 232,
   "id": "42f6c2b6-01e5-46a9-8b8c-a42fba71a069",
   "metadata": {},
   "outputs": [],
   "source": [
    "choices=['businessman', 'businessman', 'businessman', 'businessman', 'salaried',\n",
    "        'salaried', 'unemployed','unemployed', 'unemployed', 'unemployed']"
   ]
  },
  {
   "cell_type": "code",
   "execution_count": 234,
   "id": "5a782d46-6891-488e-a674-500935c0638e",
   "metadata": {},
   "outputs": [
    {
     "data": {
      "text/plain": [
       "array(['businessman', 'salaried', 'unemployed', 'unemployed',\n",
       "       'businessman', 'unemployed', 'salaried', 'businessman',\n",
       "       'unemployed', 'unemployed', 'businessman'], dtype='<U11')"
      ]
     },
     "execution_count": 234,
     "metadata": {},
     "output_type": "execute_result"
    }
   ],
   "source": [
    "np.select(conditions, choices, default='unemployed')"
   ]
  },
  {
   "cell_type": "code",
   "execution_count": 236,
   "id": "72a1b02a-8ba4-473e-bce9-1367c369d77b",
   "metadata": {},
   "outputs": [
    {
     "data": {
      "text/plain": [
       "array(['self employed', 'salaried', 'student', 'house wife', 'trader',\n",
       "       'retired', 'pensioner', 'businessman', 'unemployed', 'jobless',\n",
       "       'freelancer'], dtype='<U13')"
      ]
     },
     "execution_count": 236,
     "metadata": {},
     "output_type": "execute_result"
    }
   ],
   "source": [
    "st"
   ]
  },
  {
   "cell_type": "code",
   "execution_count": 238,
   "id": "17d5e49d-ace2-465a-acec-038a28304c38",
   "metadata": {},
   "outputs": [],
   "source": [
    "conditions=[st=='self employed', st=='businessman', st=='trader', st=='freelancer',\n",
    "st=='salaried', st=='pensioner']"
   ]
  },
  {
   "cell_type": "code",
   "execution_count": 240,
   "id": "80f84097-c860-4637-8a49-ea091030d5bf",
   "metadata": {},
   "outputs": [],
   "source": [
    "choices=['businessman', 'businessman', 'businessman', 'businessman', 'salaried',\n",
    "        'salaried']"
   ]
  },
  {
   "cell_type": "code",
   "execution_count": 242,
   "id": "703d6ca7-1ed9-4e07-a444-7de8a6adc22a",
   "metadata": {},
   "outputs": [
    {
     "data": {
      "text/plain": [
       "array(['businessman', 'salaried', 'unemployed', 'unemployed',\n",
       "       'businessman', 'unemployed', 'salaried', 'businessman',\n",
       "       'unemployed', 'unemployed', 'businessman'], dtype='<U11')"
      ]
     },
     "execution_count": 242,
     "metadata": {},
     "output_type": "execute_result"
    }
   ],
   "source": [
    "np.select(conditions, choices, default='unemployed')"
   ]
  },
  {
   "cell_type": "code",
   "execution_count": 251,
   "id": "134bde06-c398-4505-8f5c-331bef5bf882",
   "metadata": {},
   "outputs": [
    {
     "data": {
      "text/plain": [
       "array(['businessman', 'salaried', 'unemployed', 'unemployed',\n",
       "       'businessman', 'unemployed', 'salaried', 'businessman',\n",
       "       'unemployed', 'unemployed', 'businessman'], dtype='<U11')"
      ]
     },
     "execution_count": 251,
     "metadata": {},
     "output_type": "execute_result"
    }
   ],
   "source": [
    "np.where(st=='trader', 'businessman', \n",
    "         np.where(st=='self employed', 'businessman',\n",
    "                 np.where(st=='freelancer', 'businessman',\n",
    "                         np.where(st=='businessman', 'businessman',\n",
    "                                 np.where(st=='salaried', 'salaried',\n",
    "                                         np.where(st=='pensioner', 'salaried', 'unemployed'))))))"
   ]
  },
  {
   "cell_type": "markdown",
   "id": "f8fbc895-b39c-45a7-96f2-a816e90121e2",
   "metadata": {},
   "source": [
    "# Conditions on an array"
   ]
  },
  {
   "cell_type": "code",
   "execution_count": 254,
   "id": "6052d04e-53c1-441e-90f6-c8b65ba69be0",
   "metadata": {},
   "outputs": [],
   "source": [
    "# - We use bitwise and (&), bitwise or (|), and bitwise not (~) rather than logial and, or not with arrays. "
   ]
  },
  {
   "cell_type": "code",
   "execution_count": 258,
   "id": "4f766bd7-f427-41a7-ba61-44e4c3e8af26",
   "metadata": {},
   "outputs": [
    {
     "data": {
      "text/plain": [
       "array([[85, 40, 13, 42],\n",
       "       [71, 95, 45, 78],\n",
       "       [25, 75, 24, 63]])"
      ]
     },
     "execution_count": 258,
     "metadata": {},
     "output_type": "execute_result"
    }
   ],
   "source": [
    "x"
   ]
  },
  {
   "cell_type": "code",
   "execution_count": 260,
   "id": "fa746dd9-18a2-436f-9347-1e72e236ec69",
   "metadata": {},
   "outputs": [],
   "source": [
    "# Get all the even numbers."
   ]
  },
  {
   "cell_type": "code",
   "execution_count": 262,
   "id": "030f01bf-cc25-4b5e-9163-577c73c80441",
   "metadata": {},
   "outputs": [
    {
     "data": {
      "text/plain": [
       "array([[False,  True, False,  True],\n",
       "       [False, False, False,  True],\n",
       "       [False, False,  True, False]])"
      ]
     },
     "execution_count": 262,
     "metadata": {},
     "output_type": "execute_result"
    }
   ],
   "source": [
    "x%2==0"
   ]
  },
  {
   "cell_type": "code",
   "execution_count": 264,
   "id": "e8f3ed22-9f7a-4050-b383-f55d4a22e72e",
   "metadata": {},
   "outputs": [
    {
     "data": {
      "text/plain": [
       "array([40, 42, 78, 24])"
      ]
     },
     "execution_count": 264,
     "metadata": {},
     "output_type": "execute_result"
    }
   ],
   "source": [
    "x[x%2==0]"
   ]
  },
  {
   "cell_type": "code",
   "execution_count": 266,
   "id": "e7fce3c9-a14c-4352-a25f-7e48c63ef476",
   "metadata": {},
   "outputs": [
    {
     "data": {
      "text/plain": [
       "array([[ True, False,  True, False],\n",
       "       [ True,  True,  True, False],\n",
       "       [ True,  True, False,  True]])"
      ]
     },
     "execution_count": 266,
     "metadata": {},
     "output_type": "execute_result"
    }
   ],
   "source": [
    "x%2!=0"
   ]
  },
  {
   "cell_type": "code",
   "execution_count": 268,
   "id": "2e4eaf5a-06a0-4820-a32f-c3d02b7859b0",
   "metadata": {},
   "outputs": [
    {
     "data": {
      "text/plain": [
       "array([85, 13, 71, 95, 45, 25, 75, 63])"
      ]
     },
     "execution_count": 268,
     "metadata": {},
     "output_type": "execute_result"
    }
   ],
   "source": [
    "x[x%2!=0]"
   ]
  },
  {
   "cell_type": "code",
   "execution_count": 270,
   "id": "adb9efda-8093-4197-afc6-efd03a777a16",
   "metadata": {},
   "outputs": [
    {
     "data": {
      "text/plain": [
       "array([[85, 40, 13, 42],\n",
       "       [71, 95, 45, 78],\n",
       "       [25, 75, 24, 63]])"
      ]
     },
     "execution_count": 270,
     "metadata": {},
     "output_type": "execute_result"
    }
   ],
   "source": [
    "x"
   ]
  },
  {
   "cell_type": "code",
   "execution_count": 276,
   "id": "073315e3-971b-459c-a3e0-0c994f4e0ae9",
   "metadata": {},
   "outputs": [
    {
     "data": {
      "text/plain": [
       "array([[False, False, False, False],\n",
       "       [False, False, False,  True],\n",
       "       [False, False, False, False]])"
      ]
     },
     "execution_count": 276,
     "metadata": {},
     "output_type": "execute_result"
    }
   ],
   "source": [
    "# Even numbers that are greater than 50.\n",
    "\n",
    "(x%2==0)&(x>50)"
   ]
  },
  {
   "cell_type": "code",
   "execution_count": 278,
   "id": "0aea039a-18bc-4715-b25e-cd2881f32e8e",
   "metadata": {},
   "outputs": [
    {
     "data": {
      "text/plain": [
       "array([78])"
      ]
     },
     "execution_count": 278,
     "metadata": {},
     "output_type": "execute_result"
    }
   ],
   "source": [
    "x[(x%2==0)&(x>50)]"
   ]
  },
  {
   "cell_type": "code",
   "execution_count": 290,
   "id": "fbd8748c-37c4-4e7e-8f3b-3e228e305975",
   "metadata": {},
   "outputs": [
    {
     "data": {
      "text/plain": [
       "array([85, 13, 71, 95, 45, 25, 75, 63])"
      ]
     },
     "execution_count": 290,
     "metadata": {},
     "output_type": "execute_result"
    }
   ],
   "source": [
    "x[~x%2==0]"
   ]
  },
  {
   "cell_type": "markdown",
   "id": "4359010a-6eab-4710-995b-302a63084d8c",
   "metadata": {},
   "source": [
    "# Missing values in arrays"
   ]
  },
  {
   "cell_type": "code",
   "execution_count": 293,
   "id": "1da6b422-8c94-4600-8189-343b906e70da",
   "metadata": {},
   "outputs": [],
   "source": [
    "# None is used to represent misisng values in Python.\n",
    "# np.nan is used to represent the missing values in Numpy.\n",
    "# np.nan is a float value."
   ]
  },
  {
   "cell_type": "code",
   "execution_count": 297,
   "id": "0d7ed47f-2805-4838-af3b-c5030cf32c65",
   "metadata": {},
   "outputs": [
    {
     "name": "stdout",
     "output_type": "stream",
     "text": [
      "<class 'float'>\n"
     ]
    }
   ],
   "source": [
    "print(type(np.nan))"
   ]
  },
  {
   "cell_type": "code",
   "execution_count": 303,
   "id": "512062cf-2812-4109-b527-b44d20130b7b",
   "metadata": {},
   "outputs": [],
   "source": [
    "x=np.array([[10,20,np.nan], [40, np.nan,np.nan],[np.nan, 70, 80]])"
   ]
  },
  {
   "cell_type": "code",
   "execution_count": 305,
   "id": "3bbde33b-f201-4221-8690-45a6cf8b5d3c",
   "metadata": {},
   "outputs": [
    {
     "data": {
      "text/plain": [
       "array([[10., 20., nan],\n",
       "       [40., nan, nan],\n",
       "       [nan, 70., 80.]])"
      ]
     },
     "execution_count": 305,
     "metadata": {},
     "output_type": "execute_result"
    }
   ],
   "source": [
    "x"
   ]
  },
  {
   "cell_type": "code",
   "execution_count": 307,
   "id": "5f1fafc6-6327-4381-bf33-d83ca1b27235",
   "metadata": {},
   "outputs": [
    {
     "data": {
      "text/plain": [
       "dtype('float64')"
      ]
     },
     "execution_count": 307,
     "metadata": {},
     "output_type": "execute_result"
    }
   ],
   "source": [
    "x.dtype"
   ]
  },
  {
   "cell_type": "markdown",
   "id": "e8a5a2d5-1526-4918-b8cb-0c1bf1a222ef",
   "metadata": {},
   "source": [
    "### np.isnan()"
   ]
  },
  {
   "cell_type": "code",
   "execution_count": 312,
   "id": "9254885c-37cd-4225-9efa-f92b235f105a",
   "metadata": {},
   "outputs": [],
   "source": [
    "# - It checks the missing values and returns a boolean array."
   ]
  },
  {
   "cell_type": "code",
   "execution_count": 316,
   "id": "0299bab4-c9d8-4931-8e72-8899bd53a8e2",
   "metadata": {},
   "outputs": [
    {
     "data": {
      "text/plain": [
       "array([[10., 20., nan],\n",
       "       [40., nan, nan],\n",
       "       [nan, 70., 80.]])"
      ]
     },
     "execution_count": 316,
     "metadata": {},
     "output_type": "execute_result"
    }
   ],
   "source": [
    "x"
   ]
  },
  {
   "cell_type": "code",
   "execution_count": 314,
   "id": "fe7eb665-324a-41ef-808b-93aac4765a23",
   "metadata": {},
   "outputs": [
    {
     "data": {
      "text/plain": [
       "array([[False, False,  True],\n",
       "       [False,  True,  True],\n",
       "       [ True, False, False]])"
      ]
     },
     "execution_count": 314,
     "metadata": {},
     "output_type": "execute_result"
    }
   ],
   "source": [
    "np.isnan(x)"
   ]
  },
  {
   "cell_type": "markdown",
   "id": "9b37e2c4-6e15-4d9a-80a5-ee569c42aadd",
   "metadata": {},
   "source": [
    "### Get the count of missing values in an array."
   ]
  },
  {
   "cell_type": "code",
   "execution_count": 327,
   "id": "d0dba88a-2503-4784-8579-f3629442359a",
   "metadata": {},
   "outputs": [
    {
     "data": {
      "text/plain": [
       "4"
      ]
     },
     "execution_count": 327,
     "metadata": {},
     "output_type": "execute_result"
    }
   ],
   "source": [
    "np.isnan(x).sum()"
   ]
  },
  {
   "cell_type": "markdown",
   "id": "d8818ae8-d97f-4eb3-b9e3-017d5eef69bc",
   "metadata": {},
   "source": [
    "### Get the count of non-misisng values in an array"
   ]
  },
  {
   "cell_type": "code",
   "execution_count": 336,
   "id": "01601c7e-ab9c-4f80-91e2-bb708192bdfd",
   "metadata": {},
   "outputs": [
    {
     "data": {
      "text/plain": [
       "array([[False, False,  True],\n",
       "       [False,  True,  True],\n",
       "       [ True, False, False]])"
      ]
     },
     "execution_count": 336,
     "metadata": {},
     "output_type": "execute_result"
    }
   ],
   "source": [
    "np.isnan(x)"
   ]
  },
  {
   "cell_type": "code",
   "execution_count": 338,
   "id": "6abbac44-b598-4172-b058-ca943df2a97d",
   "metadata": {},
   "outputs": [
    {
     "data": {
      "text/plain": [
       "array([[ True,  True, False],\n",
       "       [ True, False, False],\n",
       "       [False,  True,  True]])"
      ]
     },
     "execution_count": 338,
     "metadata": {},
     "output_type": "execute_result"
    }
   ],
   "source": [
    "~np.isnan(x)"
   ]
  },
  {
   "cell_type": "code",
   "execution_count": 334,
   "id": "18ab2700-ce1b-46f1-ba13-cfd7e375cf43",
   "metadata": {},
   "outputs": [
    {
     "data": {
      "text/plain": [
       "5"
      ]
     },
     "execution_count": 334,
     "metadata": {},
     "output_type": "execute_result"
    }
   ],
   "source": [
    "(~np.isnan(x)).sum()"
   ]
  },
  {
   "cell_type": "markdown",
   "id": "d5d31677-f6ff-4ab1-ada0-0fb9b480a965",
   "metadata": {},
   "source": [
    "### Get the indexes of missing values"
   ]
  },
  {
   "cell_type": "code",
   "execution_count": 345,
   "id": "3f4df119-dce1-45d1-8d54-76087d740f2f",
   "metadata": {},
   "outputs": [
    {
     "data": {
      "text/plain": [
       "array([[10., 20., nan],\n",
       "       [40., nan, nan],\n",
       "       [nan, 70., 80.]])"
      ]
     },
     "execution_count": 345,
     "metadata": {},
     "output_type": "execute_result"
    }
   ],
   "source": [
    "x"
   ]
  },
  {
   "cell_type": "code",
   "execution_count": 350,
   "id": "c90b8835-ef6c-43b9-8386-34435491d99a",
   "metadata": {},
   "outputs": [
    {
     "data": {
      "text/plain": [
       "array([[False, False,  True],\n",
       "       [False,  True,  True],\n",
       "       [ True, False, False]])"
      ]
     },
     "execution_count": 350,
     "metadata": {},
     "output_type": "execute_result"
    }
   ],
   "source": [
    "np.isnan(x)"
   ]
  },
  {
   "cell_type": "code",
   "execution_count": 343,
   "id": "74bcdcd2-f5aa-45e6-960b-74e5c7584ad1",
   "metadata": {},
   "outputs": [
    {
     "data": {
      "text/plain": [
       "(array([0, 1, 1, 2], dtype=int64), array([2, 1, 2, 0], dtype=int64))"
      ]
     },
     "execution_count": 343,
     "metadata": {},
     "output_type": "execute_result"
    }
   ],
   "source": [
    "np.where(np.isnan(x))"
   ]
  },
  {
   "cell_type": "markdown",
   "id": "21c1b487-d881-4697-b985-848454e3b66c",
   "metadata": {},
   "source": [
    "### Get the indexes of non-missing values"
   ]
  },
  {
   "cell_type": "code",
   "execution_count": 354,
   "id": "5717799a-1ba1-4efd-be66-fbb557d673c6",
   "metadata": {},
   "outputs": [
    {
     "data": {
      "text/plain": [
       "array([[10., 20., nan],\n",
       "       [40., nan, nan],\n",
       "       [nan, 70., 80.]])"
      ]
     },
     "execution_count": 354,
     "metadata": {},
     "output_type": "execute_result"
    }
   ],
   "source": [
    "x"
   ]
  },
  {
   "cell_type": "code",
   "execution_count": 352,
   "id": "3e63f61b-cb35-4f79-9431-3110e3c9f592",
   "metadata": {},
   "outputs": [
    {
     "data": {
      "text/plain": [
       "array([[ True,  True, False],\n",
       "       [ True, False, False],\n",
       "       [False,  True,  True]])"
      ]
     },
     "execution_count": 352,
     "metadata": {},
     "output_type": "execute_result"
    }
   ],
   "source": [
    "~np.isnan(x)"
   ]
  },
  {
   "cell_type": "code",
   "execution_count": 348,
   "id": "22e46ff1-b0df-4a80-ae7d-a7606ab19b1b",
   "metadata": {},
   "outputs": [
    {
     "data": {
      "text/plain": [
       "(array([0, 0, 1, 2, 2], dtype=int64), array([0, 1, 0, 1, 2], dtype=int64))"
      ]
     },
     "execution_count": 348,
     "metadata": {},
     "output_type": "execute_result"
    }
   ],
   "source": [
    "np.where(~np.isnan(x))"
   ]
  },
  {
   "cell_type": "markdown",
   "id": "b33a9f8b-e06c-4e66-a939-25aade460335",
   "metadata": {},
   "source": [
    "### Get the missing values"
   ]
  },
  {
   "cell_type": "code",
   "execution_count": 359,
   "id": "ecfaf8d5-8780-41b2-9b8f-6463747a272f",
   "metadata": {},
   "outputs": [
    {
     "data": {
      "text/plain": [
       "array([nan, nan, nan, nan])"
      ]
     },
     "execution_count": 359,
     "metadata": {},
     "output_type": "execute_result"
    }
   ],
   "source": [
    "x[np.isnan(x)]"
   ]
  },
  {
   "cell_type": "markdown",
   "id": "676beb91-3a73-46f2-a2f6-b6873242b349",
   "metadata": {},
   "source": [
    "### Get the non-missing values"
   ]
  },
  {
   "cell_type": "code",
   "execution_count": 366,
   "id": "7259c467-4ffe-4556-9fd7-114689cbae46",
   "metadata": {},
   "outputs": [
    {
     "data": {
      "text/plain": [
       "array([10., 20., 40., 70., 80.])"
      ]
     },
     "execution_count": 366,
     "metadata": {},
     "output_type": "execute_result"
    }
   ],
   "source": [
    "x[~np.isnan(x)]"
   ]
  },
  {
   "cell_type": "markdown",
   "id": "402c96d2-27f8-4a4f-8136-fd084eb23bfb",
   "metadata": {},
   "source": [
    "### Replacing the missing value"
   ]
  },
  {
   "cell_type": "code",
   "execution_count": 369,
   "id": "f7959bf3-b185-4f6c-8d18-d35ccd944bc5",
   "metadata": {},
   "outputs": [],
   "source": [
    "# - Array is mutable.\n",
    "# - We can modify the elements in an array."
   ]
  },
  {
   "cell_type": "code",
   "execution_count": 371,
   "id": "1a3eb674-27be-484b-8d8e-c77108976cd8",
   "metadata": {},
   "outputs": [
    {
     "data": {
      "text/plain": [
       "array([[10., 20., nan],\n",
       "       [40., nan, nan],\n",
       "       [nan, 70., 80.]])"
      ]
     },
     "execution_count": 371,
     "metadata": {},
     "output_type": "execute_result"
    }
   ],
   "source": [
    "x"
   ]
  },
  {
   "cell_type": "code",
   "execution_count": 377,
   "id": "d7e9bd13-015b-4078-98f5-5b2725c62e23",
   "metadata": {},
   "outputs": [],
   "source": [
    "x[np.isnan(x)]=0"
   ]
  },
  {
   "cell_type": "code",
   "execution_count": 379,
   "id": "a709c34d-7de7-4487-b51b-ebceda3a1bcd",
   "metadata": {},
   "outputs": [
    {
     "data": {
      "text/plain": [
       "array([[10., 20.,  0.],\n",
       "       [40.,  0.,  0.],\n",
       "       [ 0., 70., 80.]])"
      ]
     },
     "execution_count": 379,
     "metadata": {},
     "output_type": "execute_result"
    }
   ],
   "source": [
    "x"
   ]
  },
  {
   "cell_type": "markdown",
   "id": "0714fcb1-4e5f-4d30-b134-623abd5c62ce",
   "metadata": {},
   "source": [
    "### Typecasting"
   ]
  },
  {
   "cell_type": "markdown",
   "id": "64e30837-811b-48ae-9629-032c006268fe",
   "metadata": {},
   "source": [
    "### astype()"
   ]
  },
  {
   "cell_type": "code",
   "execution_count": 384,
   "id": "55952aaa-2c5a-4574-acec-25d7eecfab49",
   "metadata": {},
   "outputs": [],
   "source": [
    "# - It is used to typecast an array."
   ]
  },
  {
   "cell_type": "code",
   "execution_count": 386,
   "id": "53433430-1841-4c84-a10f-99429d18d375",
   "metadata": {},
   "outputs": [
    {
     "data": {
      "text/plain": [
       "array([[10., 20.,  0.],\n",
       "       [40.,  0.,  0.],\n",
       "       [ 0., 70., 80.]])"
      ]
     },
     "execution_count": 386,
     "metadata": {},
     "output_type": "execute_result"
    }
   ],
   "source": [
    "x"
   ]
  },
  {
   "cell_type": "code",
   "execution_count": 388,
   "id": "e69c4859-9570-419a-9d78-6c4465cbf905",
   "metadata": {},
   "outputs": [
    {
     "data": {
      "text/plain": [
       "dtype('float64')"
      ]
     },
     "execution_count": 388,
     "metadata": {},
     "output_type": "execute_result"
    }
   ],
   "source": [
    "x.dtype"
   ]
  },
  {
   "cell_type": "code",
   "execution_count": 394,
   "id": "5e7f1f68-f0e2-4985-aacd-de9445c7d54a",
   "metadata": {},
   "outputs": [],
   "source": [
    "y=x.astype(int)"
   ]
  },
  {
   "cell_type": "code",
   "execution_count": 396,
   "id": "6ba12bec-501e-4256-a127-9479ef49411a",
   "metadata": {},
   "outputs": [
    {
     "data": {
      "text/plain": [
       "array([[10, 20,  0],\n",
       "       [40,  0,  0],\n",
       "       [ 0, 70, 80]])"
      ]
     },
     "execution_count": 396,
     "metadata": {},
     "output_type": "execute_result"
    }
   ],
   "source": [
    "y"
   ]
  },
  {
   "cell_type": "code",
   "execution_count": 398,
   "id": "db1ede15-6cca-4ad0-aaea-13e5f0c2d7e0",
   "metadata": {},
   "outputs": [
    {
     "data": {
      "text/plain": [
       "dtype('int32')"
      ]
     },
     "execution_count": 398,
     "metadata": {},
     "output_type": "execute_result"
    }
   ],
   "source": [
    "y.dtype"
   ]
  },
  {
   "cell_type": "code",
   "execution_count": 392,
   "id": "9a280ecf-b235-4d3c-8a5e-5c5207642384",
   "metadata": {},
   "outputs": [
    {
     "data": {
      "text/plain": [
       "array([[10., 20.,  0.],\n",
       "       [40.,  0.,  0.],\n",
       "       [ 0., 70., 80.]])"
      ]
     },
     "execution_count": 392,
     "metadata": {},
     "output_type": "execute_result"
    }
   ],
   "source": [
    "x"
   ]
  },
  {
   "cell_type": "code",
   "execution_count": 400,
   "id": "f73a2e15-b169-4484-9580-df2ee619917a",
   "metadata": {},
   "outputs": [
    {
     "data": {
      "text/plain": [
       "dtype('float64')"
      ]
     },
     "execution_count": 400,
     "metadata": {},
     "output_type": "execute_result"
    }
   ],
   "source": [
    "x.dtype"
   ]
  },
  {
   "cell_type": "code",
   "execution_count": 402,
   "id": "35799614-126b-41a0-b273-4eb84d7cd11d",
   "metadata": {},
   "outputs": [
    {
     "data": {
      "text/plain": [
       "array([[10., 20.,  0.],\n",
       "       [40.,  0.,  0.],\n",
       "       [ 0., 70., 80.]])"
      ]
     },
     "execution_count": 402,
     "metadata": {},
     "output_type": "execute_result"
    }
   ],
   "source": [
    "x"
   ]
  },
  {
   "cell_type": "code",
   "execution_count": 408,
   "id": "003e5712-17e8-4fb3-bfe9-dd6d4b995edd",
   "metadata": {},
   "outputs": [],
   "source": [
    "x[0,0]=np.nan"
   ]
  },
  {
   "cell_type": "code",
   "execution_count": 410,
   "id": "52b9fe41-1bd6-43ba-accd-a7a6e20d7808",
   "metadata": {},
   "outputs": [
    {
     "data": {
      "text/plain": [
       "array([[nan, 20.,  0.],\n",
       "       [40.,  0.,  0.],\n",
       "       [ 0., 70., 80.]])"
      ]
     },
     "execution_count": 410,
     "metadata": {},
     "output_type": "execute_result"
    }
   ],
   "source": [
    "x"
   ]
  },
  {
   "cell_type": "code",
   "execution_count": 414,
   "id": "8dd954c3-8f7a-499a-b5a9-8b6e146d9bdf",
   "metadata": {},
   "outputs": [],
   "source": [
    "# x.astype(int)"
   ]
  },
  {
   "cell_type": "code",
   "execution_count": 420,
   "id": "e433f36d-dad2-4391-b59b-dc886ca49c97",
   "metadata": {},
   "outputs": [],
   "source": [
    "x[np.isnan(x)]=0"
   ]
  },
  {
   "cell_type": "code",
   "execution_count": 422,
   "id": "cd93643f-1dd0-4497-b5e8-28f170f48690",
   "metadata": {},
   "outputs": [
    {
     "data": {
      "text/plain": [
       "array([[ 0., 20.,  0.],\n",
       "       [40.,  0.,  0.],\n",
       "       [ 0., 70., 80.]])"
      ]
     },
     "execution_count": 422,
     "metadata": {},
     "output_type": "execute_result"
    }
   ],
   "source": [
    "x"
   ]
  },
  {
   "cell_type": "code",
   "execution_count": 424,
   "id": "f47607b6-11e2-48b4-913f-f82085d1dadb",
   "metadata": {},
   "outputs": [
    {
     "data": {
      "text/plain": [
       "array([[ 0, 20,  0],\n",
       "       [40,  0,  0],\n",
       "       [ 0, 70, 80]])"
      ]
     },
     "execution_count": 424,
     "metadata": {},
     "output_type": "execute_result"
    }
   ],
   "source": [
    "x.astype(int)"
   ]
  },
  {
   "cell_type": "markdown",
   "id": "c3dbe9ce-1c7a-4a7f-9ec2-fa879b1aaceb",
   "metadata": {},
   "source": [
    "# Concatenation of two arrays"
   ]
  },
  {
   "cell_type": "code",
   "execution_count": 427,
   "id": "448c1d86-ef7f-4ca3-b457-68c249b9995d",
   "metadata": {},
   "outputs": [],
   "source": [
    "# np.concatenate((arr_1, arr_2), axis)"
   ]
  },
  {
   "cell_type": "code",
   "execution_count": 431,
   "id": "b18e2a16-a833-4014-8de8-c97cc2352534",
   "metadata": {},
   "outputs": [],
   "source": [
    "x=x.astype(int)"
   ]
  },
  {
   "cell_type": "code",
   "execution_count": 433,
   "id": "d4eae640-09f5-4124-b3c2-f23e0c7d6f72",
   "metadata": {},
   "outputs": [
    {
     "data": {
      "text/plain": [
       "array([[ 0, 20,  0],\n",
       "       [40,  0,  0],\n",
       "       [ 0, 70, 80]])"
      ]
     },
     "execution_count": 433,
     "metadata": {},
     "output_type": "execute_result"
    }
   ],
   "source": [
    "x"
   ]
  },
  {
   "cell_type": "code",
   "execution_count": 435,
   "id": "ecc329a6-8926-4659-9caf-54cbd0d37d06",
   "metadata": {},
   "outputs": [
    {
     "data": {
      "text/plain": [
       "array([[1, 2, 3],\n",
       "       [4, 5, 6]])"
      ]
     },
     "execution_count": 435,
     "metadata": {},
     "output_type": "execute_result"
    }
   ],
   "source": [
    "y=np.array([[1,2,3],[4,5,6]])\n",
    "y"
   ]
  },
  {
   "cell_type": "code",
   "execution_count": 437,
   "id": "80cfcb14-ff59-4d53-82c5-09483bf77122",
   "metadata": {},
   "outputs": [
    {
     "data": {
      "text/plain": [
       "array([[ 0, 20,  0],\n",
       "       [40,  0,  0],\n",
       "       [ 0, 70, 80],\n",
       "       [ 1,  2,  3],\n",
       "       [ 4,  5,  6]])"
      ]
     },
     "execution_count": 437,
     "metadata": {},
     "output_type": "execute_result"
    }
   ],
   "source": [
    "np.concatenate((x,y), axis=0)"
   ]
  },
  {
   "cell_type": "code",
   "execution_count": 439,
   "id": "5e433f52-fa20-42dd-ba1d-af6264b412aa",
   "metadata": {},
   "outputs": [
    {
     "data": {
      "text/plain": [
       "array([[ 0, 20,  0],\n",
       "       [40,  0,  0],\n",
       "       [ 0, 70, 80],\n",
       "       [ 1,  2,  3],\n",
       "       [ 4,  5,  6]])"
      ]
     },
     "execution_count": 439,
     "metadata": {},
     "output_type": "execute_result"
    }
   ],
   "source": [
    "np.concatenate((x,y))"
   ]
  },
  {
   "cell_type": "code",
   "execution_count": 443,
   "id": "1ef109b9-1024-40b4-a79d-9cfe521f331f",
   "metadata": {},
   "outputs": [],
   "source": [
    "# np.concatenate((x,y), axis=1)"
   ]
  },
  {
   "cell_type": "code",
   "execution_count": 445,
   "id": "9d27b4fb-c058-4e00-a1bc-58dd60259693",
   "metadata": {},
   "outputs": [
    {
     "data": {
      "text/plain": [
       "array([[ 0, 20,  0],\n",
       "       [40,  0,  0],\n",
       "       [ 0, 70, 80]])"
      ]
     },
     "execution_count": 445,
     "metadata": {},
     "output_type": "execute_result"
    }
   ],
   "source": [
    "x"
   ]
  },
  {
   "cell_type": "code",
   "execution_count": 447,
   "id": "603b9b24-5eb8-48bd-8218-d3cc44bad511",
   "metadata": {},
   "outputs": [
    {
     "data": {
      "text/plain": [
       "array([[1],\n",
       "       [2],\n",
       "       [3]])"
      ]
     },
     "execution_count": 447,
     "metadata": {},
     "output_type": "execute_result"
    }
   ],
   "source": [
    "y=np.array([[1],[2],[3]])\n",
    "y"
   ]
  },
  {
   "cell_type": "code",
   "execution_count": 449,
   "id": "4bcb3fb5-fe80-48c7-b2c1-8c3d98daf9c8",
   "metadata": {},
   "outputs": [
    {
     "data": {
      "text/plain": [
       "array([[ 0, 20,  0],\n",
       "       [40,  0,  0],\n",
       "       [ 0, 70, 80]])"
      ]
     },
     "execution_count": 449,
     "metadata": {},
     "output_type": "execute_result"
    }
   ],
   "source": [
    "x"
   ]
  },
  {
   "cell_type": "code",
   "execution_count": 455,
   "id": "1c01cc60-7be8-440c-bfa7-804ccf443251",
   "metadata": {},
   "outputs": [
    {
     "data": {
      "text/plain": [
       "array([[ 0, 20,  0,  1],\n",
       "       [40,  0,  0,  2],\n",
       "       [ 0, 70, 80,  3]])"
      ]
     },
     "execution_count": 455,
     "metadata": {},
     "output_type": "execute_result"
    }
   ],
   "source": [
    "np.concatenate((x,y), axis=1)"
   ]
  },
  {
   "cell_type": "markdown",
   "id": "22380384-cd80-4a4c-bd77-d19276b5a815",
   "metadata": {},
   "source": [
    "### Sorting of an array"
   ]
  },
  {
   "cell_type": "code",
   "execution_count": 458,
   "id": "44c67dfa-977e-422c-9812-6f3b68d4ef05",
   "metadata": {},
   "outputs": [],
   "source": [
    "# np.sort(arr)\n",
    "# - It sorts an array in ascending order."
   ]
  },
  {
   "cell_type": "code",
   "execution_count": 497,
   "id": "c93bf125-5a6d-4a81-8520-c5e388cc1cb6",
   "metadata": {},
   "outputs": [
    {
     "data": {
      "text/plain": [
       "array([10, 61, 91, 78, 58, 74, 80, 80, 44, 90, 39, 16])"
      ]
     },
     "execution_count": 497,
     "metadata": {},
     "output_type": "execute_result"
    }
   ],
   "source": [
    "np.random.seed(48)\n",
    "x=np.random.randint(10,100,12)\n",
    "x"
   ]
  },
  {
   "cell_type": "code",
   "execution_count": 462,
   "id": "3178600f-3644-49f1-84ab-8e4074d1ea73",
   "metadata": {},
   "outputs": [
    {
     "data": {
      "text/plain": [
       "array([10, 16, 39, 44, 58, 61, 74, 78, 80, 80, 90, 91])"
      ]
     },
     "execution_count": 462,
     "metadata": {},
     "output_type": "execute_result"
    }
   ],
   "source": [
    "np.sort(x)"
   ]
  },
  {
   "cell_type": "code",
   "execution_count": 464,
   "id": "600da213-838b-4ee1-9d26-83d1ef7a660e",
   "metadata": {},
   "outputs": [
    {
     "data": {
      "text/plain": [
       "array([10, 61, 91, 78, 58, 74, 80, 80, 44, 90, 39, 16])"
      ]
     },
     "execution_count": 464,
     "metadata": {},
     "output_type": "execute_result"
    }
   ],
   "source": [
    "x"
   ]
  },
  {
   "cell_type": "code",
   "execution_count": 468,
   "id": "1f782552-755e-4d45-a84c-b6dacfd57f13",
   "metadata": {},
   "outputs": [
    {
     "data": {
      "text/plain": [
       "array([91, 90, 80, 80, 78, 74, 61, 58, 44, 39, 16, 10])"
      ]
     },
     "execution_count": 468,
     "metadata": {},
     "output_type": "execute_result"
    }
   ],
   "source": [
    "np.sort(x)[::-1]"
   ]
  },
  {
   "cell_type": "code",
   "execution_count": 504,
   "id": "438068fd-15ad-4361-965e-fab1c197d88c",
   "metadata": {},
   "outputs": [
    {
     "data": {
      "text/plain": [
       "array([[10, 61, 91, 78],\n",
       "       [58, 74, 80, 80],\n",
       "       [44, 90, 39, 16]])"
      ]
     },
     "execution_count": 504,
     "metadata": {},
     "output_type": "execute_result"
    }
   ],
   "source": [
    "np.random.seed(48)\n",
    "x=np.random.randint(10,100,size=(3,4))\n",
    "x"
   ]
  },
  {
   "cell_type": "code",
   "execution_count": 472,
   "id": "993b7f35-1467-42d4-b6f9-ebc271242e17",
   "metadata": {},
   "outputs": [
    {
     "data": {
      "text/plain": [
       "array([[10, 61, 78, 91],\n",
       "       [58, 74, 80, 80],\n",
       "       [16, 39, 44, 90]])"
      ]
     },
     "execution_count": 472,
     "metadata": {},
     "output_type": "execute_result"
    }
   ],
   "source": [
    "np.sort(x)"
   ]
  },
  {
   "cell_type": "code",
   "execution_count": 474,
   "id": "106f8844-efc7-472d-9528-50e233191eb3",
   "metadata": {},
   "outputs": [
    {
     "data": {
      "text/plain": [
       "array([[10, 61, 78, 91],\n",
       "       [58, 74, 80, 80],\n",
       "       [16, 39, 44, 90]])"
      ]
     },
     "execution_count": 474,
     "metadata": {},
     "output_type": "execute_result"
    }
   ],
   "source": [
    "np.sort(x, axis=1)"
   ]
  },
  {
   "cell_type": "code",
   "execution_count": 476,
   "id": "26eaae57-98bc-473f-beb5-a240275b8782",
   "metadata": {},
   "outputs": [
    {
     "data": {
      "text/plain": [
       "array([[10, 61, 39, 16],\n",
       "       [44, 74, 80, 78],\n",
       "       [58, 90, 91, 80]])"
      ]
     },
     "execution_count": 476,
     "metadata": {},
     "output_type": "execute_result"
    }
   ],
   "source": [
    "np.sort(x, axis=0)"
   ]
  },
  {
   "cell_type": "code",
   "execution_count": 478,
   "id": "8946bde4-12ad-403a-8c9d-e5cbb0992a31",
   "metadata": {},
   "outputs": [
    {
     "data": {
      "text/plain": [
       "array([[10, 61, 91, 78],\n",
       "       [58, 74, 80, 80],\n",
       "       [44, 90, 39, 16]])"
      ]
     },
     "execution_count": 478,
     "metadata": {},
     "output_type": "execute_result"
    }
   ],
   "source": [
    "x"
   ]
  },
  {
   "cell_type": "code",
   "execution_count": 488,
   "id": "e7780a46-5c42-468f-bf03-2dcafa1d3084",
   "metadata": {},
   "outputs": [
    {
     "data": {
      "text/plain": [
       "array([[58, 90, 91, 80],\n",
       "       [44, 74, 80, 78],\n",
       "       [10, 61, 39, 16]])"
      ]
     },
     "execution_count": 488,
     "metadata": {},
     "output_type": "execute_result"
    }
   ],
   "source": [
    "# All the column values in descending order\n",
    "np.sort(x, axis=0)[::-1]"
   ]
  },
  {
   "cell_type": "code",
   "execution_count": 490,
   "id": "c3ae197c-6458-4520-a6db-ff3292ef35fd",
   "metadata": {},
   "outputs": [
    {
     "data": {
      "text/plain": [
       "array([[10, 61, 78, 91],\n",
       "       [58, 74, 80, 80],\n",
       "       [16, 39, 44, 90]])"
      ]
     },
     "execution_count": 490,
     "metadata": {},
     "output_type": "execute_result"
    }
   ],
   "source": [
    "# All the rows values in descending order\n",
    "np.sort(x)"
   ]
  },
  {
   "cell_type": "code",
   "execution_count": 494,
   "id": "bded49b1-f4c0-4ba1-9a6b-ec2b0d2a123c",
   "metadata": {},
   "outputs": [],
   "source": [
    "# x"
   ]
  },
  {
   "cell_type": "markdown",
   "id": "72de83f4-40ad-4003-a778-16be920293ef",
   "metadata": {},
   "source": [
    "# Iterating over an array"
   ]
  },
  {
   "cell_type": "code",
   "execution_count": 500,
   "id": "69a7713b-85d5-4f26-90b6-9ac6a6a3434b",
   "metadata": {},
   "outputs": [
    {
     "data": {
      "text/plain": [
       "array([10, 61, 91, 78, 58, 74, 80, 80, 44, 90, 39, 16])"
      ]
     },
     "execution_count": 500,
     "metadata": {},
     "output_type": "execute_result"
    }
   ],
   "source": [
    "x"
   ]
  },
  {
   "cell_type": "code",
   "execution_count": 502,
   "id": "38d7a82b-df79-4b34-96c6-e4e9577bf97f",
   "metadata": {},
   "outputs": [
    {
     "name": "stdout",
     "output_type": "stream",
     "text": [
      "10\n",
      "61\n",
      "91\n",
      "78\n",
      "58\n",
      "74\n",
      "80\n",
      "80\n",
      "44\n",
      "90\n",
      "39\n",
      "16\n"
     ]
    }
   ],
   "source": [
    "for i in x:\n",
    "    print(i)"
   ]
  },
  {
   "cell_type": "code",
   "execution_count": 506,
   "id": "d9897814-62d6-4739-86e7-348c59cbd86b",
   "metadata": {},
   "outputs": [
    {
     "data": {
      "text/plain": [
       "array([[10, 61, 91, 78],\n",
       "       [58, 74, 80, 80],\n",
       "       [44, 90, 39, 16]])"
      ]
     },
     "execution_count": 506,
     "metadata": {},
     "output_type": "execute_result"
    }
   ],
   "source": [
    "x"
   ]
  },
  {
   "cell_type": "code",
   "execution_count": 510,
   "id": "164547e8-e1b4-47ab-88e5-6705bbcde6fa",
   "metadata": {},
   "outputs": [
    {
     "name": "stdout",
     "output_type": "stream",
     "text": [
      "[10 61 91 78]\n",
      "==============================\n",
      "[58 74 80 80]\n",
      "==============================\n",
      "[44 90 39 16]\n",
      "==============================\n"
     ]
    }
   ],
   "source": [
    "for i in x:\n",
    "    print(i)\n",
    "    print('==============================')"
   ]
  },
  {
   "cell_type": "code",
   "execution_count": 512,
   "id": "ed46725d-dc3d-4c02-8098-f916990645bd",
   "metadata": {},
   "outputs": [
    {
     "data": {
      "text/plain": [
       "array([44, 90, 39, 16])"
      ]
     },
     "execution_count": 512,
     "metadata": {},
     "output_type": "execute_result"
    }
   ],
   "source": [
    "i"
   ]
  },
  {
   "cell_type": "code",
   "execution_count": 514,
   "id": "0e801133-703b-433d-8dd9-e55f1ec2ad79",
   "metadata": {},
   "outputs": [
    {
     "name": "stdout",
     "output_type": "stream",
     "text": [
      "44\n",
      "90\n",
      "39\n",
      "16\n"
     ]
    }
   ],
   "source": [
    "for j in i:\n",
    "    print(j)"
   ]
  },
  {
   "cell_type": "code",
   "execution_count": 522,
   "id": "dfcd9798-01ef-4b35-a019-2461bbb277b9",
   "metadata": {},
   "outputs": [
    {
     "data": {
      "text/plain": [
       "array([[10, 61, 91, 78],\n",
       "       [58, 74, 80, 80],\n",
       "       [44, 90, 39, 16]])"
      ]
     },
     "execution_count": 522,
     "metadata": {},
     "output_type": "execute_result"
    }
   ],
   "source": [
    "x"
   ]
  },
  {
   "cell_type": "code",
   "execution_count": 520,
   "id": "284eb42b-b4d6-4d80-a6a8-2bc3d0a357ea",
   "metadata": {},
   "outputs": [
    {
     "name": "stdout",
     "output_type": "stream",
     "text": [
      "10\n",
      "61\n",
      "91\n",
      "78\n",
      "58\n",
      "74\n",
      "80\n",
      "80\n",
      "44\n",
      "90\n",
      "39\n",
      "16\n"
     ]
    }
   ],
   "source": [
    "for i in x:\n",
    "    for j in i:\n",
    "        print(j)"
   ]
  },
  {
   "cell_type": "code",
   "execution_count": 524,
   "id": "a3c33789-cf20-4ec6-8c6f-b7e7333b1b84",
   "metadata": {},
   "outputs": [
    {
     "data": {
      "text/plain": [
       "array([[10, 61, 91, 78],\n",
       "       [58, 74, 80, 80],\n",
       "       [44, 90, 39, 16]])"
      ]
     },
     "execution_count": 524,
     "metadata": {},
     "output_type": "execute_result"
    }
   ],
   "source": [
    "x"
   ]
  },
  {
   "cell_type": "code",
   "execution_count": 528,
   "id": "436cdb45-e7e6-4e9b-a67e-166908bf9208",
   "metadata": {},
   "outputs": [
    {
     "name": "stdout",
     "output_type": "stream",
     "text": [
      "10\n",
      "61\n",
      "91\n",
      "78\n",
      "58\n",
      "74\n",
      "80\n",
      "80\n",
      "44\n",
      "90\n",
      "39\n",
      "16\n"
     ]
    }
   ],
   "source": [
    "for i in x.ravel():\n",
    "    print(i)"
   ]
  },
  {
   "cell_type": "code",
   "execution_count": 530,
   "id": "bb5440b2-f656-4f6b-a72c-aa51dd5c7d59",
   "metadata": {},
   "outputs": [
    {
     "data": {
      "text/plain": [
       "array([[10, 61, 91, 78],\n",
       "       [58, 74, 80, 80],\n",
       "       [44, 90, 39, 16]])"
      ]
     },
     "execution_count": 530,
     "metadata": {},
     "output_type": "execute_result"
    }
   ],
   "source": [
    "x"
   ]
  },
  {
   "cell_type": "code",
   "execution_count": 534,
   "id": "f0bba7fa-b304-482b-afc6-fa645ebec227",
   "metadata": {},
   "outputs": [
    {
     "data": {
      "text/plain": [
       "array([10, 58, 44, 61, 74, 90, 91, 80, 39, 78, 80, 16])"
      ]
     },
     "execution_count": 534,
     "metadata": {},
     "output_type": "execute_result"
    }
   ],
   "source": [
    "x.ravel(order='F')"
   ]
  },
  {
   "cell_type": "code",
   "execution_count": 536,
   "id": "9193ca35-f99d-4e95-902b-64a6dd97a941",
   "metadata": {},
   "outputs": [
    {
     "name": "stdout",
     "output_type": "stream",
     "text": [
      "10\n",
      "58\n",
      "44\n",
      "61\n",
      "74\n",
      "90\n",
      "91\n",
      "80\n",
      "39\n",
      "78\n",
      "80\n",
      "16\n"
     ]
    }
   ],
   "source": [
    "for i in x.ravel(order='F'):\n",
    "    print(i)"
   ]
  },
  {
   "cell_type": "markdown",
   "id": "9395b50c-bbc8-405d-b0e6-a74a76a8526b",
   "metadata": {},
   "source": [
    "### Transpose of an array"
   ]
  },
  {
   "cell_type": "code",
   "execution_count": 540,
   "id": "1fe73bf4-a274-4ad6-b780-e51bc304084c",
   "metadata": {},
   "outputs": [],
   "source": [
    "# - Converting the rows into columns and vicer versa is known as transpose of an array."
   ]
  },
  {
   "cell_type": "code",
   "execution_count": 542,
   "id": "2a94a142-a2ad-4afb-bd00-848a2a5734ac",
   "metadata": {},
   "outputs": [
    {
     "data": {
      "text/plain": [
       "array([[10, 61, 91, 78],\n",
       "       [58, 74, 80, 80],\n",
       "       [44, 90, 39, 16]])"
      ]
     },
     "execution_count": 542,
     "metadata": {},
     "output_type": "execute_result"
    }
   ],
   "source": [
    "x"
   ]
  },
  {
   "cell_type": "code",
   "execution_count": 546,
   "id": "5c387579-f4e3-423f-a453-eb91d178be24",
   "metadata": {},
   "outputs": [],
   "source": [
    "xt=x.T"
   ]
  },
  {
   "cell_type": "code",
   "execution_count": 548,
   "id": "cb86650d-cee7-44f6-bb0a-cf4ea93da5fe",
   "metadata": {},
   "outputs": [
    {
     "data": {
      "text/plain": [
       "array([[10, 58, 44],\n",
       "       [61, 74, 90],\n",
       "       [91, 80, 39],\n",
       "       [78, 80, 16]])"
      ]
     },
     "execution_count": 548,
     "metadata": {},
     "output_type": "execute_result"
    }
   ],
   "source": [
    "xt"
   ]
  },
  {
   "cell_type": "code",
   "execution_count": 550,
   "id": "977c8533-6f7f-4837-b8c5-2bf8ae797ea4",
   "metadata": {},
   "outputs": [
    {
     "data": {
      "text/plain": [
       "array([[10, 61, 91, 78],\n",
       "       [58, 74, 80, 80],\n",
       "       [44, 90, 39, 16]])"
      ]
     },
     "execution_count": 550,
     "metadata": {},
     "output_type": "execute_result"
    }
   ],
   "source": [
    "x"
   ]
  },
  {
   "cell_type": "code",
   "execution_count": 558,
   "id": "bde1122b-dfd0-4360-be31-fd9bd9a38ec3",
   "metadata": {},
   "outputs": [
    {
     "name": "stdout",
     "output_type": "stream",
     "text": [
      "10\n",
      "58\n",
      "44\n",
      "61\n",
      "74\n",
      "90\n",
      "91\n",
      "80\n",
      "39\n",
      "78\n",
      "80\n",
      "16\n"
     ]
    }
   ],
   "source": [
    "for i in x.T:\n",
    "    for j in i:\n",
    "        print(j)"
   ]
  },
  {
   "cell_type": "markdown",
   "id": "786927ae-44f9-460a-9540-5db1faa52763",
   "metadata": {},
   "source": [
    "# Array Broadcasting"
   ]
  },
  {
   "cell_type": "code",
   "execution_count": 563,
   "id": "f263c45b-a73e-4edd-9daf-01d3b8146b2e",
   "metadata": {},
   "outputs": [],
   "source": [
    "# - When we perform some operation on two arrays of different shapes.\n",
    "# - The Numpy matches the shape of the arrays by adding dummy rows or dummy columns to make the operation possible.\n",
    "# - This concept is known as array broadcasting."
   ]
  },
  {
   "cell_type": "code",
   "execution_count": 565,
   "id": "408fc6d8-5b49-4f87-8841-83295b5ae3df",
   "metadata": {},
   "outputs": [],
   "source": [
    "# - At least one dimension should match in both the arrays.\n",
    "# - The other dimension should be 1 in either of the arrays."
   ]
  },
  {
   "cell_type": "code",
   "execution_count": 569,
   "id": "a7a6c919-5fb8-45a4-b632-0fb75eba4e93",
   "metadata": {},
   "outputs": [
    {
     "data": {
      "text/plain": [
       "array([[1, 2, 3],\n",
       "       [4, 5, 6],\n",
       "       [7, 8, 9]])"
      ]
     },
     "execution_count": 569,
     "metadata": {},
     "output_type": "execute_result"
    }
   ],
   "source": [
    "x=np.array([[1,2,3],[4,5,6],[7,8,9]])\n",
    "x"
   ]
  },
  {
   "cell_type": "code",
   "execution_count": 571,
   "id": "56541038-253c-4367-ac6c-cf93eb38124c",
   "metadata": {},
   "outputs": [
    {
     "data": {
      "text/plain": [
       "array([[2, 4, 6]])"
      ]
     },
     "execution_count": 571,
     "metadata": {},
     "output_type": "execute_result"
    }
   ],
   "source": [
    "y=np.array([[2,4,6]])\n",
    "y"
   ]
  },
  {
   "cell_type": "code",
   "execution_count": 573,
   "id": "f9392d9d-946f-4682-a6d5-88cf990b7718",
   "metadata": {},
   "outputs": [
    {
     "data": {
      "text/plain": [
       "(3, 3)"
      ]
     },
     "execution_count": 573,
     "metadata": {},
     "output_type": "execute_result"
    }
   ],
   "source": [
    "x.shape"
   ]
  },
  {
   "cell_type": "code",
   "execution_count": 575,
   "id": "f1c6603f-fd7e-4841-bcdb-6b50a51194ea",
   "metadata": {},
   "outputs": [
    {
     "data": {
      "text/plain": [
       "(1, 3)"
      ]
     },
     "execution_count": 575,
     "metadata": {},
     "output_type": "execute_result"
    }
   ],
   "source": [
    "y.shape"
   ]
  },
  {
   "cell_type": "code",
   "execution_count": 587,
   "id": "9736e2c9-f58a-48a6-839c-9712d53f56a1",
   "metadata": {},
   "outputs": [
    {
     "data": {
      "text/plain": [
       "array([[ 3,  6,  9],\n",
       "       [ 6,  9, 12],\n",
       "       [ 9, 12, 15]])"
      ]
     },
     "execution_count": 587,
     "metadata": {},
     "output_type": "execute_result"
    }
   ],
   "source": [
    "x+y"
   ]
  },
  {
   "cell_type": "code",
   "execution_count": 589,
   "id": "6aa9b624-4040-451c-8e77-95b5eae70b20",
   "metadata": {},
   "outputs": [
    {
     "data": {
      "text/plain": [
       "array([[1, 2, 3],\n",
       "       [4, 5, 6],\n",
       "       [7, 8, 9]])"
      ]
     },
     "execution_count": 589,
     "metadata": {},
     "output_type": "execute_result"
    }
   ],
   "source": [
    "x"
   ]
  },
  {
   "cell_type": "code",
   "execution_count": 593,
   "id": "753c0807-3026-4b36-bc77-83585d2d4822",
   "metadata": {},
   "outputs": [],
   "source": [
    "y=np.array([[2],[2],[4]])"
   ]
  },
  {
   "cell_type": "code",
   "execution_count": 595,
   "id": "f39de2b4-81ec-4a94-8cfa-b532ec7b1405",
   "metadata": {},
   "outputs": [
    {
     "data": {
      "text/plain": [
       "array([[1, 2, 3],\n",
       "       [4, 5, 6],\n",
       "       [7, 8, 9]])"
      ]
     },
     "execution_count": 595,
     "metadata": {},
     "output_type": "execute_result"
    }
   ],
   "source": [
    "x"
   ]
  },
  {
   "cell_type": "code",
   "execution_count": 597,
   "id": "fbe8c7d6-a235-4b32-a51a-f8b8337e2ebc",
   "metadata": {},
   "outputs": [
    {
     "data": {
      "text/plain": [
       "array([[2],\n",
       "       [2],\n",
       "       [4]])"
      ]
     },
     "execution_count": 597,
     "metadata": {},
     "output_type": "execute_result"
    }
   ],
   "source": [
    "y"
   ]
  },
  {
   "cell_type": "code",
   "execution_count": 599,
   "id": "ce2bb077-07c2-497e-9f89-19e93fc18084",
   "metadata": {},
   "outputs": [
    {
     "data": {
      "text/plain": [
       "(3, 3)"
      ]
     },
     "execution_count": 599,
     "metadata": {},
     "output_type": "execute_result"
    }
   ],
   "source": [
    "x.shape"
   ]
  },
  {
   "cell_type": "code",
   "execution_count": 601,
   "id": "00d360a7-0a29-4431-81f5-74a97f846686",
   "metadata": {},
   "outputs": [
    {
     "data": {
      "text/plain": [
       "(3, 1)"
      ]
     },
     "execution_count": 601,
     "metadata": {},
     "output_type": "execute_result"
    }
   ],
   "source": [
    "y.shape"
   ]
  },
  {
   "cell_type": "code",
   "execution_count": 603,
   "id": "5ee2d68c-5577-469f-bab5-d3424c4e69c1",
   "metadata": {},
   "outputs": [
    {
     "data": {
      "text/plain": [
       "array([[ 3,  4,  5],\n",
       "       [ 6,  7,  8],\n",
       "       [11, 12, 13]])"
      ]
     },
     "execution_count": 603,
     "metadata": {},
     "output_type": "execute_result"
    }
   ],
   "source": [
    "x+y"
   ]
  },
  {
   "cell_type": "code",
   "execution_count": 605,
   "id": "45a389b5-479d-4826-a344-548d2523b9d5",
   "metadata": {},
   "outputs": [
    {
     "data": {
      "text/plain": [
       "array([[1, 2, 3],\n",
       "       [4, 5, 6],\n",
       "       [7, 8, 9]])"
      ]
     },
     "execution_count": 605,
     "metadata": {},
     "output_type": "execute_result"
    }
   ],
   "source": [
    "x"
   ]
  },
  {
   "cell_type": "code",
   "execution_count": 609,
   "id": "756c5f96-cdea-4d76-9d59-c9cc0535f840",
   "metadata": {},
   "outputs": [],
   "source": [
    "y=np.array([[1,2,3],[4,5,6]])"
   ]
  },
  {
   "cell_type": "code",
   "execution_count": 611,
   "id": "56e496a1-e182-4df6-85f9-84ced32310d9",
   "metadata": {},
   "outputs": [
    {
     "data": {
      "text/plain": [
       "array([[1, 2, 3],\n",
       "       [4, 5, 6],\n",
       "       [7, 8, 9]])"
      ]
     },
     "execution_count": 611,
     "metadata": {},
     "output_type": "execute_result"
    }
   ],
   "source": [
    "x"
   ]
  },
  {
   "cell_type": "code",
   "execution_count": 613,
   "id": "cfb5b8aa-d618-4e30-a455-4780c580e2cc",
   "metadata": {},
   "outputs": [
    {
     "data": {
      "text/plain": [
       "array([[1, 2, 3],\n",
       "       [4, 5, 6]])"
      ]
     },
     "execution_count": 613,
     "metadata": {},
     "output_type": "execute_result"
    }
   ],
   "source": [
    "y"
   ]
  },
  {
   "cell_type": "code",
   "execution_count": 615,
   "id": "fbcab8b9-8388-492e-a47b-2962efad6d33",
   "metadata": {},
   "outputs": [
    {
     "data": {
      "text/plain": [
       "(3, 3)"
      ]
     },
     "execution_count": 615,
     "metadata": {},
     "output_type": "execute_result"
    }
   ],
   "source": [
    "x.shape"
   ]
  },
  {
   "cell_type": "code",
   "execution_count": 617,
   "id": "07cf1033-a99f-43e6-8cc5-b800d01f5be7",
   "metadata": {},
   "outputs": [
    {
     "data": {
      "text/plain": [
       "(2, 3)"
      ]
     },
     "execution_count": 617,
     "metadata": {},
     "output_type": "execute_result"
    }
   ],
   "source": [
    "y.shape"
   ]
  },
  {
   "cell_type": "code",
   "execution_count": 619,
   "id": "a18d700a-f38e-4d03-9ac0-c4bd70d7235e",
   "metadata": {},
   "outputs": [
    {
     "ename": "ValueError",
     "evalue": "operands could not be broadcast together with shapes (3,3) (2,3) ",
     "output_type": "error",
     "traceback": [
      "\u001b[1;31m---------------------------------------------------------------------------\u001b[0m",
      "\u001b[1;31mValueError\u001b[0m                                Traceback (most recent call last)",
      "Cell \u001b[1;32mIn[619], line 1\u001b[0m\n\u001b[1;32m----> 1\u001b[0m x\u001b[38;5;241m+\u001b[39my\n",
      "\u001b[1;31mValueError\u001b[0m: operands could not be broadcast together with shapes (3,3) (2,3) "
     ]
    }
   ],
   "source": [
    "x+y"
   ]
  },
  {
   "cell_type": "code",
   "execution_count": 621,
   "id": "22d21c7b-2e09-4571-b4c0-4c0292d32306",
   "metadata": {},
   "outputs": [
    {
     "data": {
      "text/plain": [
       "array([[1, 2, 3],\n",
       "       [4, 5, 6],\n",
       "       [7, 8, 9]])"
      ]
     },
     "execution_count": 621,
     "metadata": {},
     "output_type": "execute_result"
    }
   ],
   "source": [
    "x"
   ]
  },
  {
   "cell_type": "code",
   "execution_count": 623,
   "id": "3227557a-ad19-4bcc-92b1-5c63ed564f9e",
   "metadata": {},
   "outputs": [
    {
     "data": {
      "text/plain": [
       "array([[ 5, 10, 15],\n",
       "       [20, 25, 30],\n",
       "       [35, 40, 45]])"
      ]
     },
     "execution_count": 623,
     "metadata": {},
     "output_type": "execute_result"
    }
   ],
   "source": [
    "x*5"
   ]
  },
  {
   "cell_type": "code",
   "execution_count": 629,
   "id": "136fde04-3db1-44a3-83cb-dc7e24014c8f",
   "metadata": {},
   "outputs": [],
   "source": [
    "y=np.full_like(x, 5)"
   ]
  },
  {
   "cell_type": "code",
   "execution_count": 631,
   "id": "54f56c8c-00b6-465d-8306-d8a5c6220713",
   "metadata": {},
   "outputs": [
    {
     "data": {
      "text/plain": [
       "array([[1, 2, 3],\n",
       "       [4, 5, 6],\n",
       "       [7, 8, 9]])"
      ]
     },
     "execution_count": 631,
     "metadata": {},
     "output_type": "execute_result"
    }
   ],
   "source": [
    "x"
   ]
  },
  {
   "cell_type": "code",
   "execution_count": 633,
   "id": "9d541f94-dc88-4d28-b325-8644a0999f2e",
   "metadata": {},
   "outputs": [
    {
     "data": {
      "text/plain": [
       "array([[5, 5, 5],\n",
       "       [5, 5, 5],\n",
       "       [5, 5, 5]])"
      ]
     },
     "execution_count": 633,
     "metadata": {},
     "output_type": "execute_result"
    }
   ],
   "source": [
    "y"
   ]
  },
  {
   "cell_type": "code",
   "execution_count": 635,
   "id": "14c63549-53da-441f-ba8e-2127212d5283",
   "metadata": {},
   "outputs": [
    {
     "data": {
      "text/plain": [
       "array([[ 5, 10, 15],\n",
       "       [20, 25, 30],\n",
       "       [35, 40, 45]])"
      ]
     },
     "execution_count": 635,
     "metadata": {},
     "output_type": "execute_result"
    }
   ],
   "source": [
    "x*y"
   ]
  },
  {
   "cell_type": "code",
   "execution_count": null,
   "id": "520b68d3-c3bf-413e-9cca-4fc4452729a3",
   "metadata": {},
   "outputs": [],
   "source": []
  }
 ],
 "metadata": {
  "kernelspec": {
   "display_name": "Python 3 (ipykernel)",
   "language": "python",
   "name": "python3"
  },
  "language_info": {
   "codemirror_mode": {
    "name": "ipython",
    "version": 3
   },
   "file_extension": ".py",
   "mimetype": "text/x-python",
   "name": "python",
   "nbconvert_exporter": "python",
   "pygments_lexer": "ipython3",
   "version": "3.11.10"
  }
 },
 "nbformat": 4,
 "nbformat_minor": 5
}
