{
 "cells": [
  {
   "cell_type": "code",
   "execution_count": 1,
   "id": "a62c9f94-792b-4d39-a109-df14f8cdbb17",
   "metadata": {},
   "outputs": [],
   "source": [
    "# Pandas is a Python library that is used to manipulate the data as we do in Excel.\n",
    "# Pandas has been developed over Numpy\n",
    "# Pandas stands for Panel Data.\n",
    "# Panel Data means Tabular Data."
   ]
  },
  {
   "cell_type": "markdown",
   "id": "e0509e4c-7c33-44e3-a011-0cabecd4c11e",
   "metadata": {},
   "source": [
    "### Importing Pandas"
   ]
  },
  {
   "cell_type": "code",
   "execution_count": 6,
   "id": "6a3b6444-145c-405a-a754-c9e911092b4a",
   "metadata": {},
   "outputs": [],
   "source": [
    "import pandas as pd"
   ]
  },
  {
   "cell_type": "markdown",
   "id": "12a0b633-d68b-4ef0-b80f-16fa5831c4e4",
   "metadata": {},
   "source": [
    "### Version"
   ]
  },
  {
   "cell_type": "code",
   "execution_count": 9,
   "id": "3f5b7c81-ee06-4534-b129-34f398b9f5d1",
   "metadata": {},
   "outputs": [
    {
     "data": {
      "text/plain": [
       "'2.2.2'"
      ]
     },
     "execution_count": 9,
     "metadata": {},
     "output_type": "execute_result"
    }
   ],
   "source": [
    "pd.__version__"
   ]
  },
  {
   "cell_type": "code",
   "execution_count": 11,
   "id": "6eeecad0-c50a-4920-96e4-42e3c7c7666d",
   "metadata": {},
   "outputs": [],
   "source": [
    "# In Pandas we have two type of objects\n",
    "# - 1 Series\n",
    "# - 2- Dataframe"
   ]
  },
  {
   "cell_type": "code",
   "execution_count": 28,
   "id": "7f10dea1-cce3-4521-8fa0-a30362dd6f80",
   "metadata": {},
   "outputs": [],
   "source": [
    "import numpy as np"
   ]
  },
  {
   "cell_type": "markdown",
   "id": "34efe045-ea50-4695-ba2a-b51dd215b1cf",
   "metadata": {},
   "source": [
    "# Series"
   ]
  },
  {
   "cell_type": "code",
   "execution_count": 14,
   "id": "d5ad737d-a3ee-4028-a52f-a6c0d17a349d",
   "metadata": {},
   "outputs": [],
   "source": [
    "# - It is like a 1-D array structure.\n",
    "# - A series can be considered as a column from a table.\n",
    "# - A series has indexes and values.\n",
    "# - A series does not contain header."
   ]
  },
  {
   "cell_type": "markdown",
   "id": "9219a959-05f1-4293-a951-cab0900adaa6",
   "metadata": {},
   "source": [
    "# Creating a Series"
   ]
  },
  {
   "cell_type": "code",
   "execution_count": 17,
   "id": "4d8d0ec0-f6e6-41ca-bf37-ab54c210155a",
   "metadata": {},
   "outputs": [],
   "source": [
    "# pd.Series(list/tuple/array/dictionary)"
   ]
  },
  {
   "cell_type": "markdown",
   "id": "81ed103e-814d-48c5-8c3d-166c53e4f04d",
   "metadata": {},
   "source": [
    "### Creating a series by using a list / tuple or array"
   ]
  },
  {
   "cell_type": "code",
   "execution_count": 22,
   "id": "66d2d420-011d-4c1d-a665-6ffd68b1a813",
   "metadata": {},
   "outputs": [
    {
     "data": {
      "text/plain": [
       "0    10\n",
       "1    20\n",
       "2    30\n",
       "3    40\n",
       "4    50\n",
       "5    60\n",
       "6    70\n",
       "7    80\n",
       "dtype: int64"
      ]
     },
     "execution_count": 22,
     "metadata": {},
     "output_type": "execute_result"
    }
   ],
   "source": [
    "lst=[10,20,30,40,50,60,70,80]\n",
    "\n",
    "nums=pd.Series(lst)\n",
    "nums"
   ]
  },
  {
   "cell_type": "code",
   "execution_count": 26,
   "id": "52de6d55-cddf-49ee-9053-0306bad30a6d",
   "metadata": {},
   "outputs": [
    {
     "data": {
      "text/plain": [
       "0    10\n",
       "1    20\n",
       "2    30\n",
       "3    40\n",
       "4    50\n",
       "5    60\n",
       "6    70\n",
       "7    80\n",
       "dtype: int64"
      ]
     },
     "execution_count": 26,
     "metadata": {},
     "output_type": "execute_result"
    }
   ],
   "source": [
    "t=(10,20,30,40,50,60,70,80)\n",
    "\n",
    "nums=pd.Series(t)\n",
    "nums"
   ]
  },
  {
   "cell_type": "code",
   "execution_count": 38,
   "id": "609e933f-3b10-4c70-a0b9-4e31f60be696",
   "metadata": {},
   "outputs": [
    {
     "name": "stdout",
     "output_type": "stream",
     "text": [
      "0    10\n",
      "1    20\n",
      "2    30\n",
      "3    40\n",
      "4    50\n",
      "5    60\n",
      "6    70\n",
      "7    80\n",
      "dtype: int32 <class 'pandas.core.series.Series'>\n"
     ]
    }
   ],
   "source": [
    "arr=np.array([10,20,30,40,50,60,70,80])\n",
    "nums=pd.Series(arr)\n",
    "print(nums, type(nums))"
   ]
  },
  {
   "cell_type": "markdown",
   "id": "a4517454-3c3f-499a-a4eb-2147319716a5",
   "metadata": {},
   "source": [
    "### Creating a series by using a dictionary"
   ]
  },
  {
   "cell_type": "code",
   "execution_count": 41,
   "id": "a5b57980-df7a-488f-93b4-647bbf682088",
   "metadata": {},
   "outputs": [],
   "source": [
    "# - When we create a series using a dictionary then.\n",
    "# - The keys of the dictionary become the indexes in the series.\n",
    "# - The values of the dictionary become the values."
   ]
  },
  {
   "cell_type": "code",
   "execution_count": 51,
   "id": "b498f1eb-f62e-4506-83b1-5469aeeb3eee",
   "metadata": {},
   "outputs": [
    {
     "data": {
      "text/plain": [
       "Name      Sankha\n",
       "Age           25\n",
       "City        Pune\n",
       "Salary     55000\n",
       "dtype: object"
      ]
     },
     "execution_count": 51,
     "metadata": {},
     "output_type": "execute_result"
    }
   ],
   "source": [
    "emp={'Name':'Sankha', 'Age':25, 'City':'Pune', 'Salary':55000}\n",
    "emp_ser=pd.Series(emp)\n",
    "emp_ser"
   ]
  },
  {
   "cell_type": "markdown",
   "id": "5d71d758-4bae-4f2b-9491-59a24c327b6a",
   "metadata": {},
   "source": [
    "# Attributes on a Series"
   ]
  },
  {
   "cell_type": "code",
   "execution_count": 55,
   "id": "096f82a7-e0ad-4ed5-9de6-2cb25384685e",
   "metadata": {},
   "outputs": [],
   "source": [
    "# - size\n",
    "# - shape\n",
    "# - ndim\n",
    "# - dtype\n",
    "# - index\n",
    "# - values\n",
    "# - name"
   ]
  },
  {
   "cell_type": "markdown",
   "id": "399d76a1-76d9-40fd-9183-fedc80b80cad",
   "metadata": {},
   "source": [
    "### size"
   ]
  },
  {
   "cell_type": "code",
   "execution_count": 58,
   "id": "79f1eb13-573f-4c53-904e-d2bfaf0abcf6",
   "metadata": {},
   "outputs": [],
   "source": [
    "# - It returns the number of elements a series contains."
   ]
  },
  {
   "cell_type": "code",
   "execution_count": 66,
   "id": "fe25aeb5-38d1-43bd-8633-9b16b37e617f",
   "metadata": {},
   "outputs": [
    {
     "data": {
      "text/plain": [
       "0    10\n",
       "1    20\n",
       "2    30\n",
       "3    40\n",
       "4    50\n",
       "5    60\n",
       "6    70\n",
       "7    80\n",
       "dtype: int32"
      ]
     },
     "execution_count": 66,
     "metadata": {},
     "output_type": "execute_result"
    }
   ],
   "source": [
    "nums"
   ]
  },
  {
   "cell_type": "code",
   "execution_count": 62,
   "id": "4fe2da2e-10b7-4bfd-b5d2-0b2bcdbb1242",
   "metadata": {},
   "outputs": [
    {
     "data": {
      "text/plain": [
       "8"
      ]
     },
     "execution_count": 62,
     "metadata": {},
     "output_type": "execute_result"
    }
   ],
   "source": [
    "nums.size"
   ]
  },
  {
   "cell_type": "code",
   "execution_count": 64,
   "id": "8b0434ee-270c-41b9-a200-3fca8e143d2e",
   "metadata": {},
   "outputs": [
    {
     "data": {
      "text/plain": [
       "8"
      ]
     },
     "execution_count": 64,
     "metadata": {},
     "output_type": "execute_result"
    }
   ],
   "source": [
    "len(nums)"
   ]
  },
  {
   "cell_type": "markdown",
   "id": "80e906df-a722-4006-b868-4fe1187c4b5e",
   "metadata": {},
   "source": [
    "### shape"
   ]
  },
  {
   "cell_type": "code",
   "execution_count": 69,
   "id": "9c8d13b6-c120-4738-9ef9-b11b6c6545cb",
   "metadata": {},
   "outputs": [],
   "source": [
    "# - It returns a tuple of sigle element that represents the number of elements."
   ]
  },
  {
   "cell_type": "code",
   "execution_count": 73,
   "id": "ae8b6727-1f07-4038-a950-660a8d1f4770",
   "metadata": {},
   "outputs": [
    {
     "data": {
      "text/plain": [
       "(8,)"
      ]
     },
     "execution_count": 73,
     "metadata": {},
     "output_type": "execute_result"
    }
   ],
   "source": [
    "nums.shape"
   ]
  },
  {
   "cell_type": "markdown",
   "id": "163b3662-f7fb-40ec-bd6b-31310f9e63a7",
   "metadata": {},
   "source": [
    "### ndim"
   ]
  },
  {
   "cell_type": "code",
   "execution_count": 76,
   "id": "72d62e2a-1cba-4b4a-93ff-9047d954f71e",
   "metadata": {},
   "outputs": [],
   "source": [
    "# - It returns the dimension of a series i.e. is 1 always."
   ]
  },
  {
   "cell_type": "code",
   "execution_count": 80,
   "id": "49143ae2-38c7-42ce-a8e0-a31797cf33fb",
   "metadata": {},
   "outputs": [
    {
     "data": {
      "text/plain": [
       "1"
      ]
     },
     "execution_count": 80,
     "metadata": {},
     "output_type": "execute_result"
    }
   ],
   "source": [
    "nums.ndim"
   ]
  },
  {
   "cell_type": "markdown",
   "id": "1d7c0486-b882-4251-9e59-a0826db4f069",
   "metadata": {},
   "source": [
    "### dtype"
   ]
  },
  {
   "cell_type": "code",
   "execution_count": 85,
   "id": "8aefe237-0435-40a7-bed6-6fe9c328be3d",
   "metadata": {},
   "outputs": [],
   "source": [
    "# - It returns the data type of the elements a series contains.\n",
    "# - A series can contain two type of elements\n",
    "# - 1- Numeric - int -> float -> complex (array upcasting)\n",
    "# - 2- Non-numeric - object"
   ]
  },
  {
   "cell_type": "code",
   "execution_count": 95,
   "id": "d67bbb8e-6357-4fea-a624-e31101ea7149",
   "metadata": {},
   "outputs": [
    {
     "data": {
      "text/plain": [
       "0    10\n",
       "1    20\n",
       "2    30\n",
       "3    40\n",
       "4    50\n",
       "dtype: int64"
      ]
     },
     "execution_count": 95,
     "metadata": {},
     "output_type": "execute_result"
    }
   ],
   "source": [
    "lst=[10,20,30,40,50]\n",
    "\n",
    "s=pd.Series(lst)\n",
    "s"
   ]
  },
  {
   "cell_type": "code",
   "execution_count": 97,
   "id": "aac62f85-fd68-4205-9ff0-3ee81257ce96",
   "metadata": {},
   "outputs": [
    {
     "data": {
      "text/plain": [
       "dtype('int64')"
      ]
     },
     "execution_count": 97,
     "metadata": {},
     "output_type": "execute_result"
    }
   ],
   "source": [
    "s.dtype"
   ]
  },
  {
   "cell_type": "code",
   "execution_count": 99,
   "id": "df30bfe2-06c8-4ac0-99d0-01d231677303",
   "metadata": {},
   "outputs": [
    {
     "data": {
      "text/plain": [
       "0    10.00\n",
       "1    20.00\n",
       "2    30.00\n",
       "3    40.66\n",
       "4    50.00\n",
       "dtype: float64"
      ]
     },
     "execution_count": 99,
     "metadata": {},
     "output_type": "execute_result"
    }
   ],
   "source": [
    "lst=[10,20,30,40.66,50]\n",
    "\n",
    "s=pd.Series(lst)\n",
    "s"
   ]
  },
  {
   "cell_type": "code",
   "execution_count": 101,
   "id": "efce26b6-2fd4-4e5b-8302-b805bfec2ec7",
   "metadata": {},
   "outputs": [
    {
     "data": {
      "text/plain": [
       "dtype('float64')"
      ]
     },
     "execution_count": 101,
     "metadata": {},
     "output_type": "execute_result"
    }
   ],
   "source": [
    "s.dtype"
   ]
  },
  {
   "cell_type": "code",
   "execution_count": 103,
   "id": "8295c33e-8fff-490c-9c7b-14875407df9b",
   "metadata": {},
   "outputs": [
    {
     "data": {
      "text/plain": [
       "0    10.0+ 0.0j\n",
       "1    20.0+ 0.0j\n",
       "2    30.0+ 0.0j\n",
       "3    40.0+60.0j\n",
       "4    50.0+ 0.0j\n",
       "dtype: complex128"
      ]
     },
     "execution_count": 103,
     "metadata": {},
     "output_type": "execute_result"
    }
   ],
   "source": [
    "lst=[10,20,30,40+60j,50]\n",
    "\n",
    "s=pd.Series(lst)\n",
    "s"
   ]
  },
  {
   "cell_type": "code",
   "execution_count": 105,
   "id": "82b90f4b-96b8-4233-af35-8367a84a6546",
   "metadata": {},
   "outputs": [
    {
     "data": {
      "text/plain": [
       "dtype('complex128')"
      ]
     },
     "execution_count": 105,
     "metadata": {},
     "output_type": "execute_result"
    }
   ],
   "source": [
    "s.dtype"
   ]
  },
  {
   "cell_type": "code",
   "execution_count": 107,
   "id": "a9bc5d77-5fd5-4c92-99fb-9a0034a30120",
   "metadata": {},
   "outputs": [
    {
     "data": {
      "text/plain": [
       "0    10.00+ 0.00j\n",
       "1    20.44+ 0.00j\n",
       "2    30.00+60.00j\n",
       "3    40.00+ 0.00j\n",
       "4    50.00+ 0.00j\n",
       "dtype: complex128"
      ]
     },
     "execution_count": 107,
     "metadata": {},
     "output_type": "execute_result"
    }
   ],
   "source": [
    "lst=[10,20.44,30+60j,40,50]\n",
    "\n",
    "s=pd.Series(lst)\n",
    "s"
   ]
  },
  {
   "cell_type": "code",
   "execution_count": 109,
   "id": "63433d88-2868-42b0-9e70-97d7541b753c",
   "metadata": {},
   "outputs": [
    {
     "data": {
      "text/plain": [
       "dtype('complex128')"
      ]
     },
     "execution_count": 109,
     "metadata": {},
     "output_type": "execute_result"
    }
   ],
   "source": [
    "s.dtype"
   ]
  },
  {
   "cell_type": "code",
   "execution_count": 118,
   "id": "7ceb0b40-c7d6-4e0d-b096-99a240863fde",
   "metadata": {},
   "outputs": [
    {
     "data": {
      "text/plain": [
       "0    10\n",
       "1    20\n",
       "2    30\n",
       "3    40\n",
       "4    50\n",
       "dtype: object"
      ]
     },
     "execution_count": 118,
     "metadata": {},
     "output_type": "execute_result"
    }
   ],
   "source": [
    "lst=[10,20,'30',40,50]\n",
    "\n",
    "s=pd.Series(lst)\n",
    "s"
   ]
  },
  {
   "cell_type": "code",
   "execution_count": 120,
   "id": "2bbf92c9-b82c-498b-b3e8-209d2751997f",
   "metadata": {},
   "outputs": [
    {
     "data": {
      "text/plain": [
       "0    [10, 5, 6, 9]\n",
       "1               20\n",
       "2               30\n",
       "3               40\n",
       "4               50\n",
       "dtype: object"
      ]
     },
     "execution_count": 120,
     "metadata": {},
     "output_type": "execute_result"
    }
   ],
   "source": [
    "lst=[[10,5,6,9],20,'30',40,50]\n",
    "\n",
    "s=pd.Series(lst)\n",
    "s"
   ]
  },
  {
   "cell_type": "code",
   "execution_count": 122,
   "id": "3c68d10a-831f-488c-afb9-631f4f95e50e",
   "metadata": {},
   "outputs": [
    {
     "data": {
      "text/plain": [
       "dtype('O')"
      ]
     },
     "execution_count": 122,
     "metadata": {},
     "output_type": "execute_result"
    }
   ],
   "source": [
    "s.dtype"
   ]
  },
  {
   "cell_type": "markdown",
   "id": "004fa826-3e53-49de-94fe-d20aa7982240",
   "metadata": {},
   "source": [
    "### index"
   ]
  },
  {
   "cell_type": "code",
   "execution_count": 132,
   "id": "e5f5b4e7-4f05-43c6-bc72-35b9b32f6186",
   "metadata": {},
   "outputs": [],
   "source": [
    "# - A series has two type of indexes\n",
    "\n",
    "# - 1- Implicit Index (default / Python defined)\n",
    "# - 2- Explicit Index (User defined / Labels)\n",
    "\n",
    "# In case of implicit indexes, it returns a RangeIndex object that contains start, stop and step.\n",
    "# In case of explicit indexes, it returns Index object that contains the list of indexes / labels."
   ]
  },
  {
   "cell_type": "code",
   "execution_count": 128,
   "id": "cb099549-7b37-45b7-8318-8fd37a6468cc",
   "metadata": {},
   "outputs": [
    {
     "data": {
      "text/plain": [
       "0    10\n",
       "1    20\n",
       "2    30\n",
       "3    40\n",
       "4    50\n",
       "5    60\n",
       "6    70\n",
       "7    80\n",
       "dtype: int32"
      ]
     },
     "execution_count": 128,
     "metadata": {},
     "output_type": "execute_result"
    }
   ],
   "source": [
    "nums"
   ]
  },
  {
   "cell_type": "code",
   "execution_count": 130,
   "id": "e9b3a087-a946-4d39-be27-9fc97b4f0f5a",
   "metadata": {},
   "outputs": [
    {
     "data": {
      "text/plain": [
       "RangeIndex(start=0, stop=8, step=1)"
      ]
     },
     "execution_count": 130,
     "metadata": {},
     "output_type": "execute_result"
    }
   ],
   "source": [
    "nums.index"
   ]
  },
  {
   "cell_type": "code",
   "execution_count": 134,
   "id": "3507d188-8d1e-4d42-afd0-0d23401e85d0",
   "metadata": {},
   "outputs": [
    {
     "data": {
      "text/plain": [
       "Name      Sankha\n",
       "Age           25\n",
       "City        Pune\n",
       "Salary     55000\n",
       "dtype: object"
      ]
     },
     "execution_count": 134,
     "metadata": {},
     "output_type": "execute_result"
    }
   ],
   "source": [
    "emp_ser"
   ]
  },
  {
   "cell_type": "code",
   "execution_count": 136,
   "id": "54ed85f4-6ac9-4865-a705-906870f06c49",
   "metadata": {},
   "outputs": [
    {
     "data": {
      "text/plain": [
       "Index(['Name', 'Age', 'City', 'Salary'], dtype='object')"
      ]
     },
     "execution_count": 136,
     "metadata": {},
     "output_type": "execute_result"
    }
   ],
   "source": [
    "emp_ser.index"
   ]
  },
  {
   "cell_type": "markdown",
   "id": "d57355b5-16c9-4b2b-8658-68d2c419d48f",
   "metadata": {},
   "source": [
    "### values"
   ]
  },
  {
   "cell_type": "code",
   "execution_count": 139,
   "id": "fc13bd65-6fc7-427b-bde5-1eb554bb8a57",
   "metadata": {},
   "outputs": [],
   "source": [
    "# - It returns a 1-D array that contains the values of a series."
   ]
  },
  {
   "cell_type": "code",
   "execution_count": 141,
   "id": "c3c07db0-0ba6-4600-bb1d-fe04ac628acb",
   "metadata": {},
   "outputs": [
    {
     "data": {
      "text/plain": [
       "0    10\n",
       "1    20\n",
       "2    30\n",
       "3    40\n",
       "4    50\n",
       "5    60\n",
       "6    70\n",
       "7    80\n",
       "dtype: int32"
      ]
     },
     "execution_count": 141,
     "metadata": {},
     "output_type": "execute_result"
    }
   ],
   "source": [
    "nums"
   ]
  },
  {
   "cell_type": "code",
   "execution_count": 143,
   "id": "95a03f53-9b98-4cd8-8edc-ead3c63e38ff",
   "metadata": {},
   "outputs": [
    {
     "data": {
      "text/plain": [
       "array([10, 20, 30, 40, 50, 60, 70, 80])"
      ]
     },
     "execution_count": 143,
     "metadata": {},
     "output_type": "execute_result"
    }
   ],
   "source": [
    "nums.values"
   ]
  },
  {
   "cell_type": "code",
   "execution_count": 145,
   "id": "eda2c48a-5566-4aad-9e13-efc1eb7726c3",
   "metadata": {},
   "outputs": [
    {
     "data": {
      "text/plain": [
       "Name      Sankha\n",
       "Age           25\n",
       "City        Pune\n",
       "Salary     55000\n",
       "dtype: object"
      ]
     },
     "execution_count": 145,
     "metadata": {},
     "output_type": "execute_result"
    }
   ],
   "source": [
    "emp_ser"
   ]
  },
  {
   "cell_type": "code",
   "execution_count": 147,
   "id": "44137255-0afd-440e-ae6f-0f75e2e37350",
   "metadata": {},
   "outputs": [
    {
     "data": {
      "text/plain": [
       "array(['Sankha', 25, 'Pune', 55000], dtype=object)"
      ]
     },
     "execution_count": 147,
     "metadata": {},
     "output_type": "execute_result"
    }
   ],
   "source": [
    "emp_ser.values"
   ]
  },
  {
   "cell_type": "markdown",
   "id": "109d0eb9-ab97-48ec-bf66-560b28669d0c",
   "metadata": {},
   "source": [
    "### name"
   ]
  },
  {
   "cell_type": "code",
   "execution_count": 150,
   "id": "c0ef35e7-066c-4190-a253-3cde07d52442",
   "metadata": {},
   "outputs": [],
   "source": [
    "# - Using name attribute we can name a series."
   ]
  },
  {
   "cell_type": "code",
   "execution_count": 152,
   "id": "8c67aded-5279-4d40-ae76-b693153768e0",
   "metadata": {},
   "outputs": [
    {
     "data": {
      "text/plain": [
       "0    10\n",
       "1    20\n",
       "2    30\n",
       "3    40\n",
       "4    50\n",
       "5    60\n",
       "6    70\n",
       "7    80\n",
       "dtype: int32"
      ]
     },
     "execution_count": 152,
     "metadata": {},
     "output_type": "execute_result"
    }
   ],
   "source": [
    "nums"
   ]
  },
  {
   "cell_type": "code",
   "execution_count": 154,
   "id": "c5fb6362-de8f-4366-a7a5-a5e892664572",
   "metadata": {},
   "outputs": [],
   "source": [
    "nums.name='Numbers'"
   ]
  },
  {
   "cell_type": "code",
   "execution_count": 156,
   "id": "477a17a2-f36f-46fa-9865-4d10297c3a14",
   "metadata": {},
   "outputs": [
    {
     "data": {
      "text/plain": [
       "0    10\n",
       "1    20\n",
       "2    30\n",
       "3    40\n",
       "4    50\n",
       "5    60\n",
       "6    70\n",
       "7    80\n",
       "Name: Numbers, dtype: int32"
      ]
     },
     "execution_count": 156,
     "metadata": {},
     "output_type": "execute_result"
    }
   ],
   "source": [
    "nums"
   ]
  },
  {
   "cell_type": "code",
   "execution_count": 158,
   "id": "0ed2c700-7617-4fa4-8a43-bd04d72e7424",
   "metadata": {},
   "outputs": [
    {
     "data": {
      "text/plain": [
       "Name      Sankha\n",
       "Age           25\n",
       "City        Pune\n",
       "Salary     55000\n",
       "dtype: object"
      ]
     },
     "execution_count": 158,
     "metadata": {},
     "output_type": "execute_result"
    }
   ],
   "source": [
    "emp_ser"
   ]
  },
  {
   "cell_type": "code",
   "execution_count": 160,
   "id": "78a299a2-e86c-43c7-96a4-4c62ea127da0",
   "metadata": {},
   "outputs": [],
   "source": [
    "emp_ser.name='Employee Details'"
   ]
  },
  {
   "cell_type": "code",
   "execution_count": 162,
   "id": "f1d7dd12-2ba0-45d2-b093-09aab7eb346e",
   "metadata": {},
   "outputs": [
    {
     "data": {
      "text/plain": [
       "Name      Sankha\n",
       "Age           25\n",
       "City        Pune\n",
       "Salary     55000\n",
       "Name: Employee Details, dtype: object"
      ]
     },
     "execution_count": 162,
     "metadata": {},
     "output_type": "execute_result"
    }
   ],
   "source": [
    "emp_ser"
   ]
  },
  {
   "cell_type": "code",
   "execution_count": 168,
   "id": "36e2d01f-50f8-4ffb-8ec9-34aa596ca0db",
   "metadata": {},
   "outputs": [],
   "source": [
    "emp_ser.name='emp_details'"
   ]
  },
  {
   "cell_type": "code",
   "execution_count": 170,
   "id": "e2d8aacf-6c30-489b-8605-b7be7b1a81ab",
   "metadata": {},
   "outputs": [
    {
     "data": {
      "text/plain": [
       "Name      Sankha\n",
       "Age           25\n",
       "City        Pune\n",
       "Salary     55000\n",
       "Name: emp_details, dtype: object"
      ]
     },
     "execution_count": 170,
     "metadata": {},
     "output_type": "execute_result"
    }
   ],
   "source": [
    "emp_ser"
   ]
  },
  {
   "cell_type": "markdown",
   "id": "198dc4f2-e030-496d-bbe7-8a51773880a7",
   "metadata": {},
   "source": [
    "# Indexing and Slicing of a Series"
   ]
  },
  {
   "cell_type": "markdown",
   "id": "a7943c8d-4d00-4028-909b-158b45625df2",
   "metadata": {},
   "source": [
    "### Indexing"
   ]
  },
  {
   "cell_type": "code",
   "execution_count": 174,
   "id": "706da4eb-3d82-4868-affd-e9d785495b68",
   "metadata": {},
   "outputs": [
    {
     "data": {
      "text/plain": [
       "0    10\n",
       "1    20\n",
       "2    30\n",
       "3    40\n",
       "4    50\n",
       "5    60\n",
       "6    70\n",
       "7    80\n",
       "Name: Numbers, dtype: int32"
      ]
     },
     "execution_count": 174,
     "metadata": {},
     "output_type": "execute_result"
    }
   ],
   "source": [
    "nums"
   ]
  },
  {
   "cell_type": "code",
   "execution_count": 178,
   "id": "74044b1c-9645-4a20-8847-6f729358fa4f",
   "metadata": {},
   "outputs": [
    {
     "data": {
      "text/plain": [
       "60"
      ]
     },
     "execution_count": 178,
     "metadata": {},
     "output_type": "execute_result"
    }
   ],
   "source": [
    "nums[5]"
   ]
  },
  {
   "cell_type": "code",
   "execution_count": 180,
   "id": "4255e46a-7dc3-4099-86ed-3282140f217f",
   "metadata": {},
   "outputs": [],
   "source": [
    "# - A sereis has two types of indexes\n",
    "# - 1- Implicit Indexes\n",
    "# - 2- User defined / Labels"
   ]
  },
  {
   "cell_type": "code",
   "execution_count": 182,
   "id": "6184c610-55f5-4330-a2d6-917ff5caf75c",
   "metadata": {},
   "outputs": [],
   "source": [
    "# ser[label]"
   ]
  },
  {
   "cell_type": "code",
   "execution_count": 186,
   "id": "b1e6b001-afcc-40ed-8341-5fdebc693581",
   "metadata": {},
   "outputs": [],
   "source": [
    "nums.index=[1,2,3,4,5,6,7,8]"
   ]
  },
  {
   "cell_type": "code",
   "execution_count": 188,
   "id": "ff9fa812-bc05-4014-a882-b9faad162d2f",
   "metadata": {},
   "outputs": [
    {
     "data": {
      "text/plain": [
       "1    10\n",
       "2    20\n",
       "3    30\n",
       "4    40\n",
       "5    50\n",
       "6    60\n",
       "7    70\n",
       "8    80\n",
       "Name: Numbers, dtype: int32"
      ]
     },
     "execution_count": 188,
     "metadata": {},
     "output_type": "execute_result"
    }
   ],
   "source": [
    "nums"
   ]
  },
  {
   "cell_type": "code",
   "execution_count": 192,
   "id": "b3944c58-10e2-4dc3-9026-4479ece99453",
   "metadata": {},
   "outputs": [],
   "source": [
    "# nums[0]"
   ]
  },
  {
   "cell_type": "markdown",
   "id": "9eb28588-407a-4d46-8d6b-a57f4b713c23",
   "metadata": {},
   "source": [
    "### iloc and loc"
   ]
  },
  {
   "cell_type": "code",
   "execution_count": 195,
   "id": "0730881d-092c-4cef-bfa0-9b5cff089d8f",
   "metadata": {},
   "outputs": [],
   "source": [
    "# iloc[implicit_index]\n",
    "# loc[explicit_index]"
   ]
  },
  {
   "cell_type": "code",
   "execution_count": 197,
   "id": "50a50fd9-9c1d-424a-a469-569e72a84b67",
   "metadata": {},
   "outputs": [
    {
     "data": {
      "text/plain": [
       "1    10\n",
       "2    20\n",
       "3    30\n",
       "4    40\n",
       "5    50\n",
       "6    60\n",
       "7    70\n",
       "8    80\n",
       "Name: Numbers, dtype: int32"
      ]
     },
     "execution_count": 197,
     "metadata": {},
     "output_type": "execute_result"
    }
   ],
   "source": [
    "nums"
   ]
  },
  {
   "cell_type": "code",
   "execution_count": 201,
   "id": "3816bcc3-4fd9-4be3-a6bf-7a5662b41136",
   "metadata": {},
   "outputs": [
    {
     "data": {
      "text/plain": [
       "10"
      ]
     },
     "execution_count": 201,
     "metadata": {},
     "output_type": "execute_result"
    }
   ],
   "source": [
    "# Get the first element\n",
    "nums.iloc[0]"
   ]
  },
  {
   "cell_type": "code",
   "execution_count": 203,
   "id": "7f316d68-d69e-4983-9f22-bd5f65d4396a",
   "metadata": {},
   "outputs": [
    {
     "data": {
      "text/plain": [
       "10"
      ]
     },
     "execution_count": 203,
     "metadata": {},
     "output_type": "execute_result"
    }
   ],
   "source": [
    "nums.loc[1]"
   ]
  },
  {
   "cell_type": "code",
   "execution_count": 343,
   "id": "083c687e-af5b-41a4-888a-d2ea43de4426",
   "metadata": {},
   "outputs": [],
   "source": [
    "names=['Manish', 'Sankha', 'Deepti', 'Sukesh', 'Priti', 'Vikash', 'Arvind', 'Ayushi']\n",
    "emp=pd.Series(names, index=['emp_'+str(i) for i in range(1,len(names)+1)])"
   ]
  },
  {
   "cell_type": "code",
   "execution_count": 345,
   "id": "9594e858-e9be-4b27-8274-6c66c0d51082",
   "metadata": {},
   "outputs": [
    {
     "data": {
      "text/plain": [
       "emp_1    Manish\n",
       "emp_2    Sankha\n",
       "emp_3    Deepti\n",
       "emp_4    Sukesh\n",
       "emp_5     Priti\n",
       "emp_6    Vikash\n",
       "emp_7    Arvind\n",
       "emp_8    Ayushi\n",
       "dtype: object"
      ]
     },
     "execution_count": 345,
     "metadata": {},
     "output_type": "execute_result"
    }
   ],
   "source": [
    "emp"
   ]
  },
  {
   "cell_type": "code",
   "execution_count": 215,
   "id": "77fbc125-36f4-473c-a02d-3bd0b4d1fab1",
   "metadata": {},
   "outputs": [
    {
     "data": {
      "text/plain": [
       "'Manish'"
      ]
     },
     "execution_count": 215,
     "metadata": {},
     "output_type": "execute_result"
    }
   ],
   "source": [
    "# Get the first name\n",
    "emp.iloc[0]"
   ]
  },
  {
   "cell_type": "code",
   "execution_count": 219,
   "id": "33757a1c-22da-412b-b912-884b06b2b6ae",
   "metadata": {},
   "outputs": [
    {
     "data": {
      "text/plain": [
       "'Manish'"
      ]
     },
     "execution_count": 219,
     "metadata": {},
     "output_type": "execute_result"
    }
   ],
   "source": [
    "# Get the name of the employ who has ID emp_1\n",
    "emp.loc['emp_1']"
   ]
  },
  {
   "cell_type": "code",
   "execution_count": 225,
   "id": "a59d5485-2e6f-40be-b89d-47d955ef6f76",
   "metadata": {},
   "outputs": [
    {
     "data": {
      "text/plain": [
       "'Vikash'"
      ]
     },
     "execution_count": 225,
     "metadata": {},
     "output_type": "execute_result"
    }
   ],
   "source": [
    "# Get the name of emp_6\n",
    "\n",
    "emp.loc['emp_6']"
   ]
  },
  {
   "cell_type": "code",
   "execution_count": 227,
   "id": "f09a0e60-dc51-418d-8a6d-402d2deaefa2",
   "metadata": {},
   "outputs": [
    {
     "data": {
      "text/plain": [
       "'Ayushi'"
      ]
     },
     "execution_count": 227,
     "metadata": {},
     "output_type": "execute_result"
    }
   ],
   "source": [
    "# Get the name of the last employee\n",
    "emp.iloc[-1]"
   ]
  },
  {
   "cell_type": "code",
   "execution_count": 237,
   "id": "4679cd37-9f35-48ef-bd7d-338216f2e9ee",
   "metadata": {},
   "outputs": [
    {
     "data": {
      "text/plain": [
       "'Ayushi'"
      ]
     },
     "execution_count": 237,
     "metadata": {},
     "output_type": "execute_result"
    }
   ],
   "source": [
    "# Get the name of emp_8\n",
    "emp.loc['emp_8']"
   ]
  },
  {
   "cell_type": "markdown",
   "id": "cb70966d-fc06-4709-9c77-7005bcb1a338",
   "metadata": {},
   "source": [
    "### Assigning user defined indexes to a series "
   ]
  },
  {
   "cell_type": "code",
   "execution_count": 240,
   "id": "42b8fabf-69ad-4232-8804-f67d87dcaf1d",
   "metadata": {},
   "outputs": [
    {
     "data": {
      "text/plain": [
       "['Manish', 'Sankha', 'Deepti', 'Sukesh', 'Priti', 'Vikash', 'Arvind', 'Ayushi']"
      ]
     },
     "execution_count": 240,
     "metadata": {},
     "output_type": "execute_result"
    }
   ],
   "source": [
    "names"
   ]
  },
  {
   "cell_type": "code",
   "execution_count": 244,
   "id": "3fa45a54-9ea3-43e1-8a8c-7050ee873ab1",
   "metadata": {},
   "outputs": [
    {
     "data": {
      "text/plain": [
       "['a', 'b', 'c', 'd', 'e', 'f', 'g', 'h']"
      ]
     },
     "execution_count": 244,
     "metadata": {},
     "output_type": "execute_result"
    }
   ],
   "source": [
    "list('abcdefgh')"
   ]
  },
  {
   "cell_type": "code",
   "execution_count": 262,
   "id": "ca40dcc1-252a-4605-8038-e4360dcf8fd7",
   "metadata": {},
   "outputs": [
    {
     "data": {
      "text/plain": [
       "a    Manish\n",
       "b    Sankha\n",
       "c    Deepti\n",
       "d    Sukesh\n",
       "e     Priti\n",
       "f    Vikash\n",
       "g    Arvind\n",
       "h    Ayushi\n",
       "dtype: object"
      ]
     },
     "execution_count": 262,
     "metadata": {},
     "output_type": "execute_result"
    }
   ],
   "source": [
    "pd.Series(names, index=tuple('abcdefgh'))"
   ]
  },
  {
   "cell_type": "code",
   "execution_count": 270,
   "id": "d04703ce-64db-494b-9917-320467af30ed",
   "metadata": {},
   "outputs": [
    {
     "data": {
      "text/plain": [
       "0    Manish\n",
       "1    Sankha\n",
       "2    Deepti\n",
       "3    Sukesh\n",
       "4     Priti\n",
       "5    Vikash\n",
       "6    Arvind\n",
       "7    Ayushi\n",
       "dtype: object"
      ]
     },
     "execution_count": 270,
     "metadata": {},
     "output_type": "execute_result"
    }
   ],
   "source": [
    "names_ser=pd.Series(names)\n",
    "names_ser"
   ]
  },
  {
   "cell_type": "code",
   "execution_count": 275,
   "id": "e3180119-a431-4fa3-a61d-edc2aea7edf9",
   "metadata": {},
   "outputs": [],
   "source": [
    "names_ser.index=list('abcdefgh')"
   ]
  },
  {
   "cell_type": "code",
   "execution_count": 279,
   "id": "6cbac481-e622-4624-ac86-0bac82cca287",
   "metadata": {},
   "outputs": [
    {
     "data": {
      "text/plain": [
       "a    Manish\n",
       "b    Sankha\n",
       "c    Deepti\n",
       "d    Sukesh\n",
       "e     Priti\n",
       "f    Vikash\n",
       "g    Arvind\n",
       "h    Ayushi\n",
       "dtype: object"
      ]
     },
     "execution_count": 279,
     "metadata": {},
     "output_type": "execute_result"
    }
   ],
   "source": [
    "names_ser"
   ]
  },
  {
   "cell_type": "markdown",
   "id": "eed9e9d4-b7e6-4906-9467-05c9948aaad1",
   "metadata": {},
   "source": [
    "### Slicing"
   ]
  },
  {
   "cell_type": "code",
   "execution_count": 282,
   "id": "fbcf2f5b-8119-4cb9-9f07-b3737714ff27",
   "metadata": {},
   "outputs": [],
   "source": [
    "# ser.iloc[start:stop:step] (Implicit Indexes)\n",
    "# stop_index is excluded\n",
    "\n",
    "# ser.loc[start:stop:step] (Explicit Indexes / Labels)\n",
    "# stop_index is included"
   ]
  },
  {
   "cell_type": "code",
   "execution_count": 284,
   "id": "255e27f9-cdec-4e66-8e64-94c0f46a0519",
   "metadata": {},
   "outputs": [
    {
     "data": {
      "text/plain": [
       "a    Manish\n",
       "b    Sankha\n",
       "c    Deepti\n",
       "d    Sukesh\n",
       "e     Priti\n",
       "f    Vikash\n",
       "g    Arvind\n",
       "h    Ayushi\n",
       "dtype: object"
      ]
     },
     "execution_count": 284,
     "metadata": {},
     "output_type": "execute_result"
    }
   ],
   "source": [
    "names_ser"
   ]
  },
  {
   "cell_type": "code",
   "execution_count": 286,
   "id": "b2369745-bfd2-477b-9673-f6532322c34d",
   "metadata": {},
   "outputs": [
    {
     "data": {
      "text/plain": [
       "a    Manish\n",
       "b    Sankha\n",
       "c    Deepti\n",
       "dtype: object"
      ]
     },
     "execution_count": 286,
     "metadata": {},
     "output_type": "execute_result"
    }
   ],
   "source": [
    "# First 3 elements\n",
    "names_ser.iloc[:3]"
   ]
  },
  {
   "cell_type": "code",
   "execution_count": 290,
   "id": "e9f15102-1891-44b7-b351-895f872b4831",
   "metadata": {},
   "outputs": [
    {
     "data": {
      "text/plain": [
       "a    Manish\n",
       "b    Sankha\n",
       "c    Deepti\n",
       "dtype: object"
      ]
     },
     "execution_count": 290,
     "metadata": {},
     "output_type": "execute_result"
    }
   ],
   "source": [
    "names_ser.loc['a':'c']"
   ]
  },
  {
   "cell_type": "code",
   "execution_count": 292,
   "id": "951f214e-7b4e-4abf-87a8-b3502d39ce35",
   "metadata": {},
   "outputs": [
    {
     "data": {
      "text/plain": [
       "h    Ayushi\n",
       "g    Arvind\n",
       "f    Vikash\n",
       "e     Priti\n",
       "d    Sukesh\n",
       "c    Deepti\n",
       "b    Sankha\n",
       "a    Manish\n",
       "dtype: object"
      ]
     },
     "execution_count": 292,
     "metadata": {},
     "output_type": "execute_result"
    }
   ],
   "source": [
    "# Reverse a series\n",
    "names_ser.iloc[::-1]"
   ]
  },
  {
   "cell_type": "code",
   "execution_count": 294,
   "id": "14735fd0-9104-4f13-a640-5c984ac76629",
   "metadata": {},
   "outputs": [
    {
     "data": {
      "text/plain": [
       "h    Ayushi\n",
       "g    Arvind\n",
       "f    Vikash\n",
       "e     Priti\n",
       "d    Sukesh\n",
       "c    Deepti\n",
       "b    Sankha\n",
       "a    Manish\n",
       "dtype: object"
      ]
     },
     "execution_count": 294,
     "metadata": {},
     "output_type": "execute_result"
    }
   ],
   "source": [
    "names_ser.loc['h':'a':-1]"
   ]
  },
  {
   "cell_type": "code",
   "execution_count": 296,
   "id": "1c4c4932-f047-414e-b932-7cc6ef16f588",
   "metadata": {},
   "outputs": [
    {
     "data": {
      "text/plain": [
       "h    Ayushi\n",
       "g    Arvind\n",
       "f    Vikash\n",
       "e     Priti\n",
       "d    Sukesh\n",
       "c    Deepti\n",
       "b    Sankha\n",
       "a    Manish\n",
       "dtype: object"
      ]
     },
     "execution_count": 296,
     "metadata": {},
     "output_type": "execute_result"
    }
   ],
   "source": [
    "names_ser.loc[::-1]"
   ]
  },
  {
   "cell_type": "code",
   "execution_count": 298,
   "id": "8b4d8370-e0cb-4fe3-b008-9605e3feec02",
   "metadata": {},
   "outputs": [
    {
     "data": {
      "text/plain": [
       "a    Manish\n",
       "b    Sankha\n",
       "c    Deepti\n",
       "d    Sukesh\n",
       "e     Priti\n",
       "f    Vikash\n",
       "g    Arvind\n",
       "h    Ayushi\n",
       "dtype: object"
      ]
     },
     "execution_count": 298,
     "metadata": {},
     "output_type": "execute_result"
    }
   ],
   "source": [
    "names_ser"
   ]
  },
  {
   "cell_type": "code",
   "execution_count": 300,
   "id": "7c79f6c5-22b0-4c31-9370-a8e093f14ebb",
   "metadata": {},
   "outputs": [
    {
     "data": {
      "text/plain": [
       "f    Vikash\n",
       "e     Priti\n",
       "d    Sukesh\n",
       "c    Deepti\n",
       "dtype: object"
      ]
     },
     "execution_count": 300,
     "metadata": {},
     "output_type": "execute_result"
    }
   ],
   "source": [
    "# From f to c\n",
    "names_ser.loc['f':'c':-1]"
   ]
  },
  {
   "cell_type": "markdown",
   "id": "89ceaf32-e5ca-466e-8902-bcba61bd1aa2",
   "metadata": {},
   "source": [
    "# Conditions on a Series"
   ]
  },
  {
   "cell_type": "code",
   "execution_count": 303,
   "id": "23215064-3dd7-46ab-890e-6cfdcb802dd4",
   "metadata": {},
   "outputs": [
    {
     "data": {
      "text/plain": [
       "1    10\n",
       "2    20\n",
       "3    30\n",
       "4    40\n",
       "5    50\n",
       "6    60\n",
       "7    70\n",
       "8    80\n",
       "Name: Numbers, dtype: int32"
      ]
     },
     "execution_count": 303,
     "metadata": {},
     "output_type": "execute_result"
    }
   ],
   "source": [
    "nums"
   ]
  },
  {
   "cell_type": "code",
   "execution_count": 305,
   "id": "4d122038-863c-4834-a58f-9bdd801d26f0",
   "metadata": {},
   "outputs": [
    {
     "data": {
      "text/plain": [
       "1    False\n",
       "2    False\n",
       "3    False\n",
       "4    False\n",
       "5    False\n",
       "6     True\n",
       "7     True\n",
       "8     True\n",
       "Name: Numbers, dtype: bool"
      ]
     },
     "execution_count": 305,
     "metadata": {},
     "output_type": "execute_result"
    }
   ],
   "source": [
    "nums>50"
   ]
  },
  {
   "cell_type": "code",
   "execution_count": 307,
   "id": "047dfec0-991a-4746-acf2-a040938f4c75",
   "metadata": {},
   "outputs": [
    {
     "data": {
      "text/plain": [
       "6    60\n",
       "7    70\n",
       "8    80\n",
       "Name: Numbers, dtype: int32"
      ]
     },
     "execution_count": 307,
     "metadata": {},
     "output_type": "execute_result"
    }
   ],
   "source": [
    "nums[nums>50]"
   ]
  },
  {
   "cell_type": "code",
   "execution_count": 311,
   "id": "15e90772-03f0-4dfd-bbcf-58436111780c",
   "metadata": {},
   "outputs": [
    {
     "data": {
      "text/plain": [
       "emp_1    Manish\n",
       "emp_2    Sankha\n",
       "emp_3    Deepti\n",
       "emp_4    Sukesh\n",
       "emp_5     Priti\n",
       "emp_6    Vikash\n",
       "emp_7    Arvind\n",
       "emp_8    Ayushi\n",
       "dtype: object"
      ]
     },
     "execution_count": 311,
     "metadata": {},
     "output_type": "execute_result"
    }
   ],
   "source": [
    "emp"
   ]
  },
  {
   "cell_type": "code",
   "execution_count": 325,
   "id": "00606267-4da7-4514-a309-9bf8e58ae2bd",
   "metadata": {},
   "outputs": [
    {
     "data": {
      "text/plain": [
       "emp_1    False\n",
       "emp_2    False\n",
       "emp_3    False\n",
       "emp_4     True\n",
       "emp_5    False\n",
       "emp_6    False\n",
       "emp_7    False\n",
       "emp_8    False\n",
       "dtype: bool"
      ]
     },
     "execution_count": 325,
     "metadata": {},
     "output_type": "execute_result"
    }
   ],
   "source": [
    "# What is the  emp_id of Sukesh\n",
    "\n",
    "emp=='Sukesh'"
   ]
  },
  {
   "cell_type": "code",
   "execution_count": 331,
   "id": "3a3c5f03-f721-4c4e-b7de-066cc87a9f0b",
   "metadata": {},
   "outputs": [
    {
     "data": {
      "text/plain": [
       "emp_4    Sukesh\n",
       "dtype: object"
      ]
     },
     "execution_count": 331,
     "metadata": {},
     "output_type": "execute_result"
    }
   ],
   "source": [
    "emp[emp=='Sukesh']"
   ]
  },
  {
   "cell_type": "code",
   "execution_count": 337,
   "id": "84157a8f-f700-4370-bb01-9a7cf67c7967",
   "metadata": {},
   "outputs": [
    {
     "data": {
      "text/plain": [
       "Index(['emp_4'], dtype='object')"
      ]
     },
     "execution_count": 337,
     "metadata": {},
     "output_type": "execute_result"
    }
   ],
   "source": [
    "emp[emp=='Sukesh'].index"
   ]
  },
  {
   "cell_type": "code",
   "execution_count": 339,
   "id": "814d20be-2875-4c5c-9415-f95dc06ab167",
   "metadata": {},
   "outputs": [
    {
     "data": {
      "text/plain": [
       "emp_1    Manish\n",
       "emp_2    Sankha\n",
       "emp_3    Deepti\n",
       "emp_4    Sukesh\n",
       "emp_5     Priti\n",
       "emp_6    Vikash\n",
       "emp_7    Arvind\n",
       "emp_8    Ayushi\n",
       "dtype: object"
      ]
     },
     "execution_count": 339,
     "metadata": {},
     "output_type": "execute_result"
    }
   ],
   "source": [
    "emp"
   ]
  },
  {
   "cell_type": "code",
   "execution_count": 353,
   "id": "45a8e99f-7142-41ff-bf9b-d6c7fe38179c",
   "metadata": {},
   "outputs": [],
   "source": [
    "# Vikash should be replaced with Pranali\n",
    "\n",
    "emp.loc[emp=='Vikash']='Pranali'"
   ]
  },
  {
   "cell_type": "code",
   "execution_count": 355,
   "id": "c312882b-5c28-43f1-9963-ffbf90f48044",
   "metadata": {},
   "outputs": [
    {
     "data": {
      "text/plain": [
       "emp_1     Manish\n",
       "emp_2     Sankha\n",
       "emp_3     Deepti\n",
       "emp_4     Sukesh\n",
       "emp_5      Priti\n",
       "emp_6    Pranali\n",
       "emp_7     Arvind\n",
       "emp_8     Ayushi\n",
       "dtype: object"
      ]
     },
     "execution_count": 355,
     "metadata": {},
     "output_type": "execute_result"
    }
   ],
   "source": [
    "emp"
   ]
  },
  {
   "cell_type": "code",
   "execution_count": 357,
   "id": "e9614126-4109-4d5f-8d2f-f0c2a7e6881f",
   "metadata": {},
   "outputs": [
    {
     "data": {
      "text/plain": [
       "emp_1    False\n",
       "emp_2     True\n",
       "emp_3    False\n",
       "emp_4    False\n",
       "emp_5    False\n",
       "emp_6    False\n",
       "emp_7    False\n",
       "emp_8    False\n",
       "dtype: bool"
      ]
     },
     "execution_count": 357,
     "metadata": {},
     "output_type": "execute_result"
    }
   ],
   "source": [
    "# Sankha should be replaced with Aditya\n",
    "emp=='Sankha'"
   ]
  },
  {
   "cell_type": "code",
   "execution_count": 365,
   "id": "adf2f688-8351-4647-8f8f-ed1d28fd2f46",
   "metadata": {},
   "outputs": [],
   "source": [
    "emp.loc[emp=='Sankha']='Aditya'"
   ]
  },
  {
   "cell_type": "code",
   "execution_count": 367,
   "id": "f0ce9712-332b-4683-99e2-942c74b036c5",
   "metadata": {},
   "outputs": [
    {
     "data": {
      "text/plain": [
       "emp_1     Manish\n",
       "emp_2     Aditya\n",
       "emp_3     Deepti\n",
       "emp_4     Sukesh\n",
       "emp_5      Priti\n",
       "emp_6    Pranali\n",
       "emp_7     Arvind\n",
       "emp_8     Ayushi\n",
       "dtype: object"
      ]
     },
     "execution_count": 367,
     "metadata": {},
     "output_type": "execute_result"
    }
   ],
   "source": [
    "emp"
   ]
  },
  {
   "cell_type": "markdown",
   "id": "be620235-7428-4fe1-9935-ffbf51bb5051",
   "metadata": {},
   "source": [
    "# Data Frame"
   ]
  },
  {
   "cell_type": "code",
   "execution_count": 375,
   "id": "5d265e32-7763-4994-9519-b703bc7f7841",
   "metadata": {},
   "outputs": [],
   "source": [
    "# - A data frame is like a 2-D array structure.\n",
    "# - It can be considered as an Excel table.\n",
    "# - Data frame has row as well column indexes."
   ]
  },
  {
   "cell_type": "markdown",
   "id": "c07835e4-2f82-4417-be36-e62c93b96b00",
   "metadata": {},
   "source": [
    "# Creating a dataframe"
   ]
  },
  {
   "cell_type": "markdown",
   "id": "416b1b61-cfe6-42e4-a552-382ca0d188e6",
   "metadata": {},
   "source": [
    "### By using a 2-D list"
   ]
  },
  {
   "cell_type": "code",
   "execution_count": 387,
   "id": "dfb063a4-1b2c-457a-8e6e-23c5a1d6aba0",
   "metadata": {},
   "outputs": [],
   "source": [
    "# pd.DataFrame(2-D list)"
   ]
  },
  {
   "cell_type": "code",
   "execution_count": 379,
   "id": "f278c3ad-df49-4d86-b057-85f84c2d1647",
   "metadata": {},
   "outputs": [],
   "source": [
    "names=['Kushagra', 'Kartik', 'Vikash', 'Sukesh', 'Deepti', 'Priti', 'Pranali', 'Amit']\n",
    "codes=[101, 102, 103, 104, 105, 106, 107, 108]\n",
    "city=['Pune', 'Madurai', 'Chennai', 'Dehradun', 'Noida', 'Bengaluru', 'Mysuru', 'Goa']"
   ]
  },
  {
   "cell_type": "code",
   "execution_count": 385,
   "id": "5fa961ed-0e2a-47ce-82d0-34351691f8ce",
   "metadata": {},
   "outputs": [
    {
     "name": "stdout",
     "output_type": "stream",
     "text": [
      "[['Kushagra', 'Kartik', 'Vikash', 'Sukesh', 'Deepti', 'Priti', 'Pranali', 'Amit'], [101, 102, 103, 104, 105, 106, 107, 108], ['Pune', 'Madurai', 'Chennai', 'Dehradun', 'Noida', 'Bengaluru', 'Mysuru', 'Goa']]\n"
     ]
    }
   ],
   "source": [
    "data=[names, codes, city]\n",
    "print(data)"
   ]
  },
  {
   "cell_type": "code",
   "execution_count": 389,
   "id": "6ee9ddd7-d92f-461b-bf7a-55b6821a744e",
   "metadata": {},
   "outputs": [
    {
     "data": {
      "text/html": [
       "<div>\n",
       "<style scoped>\n",
       "    .dataframe tbody tr th:only-of-type {\n",
       "        vertical-align: middle;\n",
       "    }\n",
       "\n",
       "    .dataframe tbody tr th {\n",
       "        vertical-align: top;\n",
       "    }\n",
       "\n",
       "    .dataframe thead th {\n",
       "        text-align: right;\n",
       "    }\n",
       "</style>\n",
       "<table border=\"1\" class=\"dataframe\">\n",
       "  <thead>\n",
       "    <tr style=\"text-align: right;\">\n",
       "      <th></th>\n",
       "      <th>0</th>\n",
       "      <th>1</th>\n",
       "      <th>2</th>\n",
       "      <th>3</th>\n",
       "      <th>4</th>\n",
       "      <th>5</th>\n",
       "      <th>6</th>\n",
       "      <th>7</th>\n",
       "    </tr>\n",
       "  </thead>\n",
       "  <tbody>\n",
       "    <tr>\n",
       "      <th>0</th>\n",
       "      <td>Kushagra</td>\n",
       "      <td>Kartik</td>\n",
       "      <td>Vikash</td>\n",
       "      <td>Sukesh</td>\n",
       "      <td>Deepti</td>\n",
       "      <td>Priti</td>\n",
       "      <td>Pranali</td>\n",
       "      <td>Amit</td>\n",
       "    </tr>\n",
       "    <tr>\n",
       "      <th>1</th>\n",
       "      <td>101</td>\n",
       "      <td>102</td>\n",
       "      <td>103</td>\n",
       "      <td>104</td>\n",
       "      <td>105</td>\n",
       "      <td>106</td>\n",
       "      <td>107</td>\n",
       "      <td>108</td>\n",
       "    </tr>\n",
       "    <tr>\n",
       "      <th>2</th>\n",
       "      <td>Pune</td>\n",
       "      <td>Madurai</td>\n",
       "      <td>Chennai</td>\n",
       "      <td>Dehradun</td>\n",
       "      <td>Noida</td>\n",
       "      <td>Bengaluru</td>\n",
       "      <td>Mysuru</td>\n",
       "      <td>Goa</td>\n",
       "    </tr>\n",
       "  </tbody>\n",
       "</table>\n",
       "</div>"
      ],
      "text/plain": [
       "          0        1        2         3       4          5        6     7\n",
       "0  Kushagra   Kartik   Vikash    Sukesh  Deepti      Priti  Pranali  Amit\n",
       "1       101      102      103       104     105        106      107   108\n",
       "2      Pune  Madurai  Chennai  Dehradun   Noida  Bengaluru   Mysuru   Goa"
      ]
     },
     "execution_count": 389,
     "metadata": {},
     "output_type": "execute_result"
    }
   ],
   "source": [
    "pd.DataFrame(data)"
   ]
  },
  {
   "cell_type": "code",
   "execution_count": 393,
   "id": "c4f8503a-0bc0-4251-9f61-160fdca612a1",
   "metadata": {},
   "outputs": [],
   "source": [
    "df=pd.DataFrame(data).T"
   ]
  },
  {
   "cell_type": "code",
   "execution_count": 395,
   "id": "745d8474-c82e-4e79-ac25-e2fa9171ee2b",
   "metadata": {},
   "outputs": [
    {
     "data": {
      "text/html": [
       "<div>\n",
       "<style scoped>\n",
       "    .dataframe tbody tr th:only-of-type {\n",
       "        vertical-align: middle;\n",
       "    }\n",
       "\n",
       "    .dataframe tbody tr th {\n",
       "        vertical-align: top;\n",
       "    }\n",
       "\n",
       "    .dataframe thead th {\n",
       "        text-align: right;\n",
       "    }\n",
       "</style>\n",
       "<table border=\"1\" class=\"dataframe\">\n",
       "  <thead>\n",
       "    <tr style=\"text-align: right;\">\n",
       "      <th></th>\n",
       "      <th>0</th>\n",
       "      <th>1</th>\n",
       "      <th>2</th>\n",
       "    </tr>\n",
       "  </thead>\n",
       "  <tbody>\n",
       "    <tr>\n",
       "      <th>0</th>\n",
       "      <td>Kushagra</td>\n",
       "      <td>101</td>\n",
       "      <td>Pune</td>\n",
       "    </tr>\n",
       "    <tr>\n",
       "      <th>1</th>\n",
       "      <td>Kartik</td>\n",
       "      <td>102</td>\n",
       "      <td>Madurai</td>\n",
       "    </tr>\n",
       "    <tr>\n",
       "      <th>2</th>\n",
       "      <td>Vikash</td>\n",
       "      <td>103</td>\n",
       "      <td>Chennai</td>\n",
       "    </tr>\n",
       "    <tr>\n",
       "      <th>3</th>\n",
       "      <td>Sukesh</td>\n",
       "      <td>104</td>\n",
       "      <td>Dehradun</td>\n",
       "    </tr>\n",
       "    <tr>\n",
       "      <th>4</th>\n",
       "      <td>Deepti</td>\n",
       "      <td>105</td>\n",
       "      <td>Noida</td>\n",
       "    </tr>\n",
       "    <tr>\n",
       "      <th>5</th>\n",
       "      <td>Priti</td>\n",
       "      <td>106</td>\n",
       "      <td>Bengaluru</td>\n",
       "    </tr>\n",
       "    <tr>\n",
       "      <th>6</th>\n",
       "      <td>Pranali</td>\n",
       "      <td>107</td>\n",
       "      <td>Mysuru</td>\n",
       "    </tr>\n",
       "    <tr>\n",
       "      <th>7</th>\n",
       "      <td>Amit</td>\n",
       "      <td>108</td>\n",
       "      <td>Goa</td>\n",
       "    </tr>\n",
       "  </tbody>\n",
       "</table>\n",
       "</div>"
      ],
      "text/plain": [
       "          0    1          2\n",
       "0  Kushagra  101       Pune\n",
       "1    Kartik  102    Madurai\n",
       "2    Vikash  103    Chennai\n",
       "3    Sukesh  104   Dehradun\n",
       "4    Deepti  105      Noida\n",
       "5     Priti  106  Bengaluru\n",
       "6   Pranali  107     Mysuru\n",
       "7      Amit  108        Goa"
      ]
     },
     "execution_count": 395,
     "metadata": {},
     "output_type": "execute_result"
    }
   ],
   "source": [
    "df"
   ]
  },
  {
   "cell_type": "code",
   "execution_count": 397,
   "id": "2d2a563d-ecf0-40cc-b7b6-1f88ada7f16a",
   "metadata": {},
   "outputs": [],
   "source": [
    "df.columns=['Name', 'ID', 'City']"
   ]
  },
  {
   "cell_type": "code",
   "execution_count": 399,
   "id": "936774a6-d524-414c-a2e7-5e622458fd81",
   "metadata": {},
   "outputs": [
    {
     "data": {
      "text/html": [
       "<div>\n",
       "<style scoped>\n",
       "    .dataframe tbody tr th:only-of-type {\n",
       "        vertical-align: middle;\n",
       "    }\n",
       "\n",
       "    .dataframe tbody tr th {\n",
       "        vertical-align: top;\n",
       "    }\n",
       "\n",
       "    .dataframe thead th {\n",
       "        text-align: right;\n",
       "    }\n",
       "</style>\n",
       "<table border=\"1\" class=\"dataframe\">\n",
       "  <thead>\n",
       "    <tr style=\"text-align: right;\">\n",
       "      <th></th>\n",
       "      <th>Name</th>\n",
       "      <th>ID</th>\n",
       "      <th>City</th>\n",
       "    </tr>\n",
       "  </thead>\n",
       "  <tbody>\n",
       "    <tr>\n",
       "      <th>0</th>\n",
       "      <td>Kushagra</td>\n",
       "      <td>101</td>\n",
       "      <td>Pune</td>\n",
       "    </tr>\n",
       "    <tr>\n",
       "      <th>1</th>\n",
       "      <td>Kartik</td>\n",
       "      <td>102</td>\n",
       "      <td>Madurai</td>\n",
       "    </tr>\n",
       "    <tr>\n",
       "      <th>2</th>\n",
       "      <td>Vikash</td>\n",
       "      <td>103</td>\n",
       "      <td>Chennai</td>\n",
       "    </tr>\n",
       "    <tr>\n",
       "      <th>3</th>\n",
       "      <td>Sukesh</td>\n",
       "      <td>104</td>\n",
       "      <td>Dehradun</td>\n",
       "    </tr>\n",
       "    <tr>\n",
       "      <th>4</th>\n",
       "      <td>Deepti</td>\n",
       "      <td>105</td>\n",
       "      <td>Noida</td>\n",
       "    </tr>\n",
       "    <tr>\n",
       "      <th>5</th>\n",
       "      <td>Priti</td>\n",
       "      <td>106</td>\n",
       "      <td>Bengaluru</td>\n",
       "    </tr>\n",
       "    <tr>\n",
       "      <th>6</th>\n",
       "      <td>Pranali</td>\n",
       "      <td>107</td>\n",
       "      <td>Mysuru</td>\n",
       "    </tr>\n",
       "    <tr>\n",
       "      <th>7</th>\n",
       "      <td>Amit</td>\n",
       "      <td>108</td>\n",
       "      <td>Goa</td>\n",
       "    </tr>\n",
       "  </tbody>\n",
       "</table>\n",
       "</div>"
      ],
      "text/plain": [
       "       Name   ID       City\n",
       "0  Kushagra  101       Pune\n",
       "1    Kartik  102    Madurai\n",
       "2    Vikash  103    Chennai\n",
       "3    Sukesh  104   Dehradun\n",
       "4    Deepti  105      Noida\n",
       "5     Priti  106  Bengaluru\n",
       "6   Pranali  107     Mysuru\n",
       "7      Amit  108        Goa"
      ]
     },
     "execution_count": 399,
     "metadata": {},
     "output_type": "execute_result"
    }
   ],
   "source": [
    "df"
   ]
  },
  {
   "cell_type": "code",
   "execution_count": 401,
   "id": "a439a8dc-6d12-47dc-8a51-d10501e94a49",
   "metadata": {},
   "outputs": [
    {
     "name": "stdout",
     "output_type": "stream",
     "text": [
      "[['Kushagra', 101, 'Pune'], ['Kartik', 102, 'Madurai'], ['Vikash', 103, 'Chennai'], ['Sukesh', 104, 'Dehradun']]\n"
     ]
    }
   ],
   "source": [
    "data=[['Kushagra', 101, 'Pune'], ['Kartik', 102, 'Madurai'], ['Vikash', 103, 'Chennai'], ['Sukesh', 104, 'Dehradun']]\n",
    "print(data)"
   ]
  },
  {
   "cell_type": "code",
   "execution_count": 407,
   "id": "fcf2f65e-e4cb-431a-84ef-fcae00a30e5d",
   "metadata": {},
   "outputs": [],
   "source": [
    "df=pd.DataFrame(data, columns=['Name', 'ID', 'City'])"
   ]
  },
  {
   "cell_type": "code",
   "execution_count": 409,
   "id": "22f19090-aaea-4666-9525-9605884bef4b",
   "metadata": {},
   "outputs": [
    {
     "data": {
      "text/html": [
       "<div>\n",
       "<style scoped>\n",
       "    .dataframe tbody tr th:only-of-type {\n",
       "        vertical-align: middle;\n",
       "    }\n",
       "\n",
       "    .dataframe tbody tr th {\n",
       "        vertical-align: top;\n",
       "    }\n",
       "\n",
       "    .dataframe thead th {\n",
       "        text-align: right;\n",
       "    }\n",
       "</style>\n",
       "<table border=\"1\" class=\"dataframe\">\n",
       "  <thead>\n",
       "    <tr style=\"text-align: right;\">\n",
       "      <th></th>\n",
       "      <th>Name</th>\n",
       "      <th>ID</th>\n",
       "      <th>City</th>\n",
       "    </tr>\n",
       "  </thead>\n",
       "  <tbody>\n",
       "    <tr>\n",
       "      <th>0</th>\n",
       "      <td>Kushagra</td>\n",
       "      <td>101</td>\n",
       "      <td>Pune</td>\n",
       "    </tr>\n",
       "    <tr>\n",
       "      <th>1</th>\n",
       "      <td>Kartik</td>\n",
       "      <td>102</td>\n",
       "      <td>Madurai</td>\n",
       "    </tr>\n",
       "    <tr>\n",
       "      <th>2</th>\n",
       "      <td>Vikash</td>\n",
       "      <td>103</td>\n",
       "      <td>Chennai</td>\n",
       "    </tr>\n",
       "    <tr>\n",
       "      <th>3</th>\n",
       "      <td>Sukesh</td>\n",
       "      <td>104</td>\n",
       "      <td>Dehradun</td>\n",
       "    </tr>\n",
       "  </tbody>\n",
       "</table>\n",
       "</div>"
      ],
      "text/plain": [
       "       Name   ID      City\n",
       "0  Kushagra  101      Pune\n",
       "1    Kartik  102   Madurai\n",
       "2    Vikash  103   Chennai\n",
       "3    Sukesh  104  Dehradun"
      ]
     },
     "execution_count": 409,
     "metadata": {},
     "output_type": "execute_result"
    }
   ],
   "source": [
    "df"
   ]
  },
  {
   "cell_type": "markdown",
   "id": "64a18e69-f69a-4a7b-bf82-695bc2b229fa",
   "metadata": {},
   "source": [
    "### Creating a datafrme using Series"
   ]
  },
  {
   "cell_type": "code",
   "execution_count": 425,
   "id": "0d8f60cc-1831-442e-b52f-79575c1a4449",
   "metadata": {},
   "outputs": [],
   "source": [
    "name_ser=pd.Series(names)\n",
    "code_ser=pd.Series(codes)\n",
    "city_ser=pd.Series(city)"
   ]
  },
  {
   "cell_type": "code",
   "execution_count": 427,
   "id": "661c8c57-935e-46ca-b3e7-d189888884c1",
   "metadata": {},
   "outputs": [
    {
     "data": {
      "text/plain": [
       "0    Kushagra\n",
       "1      Kartik\n",
       "2      Vikash\n",
       "3      Sukesh\n",
       "4      Deepti\n",
       "5       Priti\n",
       "6     Pranali\n",
       "7        Amit\n",
       "dtype: object"
      ]
     },
     "execution_count": 427,
     "metadata": {},
     "output_type": "execute_result"
    }
   ],
   "source": [
    "name_ser"
   ]
  },
  {
   "cell_type": "code",
   "execution_count": 429,
   "id": "ac2751dd-c39e-4df1-ae8f-09aabd8b2ca8",
   "metadata": {},
   "outputs": [
    {
     "data": {
      "text/plain": [
       "0    101\n",
       "1    102\n",
       "2    103\n",
       "3    104\n",
       "4    105\n",
       "5    106\n",
       "6    107\n",
       "7    108\n",
       "dtype: int64"
      ]
     },
     "execution_count": 429,
     "metadata": {},
     "output_type": "execute_result"
    }
   ],
   "source": [
    "code_ser"
   ]
  },
  {
   "cell_type": "code",
   "execution_count": 431,
   "id": "5ce88e82-db6f-439d-bb6e-598de044a510",
   "metadata": {},
   "outputs": [
    {
     "data": {
      "text/plain": [
       "0         Pune\n",
       "1      Madurai\n",
       "2      Chennai\n",
       "3     Dehradun\n",
       "4        Noida\n",
       "5    Bengaluru\n",
       "6       Mysuru\n",
       "7          Goa\n",
       "dtype: object"
      ]
     },
     "execution_count": 431,
     "metadata": {},
     "output_type": "execute_result"
    }
   ],
   "source": [
    "city_ser"
   ]
  },
  {
   "cell_type": "code",
   "execution_count": 435,
   "id": "f9c00f2e-3de4-400e-b92c-dff097f80018",
   "metadata": {},
   "outputs": [],
   "source": [
    "data=[name_ser, code_ser, city_ser]"
   ]
  },
  {
   "cell_type": "code",
   "execution_count": 438,
   "id": "6d5aacd4-287a-469a-8b92-0751983d4d86",
   "metadata": {},
   "outputs": [
    {
     "data": {
      "text/plain": [
       "[0    Kushagra\n",
       " 1      Kartik\n",
       " 2      Vikash\n",
       " 3      Sukesh\n",
       " 4      Deepti\n",
       " 5       Priti\n",
       " 6     Pranali\n",
       " 7        Amit\n",
       " dtype: object,\n",
       " 0    101\n",
       " 1    102\n",
       " 2    103\n",
       " 3    104\n",
       " 4    105\n",
       " 5    106\n",
       " 6    107\n",
       " 7    108\n",
       " dtype: int64,\n",
       " 0         Pune\n",
       " 1      Madurai\n",
       " 2      Chennai\n",
       " 3     Dehradun\n",
       " 4        Noida\n",
       " 5    Bengaluru\n",
       " 6       Mysuru\n",
       " 7          Goa\n",
       " dtype: object]"
      ]
     },
     "execution_count": 438,
     "metadata": {},
     "output_type": "execute_result"
    }
   ],
   "source": [
    "data"
   ]
  },
  {
   "cell_type": "code",
   "execution_count": 444,
   "id": "90ae2ed5-0b31-49ef-a0a4-51d9ce893afd",
   "metadata": {},
   "outputs": [],
   "source": [
    "df=pd.DataFrame(data).T"
   ]
  },
  {
   "cell_type": "code",
   "execution_count": 446,
   "id": "09e7ccb9-e8c0-4714-8820-5727788ab69b",
   "metadata": {},
   "outputs": [
    {
     "data": {
      "text/html": [
       "<div>\n",
       "<style scoped>\n",
       "    .dataframe tbody tr th:only-of-type {\n",
       "        vertical-align: middle;\n",
       "    }\n",
       "\n",
       "    .dataframe tbody tr th {\n",
       "        vertical-align: top;\n",
       "    }\n",
       "\n",
       "    .dataframe thead th {\n",
       "        text-align: right;\n",
       "    }\n",
       "</style>\n",
       "<table border=\"1\" class=\"dataframe\">\n",
       "  <thead>\n",
       "    <tr style=\"text-align: right;\">\n",
       "      <th></th>\n",
       "      <th>0</th>\n",
       "      <th>1</th>\n",
       "      <th>2</th>\n",
       "    </tr>\n",
       "  </thead>\n",
       "  <tbody>\n",
       "    <tr>\n",
       "      <th>0</th>\n",
       "      <td>Kushagra</td>\n",
       "      <td>101</td>\n",
       "      <td>Pune</td>\n",
       "    </tr>\n",
       "    <tr>\n",
       "      <th>1</th>\n",
       "      <td>Kartik</td>\n",
       "      <td>102</td>\n",
       "      <td>Madurai</td>\n",
       "    </tr>\n",
       "    <tr>\n",
       "      <th>2</th>\n",
       "      <td>Vikash</td>\n",
       "      <td>103</td>\n",
       "      <td>Chennai</td>\n",
       "    </tr>\n",
       "    <tr>\n",
       "      <th>3</th>\n",
       "      <td>Sukesh</td>\n",
       "      <td>104</td>\n",
       "      <td>Dehradun</td>\n",
       "    </tr>\n",
       "    <tr>\n",
       "      <th>4</th>\n",
       "      <td>Deepti</td>\n",
       "      <td>105</td>\n",
       "      <td>Noida</td>\n",
       "    </tr>\n",
       "    <tr>\n",
       "      <th>5</th>\n",
       "      <td>Priti</td>\n",
       "      <td>106</td>\n",
       "      <td>Bengaluru</td>\n",
       "    </tr>\n",
       "    <tr>\n",
       "      <th>6</th>\n",
       "      <td>Pranali</td>\n",
       "      <td>107</td>\n",
       "      <td>Mysuru</td>\n",
       "    </tr>\n",
       "    <tr>\n",
       "      <th>7</th>\n",
       "      <td>Amit</td>\n",
       "      <td>108</td>\n",
       "      <td>Goa</td>\n",
       "    </tr>\n",
       "  </tbody>\n",
       "</table>\n",
       "</div>"
      ],
      "text/plain": [
       "          0    1          2\n",
       "0  Kushagra  101       Pune\n",
       "1    Kartik  102    Madurai\n",
       "2    Vikash  103    Chennai\n",
       "3    Sukesh  104   Dehradun\n",
       "4    Deepti  105      Noida\n",
       "5     Priti  106  Bengaluru\n",
       "6   Pranali  107     Mysuru\n",
       "7      Amit  108        Goa"
      ]
     },
     "execution_count": 446,
     "metadata": {},
     "output_type": "execute_result"
    }
   ],
   "source": [
    "df"
   ]
  },
  {
   "cell_type": "code",
   "execution_count": 448,
   "id": "4774edca-374a-445c-9454-6bd9d8f9a36d",
   "metadata": {},
   "outputs": [],
   "source": [
    "df.columns=['Name','ID','City']"
   ]
  },
  {
   "cell_type": "code",
   "execution_count": 450,
   "id": "bea32392-a749-48cb-a16f-9df36523b1fa",
   "metadata": {},
   "outputs": [
    {
     "data": {
      "text/html": [
       "<div>\n",
       "<style scoped>\n",
       "    .dataframe tbody tr th:only-of-type {\n",
       "        vertical-align: middle;\n",
       "    }\n",
       "\n",
       "    .dataframe tbody tr th {\n",
       "        vertical-align: top;\n",
       "    }\n",
       "\n",
       "    .dataframe thead th {\n",
       "        text-align: right;\n",
       "    }\n",
       "</style>\n",
       "<table border=\"1\" class=\"dataframe\">\n",
       "  <thead>\n",
       "    <tr style=\"text-align: right;\">\n",
       "      <th></th>\n",
       "      <th>Name</th>\n",
       "      <th>ID</th>\n",
       "      <th>City</th>\n",
       "    </tr>\n",
       "  </thead>\n",
       "  <tbody>\n",
       "    <tr>\n",
       "      <th>0</th>\n",
       "      <td>Kushagra</td>\n",
       "      <td>101</td>\n",
       "      <td>Pune</td>\n",
       "    </tr>\n",
       "    <tr>\n",
       "      <th>1</th>\n",
       "      <td>Kartik</td>\n",
       "      <td>102</td>\n",
       "      <td>Madurai</td>\n",
       "    </tr>\n",
       "    <tr>\n",
       "      <th>2</th>\n",
       "      <td>Vikash</td>\n",
       "      <td>103</td>\n",
       "      <td>Chennai</td>\n",
       "    </tr>\n",
       "    <tr>\n",
       "      <th>3</th>\n",
       "      <td>Sukesh</td>\n",
       "      <td>104</td>\n",
       "      <td>Dehradun</td>\n",
       "    </tr>\n",
       "    <tr>\n",
       "      <th>4</th>\n",
       "      <td>Deepti</td>\n",
       "      <td>105</td>\n",
       "      <td>Noida</td>\n",
       "    </tr>\n",
       "    <tr>\n",
       "      <th>5</th>\n",
       "      <td>Priti</td>\n",
       "      <td>106</td>\n",
       "      <td>Bengaluru</td>\n",
       "    </tr>\n",
       "    <tr>\n",
       "      <th>6</th>\n",
       "      <td>Pranali</td>\n",
       "      <td>107</td>\n",
       "      <td>Mysuru</td>\n",
       "    </tr>\n",
       "    <tr>\n",
       "      <th>7</th>\n",
       "      <td>Amit</td>\n",
       "      <td>108</td>\n",
       "      <td>Goa</td>\n",
       "    </tr>\n",
       "  </tbody>\n",
       "</table>\n",
       "</div>"
      ],
      "text/plain": [
       "       Name   ID       City\n",
       "0  Kushagra  101       Pune\n",
       "1    Kartik  102    Madurai\n",
       "2    Vikash  103    Chennai\n",
       "3    Sukesh  104   Dehradun\n",
       "4    Deepti  105      Noida\n",
       "5     Priti  106  Bengaluru\n",
       "6   Pranali  107     Mysuru\n",
       "7      Amit  108        Goa"
      ]
     },
     "execution_count": 450,
     "metadata": {},
     "output_type": "execute_result"
    }
   ],
   "source": [
    "df"
   ]
  },
  {
   "cell_type": "code",
   "execution_count": 458,
   "id": "49065bf2-7a4d-4b60-921b-98c1ef26157e",
   "metadata": {},
   "outputs": [],
   "source": [
    "name_ser.name='Name'"
   ]
  },
  {
   "cell_type": "code",
   "execution_count": 460,
   "id": "85a36111-b05f-4c3c-aa75-80643e25528d",
   "metadata": {},
   "outputs": [],
   "source": [
    "code_ser.name='ID'"
   ]
  },
  {
   "cell_type": "code",
   "execution_count": 462,
   "id": "c4880bad-74c1-4e99-8fa4-e1a93e445608",
   "metadata": {},
   "outputs": [],
   "source": [
    "city_ser.name='City'"
   ]
  },
  {
   "cell_type": "code",
   "execution_count": 464,
   "id": "2b6e3f62-b32d-4789-8905-a5a5dedc868f",
   "metadata": {},
   "outputs": [
    {
     "data": {
      "text/plain": [
       "0    Kushagra\n",
       "1      Kartik\n",
       "2      Vikash\n",
       "3      Sukesh\n",
       "4      Deepti\n",
       "5       Priti\n",
       "6     Pranali\n",
       "7        Amit\n",
       "Name: Name, dtype: object"
      ]
     },
     "execution_count": 464,
     "metadata": {},
     "output_type": "execute_result"
    }
   ],
   "source": [
    "name_ser"
   ]
  },
  {
   "cell_type": "code",
   "execution_count": 466,
   "id": "7920d8b1-11fb-4857-bc81-beddda8febaa",
   "metadata": {},
   "outputs": [
    {
     "data": {
      "text/plain": [
       "0    101\n",
       "1    102\n",
       "2    103\n",
       "3    104\n",
       "4    105\n",
       "5    106\n",
       "6    107\n",
       "7    108\n",
       "Name: ID, dtype: int64"
      ]
     },
     "execution_count": 466,
     "metadata": {},
     "output_type": "execute_result"
    }
   ],
   "source": [
    "code_ser"
   ]
  },
  {
   "cell_type": "code",
   "execution_count": 468,
   "id": "465547bd-27de-4e5c-93b2-d838d0bb5c0f",
   "metadata": {},
   "outputs": [
    {
     "data": {
      "text/plain": [
       "0         Pune\n",
       "1      Madurai\n",
       "2      Chennai\n",
       "3     Dehradun\n",
       "4        Noida\n",
       "5    Bengaluru\n",
       "6       Mysuru\n",
       "7          Goa\n",
       "Name: City, dtype: object"
      ]
     },
     "execution_count": 468,
     "metadata": {},
     "output_type": "execute_result"
    }
   ],
   "source": [
    "city_ser"
   ]
  },
  {
   "cell_type": "code",
   "execution_count": 472,
   "id": "178d7a05-6fff-45b4-8288-5305aefa16bd",
   "metadata": {},
   "outputs": [],
   "source": [
    "data=[name_ser, code_ser, city_ser]"
   ]
  },
  {
   "cell_type": "code",
   "execution_count": 478,
   "id": "95b080c3-f9b7-40a4-be78-341c8c6e3c9f",
   "metadata": {},
   "outputs": [],
   "source": [
    "df=pd.DataFrame(data).T"
   ]
  },
  {
   "cell_type": "code",
   "execution_count": 480,
   "id": "3b84e726-5cca-4407-a511-2fdecc93a26f",
   "metadata": {},
   "outputs": [
    {
     "data": {
      "text/html": [
       "<div>\n",
       "<style scoped>\n",
       "    .dataframe tbody tr th:only-of-type {\n",
       "        vertical-align: middle;\n",
       "    }\n",
       "\n",
       "    .dataframe tbody tr th {\n",
       "        vertical-align: top;\n",
       "    }\n",
       "\n",
       "    .dataframe thead th {\n",
       "        text-align: right;\n",
       "    }\n",
       "</style>\n",
       "<table border=\"1\" class=\"dataframe\">\n",
       "  <thead>\n",
       "    <tr style=\"text-align: right;\">\n",
       "      <th></th>\n",
       "      <th>Name</th>\n",
       "      <th>ID</th>\n",
       "      <th>City</th>\n",
       "    </tr>\n",
       "  </thead>\n",
       "  <tbody>\n",
       "    <tr>\n",
       "      <th>0</th>\n",
       "      <td>Kushagra</td>\n",
       "      <td>101</td>\n",
       "      <td>Pune</td>\n",
       "    </tr>\n",
       "    <tr>\n",
       "      <th>1</th>\n",
       "      <td>Kartik</td>\n",
       "      <td>102</td>\n",
       "      <td>Madurai</td>\n",
       "    </tr>\n",
       "    <tr>\n",
       "      <th>2</th>\n",
       "      <td>Vikash</td>\n",
       "      <td>103</td>\n",
       "      <td>Chennai</td>\n",
       "    </tr>\n",
       "    <tr>\n",
       "      <th>3</th>\n",
       "      <td>Sukesh</td>\n",
       "      <td>104</td>\n",
       "      <td>Dehradun</td>\n",
       "    </tr>\n",
       "    <tr>\n",
       "      <th>4</th>\n",
       "      <td>Deepti</td>\n",
       "      <td>105</td>\n",
       "      <td>Noida</td>\n",
       "    </tr>\n",
       "    <tr>\n",
       "      <th>5</th>\n",
       "      <td>Priti</td>\n",
       "      <td>106</td>\n",
       "      <td>Bengaluru</td>\n",
       "    </tr>\n",
       "    <tr>\n",
       "      <th>6</th>\n",
       "      <td>Pranali</td>\n",
       "      <td>107</td>\n",
       "      <td>Mysuru</td>\n",
       "    </tr>\n",
       "    <tr>\n",
       "      <th>7</th>\n",
       "      <td>Amit</td>\n",
       "      <td>108</td>\n",
       "      <td>Goa</td>\n",
       "    </tr>\n",
       "  </tbody>\n",
       "</table>\n",
       "</div>"
      ],
      "text/plain": [
       "       Name   ID       City\n",
       "0  Kushagra  101       Pune\n",
       "1    Kartik  102    Madurai\n",
       "2    Vikash  103    Chennai\n",
       "3    Sukesh  104   Dehradun\n",
       "4    Deepti  105      Noida\n",
       "5     Priti  106  Bengaluru\n",
       "6   Pranali  107     Mysuru\n",
       "7      Amit  108        Goa"
      ]
     },
     "execution_count": 480,
     "metadata": {},
     "output_type": "execute_result"
    }
   ],
   "source": [
    "df"
   ]
  },
  {
   "cell_type": "markdown",
   "id": "10a483f4-d28d-44aa-9b33-1cd60ab86710",
   "metadata": {},
   "source": [
    "### By using a dictionary"
   ]
  },
  {
   "cell_type": "code",
   "execution_count": 483,
   "id": "06f586e9-1873-4fca-a39d-d5455656ada3",
   "metadata": {},
   "outputs": [],
   "source": [
    "# - The keys become the column headers.\n",
    "# - The values become the values."
   ]
  },
  {
   "cell_type": "code",
   "execution_count": 493,
   "id": "142bb452-411e-47f3-9245-83ff9748fe5e",
   "metadata": {},
   "outputs": [],
   "source": [
    "data={'Name':names, 'ID':codes, 'City':city}"
   ]
  },
  {
   "cell_type": "code",
   "execution_count": 495,
   "id": "75f31de8-d5a4-493c-95df-fb981c11a8c9",
   "metadata": {},
   "outputs": [
    {
     "data": {
      "text/plain": [
       "['Kushagra',\n",
       " 'Kartik',\n",
       " 'Vikash',\n",
       " 'Sukesh',\n",
       " 'Deepti',\n",
       " 'Priti',\n",
       " 'Pranali',\n",
       " 'Amit']"
      ]
     },
     "execution_count": 495,
     "metadata": {},
     "output_type": "execute_result"
    }
   ],
   "source": [
    "data['Name']"
   ]
  },
  {
   "cell_type": "code",
   "execution_count": 497,
   "id": "39ca3a2f-825d-4a00-9e5a-3c1c00ec710d",
   "metadata": {},
   "outputs": [
    {
     "data": {
      "text/plain": [
       "['Pune',\n",
       " 'Madurai',\n",
       " 'Chennai',\n",
       " 'Dehradun',\n",
       " 'Noida',\n",
       " 'Bengaluru',\n",
       " 'Mysuru',\n",
       " 'Goa']"
      ]
     },
     "execution_count": 497,
     "metadata": {},
     "output_type": "execute_result"
    }
   ],
   "source": [
    "data['City']"
   ]
  },
  {
   "cell_type": "code",
   "execution_count": 499,
   "id": "de2e5b07-351d-4807-900d-665dc6dd6d50",
   "metadata": {},
   "outputs": [
    {
     "data": {
      "text/plain": [
       "[101, 102, 103, 104, 105, 106, 107, 108]"
      ]
     },
     "execution_count": 499,
     "metadata": {},
     "output_type": "execute_result"
    }
   ],
   "source": [
    "data['ID']"
   ]
  },
  {
   "cell_type": "code",
   "execution_count": 503,
   "id": "8c5f3bc3-1e1d-4534-86d4-3cd22a944e94",
   "metadata": {},
   "outputs": [],
   "source": [
    "df=pd.DataFrame(data)"
   ]
  },
  {
   "cell_type": "code",
   "execution_count": 505,
   "id": "9246c03f-dc38-472d-8205-325ab70094aa",
   "metadata": {},
   "outputs": [
    {
     "data": {
      "text/html": [
       "<div>\n",
       "<style scoped>\n",
       "    .dataframe tbody tr th:only-of-type {\n",
       "        vertical-align: middle;\n",
       "    }\n",
       "\n",
       "    .dataframe tbody tr th {\n",
       "        vertical-align: top;\n",
       "    }\n",
       "\n",
       "    .dataframe thead th {\n",
       "        text-align: right;\n",
       "    }\n",
       "</style>\n",
       "<table border=\"1\" class=\"dataframe\">\n",
       "  <thead>\n",
       "    <tr style=\"text-align: right;\">\n",
       "      <th></th>\n",
       "      <th>Name</th>\n",
       "      <th>ID</th>\n",
       "      <th>City</th>\n",
       "    </tr>\n",
       "  </thead>\n",
       "  <tbody>\n",
       "    <tr>\n",
       "      <th>0</th>\n",
       "      <td>Kushagra</td>\n",
       "      <td>101</td>\n",
       "      <td>Pune</td>\n",
       "    </tr>\n",
       "    <tr>\n",
       "      <th>1</th>\n",
       "      <td>Kartik</td>\n",
       "      <td>102</td>\n",
       "      <td>Madurai</td>\n",
       "    </tr>\n",
       "    <tr>\n",
       "      <th>2</th>\n",
       "      <td>Vikash</td>\n",
       "      <td>103</td>\n",
       "      <td>Chennai</td>\n",
       "    </tr>\n",
       "    <tr>\n",
       "      <th>3</th>\n",
       "      <td>Sukesh</td>\n",
       "      <td>104</td>\n",
       "      <td>Dehradun</td>\n",
       "    </tr>\n",
       "    <tr>\n",
       "      <th>4</th>\n",
       "      <td>Deepti</td>\n",
       "      <td>105</td>\n",
       "      <td>Noida</td>\n",
       "    </tr>\n",
       "    <tr>\n",
       "      <th>5</th>\n",
       "      <td>Priti</td>\n",
       "      <td>106</td>\n",
       "      <td>Bengaluru</td>\n",
       "    </tr>\n",
       "    <tr>\n",
       "      <th>6</th>\n",
       "      <td>Pranali</td>\n",
       "      <td>107</td>\n",
       "      <td>Mysuru</td>\n",
       "    </tr>\n",
       "    <tr>\n",
       "      <th>7</th>\n",
       "      <td>Amit</td>\n",
       "      <td>108</td>\n",
       "      <td>Goa</td>\n",
       "    </tr>\n",
       "  </tbody>\n",
       "</table>\n",
       "</div>"
      ],
      "text/plain": [
       "       Name   ID       City\n",
       "0  Kushagra  101       Pune\n",
       "1    Kartik  102    Madurai\n",
       "2    Vikash  103    Chennai\n",
       "3    Sukesh  104   Dehradun\n",
       "4    Deepti  105      Noida\n",
       "5     Priti  106  Bengaluru\n",
       "6   Pranali  107     Mysuru\n",
       "7      Amit  108        Goa"
      ]
     },
     "execution_count": 505,
     "metadata": {},
     "output_type": "execute_result"
    }
   ],
   "source": [
    "df"
   ]
  },
  {
   "cell_type": "code",
   "execution_count": 507,
   "id": "ae7e5936-2fbf-4af6-b5bd-5171e2f9b7ed",
   "metadata": {},
   "outputs": [],
   "source": [
    "# - When we create a dataframe using dictionary then we can change the column order.\n",
    "# - We can also add new columns."
   ]
  },
  {
   "cell_type": "code",
   "execution_count": 511,
   "id": "358c0993-5150-48dc-90ba-c2eac6b2e7bd",
   "metadata": {},
   "outputs": [
    {
     "data": {
      "text/html": [
       "<div>\n",
       "<style scoped>\n",
       "    .dataframe tbody tr th:only-of-type {\n",
       "        vertical-align: middle;\n",
       "    }\n",
       "\n",
       "    .dataframe tbody tr th {\n",
       "        vertical-align: top;\n",
       "    }\n",
       "\n",
       "    .dataframe thead th {\n",
       "        text-align: right;\n",
       "    }\n",
       "</style>\n",
       "<table border=\"1\" class=\"dataframe\">\n",
       "  <thead>\n",
       "    <tr style=\"text-align: right;\">\n",
       "      <th></th>\n",
       "      <th>ID</th>\n",
       "      <th>Name</th>\n",
       "      <th>City</th>\n",
       "    </tr>\n",
       "  </thead>\n",
       "  <tbody>\n",
       "    <tr>\n",
       "      <th>0</th>\n",
       "      <td>101</td>\n",
       "      <td>Kushagra</td>\n",
       "      <td>Pune</td>\n",
       "    </tr>\n",
       "    <tr>\n",
       "      <th>1</th>\n",
       "      <td>102</td>\n",
       "      <td>Kartik</td>\n",
       "      <td>Madurai</td>\n",
       "    </tr>\n",
       "    <tr>\n",
       "      <th>2</th>\n",
       "      <td>103</td>\n",
       "      <td>Vikash</td>\n",
       "      <td>Chennai</td>\n",
       "    </tr>\n",
       "    <tr>\n",
       "      <th>3</th>\n",
       "      <td>104</td>\n",
       "      <td>Sukesh</td>\n",
       "      <td>Dehradun</td>\n",
       "    </tr>\n",
       "    <tr>\n",
       "      <th>4</th>\n",
       "      <td>105</td>\n",
       "      <td>Deepti</td>\n",
       "      <td>Noida</td>\n",
       "    </tr>\n",
       "    <tr>\n",
       "      <th>5</th>\n",
       "      <td>106</td>\n",
       "      <td>Priti</td>\n",
       "      <td>Bengaluru</td>\n",
       "    </tr>\n",
       "    <tr>\n",
       "      <th>6</th>\n",
       "      <td>107</td>\n",
       "      <td>Pranali</td>\n",
       "      <td>Mysuru</td>\n",
       "    </tr>\n",
       "    <tr>\n",
       "      <th>7</th>\n",
       "      <td>108</td>\n",
       "      <td>Amit</td>\n",
       "      <td>Goa</td>\n",
       "    </tr>\n",
       "  </tbody>\n",
       "</table>\n",
       "</div>"
      ],
      "text/plain": [
       "    ID      Name       City\n",
       "0  101  Kushagra       Pune\n",
       "1  102    Kartik    Madurai\n",
       "2  103    Vikash    Chennai\n",
       "3  104    Sukesh   Dehradun\n",
       "4  105    Deepti      Noida\n",
       "5  106     Priti  Bengaluru\n",
       "6  107   Pranali     Mysuru\n",
       "7  108      Amit        Goa"
      ]
     },
     "execution_count": 511,
     "metadata": {},
     "output_type": "execute_result"
    }
   ],
   "source": [
    "pd.DataFrame(data, columns=['ID', 'Name','City'])"
   ]
  },
  {
   "cell_type": "code",
   "execution_count": 517,
   "id": "d74da271-b859-4765-987a-72c14d279e1c",
   "metadata": {},
   "outputs": [],
   "source": [
    "df=pd.DataFrame(data, columns=['ID','Name','City','Company','Salary'])"
   ]
  },
  {
   "cell_type": "code",
   "execution_count": 519,
   "id": "4a2d6270-d973-4635-9bf8-174d50f103fe",
   "metadata": {},
   "outputs": [
    {
     "data": {
      "text/html": [
       "<div>\n",
       "<style scoped>\n",
       "    .dataframe tbody tr th:only-of-type {\n",
       "        vertical-align: middle;\n",
       "    }\n",
       "\n",
       "    .dataframe tbody tr th {\n",
       "        vertical-align: top;\n",
       "    }\n",
       "\n",
       "    .dataframe thead th {\n",
       "        text-align: right;\n",
       "    }\n",
       "</style>\n",
       "<table border=\"1\" class=\"dataframe\">\n",
       "  <thead>\n",
       "    <tr style=\"text-align: right;\">\n",
       "      <th></th>\n",
       "      <th>ID</th>\n",
       "      <th>Name</th>\n",
       "      <th>City</th>\n",
       "      <th>Company</th>\n",
       "      <th>Salary</th>\n",
       "    </tr>\n",
       "  </thead>\n",
       "  <tbody>\n",
       "    <tr>\n",
       "      <th>0</th>\n",
       "      <td>101</td>\n",
       "      <td>Kushagra</td>\n",
       "      <td>Pune</td>\n",
       "      <td>NaN</td>\n",
       "      <td>NaN</td>\n",
       "    </tr>\n",
       "    <tr>\n",
       "      <th>1</th>\n",
       "      <td>102</td>\n",
       "      <td>Kartik</td>\n",
       "      <td>Madurai</td>\n",
       "      <td>NaN</td>\n",
       "      <td>NaN</td>\n",
       "    </tr>\n",
       "    <tr>\n",
       "      <th>2</th>\n",
       "      <td>103</td>\n",
       "      <td>Vikash</td>\n",
       "      <td>Chennai</td>\n",
       "      <td>NaN</td>\n",
       "      <td>NaN</td>\n",
       "    </tr>\n",
       "    <tr>\n",
       "      <th>3</th>\n",
       "      <td>104</td>\n",
       "      <td>Sukesh</td>\n",
       "      <td>Dehradun</td>\n",
       "      <td>NaN</td>\n",
       "      <td>NaN</td>\n",
       "    </tr>\n",
       "    <tr>\n",
       "      <th>4</th>\n",
       "      <td>105</td>\n",
       "      <td>Deepti</td>\n",
       "      <td>Noida</td>\n",
       "      <td>NaN</td>\n",
       "      <td>NaN</td>\n",
       "    </tr>\n",
       "    <tr>\n",
       "      <th>5</th>\n",
       "      <td>106</td>\n",
       "      <td>Priti</td>\n",
       "      <td>Bengaluru</td>\n",
       "      <td>NaN</td>\n",
       "      <td>NaN</td>\n",
       "    </tr>\n",
       "    <tr>\n",
       "      <th>6</th>\n",
       "      <td>107</td>\n",
       "      <td>Pranali</td>\n",
       "      <td>Mysuru</td>\n",
       "      <td>NaN</td>\n",
       "      <td>NaN</td>\n",
       "    </tr>\n",
       "    <tr>\n",
       "      <th>7</th>\n",
       "      <td>108</td>\n",
       "      <td>Amit</td>\n",
       "      <td>Goa</td>\n",
       "      <td>NaN</td>\n",
       "      <td>NaN</td>\n",
       "    </tr>\n",
       "  </tbody>\n",
       "</table>\n",
       "</div>"
      ],
      "text/plain": [
       "    ID      Name       City Company Salary\n",
       "0  101  Kushagra       Pune     NaN    NaN\n",
       "1  102    Kartik    Madurai     NaN    NaN\n",
       "2  103    Vikash    Chennai     NaN    NaN\n",
       "3  104    Sukesh   Dehradun     NaN    NaN\n",
       "4  105    Deepti      Noida     NaN    NaN\n",
       "5  106     Priti  Bengaluru     NaN    NaN\n",
       "6  107   Pranali     Mysuru     NaN    NaN\n",
       "7  108      Amit        Goa     NaN    NaN"
      ]
     },
     "execution_count": 519,
     "metadata": {},
     "output_type": "execute_result"
    }
   ],
   "source": [
    "df"
   ]
  },
  {
   "cell_type": "code",
   "execution_count": 521,
   "id": "6722cfa4-8da4-41f1-afa5-982d7ee921df",
   "metadata": {},
   "outputs": [],
   "source": [
    "df['Company']='TCS'"
   ]
  },
  {
   "cell_type": "code",
   "execution_count": 523,
   "id": "51bdd3a5-705c-4d84-ac23-fbc88f1a96e5",
   "metadata": {},
   "outputs": [
    {
     "data": {
      "text/html": [
       "<div>\n",
       "<style scoped>\n",
       "    .dataframe tbody tr th:only-of-type {\n",
       "        vertical-align: middle;\n",
       "    }\n",
       "\n",
       "    .dataframe tbody tr th {\n",
       "        vertical-align: top;\n",
       "    }\n",
       "\n",
       "    .dataframe thead th {\n",
       "        text-align: right;\n",
       "    }\n",
       "</style>\n",
       "<table border=\"1\" class=\"dataframe\">\n",
       "  <thead>\n",
       "    <tr style=\"text-align: right;\">\n",
       "      <th></th>\n",
       "      <th>ID</th>\n",
       "      <th>Name</th>\n",
       "      <th>City</th>\n",
       "      <th>Company</th>\n",
       "      <th>Salary</th>\n",
       "    </tr>\n",
       "  </thead>\n",
       "  <tbody>\n",
       "    <tr>\n",
       "      <th>0</th>\n",
       "      <td>101</td>\n",
       "      <td>Kushagra</td>\n",
       "      <td>Pune</td>\n",
       "      <td>TCS</td>\n",
       "      <td>NaN</td>\n",
       "    </tr>\n",
       "    <tr>\n",
       "      <th>1</th>\n",
       "      <td>102</td>\n",
       "      <td>Kartik</td>\n",
       "      <td>Madurai</td>\n",
       "      <td>TCS</td>\n",
       "      <td>NaN</td>\n",
       "    </tr>\n",
       "    <tr>\n",
       "      <th>2</th>\n",
       "      <td>103</td>\n",
       "      <td>Vikash</td>\n",
       "      <td>Chennai</td>\n",
       "      <td>TCS</td>\n",
       "      <td>NaN</td>\n",
       "    </tr>\n",
       "    <tr>\n",
       "      <th>3</th>\n",
       "      <td>104</td>\n",
       "      <td>Sukesh</td>\n",
       "      <td>Dehradun</td>\n",
       "      <td>TCS</td>\n",
       "      <td>NaN</td>\n",
       "    </tr>\n",
       "    <tr>\n",
       "      <th>4</th>\n",
       "      <td>105</td>\n",
       "      <td>Deepti</td>\n",
       "      <td>Noida</td>\n",
       "      <td>TCS</td>\n",
       "      <td>NaN</td>\n",
       "    </tr>\n",
       "    <tr>\n",
       "      <th>5</th>\n",
       "      <td>106</td>\n",
       "      <td>Priti</td>\n",
       "      <td>Bengaluru</td>\n",
       "      <td>TCS</td>\n",
       "      <td>NaN</td>\n",
       "    </tr>\n",
       "    <tr>\n",
       "      <th>6</th>\n",
       "      <td>107</td>\n",
       "      <td>Pranali</td>\n",
       "      <td>Mysuru</td>\n",
       "      <td>TCS</td>\n",
       "      <td>NaN</td>\n",
       "    </tr>\n",
       "    <tr>\n",
       "      <th>7</th>\n",
       "      <td>108</td>\n",
       "      <td>Amit</td>\n",
       "      <td>Goa</td>\n",
       "      <td>TCS</td>\n",
       "      <td>NaN</td>\n",
       "    </tr>\n",
       "  </tbody>\n",
       "</table>\n",
       "</div>"
      ],
      "text/plain": [
       "    ID      Name       City Company Salary\n",
       "0  101  Kushagra       Pune     TCS    NaN\n",
       "1  102    Kartik    Madurai     TCS    NaN\n",
       "2  103    Vikash    Chennai     TCS    NaN\n",
       "3  104    Sukesh   Dehradun     TCS    NaN\n",
       "4  105    Deepti      Noida     TCS    NaN\n",
       "5  106     Priti  Bengaluru     TCS    NaN\n",
       "6  107   Pranali     Mysuru     TCS    NaN\n",
       "7  108      Amit        Goa     TCS    NaN"
      ]
     },
     "execution_count": 523,
     "metadata": {},
     "output_type": "execute_result"
    }
   ],
   "source": [
    "df"
   ]
  },
  {
   "cell_type": "code",
   "execution_count": 525,
   "id": "6957b83e-4d60-4f79-aa5b-21d4f43693f7",
   "metadata": {},
   "outputs": [],
   "source": [
    "df['Salary']='Not-Disclosed'"
   ]
  },
  {
   "cell_type": "code",
   "execution_count": 527,
   "id": "afc2c317-266b-4e9a-8059-54e9ad0ecfdd",
   "metadata": {},
   "outputs": [
    {
     "data": {
      "text/html": [
       "<div>\n",
       "<style scoped>\n",
       "    .dataframe tbody tr th:only-of-type {\n",
       "        vertical-align: middle;\n",
       "    }\n",
       "\n",
       "    .dataframe tbody tr th {\n",
       "        vertical-align: top;\n",
       "    }\n",
       "\n",
       "    .dataframe thead th {\n",
       "        text-align: right;\n",
       "    }\n",
       "</style>\n",
       "<table border=\"1\" class=\"dataframe\">\n",
       "  <thead>\n",
       "    <tr style=\"text-align: right;\">\n",
       "      <th></th>\n",
       "      <th>ID</th>\n",
       "      <th>Name</th>\n",
       "      <th>City</th>\n",
       "      <th>Company</th>\n",
       "      <th>Salary</th>\n",
       "    </tr>\n",
       "  </thead>\n",
       "  <tbody>\n",
       "    <tr>\n",
       "      <th>0</th>\n",
       "      <td>101</td>\n",
       "      <td>Kushagra</td>\n",
       "      <td>Pune</td>\n",
       "      <td>TCS</td>\n",
       "      <td>Not-Disclosed</td>\n",
       "    </tr>\n",
       "    <tr>\n",
       "      <th>1</th>\n",
       "      <td>102</td>\n",
       "      <td>Kartik</td>\n",
       "      <td>Madurai</td>\n",
       "      <td>TCS</td>\n",
       "      <td>Not-Disclosed</td>\n",
       "    </tr>\n",
       "    <tr>\n",
       "      <th>2</th>\n",
       "      <td>103</td>\n",
       "      <td>Vikash</td>\n",
       "      <td>Chennai</td>\n",
       "      <td>TCS</td>\n",
       "      <td>Not-Disclosed</td>\n",
       "    </tr>\n",
       "    <tr>\n",
       "      <th>3</th>\n",
       "      <td>104</td>\n",
       "      <td>Sukesh</td>\n",
       "      <td>Dehradun</td>\n",
       "      <td>TCS</td>\n",
       "      <td>Not-Disclosed</td>\n",
       "    </tr>\n",
       "    <tr>\n",
       "      <th>4</th>\n",
       "      <td>105</td>\n",
       "      <td>Deepti</td>\n",
       "      <td>Noida</td>\n",
       "      <td>TCS</td>\n",
       "      <td>Not-Disclosed</td>\n",
       "    </tr>\n",
       "    <tr>\n",
       "      <th>5</th>\n",
       "      <td>106</td>\n",
       "      <td>Priti</td>\n",
       "      <td>Bengaluru</td>\n",
       "      <td>TCS</td>\n",
       "      <td>Not-Disclosed</td>\n",
       "    </tr>\n",
       "    <tr>\n",
       "      <th>6</th>\n",
       "      <td>107</td>\n",
       "      <td>Pranali</td>\n",
       "      <td>Mysuru</td>\n",
       "      <td>TCS</td>\n",
       "      <td>Not-Disclosed</td>\n",
       "    </tr>\n",
       "    <tr>\n",
       "      <th>7</th>\n",
       "      <td>108</td>\n",
       "      <td>Amit</td>\n",
       "      <td>Goa</td>\n",
       "      <td>TCS</td>\n",
       "      <td>Not-Disclosed</td>\n",
       "    </tr>\n",
       "  </tbody>\n",
       "</table>\n",
       "</div>"
      ],
      "text/plain": [
       "    ID      Name       City Company         Salary\n",
       "0  101  Kushagra       Pune     TCS  Not-Disclosed\n",
       "1  102    Kartik    Madurai     TCS  Not-Disclosed\n",
       "2  103    Vikash    Chennai     TCS  Not-Disclosed\n",
       "3  104    Sukesh   Dehradun     TCS  Not-Disclosed\n",
       "4  105    Deepti      Noida     TCS  Not-Disclosed\n",
       "5  106     Priti  Bengaluru     TCS  Not-Disclosed\n",
       "6  107   Pranali     Mysuru     TCS  Not-Disclosed\n",
       "7  108      Amit        Goa     TCS  Not-Disclosed"
      ]
     },
     "execution_count": 527,
     "metadata": {},
     "output_type": "execute_result"
    }
   ],
   "source": [
    "df"
   ]
  },
  {
   "cell_type": "markdown",
   "id": "36c5aa88-1d1f-483d-916b-f95be9bf2856",
   "metadata": {},
   "source": [
    "# Attributes on a Dataframe"
   ]
  },
  {
   "cell_type": "code",
   "execution_count": 530,
   "id": "33f277bc-56e5-48ed-af1b-e8df55e5baa8",
   "metadata": {},
   "outputs": [],
   "source": [
    "# size\n",
    "# shape\n",
    "# ndim\n",
    "# index\n",
    "# columns\n",
    "# values\n",
    "# dtypes"
   ]
  },
  {
   "cell_type": "markdown",
   "id": "f42a991f-585b-421e-a687-65adcee90eee",
   "metadata": {},
   "source": [
    "### size"
   ]
  },
  {
   "cell_type": "code",
   "execution_count": 533,
   "id": "ad67a257-32a3-4f9c-b5c4-a3662b6d40fe",
   "metadata": {},
   "outputs": [],
   "source": [
    "# - It returns the numebr of elememts a dataframe contains."
   ]
  },
  {
   "cell_type": "code",
   "execution_count": 535,
   "id": "91c8e862-0135-4040-8838-64d3fa64a896",
   "metadata": {},
   "outputs": [
    {
     "data": {
      "text/html": [
       "<div>\n",
       "<style scoped>\n",
       "    .dataframe tbody tr th:only-of-type {\n",
       "        vertical-align: middle;\n",
       "    }\n",
       "\n",
       "    .dataframe tbody tr th {\n",
       "        vertical-align: top;\n",
       "    }\n",
       "\n",
       "    .dataframe thead th {\n",
       "        text-align: right;\n",
       "    }\n",
       "</style>\n",
       "<table border=\"1\" class=\"dataframe\">\n",
       "  <thead>\n",
       "    <tr style=\"text-align: right;\">\n",
       "      <th></th>\n",
       "      <th>ID</th>\n",
       "      <th>Name</th>\n",
       "      <th>City</th>\n",
       "      <th>Company</th>\n",
       "      <th>Salary</th>\n",
       "    </tr>\n",
       "  </thead>\n",
       "  <tbody>\n",
       "    <tr>\n",
       "      <th>0</th>\n",
       "      <td>101</td>\n",
       "      <td>Kushagra</td>\n",
       "      <td>Pune</td>\n",
       "      <td>TCS</td>\n",
       "      <td>Not-Disclosed</td>\n",
       "    </tr>\n",
       "    <tr>\n",
       "      <th>1</th>\n",
       "      <td>102</td>\n",
       "      <td>Kartik</td>\n",
       "      <td>Madurai</td>\n",
       "      <td>TCS</td>\n",
       "      <td>Not-Disclosed</td>\n",
       "    </tr>\n",
       "    <tr>\n",
       "      <th>2</th>\n",
       "      <td>103</td>\n",
       "      <td>Vikash</td>\n",
       "      <td>Chennai</td>\n",
       "      <td>TCS</td>\n",
       "      <td>Not-Disclosed</td>\n",
       "    </tr>\n",
       "    <tr>\n",
       "      <th>3</th>\n",
       "      <td>104</td>\n",
       "      <td>Sukesh</td>\n",
       "      <td>Dehradun</td>\n",
       "      <td>TCS</td>\n",
       "      <td>Not-Disclosed</td>\n",
       "    </tr>\n",
       "    <tr>\n",
       "      <th>4</th>\n",
       "      <td>105</td>\n",
       "      <td>Deepti</td>\n",
       "      <td>Noida</td>\n",
       "      <td>TCS</td>\n",
       "      <td>Not-Disclosed</td>\n",
       "    </tr>\n",
       "    <tr>\n",
       "      <th>5</th>\n",
       "      <td>106</td>\n",
       "      <td>Priti</td>\n",
       "      <td>Bengaluru</td>\n",
       "      <td>TCS</td>\n",
       "      <td>Not-Disclosed</td>\n",
       "    </tr>\n",
       "    <tr>\n",
       "      <th>6</th>\n",
       "      <td>107</td>\n",
       "      <td>Pranali</td>\n",
       "      <td>Mysuru</td>\n",
       "      <td>TCS</td>\n",
       "      <td>Not-Disclosed</td>\n",
       "    </tr>\n",
       "    <tr>\n",
       "      <th>7</th>\n",
       "      <td>108</td>\n",
       "      <td>Amit</td>\n",
       "      <td>Goa</td>\n",
       "      <td>TCS</td>\n",
       "      <td>Not-Disclosed</td>\n",
       "    </tr>\n",
       "  </tbody>\n",
       "</table>\n",
       "</div>"
      ],
      "text/plain": [
       "    ID      Name       City Company         Salary\n",
       "0  101  Kushagra       Pune     TCS  Not-Disclosed\n",
       "1  102    Kartik    Madurai     TCS  Not-Disclosed\n",
       "2  103    Vikash    Chennai     TCS  Not-Disclosed\n",
       "3  104    Sukesh   Dehradun     TCS  Not-Disclosed\n",
       "4  105    Deepti      Noida     TCS  Not-Disclosed\n",
       "5  106     Priti  Bengaluru     TCS  Not-Disclosed\n",
       "6  107   Pranali     Mysuru     TCS  Not-Disclosed\n",
       "7  108      Amit        Goa     TCS  Not-Disclosed"
      ]
     },
     "execution_count": 535,
     "metadata": {},
     "output_type": "execute_result"
    }
   ],
   "source": [
    "df"
   ]
  },
  {
   "cell_type": "code",
   "execution_count": 537,
   "id": "5acbd097-6814-46a7-8a56-11092cdc12a4",
   "metadata": {},
   "outputs": [
    {
     "data": {
      "text/plain": [
       "40"
      ]
     },
     "execution_count": 537,
     "metadata": {},
     "output_type": "execute_result"
    }
   ],
   "source": [
    "df.size"
   ]
  },
  {
   "cell_type": "code",
   "execution_count": 539,
   "id": "b6e1ec93-6bb2-4fcc-9db8-8268b97e02fb",
   "metadata": {},
   "outputs": [],
   "source": [
    "# len(df) -> It returns the number of rows."
   ]
  },
  {
   "cell_type": "code",
   "execution_count": 541,
   "id": "8f089e91-f3c0-4649-8f10-5c310203cc6c",
   "metadata": {},
   "outputs": [
    {
     "data": {
      "text/plain": [
       "8"
      ]
     },
     "execution_count": 541,
     "metadata": {},
     "output_type": "execute_result"
    }
   ],
   "source": [
    "len(df)"
   ]
  },
  {
   "cell_type": "markdown",
   "id": "5b8d381b-cb44-4319-85bf-12d0e55aa70f",
   "metadata": {},
   "source": [
    "### Sahpe"
   ]
  },
  {
   "cell_type": "code",
   "execution_count": 546,
   "id": "00e494e1-f633-4ba2-9fe4-b3880c159d78",
   "metadata": {},
   "outputs": [],
   "source": [
    "# - It returns a tuple of 2 elements.\n",
    "# - The first element represents the rows, the second element represents the columns."
   ]
  },
  {
   "cell_type": "code",
   "execution_count": 548,
   "id": "a98662a6-2e08-4bad-9660-c2d2d3903ddd",
   "metadata": {},
   "outputs": [
    {
     "data": {
      "text/plain": [
       "(8, 5)"
      ]
     },
     "execution_count": 548,
     "metadata": {},
     "output_type": "execute_result"
    }
   ],
   "source": [
    "df.shape"
   ]
  },
  {
   "cell_type": "markdown",
   "id": "3ed71636-4766-4dba-8635-3818a0096bea",
   "metadata": {},
   "source": [
    "### ndim"
   ]
  },
  {
   "cell_type": "code",
   "execution_count": 553,
   "id": "e55735a4-0512-4fa4-8dc6-885424d2bfd6",
   "metadata": {},
   "outputs": [],
   "source": [
    "# - It returns the dimension of a dataframe i.e. 2"
   ]
  },
  {
   "cell_type": "code",
   "execution_count": 555,
   "id": "d65d7424-a4f1-4837-896d-5883940440e2",
   "metadata": {},
   "outputs": [
    {
     "data": {
      "text/plain": [
       "2"
      ]
     },
     "execution_count": 555,
     "metadata": {},
     "output_type": "execute_result"
    }
   ],
   "source": [
    "df.ndim"
   ]
  },
  {
   "cell_type": "markdown",
   "id": "72f1da03-afed-4c89-8cc4-6b8d2fae647f",
   "metadata": {},
   "source": [
    "### index"
   ]
  },
  {
   "cell_type": "code",
   "execution_count": 560,
   "id": "1fcdb05f-061d-48c0-82b4-18353f8a4d9b",
   "metadata": {},
   "outputs": [],
   "source": [
    "# - A dataframe may have implicit and explicit indexes.\n",
    "\n",
    "# - In case of implicit indexes, it returns the RangeIndex object that contains start, stop and step for row index.\n",
    "# - In case of iexplicit indexes, it returns the Index object that contains a list of row index."
   ]
  },
  {
   "cell_type": "code",
   "execution_count": 562,
   "id": "c3c801c1-befb-45a1-9704-f1f178ec994f",
   "metadata": {},
   "outputs": [
    {
     "data": {
      "text/html": [
       "<div>\n",
       "<style scoped>\n",
       "    .dataframe tbody tr th:only-of-type {\n",
       "        vertical-align: middle;\n",
       "    }\n",
       "\n",
       "    .dataframe tbody tr th {\n",
       "        vertical-align: top;\n",
       "    }\n",
       "\n",
       "    .dataframe thead th {\n",
       "        text-align: right;\n",
       "    }\n",
       "</style>\n",
       "<table border=\"1\" class=\"dataframe\">\n",
       "  <thead>\n",
       "    <tr style=\"text-align: right;\">\n",
       "      <th></th>\n",
       "      <th>ID</th>\n",
       "      <th>Name</th>\n",
       "      <th>City</th>\n",
       "      <th>Company</th>\n",
       "      <th>Salary</th>\n",
       "    </tr>\n",
       "  </thead>\n",
       "  <tbody>\n",
       "    <tr>\n",
       "      <th>0</th>\n",
       "      <td>101</td>\n",
       "      <td>Kushagra</td>\n",
       "      <td>Pune</td>\n",
       "      <td>TCS</td>\n",
       "      <td>Not-Disclosed</td>\n",
       "    </tr>\n",
       "    <tr>\n",
       "      <th>1</th>\n",
       "      <td>102</td>\n",
       "      <td>Kartik</td>\n",
       "      <td>Madurai</td>\n",
       "      <td>TCS</td>\n",
       "      <td>Not-Disclosed</td>\n",
       "    </tr>\n",
       "    <tr>\n",
       "      <th>2</th>\n",
       "      <td>103</td>\n",
       "      <td>Vikash</td>\n",
       "      <td>Chennai</td>\n",
       "      <td>TCS</td>\n",
       "      <td>Not-Disclosed</td>\n",
       "    </tr>\n",
       "    <tr>\n",
       "      <th>3</th>\n",
       "      <td>104</td>\n",
       "      <td>Sukesh</td>\n",
       "      <td>Dehradun</td>\n",
       "      <td>TCS</td>\n",
       "      <td>Not-Disclosed</td>\n",
       "    </tr>\n",
       "    <tr>\n",
       "      <th>4</th>\n",
       "      <td>105</td>\n",
       "      <td>Deepti</td>\n",
       "      <td>Noida</td>\n",
       "      <td>TCS</td>\n",
       "      <td>Not-Disclosed</td>\n",
       "    </tr>\n",
       "    <tr>\n",
       "      <th>5</th>\n",
       "      <td>106</td>\n",
       "      <td>Priti</td>\n",
       "      <td>Bengaluru</td>\n",
       "      <td>TCS</td>\n",
       "      <td>Not-Disclosed</td>\n",
       "    </tr>\n",
       "    <tr>\n",
       "      <th>6</th>\n",
       "      <td>107</td>\n",
       "      <td>Pranali</td>\n",
       "      <td>Mysuru</td>\n",
       "      <td>TCS</td>\n",
       "      <td>Not-Disclosed</td>\n",
       "    </tr>\n",
       "    <tr>\n",
       "      <th>7</th>\n",
       "      <td>108</td>\n",
       "      <td>Amit</td>\n",
       "      <td>Goa</td>\n",
       "      <td>TCS</td>\n",
       "      <td>Not-Disclosed</td>\n",
       "    </tr>\n",
       "  </tbody>\n",
       "</table>\n",
       "</div>"
      ],
      "text/plain": [
       "    ID      Name       City Company         Salary\n",
       "0  101  Kushagra       Pune     TCS  Not-Disclosed\n",
       "1  102    Kartik    Madurai     TCS  Not-Disclosed\n",
       "2  103    Vikash    Chennai     TCS  Not-Disclosed\n",
       "3  104    Sukesh   Dehradun     TCS  Not-Disclosed\n",
       "4  105    Deepti      Noida     TCS  Not-Disclosed\n",
       "5  106     Priti  Bengaluru     TCS  Not-Disclosed\n",
       "6  107   Pranali     Mysuru     TCS  Not-Disclosed\n",
       "7  108      Amit        Goa     TCS  Not-Disclosed"
      ]
     },
     "execution_count": 562,
     "metadata": {},
     "output_type": "execute_result"
    }
   ],
   "source": [
    "df"
   ]
  },
  {
   "cell_type": "code",
   "execution_count": 564,
   "id": "e84f571b-83bb-496b-803c-5b2af77e83b5",
   "metadata": {},
   "outputs": [
    {
     "data": {
      "text/plain": [
       "RangeIndex(start=0, stop=8, step=1)"
      ]
     },
     "execution_count": 564,
     "metadata": {},
     "output_type": "execute_result"
    }
   ],
   "source": [
    "df.index"
   ]
  },
  {
   "cell_type": "code",
   "execution_count": 566,
   "id": "ae654dc2-c417-410e-b5e9-32bc0f6f232f",
   "metadata": {},
   "outputs": [],
   "source": [
    "df.index=list('abcdefgh')"
   ]
  },
  {
   "cell_type": "code",
   "execution_count": 568,
   "id": "ef925861-6a34-4dc3-acdc-bfd52c67f3b6",
   "metadata": {},
   "outputs": [
    {
     "data": {
      "text/html": [
       "<div>\n",
       "<style scoped>\n",
       "    .dataframe tbody tr th:only-of-type {\n",
       "        vertical-align: middle;\n",
       "    }\n",
       "\n",
       "    .dataframe tbody tr th {\n",
       "        vertical-align: top;\n",
       "    }\n",
       "\n",
       "    .dataframe thead th {\n",
       "        text-align: right;\n",
       "    }\n",
       "</style>\n",
       "<table border=\"1\" class=\"dataframe\">\n",
       "  <thead>\n",
       "    <tr style=\"text-align: right;\">\n",
       "      <th></th>\n",
       "      <th>ID</th>\n",
       "      <th>Name</th>\n",
       "      <th>City</th>\n",
       "      <th>Company</th>\n",
       "      <th>Salary</th>\n",
       "    </tr>\n",
       "  </thead>\n",
       "  <tbody>\n",
       "    <tr>\n",
       "      <th>a</th>\n",
       "      <td>101</td>\n",
       "      <td>Kushagra</td>\n",
       "      <td>Pune</td>\n",
       "      <td>TCS</td>\n",
       "      <td>Not-Disclosed</td>\n",
       "    </tr>\n",
       "    <tr>\n",
       "      <th>b</th>\n",
       "      <td>102</td>\n",
       "      <td>Kartik</td>\n",
       "      <td>Madurai</td>\n",
       "      <td>TCS</td>\n",
       "      <td>Not-Disclosed</td>\n",
       "    </tr>\n",
       "    <tr>\n",
       "      <th>c</th>\n",
       "      <td>103</td>\n",
       "      <td>Vikash</td>\n",
       "      <td>Chennai</td>\n",
       "      <td>TCS</td>\n",
       "      <td>Not-Disclosed</td>\n",
       "    </tr>\n",
       "    <tr>\n",
       "      <th>d</th>\n",
       "      <td>104</td>\n",
       "      <td>Sukesh</td>\n",
       "      <td>Dehradun</td>\n",
       "      <td>TCS</td>\n",
       "      <td>Not-Disclosed</td>\n",
       "    </tr>\n",
       "    <tr>\n",
       "      <th>e</th>\n",
       "      <td>105</td>\n",
       "      <td>Deepti</td>\n",
       "      <td>Noida</td>\n",
       "      <td>TCS</td>\n",
       "      <td>Not-Disclosed</td>\n",
       "    </tr>\n",
       "    <tr>\n",
       "      <th>f</th>\n",
       "      <td>106</td>\n",
       "      <td>Priti</td>\n",
       "      <td>Bengaluru</td>\n",
       "      <td>TCS</td>\n",
       "      <td>Not-Disclosed</td>\n",
       "    </tr>\n",
       "    <tr>\n",
       "      <th>g</th>\n",
       "      <td>107</td>\n",
       "      <td>Pranali</td>\n",
       "      <td>Mysuru</td>\n",
       "      <td>TCS</td>\n",
       "      <td>Not-Disclosed</td>\n",
       "    </tr>\n",
       "    <tr>\n",
       "      <th>h</th>\n",
       "      <td>108</td>\n",
       "      <td>Amit</td>\n",
       "      <td>Goa</td>\n",
       "      <td>TCS</td>\n",
       "      <td>Not-Disclosed</td>\n",
       "    </tr>\n",
       "  </tbody>\n",
       "</table>\n",
       "</div>"
      ],
      "text/plain": [
       "    ID      Name       City Company         Salary\n",
       "a  101  Kushagra       Pune     TCS  Not-Disclosed\n",
       "b  102    Kartik    Madurai     TCS  Not-Disclosed\n",
       "c  103    Vikash    Chennai     TCS  Not-Disclosed\n",
       "d  104    Sukesh   Dehradun     TCS  Not-Disclosed\n",
       "e  105    Deepti      Noida     TCS  Not-Disclosed\n",
       "f  106     Priti  Bengaluru     TCS  Not-Disclosed\n",
       "g  107   Pranali     Mysuru     TCS  Not-Disclosed\n",
       "h  108      Amit        Goa     TCS  Not-Disclosed"
      ]
     },
     "execution_count": 568,
     "metadata": {},
     "output_type": "execute_result"
    }
   ],
   "source": [
    "df"
   ]
  },
  {
   "cell_type": "code",
   "execution_count": 572,
   "id": "a3b6a79c-b65f-47a3-966b-91c81d58c18b",
   "metadata": {},
   "outputs": [
    {
     "data": {
      "text/plain": [
       "Index(['a', 'b', 'c', 'd', 'e', 'f', 'g', 'h'], dtype='object')"
      ]
     },
     "execution_count": 572,
     "metadata": {},
     "output_type": "execute_result"
    }
   ],
   "source": [
    "df.index"
   ]
  },
  {
   "cell_type": "markdown",
   "id": "82e46a48-d537-44fc-bde8-843664bfc343",
   "metadata": {},
   "source": [
    "### columns"
   ]
  },
  {
   "cell_type": "code",
   "execution_count": 577,
   "id": "754b6ae5-90f7-44f3-b6f6-805f4daba83d",
   "metadata": {},
   "outputs": [],
   "source": [
    "# - We may have two types of column indexes -> Implicit / Explicit\n",
    "\n",
    "# - In case of implicit indexes, it returns the RangeIndex object that contains start, stop and step for column index.\n",
    "# - In case of iexplicit indexes, it returns the Index object that contains a list of column index."
   ]
  },
  {
   "cell_type": "code",
   "execution_count": 583,
   "id": "9847bb49-983b-4ee7-9876-fd4b3020a95f",
   "metadata": {},
   "outputs": [],
   "source": [
    "df=pd.DataFrame([names, codes, city]).T"
   ]
  },
  {
   "cell_type": "code",
   "execution_count": 585,
   "id": "b934537e-76be-46d5-84c6-f905431e4f37",
   "metadata": {},
   "outputs": [
    {
     "data": {
      "text/html": [
       "<div>\n",
       "<style scoped>\n",
       "    .dataframe tbody tr th:only-of-type {\n",
       "        vertical-align: middle;\n",
       "    }\n",
       "\n",
       "    .dataframe tbody tr th {\n",
       "        vertical-align: top;\n",
       "    }\n",
       "\n",
       "    .dataframe thead th {\n",
       "        text-align: right;\n",
       "    }\n",
       "</style>\n",
       "<table border=\"1\" class=\"dataframe\">\n",
       "  <thead>\n",
       "    <tr style=\"text-align: right;\">\n",
       "      <th></th>\n",
       "      <th>0</th>\n",
       "      <th>1</th>\n",
       "      <th>2</th>\n",
       "    </tr>\n",
       "  </thead>\n",
       "  <tbody>\n",
       "    <tr>\n",
       "      <th>0</th>\n",
       "      <td>Kushagra</td>\n",
       "      <td>101</td>\n",
       "      <td>Pune</td>\n",
       "    </tr>\n",
       "    <tr>\n",
       "      <th>1</th>\n",
       "      <td>Kartik</td>\n",
       "      <td>102</td>\n",
       "      <td>Madurai</td>\n",
       "    </tr>\n",
       "    <tr>\n",
       "      <th>2</th>\n",
       "      <td>Vikash</td>\n",
       "      <td>103</td>\n",
       "      <td>Chennai</td>\n",
       "    </tr>\n",
       "    <tr>\n",
       "      <th>3</th>\n",
       "      <td>Sukesh</td>\n",
       "      <td>104</td>\n",
       "      <td>Dehradun</td>\n",
       "    </tr>\n",
       "    <tr>\n",
       "      <th>4</th>\n",
       "      <td>Deepti</td>\n",
       "      <td>105</td>\n",
       "      <td>Noida</td>\n",
       "    </tr>\n",
       "    <tr>\n",
       "      <th>5</th>\n",
       "      <td>Priti</td>\n",
       "      <td>106</td>\n",
       "      <td>Bengaluru</td>\n",
       "    </tr>\n",
       "    <tr>\n",
       "      <th>6</th>\n",
       "      <td>Pranali</td>\n",
       "      <td>107</td>\n",
       "      <td>Mysuru</td>\n",
       "    </tr>\n",
       "    <tr>\n",
       "      <th>7</th>\n",
       "      <td>Amit</td>\n",
       "      <td>108</td>\n",
       "      <td>Goa</td>\n",
       "    </tr>\n",
       "  </tbody>\n",
       "</table>\n",
       "</div>"
      ],
      "text/plain": [
       "          0    1          2\n",
       "0  Kushagra  101       Pune\n",
       "1    Kartik  102    Madurai\n",
       "2    Vikash  103    Chennai\n",
       "3    Sukesh  104   Dehradun\n",
       "4    Deepti  105      Noida\n",
       "5     Priti  106  Bengaluru\n",
       "6   Pranali  107     Mysuru\n",
       "7      Amit  108        Goa"
      ]
     },
     "execution_count": 585,
     "metadata": {},
     "output_type": "execute_result"
    }
   ],
   "source": [
    "df"
   ]
  },
  {
   "cell_type": "code",
   "execution_count": 587,
   "id": "79f74301-87d1-4c10-bd9c-d376be7319bd",
   "metadata": {},
   "outputs": [
    {
     "data": {
      "text/plain": [
       "RangeIndex(start=0, stop=8, step=1)"
      ]
     },
     "execution_count": 587,
     "metadata": {},
     "output_type": "execute_result"
    }
   ],
   "source": [
    "df.index"
   ]
  },
  {
   "cell_type": "code",
   "execution_count": 589,
   "id": "47985f01-10c0-4aad-9da2-2bb5b008faa3",
   "metadata": {},
   "outputs": [
    {
     "data": {
      "text/plain": [
       "RangeIndex(start=0, stop=3, step=1)"
      ]
     },
     "execution_count": 589,
     "metadata": {},
     "output_type": "execute_result"
    }
   ],
   "source": [
    "df.columns"
   ]
  },
  {
   "cell_type": "code",
   "execution_count": 591,
   "id": "1f81e486-6b7d-48e8-a413-f5af54af092c",
   "metadata": {},
   "outputs": [],
   "source": [
    "df.columns=['Name', 'ID', 'City']"
   ]
  },
  {
   "cell_type": "code",
   "execution_count": 593,
   "id": "267269eb-aa79-4c06-9885-3ab666a8f36f",
   "metadata": {},
   "outputs": [
    {
     "data": {
      "text/html": [
       "<div>\n",
       "<style scoped>\n",
       "    .dataframe tbody tr th:only-of-type {\n",
       "        vertical-align: middle;\n",
       "    }\n",
       "\n",
       "    .dataframe tbody tr th {\n",
       "        vertical-align: top;\n",
       "    }\n",
       "\n",
       "    .dataframe thead th {\n",
       "        text-align: right;\n",
       "    }\n",
       "</style>\n",
       "<table border=\"1\" class=\"dataframe\">\n",
       "  <thead>\n",
       "    <tr style=\"text-align: right;\">\n",
       "      <th></th>\n",
       "      <th>Name</th>\n",
       "      <th>ID</th>\n",
       "      <th>City</th>\n",
       "    </tr>\n",
       "  </thead>\n",
       "  <tbody>\n",
       "    <tr>\n",
       "      <th>0</th>\n",
       "      <td>Kushagra</td>\n",
       "      <td>101</td>\n",
       "      <td>Pune</td>\n",
       "    </tr>\n",
       "    <tr>\n",
       "      <th>1</th>\n",
       "      <td>Kartik</td>\n",
       "      <td>102</td>\n",
       "      <td>Madurai</td>\n",
       "    </tr>\n",
       "    <tr>\n",
       "      <th>2</th>\n",
       "      <td>Vikash</td>\n",
       "      <td>103</td>\n",
       "      <td>Chennai</td>\n",
       "    </tr>\n",
       "    <tr>\n",
       "      <th>3</th>\n",
       "      <td>Sukesh</td>\n",
       "      <td>104</td>\n",
       "      <td>Dehradun</td>\n",
       "    </tr>\n",
       "    <tr>\n",
       "      <th>4</th>\n",
       "      <td>Deepti</td>\n",
       "      <td>105</td>\n",
       "      <td>Noida</td>\n",
       "    </tr>\n",
       "    <tr>\n",
       "      <th>5</th>\n",
       "      <td>Priti</td>\n",
       "      <td>106</td>\n",
       "      <td>Bengaluru</td>\n",
       "    </tr>\n",
       "    <tr>\n",
       "      <th>6</th>\n",
       "      <td>Pranali</td>\n",
       "      <td>107</td>\n",
       "      <td>Mysuru</td>\n",
       "    </tr>\n",
       "    <tr>\n",
       "      <th>7</th>\n",
       "      <td>Amit</td>\n",
       "      <td>108</td>\n",
       "      <td>Goa</td>\n",
       "    </tr>\n",
       "  </tbody>\n",
       "</table>\n",
       "</div>"
      ],
      "text/plain": [
       "       Name   ID       City\n",
       "0  Kushagra  101       Pune\n",
       "1    Kartik  102    Madurai\n",
       "2    Vikash  103    Chennai\n",
       "3    Sukesh  104   Dehradun\n",
       "4    Deepti  105      Noida\n",
       "5     Priti  106  Bengaluru\n",
       "6   Pranali  107     Mysuru\n",
       "7      Amit  108        Goa"
      ]
     },
     "execution_count": 593,
     "metadata": {},
     "output_type": "execute_result"
    }
   ],
   "source": [
    "df"
   ]
  },
  {
   "cell_type": "code",
   "execution_count": 595,
   "id": "7727dfb0-68e9-4526-89ca-9da00e95af1f",
   "metadata": {},
   "outputs": [
    {
     "data": {
      "text/plain": [
       "Index(['Name', 'ID', 'City'], dtype='object')"
      ]
     },
     "execution_count": 595,
     "metadata": {},
     "output_type": "execute_result"
    }
   ],
   "source": [
    "df.columns"
   ]
  },
  {
   "cell_type": "markdown",
   "id": "fa28ae83-b7b6-48b5-b3d7-9c461773c1f9",
   "metadata": {},
   "source": [
    "### values"
   ]
  },
  {
   "cell_type": "code",
   "execution_count": 598,
   "id": "339e407b-0e6b-4a8b-ad20-2ce5bf84abb0",
   "metadata": {},
   "outputs": [],
   "source": [
    "# - It returns a 2-D array that contains all the values of a dataframe."
   ]
  },
  {
   "cell_type": "code",
   "execution_count": 600,
   "id": "eb8b7079-95b2-4970-aab2-325f894bc622",
   "metadata": {},
   "outputs": [
    {
     "data": {
      "text/html": [
       "<div>\n",
       "<style scoped>\n",
       "    .dataframe tbody tr th:only-of-type {\n",
       "        vertical-align: middle;\n",
       "    }\n",
       "\n",
       "    .dataframe tbody tr th {\n",
       "        vertical-align: top;\n",
       "    }\n",
       "\n",
       "    .dataframe thead th {\n",
       "        text-align: right;\n",
       "    }\n",
       "</style>\n",
       "<table border=\"1\" class=\"dataframe\">\n",
       "  <thead>\n",
       "    <tr style=\"text-align: right;\">\n",
       "      <th></th>\n",
       "      <th>Name</th>\n",
       "      <th>ID</th>\n",
       "      <th>City</th>\n",
       "    </tr>\n",
       "  </thead>\n",
       "  <tbody>\n",
       "    <tr>\n",
       "      <th>0</th>\n",
       "      <td>Kushagra</td>\n",
       "      <td>101</td>\n",
       "      <td>Pune</td>\n",
       "    </tr>\n",
       "    <tr>\n",
       "      <th>1</th>\n",
       "      <td>Kartik</td>\n",
       "      <td>102</td>\n",
       "      <td>Madurai</td>\n",
       "    </tr>\n",
       "    <tr>\n",
       "      <th>2</th>\n",
       "      <td>Vikash</td>\n",
       "      <td>103</td>\n",
       "      <td>Chennai</td>\n",
       "    </tr>\n",
       "    <tr>\n",
       "      <th>3</th>\n",
       "      <td>Sukesh</td>\n",
       "      <td>104</td>\n",
       "      <td>Dehradun</td>\n",
       "    </tr>\n",
       "    <tr>\n",
       "      <th>4</th>\n",
       "      <td>Deepti</td>\n",
       "      <td>105</td>\n",
       "      <td>Noida</td>\n",
       "    </tr>\n",
       "    <tr>\n",
       "      <th>5</th>\n",
       "      <td>Priti</td>\n",
       "      <td>106</td>\n",
       "      <td>Bengaluru</td>\n",
       "    </tr>\n",
       "    <tr>\n",
       "      <th>6</th>\n",
       "      <td>Pranali</td>\n",
       "      <td>107</td>\n",
       "      <td>Mysuru</td>\n",
       "    </tr>\n",
       "    <tr>\n",
       "      <th>7</th>\n",
       "      <td>Amit</td>\n",
       "      <td>108</td>\n",
       "      <td>Goa</td>\n",
       "    </tr>\n",
       "  </tbody>\n",
       "</table>\n",
       "</div>"
      ],
      "text/plain": [
       "       Name   ID       City\n",
       "0  Kushagra  101       Pune\n",
       "1    Kartik  102    Madurai\n",
       "2    Vikash  103    Chennai\n",
       "3    Sukesh  104   Dehradun\n",
       "4    Deepti  105      Noida\n",
       "5     Priti  106  Bengaluru\n",
       "6   Pranali  107     Mysuru\n",
       "7      Amit  108        Goa"
      ]
     },
     "execution_count": 600,
     "metadata": {},
     "output_type": "execute_result"
    }
   ],
   "source": [
    "df"
   ]
  },
  {
   "cell_type": "code",
   "execution_count": 602,
   "id": "383908ff-bb14-4c80-a869-0f11d3906c35",
   "metadata": {},
   "outputs": [
    {
     "data": {
      "text/plain": [
       "array([['Kushagra', 101, 'Pune'],\n",
       "       ['Kartik', 102, 'Madurai'],\n",
       "       ['Vikash', 103, 'Chennai'],\n",
       "       ['Sukesh', 104, 'Dehradun'],\n",
       "       ['Deepti', 105, 'Noida'],\n",
       "       ['Priti', 106, 'Bengaluru'],\n",
       "       ['Pranali', 107, 'Mysuru'],\n",
       "       ['Amit', 108, 'Goa']], dtype=object)"
      ]
     },
     "execution_count": 602,
     "metadata": {},
     "output_type": "execute_result"
    }
   ],
   "source": [
    "df.values"
   ]
  },
  {
   "cell_type": "markdown",
   "id": "d15427e6-abf6-42ed-9c5a-cb6feaf2d991",
   "metadata": {},
   "source": [
    "### dtypes"
   ]
  },
  {
   "cell_type": "code",
   "execution_count": 605,
   "id": "d957fd27-95aa-434b-934e-88824b801b34",
   "metadata": {},
   "outputs": [],
   "source": [
    "# - - It returns a series that contains the datatype of each column in a dataframe."
   ]
  },
  {
   "cell_type": "code",
   "execution_count": 632,
   "id": "5bb64139-be3e-443d-b609-37ae7de1a44d",
   "metadata": {},
   "outputs": [
    {
     "data": {
      "text/plain": [
       "{'Name': ['Kushagra',\n",
       "  'Kartik',\n",
       "  'Vikash',\n",
       "  'Sukesh',\n",
       "  'Deepti',\n",
       "  'Priti',\n",
       "  'Pranali',\n",
       "  'Amit'],\n",
       " 'ID': [101, 102, 103, 104, 105, 106, 107, 108],\n",
       " 'City': ['Pune',\n",
       "  'Madurai',\n",
       "  'Chennai',\n",
       "  'Dehradun',\n",
       "  'Noida',\n",
       "  'Bengaluru',\n",
       "  'Mysuru',\n",
       "  'Goa']}"
      ]
     },
     "execution_count": 632,
     "metadata": {},
     "output_type": "execute_result"
    }
   ],
   "source": [
    "data"
   ]
  },
  {
   "cell_type": "code",
   "execution_count": 613,
   "id": "386dcd38-d30f-4522-9709-cbba0cab161c",
   "metadata": {},
   "outputs": [],
   "source": [
    "df=pd.DataFrame(data)"
   ]
  },
  {
   "cell_type": "code",
   "execution_count": 615,
   "id": "7117f2e0-3db5-4324-a01d-8ef580d65464",
   "metadata": {},
   "outputs": [
    {
     "data": {
      "text/html": [
       "<div>\n",
       "<style scoped>\n",
       "    .dataframe tbody tr th:only-of-type {\n",
       "        vertical-align: middle;\n",
       "    }\n",
       "\n",
       "    .dataframe tbody tr th {\n",
       "        vertical-align: top;\n",
       "    }\n",
       "\n",
       "    .dataframe thead th {\n",
       "        text-align: right;\n",
       "    }\n",
       "</style>\n",
       "<table border=\"1\" class=\"dataframe\">\n",
       "  <thead>\n",
       "    <tr style=\"text-align: right;\">\n",
       "      <th></th>\n",
       "      <th>Name</th>\n",
       "      <th>ID</th>\n",
       "      <th>City</th>\n",
       "    </tr>\n",
       "  </thead>\n",
       "  <tbody>\n",
       "    <tr>\n",
       "      <th>0</th>\n",
       "      <td>Kushagra</td>\n",
       "      <td>101</td>\n",
       "      <td>Pune</td>\n",
       "    </tr>\n",
       "    <tr>\n",
       "      <th>1</th>\n",
       "      <td>Kartik</td>\n",
       "      <td>102</td>\n",
       "      <td>Madurai</td>\n",
       "    </tr>\n",
       "    <tr>\n",
       "      <th>2</th>\n",
       "      <td>Vikash</td>\n",
       "      <td>103</td>\n",
       "      <td>Chennai</td>\n",
       "    </tr>\n",
       "    <tr>\n",
       "      <th>3</th>\n",
       "      <td>Sukesh</td>\n",
       "      <td>104</td>\n",
       "      <td>Dehradun</td>\n",
       "    </tr>\n",
       "    <tr>\n",
       "      <th>4</th>\n",
       "      <td>Deepti</td>\n",
       "      <td>105</td>\n",
       "      <td>Noida</td>\n",
       "    </tr>\n",
       "    <tr>\n",
       "      <th>5</th>\n",
       "      <td>Priti</td>\n",
       "      <td>106</td>\n",
       "      <td>Bengaluru</td>\n",
       "    </tr>\n",
       "    <tr>\n",
       "      <th>6</th>\n",
       "      <td>Pranali</td>\n",
       "      <td>107</td>\n",
       "      <td>Mysuru</td>\n",
       "    </tr>\n",
       "    <tr>\n",
       "      <th>7</th>\n",
       "      <td>Amit</td>\n",
       "      <td>108</td>\n",
       "      <td>Goa</td>\n",
       "    </tr>\n",
       "  </tbody>\n",
       "</table>\n",
       "</div>"
      ],
      "text/plain": [
       "       Name   ID       City\n",
       "0  Kushagra  101       Pune\n",
       "1    Kartik  102    Madurai\n",
       "2    Vikash  103    Chennai\n",
       "3    Sukesh  104   Dehradun\n",
       "4    Deepti  105      Noida\n",
       "5     Priti  106  Bengaluru\n",
       "6   Pranali  107     Mysuru\n",
       "7      Amit  108        Goa"
      ]
     },
     "execution_count": 615,
     "metadata": {},
     "output_type": "execute_result"
    }
   ],
   "source": [
    "df"
   ]
  },
  {
   "cell_type": "code",
   "execution_count": 617,
   "id": "c9fe14e4-63e9-44ca-8b4c-903607cd58b2",
   "metadata": {},
   "outputs": [
    {
     "data": {
      "text/plain": [
       "Name    object\n",
       "ID       int64\n",
       "City    object\n",
       "dtype: object"
      ]
     },
     "execution_count": 617,
     "metadata": {},
     "output_type": "execute_result"
    }
   ],
   "source": [
    "df.dtypes"
   ]
  },
  {
   "cell_type": "markdown",
   "id": "5d77720f-1edb-4565-b59a-5113a6eb68be",
   "metadata": {},
   "source": [
    "# Indexing and Slicing"
   ]
  },
  {
   "cell_type": "markdown",
   "id": "41a41f5f-5b51-46e0-8040-94708c92f926",
   "metadata": {},
   "source": [
    "### Indexing"
   ]
  },
  {
   "cell_type": "code",
   "execution_count": 626,
   "id": "db2240a0-9a3e-445d-93c4-901c74252f4a",
   "metadata": {},
   "outputs": [],
   "source": [
    "import re"
   ]
  },
  {
   "cell_type": "code",
   "execution_count": 630,
   "id": "17764e81-60cd-4dfb-85d2-358ed7a374fe",
   "metadata": {},
   "outputs": [
    {
     "name": "stdout",
     "output_type": "stream",
     "text": [
      "<re.Match object; span=(1, 12), match='Mr.Kushagra'>\n",
      "<re.Match object; span=(37, 47), match='Mrs. Sarah'>\n",
      "<re.Match object; span=(78, 85), match='Ms Tina'>\n",
      "<re.Match object; span=(97, 106), match='Mr_Manish'>\n",
      "<re.Match object; span=(107, 118), match='Ms. Deepika'>\n"
     ]
    }
   ],
   "source": [
    "text='''\n",
    "Mr.Kushagra\n",
    "@##$%%$^\n",
    "Eric\n",
    "324354657\n",
    "Mrs. Sarah\n",
    "we432456676\n",
    "adam\n",
    "432564767865\n",
    "Ms Tina\n",
    "@$#@%#^$%&\n",
    "Mr_Manish\n",
    "Ms. Deepika\n",
    "Peter\n",
    "Mr.....................Yogesh\n",
    "Ms__________Deepa\n",
    "Mr. S\n",
    "Mrs@'''\n",
    "\n",
    "# pat = r'(Mrs|Mr|Ms)[._ ]*[A-Z][a-z]+'\n",
    "\n",
    "pat=r'(Mrs|Mr|Ms)\\.?_? ?[A-Z][a-z]+'\n",
    "#pat=r'M(rs|r|s)'\n",
    "for i in re.finditer(pat, text):\n",
    "    print(i)\n"
   ]
  },
  {
   "cell_type": "code",
   "execution_count": 648,
   "id": "3af849e3-b257-4138-a7f6-43ece9e1d60b",
   "metadata": {},
   "outputs": [
    {
     "name": "stdout",
     "output_type": "stream",
     "text": [
      "<re.Match object; span=(1, 22), match='ashishsom@learnbay.co'>\n",
      "<re.Match object; span=(52, 76), match='surendra_singh@gmail.com'>\n",
      "<re.Match object; span=(95, 121), match='yogesh.2005@rediffmail.com'>\n",
      "<re.Match object; span=(135, 165), match='deepika_engineer.123@gmail.com'>\n",
      "<re.Match object; span=(174, 185), match='info@gov.in'>\n",
      "<re.Match object; span=(202, 226), match='university@cambridge.edu'>\n",
      "<re.Match object; span=(227, 250), match='rahul.yadav@hotmail.com'>\n",
      "<re.Match object; span=(251, 271), match='sankha1111@gmail.com'>\n"
     ]
    }
   ],
   "source": [
    "text=\"\"\"\n",
    "ashishsom@learnbay.co\n",
    "#@$#%$^&\n",
    "123@.com\n",
    "Wewret4657\n",
    "surendra_singh@gmail.com\n",
    "abc@123\n",
    "sfft57678\n",
    "yogesh.2005@rediffmail.com\n",
    "@hotmail.com\n",
    "deepika_engineer.123@gmail.com\n",
    "abc.com\n",
    "info@gov.in\n",
    "SFSDGRY45768768\n",
    "university@cambridge.edu\n",
    "rahul.yadav@hotmail.com\n",
    "sankha1111@gmail.com\"\"\"\n",
    "\n",
    "pat=r'[a-z]+[_.]?[0-9a-z]*\\.?[0-9]*@[a-z]+(.com|.co.in|.co|.in|.edu)'\n",
    "\n",
    "for i in re.finditer(pat, text):\n",
    "    print(i)\n"
   ]
  },
  {
   "cell_type": "code",
   "execution_count": 668,
   "id": "40d22af0-3526-4adf-9dd3-682ab4685631",
   "metadata": {},
   "outputs": [
    {
     "name": "stdout",
     "output_type": "stream",
     "text": [
      "<re.Match object; span=(0, 6), match='Snehal'>\n",
      "<re.Match object; span=(11, 18), match='deepika'>\n",
      "<re.Match object; span=(25, 31), match='Sakshi'>\n",
      "<re.Match object; span=(32, 39), match='manthan'>\n",
      "<re.Match object; span=(46, 51), match='Raghu'>\n",
      "<re.Match object; span=(52, 57), match='radha'>\n",
      "<re.Match object; span=(65, 69), match='Maya'>\n",
      "<re.Match object; span=(70, 77), match='sandeep'>\n",
      "<re.Match object; span=(87, 94), match='Pranjal'>\n",
      "<re.Match object; span=(95, 99), match='arya'>\n",
      "<re.Match object; span=(100, 105), match='Swati'>\n",
      "<re.Match object; span=(113, 118), match='medha'>\n",
      "<re.Match object; span=(119, 125), match='Shashi'>\n",
      "<re.Match object; span=(131, 136), match='manoj'>\n",
      "<re.Match object; span=(137, 142), match='Kiran'>\n",
      "<re.Match object; span=(148, 155), match='gandhar'>\n",
      "<re.Match object; span=(156, 157), match='C'>\n"
     ]
    }
   ],
   "source": [
    "name='Snehal *&^%deepika()%$#@!Sakshi manthan *&^%#&Raghu radha &$#@$^&Maya sandeep 23345*&^%Pranjal arya Swati ()90876medha Shashi &^%$_manoj Kiran &*^$0gandhar C'\n",
    "pat=r'[A-Za-z][a-z]*'\n",
    "\n",
    "for i in re.finditer(pat,name):\n",
    "    print(i)"
   ]
  },
  {
   "cell_type": "code",
   "execution_count": 670,
   "id": "422d71b3-7dec-4eb5-abd8-f415e12afa8a",
   "metadata": {},
   "outputs": [],
   "source": [
    "import numpy as np"
   ]
  },
  {
   "cell_type": "code",
   "execution_count": 672,
   "id": "892968ee-5eb3-4726-8a37-1d4e005c2f54",
   "metadata": {},
   "outputs": [],
   "source": [
    "x=np.random.randint(10,100,size=(3,4))"
   ]
  },
  {
   "cell_type": "code",
   "execution_count": 674,
   "id": "33e695b5-0bca-4aaf-b015-698f96b14799",
   "metadata": {},
   "outputs": [
    {
     "data": {
      "text/plain": [
       "array([[83, 65, 81, 83],\n",
       "       [65, 30, 63, 10],\n",
       "       [85, 27, 56, 35]])"
      ]
     },
     "execution_count": 674,
     "metadata": {},
     "output_type": "execute_result"
    }
   ],
   "source": [
    "x"
   ]
  },
  {
   "cell_type": "code",
   "execution_count": 682,
   "id": "7434a1ab-5cb6-4998-8be5-fc33c0765318",
   "metadata": {},
   "outputs": [
    {
     "data": {
      "text/plain": [
       "array([65, 81])"
      ]
     },
     "execution_count": 682,
     "metadata": {},
     "output_type": "execute_result"
    }
   ],
   "source": [
    "np.random.choice(x.flatten(),2)"
   ]
  },
  {
   "cell_type": "code",
   "execution_count": 684,
   "id": "5839b878-fb3f-4b28-8f1e-13341cf96d10",
   "metadata": {},
   "outputs": [
    {
     "data": {
      "text/plain": [
       "['emp_1', 'emp_2', 'emp_3', 'emp_4', 'emp_5', 'emp_6', 'emp_7', 'emp_8']"
      ]
     },
     "execution_count": 684,
     "metadata": {},
     "output_type": "execute_result"
    }
   ],
   "source": [
    "['emp_'+str(i) for i in range(1,9)]"
   ]
  },
  {
   "cell_type": "code",
   "execution_count": 700,
   "id": "88eadc5e-1867-4848-b3d9-206c98226f45",
   "metadata": {},
   "outputs": [
    {
     "data": {
      "text/plain": [
       "['emp_1', 'emp_2', 'emp_3', 'emp_4', 'emp_5', 'emp_6', 'emp_7', 'emp_8']"
      ]
     },
     "execution_count": 700,
     "metadata": {},
     "output_type": "execute_result"
    }
   ],
   "source": [
    "['emp_'+str(i) for i in range(1,9)]"
   ]
  },
  {
   "cell_type": "code",
   "execution_count": null,
   "id": "3189c06e-1f20-4290-9a09-a2f77e84b491",
   "metadata": {},
   "outputs": [],
   "source": []
  }
 ],
 "metadata": {
  "kernelspec": {
   "display_name": "Python 3 (ipykernel)",
   "language": "python",
   "name": "python3"
  },
  "language_info": {
   "codemirror_mode": {
    "name": "ipython",
    "version": 3
   },
   "file_extension": ".py",
   "mimetype": "text/x-python",
   "name": "python",
   "nbconvert_exporter": "python",
   "pygments_lexer": "ipython3",
   "version": "3.11.10"
  }
 },
 "nbformat": 4,
 "nbformat_minor": 5
}
